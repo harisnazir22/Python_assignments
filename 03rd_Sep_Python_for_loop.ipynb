{
 "cells": [
  {
   "cell_type": "markdown",
   "id": "e0eddf64-d5e0-4c66-a5ce-5f1eb762209d",
   "metadata": {},
   "source": [
    "# For Loop Assignment Questions"
   ]
  },
  {
   "cell_type": "markdown",
   "id": "91339933-8650-4f38-b5f4-0a953b8690be",
   "metadata": {},
   "source": [
    "## Question No.1"
   ]
  },
  {
   "cell_type": "code",
   "execution_count": 7,
   "id": "3744a777-75cd-4dab-9a7e-931bc4c6e784",
   "metadata": {},
   "outputs": [
    {
     "name": "stdout",
     "output_type": "stream",
     "text": [
      "1\n",
      "2\n",
      "3\n",
      "4\n",
      "5\n",
      "6\n",
      "7\n",
      "8\n",
      "9\n",
      "10\n"
     ]
    }
   ],
   "source": [
    "for i in range(1,11):\n",
    "    print(i)"
   ]
  },
  {
   "cell_type": "markdown",
   "id": "6637a1b0-e223-47cd-a382-c43dc6817183",
   "metadata": {},
   "source": [
    "## Question No.2"
   ]
  },
  {
   "cell_type": "code",
   "execution_count": 8,
   "id": "2691133e-bd83-474b-8a5f-eb2ffb225357",
   "metadata": {},
   "outputs": [
    {
     "name": "stdout",
     "output_type": "stream",
     "text": [
      "124\n"
     ]
    }
   ],
   "source": [
    "list1 = [2,5,6,99,8,0,4]\n",
    "sum = 0\n",
    "for i in list1:\n",
    "    sum += i\n",
    "print(sum)\n",
    "    "
   ]
  },
  {
   "cell_type": "markdown",
   "id": "7ab388d1-f1c7-4c5f-b4d1-be88f0abb893",
   "metadata": {},
   "source": [
    "## Question No.3"
   ]
  },
  {
   "cell_type": "code",
   "execution_count": 9,
   "id": "0afa6f6f-7a18-46e1-8aae-25fef58c36fa",
   "metadata": {},
   "outputs": [
    {
     "name": "stdout",
     "output_type": "stream",
     "text": [
      "enoL rizan sira"
     ]
    }
   ],
   "source": [
    "str1 = \"haris nazir Lone\"\n",
    "for i in range(1,len(str1)):\n",
    "    print(str1[-i],end = '')"
   ]
  },
  {
   "cell_type": "markdown",
   "id": "f608d7a9-6984-4c3e-a374-a954630a77a4",
   "metadata": {},
   "source": [
    "## Question No.4"
   ]
  },
  {
   "cell_type": "code",
   "execution_count": 11,
   "id": "c6e0c4b5-70d1-435f-8620-e6b3e947677b",
   "metadata": {},
   "outputs": [
    {
     "name": "stdin",
     "output_type": "stream",
     "text": [
      "enter a number 6\n"
     ]
    },
    {
     "name": "stdout",
     "output_type": "stream",
     "text": [
      "720\n"
     ]
    }
   ],
   "source": [
    "num = int(input(\"enter a number\"))\n",
    "factorial = num\n",
    "for i in range(1,num):\n",
    "    factorial *= num - i\n",
    "print(factorial)"
   ]
  },
  {
   "cell_type": "markdown",
   "id": "fe387186-e3b8-4184-b387-e04348666690",
   "metadata": {},
   "source": [
    "## Question No.5"
   ]
  },
  {
   "cell_type": "code",
   "execution_count": 12,
   "id": "e34e4739-6c37-4dcf-b2d2-c473ed92a5f1",
   "metadata": {},
   "outputs": [
    {
     "name": "stdin",
     "output_type": "stream",
     "text": [
      "enter a number 6\n"
     ]
    },
    {
     "name": "stdout",
     "output_type": "stream",
     "text": [
      "multiplication talbe of 6 is:\n",
      "1 X 6 = 6\n",
      "2 X 6 = 12\n",
      "3 X 6 = 18\n",
      "4 X 6 = 24\n",
      "5 X 6 = 30\n",
      "6 X 6 = 36\n",
      "7 X 6 = 42\n",
      "8 X 6 = 48\n",
      "9 X 6 = 54\n"
     ]
    }
   ],
   "source": [
    "num =(input(\"enter a number\"))\n",
    "if num.isdigit():\n",
    "    num = int(num)\n",
    "    print(f\"multiplication talbe of {num} is:\")\n",
    "    for i in range(1,10):\n",
    "        print(f\"{i} X {num} = {i*num}\")\n",
    "else:\n",
    "    print(\"invalid entry\")\n"
   ]
  },
  {
   "cell_type": "markdown",
   "id": "df6a4577-e2d6-4859-83a5-4f6207903634",
   "metadata": {},
   "source": [
    "## Question No.6"
   ]
  },
  {
   "cell_type": "code",
   "execution_count": 13,
   "id": "fbef50fa-0946-4a48-8bcb-ec91174b76e7",
   "metadata": {},
   "outputs": [
    {
     "name": "stdout",
     "output_type": "stream",
     "text": [
      "The no of even digits are: 4\n",
      "The no of odd digits are: 5\n"
     ]
    }
   ],
   "source": [
    "list1 = [7,8,9,1,2,3,4,5,6]\n",
    "count1 = 0\n",
    "count2 = 0\n",
    "for i in list1:\n",
    "    if i%2 == 0:\n",
    "        count1 += 1\n",
    "    else:\n",
    "        count2 += 1\n",
    "print(f\"The no of even digits are: {count1}\")\n",
    "print(f\"The no of odd digits are: {count2}\")\n",
    "\n",
    "        "
   ]
  },
  {
   "cell_type": "markdown",
   "id": "4255358b-9d5a-41dd-8be5-b93535bb8874",
   "metadata": {},
   "source": [
    "## Question No.7"
   ]
  },
  {
   "cell_type": "code",
   "execution_count": 14,
   "id": "b47af027-4074-4f9e-ada1-5c3063586992",
   "metadata": {},
   "outputs": [
    {
     "name": "stdout",
     "output_type": "stream",
     "text": [
      "1,4,9,16,25,"
     ]
    }
   ],
   "source": [
    "for i in range(1,6):\n",
    "    print(i**2,end = ',')"
   ]
  },
  {
   "cell_type": "markdown",
   "id": "8036524f-96f3-43fd-9167-16eec1943119",
   "metadata": {},
   "source": [
    "## Question No.8"
   ]
  },
  {
   "cell_type": "code",
   "execution_count": 15,
   "id": "9256b29f-3449-44ef-a2a8-3bb07a755049",
   "metadata": {},
   "outputs": [
    {
     "name": "stdout",
     "output_type": "stream",
     "text": [
      "string length is: 11\n"
     ]
    }
   ],
   "source": [
    "str1 = \"haris nazir\"\n",
    "count = 0\n",
    "for i in str1:\n",
    "    count += 1\n",
    "print(\"string length is:\" ,count)\n"
   ]
  },
  {
   "cell_type": "markdown",
   "id": "08c28395-d5a5-46c1-81b2-4463390c6f6b",
   "metadata": {},
   "source": [
    "## Question No.9"
   ]
  },
  {
   "cell_type": "code",
   "execution_count": 16,
   "id": "ea230d57-259f-4d3b-8032-9be12f1e17ef",
   "metadata": {},
   "outputs": [
    {
     "name": "stdout",
     "output_type": "stream",
     "text": [
      "average is: 8.333333333333334\n"
     ]
    }
   ],
   "source": [
    "list1 = [7,8,9,1,2,33,4,5,6]\n",
    "count = 0\n",
    "sum1 = 0\n",
    "for i in list1:\n",
    "    sum1 += i\n",
    "    count += 1\n",
    "print(\"average is:\",sum1/count)\n",
    "    "
   ]
  },
  {
   "cell_type": "markdown",
   "id": "3911220d-7a47-45bd-a11e-5009054ec40f",
   "metadata": {},
   "source": [
    "## Question No.10"
   ]
  },
  {
   "cell_type": "code",
   "execution_count": 25,
   "id": "a8578226-b496-4151-9a45-b844b7a0c09d",
   "metadata": {},
   "outputs": [
    {
     "name": "stdin",
     "output_type": "stream",
     "text": [
      "enter the number 5\n"
     ]
    },
    {
     "name": "stdout",
     "output_type": "stream",
     "text": [
      "0,1,1,2,3,"
     ]
    }
   ],
   "source": [
    "num_terms = int(input(\"enter the number\"))\n",
    "a, b = 0, 1\n",
    "if num_terms ==1:\n",
    "    print(a,end =',')\n",
    "elif num_terms ==2:\n",
    "    print(a,end =',')\n",
    "    print(b,end =',')\n",
    "else:\n",
    "    print(a,end =',')\n",
    "    print(b,end =',')\n",
    "    for _ in range(num_terms - 2):  \n",
    "\n",
    "        next_term = a + b\n",
    "\n",
    "        print(next_term,end = ',')\n",
    "\n",
    "        a,b = b,next_term\n"
   ]
  },
  {
   "cell_type": "markdown",
   "id": "3185795e-cc97-4ddd-951f-28d4ff82035b",
   "metadata": {},
   "source": [
    "## Question No.11"
   ]
  },
  {
   "cell_type": "code",
   "execution_count": 26,
   "id": "6e8efb10-e8a0-4016-ad76-b1125ff4b2fd",
   "metadata": {},
   "outputs": [
    {
     "name": "stdout",
     "output_type": "stream",
     "text": [
      "duplicate is present\n"
     ]
    }
   ],
   "source": [
    "list1 = [7,8,9,1,2,33,4,5,8,6]\n",
    "found = False\n",
    "for i in range(len(list1)):\n",
    "    for j in range(len(list1)):\n",
    "        if i != j and list1[i] == list1[j]:\n",
    "            print(\"duplicate is present\")\n",
    "            found = True\n",
    "            break\n",
    "    if found:\n",
    "        break\n",
    "else:\n",
    "    print(\"not found\")\n",
    "        "
   ]
  },
  {
   "cell_type": "markdown",
   "id": "8d54cc57-a9e6-4699-a462-323853a202ff",
   "metadata": {},
   "source": [
    "## Question No.12"
   ]
  },
  {
   "cell_type": "code",
   "execution_count": 27,
   "id": "8d19e697-18bb-485e-8754-7939de41793e",
   "metadata": {},
   "outputs": [
    {
     "name": "stdout",
     "output_type": "stream",
     "text": [
      "Prime numbers in the list:\n",
      "2\n",
      "3\n",
      "5\n",
      "7\n"
     ]
    }
   ],
   "source": [
    "def is_prime(n):\n",
    "    if n <= 1:\n",
    "        return False\n",
    "    if n <= 3:\n",
    "        return True\n",
    "    if n % 2 == 0 or n % 3 == 0:\n",
    "        return False\n",
    "    i = 5\n",
    "    while i * i <= n:\n",
    "        if n % i == 0 or n % (i + 2) == 0:\n",
    "            return False\n",
    "        i += 6\n",
    "    return True\n",
    "\n",
    "def print_prime_numbers(lst):\n",
    "    for num in lst:\n",
    "        if is_prime(num):\n",
    "            print(num)\n",
    "\n",
    "my_list = [2, 3, 4, 5, 6, 7, 8, 9, 10]\n",
    "print(\"Prime numbers in the list:\")\n",
    "print_prime_numbers(my_list)\n"
   ]
  },
  {
   "cell_type": "markdown",
   "id": "8b143e54-e302-4f64-9e80-d80df129466a",
   "metadata": {},
   "source": [
    "## Question No.13"
   ]
  },
  {
   "cell_type": "code",
   "execution_count": 28,
   "id": "37598dee-da9b-4d62-b4e3-c726f336fe1b",
   "metadata": {},
   "outputs": [
    {
     "name": "stdout",
     "output_type": "stream",
     "text": [
      "6\n"
     ]
    }
   ],
   "source": [
    "str1 = \"haris nazir lone\"\n",
    "vowels = \"aeiouAEIOU\"\n",
    "count = 0\n",
    "for i in str1:\n",
    "    for j in vowels:\n",
    "        if j in i:\n",
    "            count += 1\n",
    "        else:\n",
    "            pass\n",
    "print(count)"
   ]
  },
  {
   "cell_type": "code",
   "execution_count": 29,
   "id": "34c78b73-3d77-44f8-b2ed-b22e8fbcef38",
   "metadata": {},
   "outputs": [
    {
     "name": "stdout",
     "output_type": "stream",
     "text": [
      "6\n"
     ]
    }
   ],
   "source": [
    "str1 = \"haris nazir lone\"\n",
    "vowels = \"aeiouAEIOU\"\n",
    "count = 0\n",
    "\n",
    "for char in str1:\n",
    "    if char in vowels:\n",
    "        count += 1\n",
    "\n",
    "print(count)\n"
   ]
  },
  {
   "cell_type": "markdown",
   "id": "d47c25bc-64cb-4204-bfb6-5bb59523f3d1",
   "metadata": {},
   "source": [
    "## Question No.14"
   ]
  },
  {
   "cell_type": "code",
   "execution_count": 30,
   "id": "6d01cf43-cd9d-4a91-87f1-a8480e0d6fc7",
   "metadata": {},
   "outputs": [
    {
     "name": "stdout",
     "output_type": "stream",
     "text": [
      "45\n"
     ]
    }
   ],
   "source": [
    "list1 = [[1,3,5,45,6,8],[2,6,9,0,1]]\n",
    "mx = float(\"-inf\")\n",
    "for i in list1:\n",
    "    for j in range(len(i)):\n",
    "        if i[j] > mx:\n",
    "            mx = i[j]\n",
    "        \n",
    "print(mx)"
   ]
  },
  {
   "cell_type": "markdown",
   "id": "491abbf3-6124-4c8f-bca3-47acaabdbc05",
   "metadata": {},
   "source": [
    "## Question No.15"
   ]
  },
  {
   "cell_type": "code",
   "execution_count": 32,
   "id": "a7252fe4-3f5d-4536-8b7c-a528cba191c1",
   "metadata": {},
   "outputs": [
    {
     "name": "stdout",
     "output_type": "stream",
     "text": [
      "['h', 'a', 'r', 'i', 's', 'n', 'a', 'z', 'i', 'r', 's', 'i', 'r', 'n', 'o', 'o']\n"
     ]
    },
    {
     "name": "stdin",
     "output_type": "stream",
     "text": [
      "enter the value from the list to be removed o\n"
     ]
    },
    {
     "name": "stdout",
     "output_type": "stream",
     "text": [
      "['h', 'a', 'r', 'i', 's', 'n', 'a', 'z', 'i', 'r', 's', 'i', 'r', 'n']\n"
     ]
    }
   ],
   "source": [
    "list1 = ['h','a','r','i','s','n','a','z','i','r','s','i','r','n','o','o']\n",
    "print(list1)\n",
    "list2 = []\n",
    "del_val = input(\"enter the value from the list to be removed\")\n",
    "for i in range(len(list1)):\n",
    "    if list1[i] != del_val:\n",
    "        list2.append(list1[i])\n",
    "    else:\n",
    "        pass\n",
    "      \n",
    "print(list2)\n",
    "    "
   ]
  },
  {
   "cell_type": "code",
   "execution_count": 33,
   "id": "a61e572f-683b-4ec0-95b7-b424a0421499",
   "metadata": {},
   "outputs": [
    {
     "name": "stdout",
     "output_type": "stream",
     "text": [
      "['h', 'a', 'r', 'i', 's', 'n', 'a', 'z', 'i', 'r', 's', 'i', 'r', 'n', 'o', 'o']\n"
     ]
    },
    {
     "name": "stdin",
     "output_type": "stream",
     "text": [
      "Enter the value from the list to be removed:  o\n"
     ]
    },
    {
     "name": "stdout",
     "output_type": "stream",
     "text": [
      "['h', 'a', 'r', 'i', 's', 'n', 'a', 'z', 'i', 'r', 's', 'i', 'r', 'n']\n"
     ]
    }
   ],
   "source": [
    "list1 = ['h', 'a', 'r', 'i', 's', 'n', 'a', 'z', 'i', 'r', 's', 'i', 'r', 'n', 'o', 'o']\n",
    "print(list1)\n",
    "\n",
    "del_val = input(\"Enter the value from the list to be removed: \")\n",
    "\n",
    "i = 0\n",
    "while i < len(list1):\n",
    "    if list1[i] == del_val:\n",
    "        list1.pop(i)  # Remove the element at index i\n",
    "    else:\n",
    "        i += 1  # Move to the next index if no removal is performed\n",
    "\n",
    "print(list1)\n"
   ]
  },
  {
   "cell_type": "code",
   "execution_count": 35,
   "id": "0569d461-cf16-4693-933f-4b39b23df7d2",
   "metadata": {},
   "outputs": [
    {
     "name": "stdout",
     "output_type": "stream",
     "text": [
      "[1, 2, 4, 5]\n"
     ]
    }
   ],
   "source": [
    "my_list = [1, 2, 3, 3, 3, 3, 4, 5]\n",
    "my_list = [x for x in my_list if x != 3]  # Removes all occurrences of 3\n",
    "print(my_list)  # Output: [1, 2, 4, 5]\n"
   ]
  },
  {
   "cell_type": "markdown",
   "id": "25c88c9f-c634-42d9-8775-4e5d8d617ad9",
   "metadata": {},
   "source": [
    "## Question No.16"
   ]
  },
  {
   "cell_type": "code",
   "execution_count": 36,
   "id": "0e920564-cadd-4f62-9fdd-7d970f6ac1c9",
   "metadata": {},
   "outputs": [
    {
     "name": "stdout",
     "output_type": "stream",
     "text": [
      "1 X 1 is 1\n",
      "1 X 2 is 2\n",
      "1 X 3 is 3\n",
      "1 X 4 is 4\n",
      "1 X 5 is 5\n",
      "1 X 6 is 6\n",
      "1 X 7 is 7\n",
      "1 X 8 is 8\n",
      "1 X 9 is 9\n",
      "1 X 10 is 10\n",
      "2 X 1 is 2\n",
      "2 X 2 is 4\n",
      "2 X 3 is 6\n",
      "2 X 4 is 8\n",
      "2 X 5 is 10\n",
      "2 X 6 is 12\n",
      "2 X 7 is 14\n",
      "2 X 8 is 16\n",
      "2 X 9 is 18\n",
      "2 X 10 is 20\n",
      "3 X 1 is 3\n",
      "3 X 2 is 6\n",
      "3 X 3 is 9\n",
      "3 X 4 is 12\n",
      "3 X 5 is 15\n",
      "3 X 6 is 18\n",
      "3 X 7 is 21\n",
      "3 X 8 is 24\n",
      "3 X 9 is 27\n",
      "3 X 10 is 30\n",
      "4 X 1 is 4\n",
      "4 X 2 is 8\n",
      "4 X 3 is 12\n",
      "4 X 4 is 16\n",
      "4 X 5 is 20\n",
      "4 X 6 is 24\n",
      "4 X 7 is 28\n",
      "4 X 8 is 32\n",
      "4 X 9 is 36\n",
      "4 X 10 is 40\n",
      "5 X 1 is 5\n",
      "5 X 2 is 10\n",
      "5 X 3 is 15\n",
      "5 X 4 is 20\n",
      "5 X 5 is 25\n",
      "5 X 6 is 30\n",
      "5 X 7 is 35\n",
      "5 X 8 is 40\n",
      "5 X 9 is 45\n",
      "5 X 10 is 50\n"
     ]
    }
   ],
   "source": [
    "for i in range(1,6):\n",
    "    for j in range(1,11):\n",
    "        print(f\"{i} X {j} is {i*j}\")\n",
    "       \n",
    "            "
   ]
  },
  {
   "cell_type": "markdown",
   "id": "621da0af-36e3-4556-95d8-18206f8ba021",
   "metadata": {},
   "source": [
    "## Question No.17"
   ]
  },
  {
   "cell_type": "code",
   "execution_count": 37,
   "id": "9b2c9195-b2d1-4d63-a558-b9ba958ebbc4",
   "metadata": {},
   "outputs": [
    {
     "name": "stdout",
     "output_type": "stream",
     "text": [
      "[0.0, 20.0, 37.77777777777778, 100.0]\n"
     ]
    }
   ],
   "source": [
    "fahrenheit_temperatures = [32, 68, 100, 212]\n",
    "\n",
    "celsius_temperatures = []\n",
    "\n",
    "for fahrenheit in fahrenheit_temperatures:\n",
    "    celsius = (fahrenheit - 32) * 5/9\n",
    "    celsius_temperatures.append(celsius)\n",
    "print(celsius_temperatures)\n",
    "\n"
   ]
  },
  {
   "cell_type": "markdown",
   "id": "24785f29-1498-4dea-a6c5-8510f7e35288",
   "metadata": {},
   "source": [
    "## Question No.18"
   ]
  },
  {
   "cell_type": "code",
   "execution_count": 38,
   "id": "f0bc7963-5d97-4757-aa8a-e05b6e485846",
   "metadata": {},
   "outputs": [
    {
     "name": "stdout",
     "output_type": "stream",
     "text": [
      "Common elements in the lists:\n",
      "3\n",
      "4\n",
      "5\n"
     ]
    }
   ],
   "source": [
    "\n",
    "list1 = [1, 2, 3, 4, 5]\n",
    "list2 = [3, 4, 5, 6, 7]\n",
    "\n",
    "common_elements = []\n",
    "\n",
    "for item1 in list1:\n",
    "    for item2 in list2:\n",
    "        if item1 == item2:\n",
    "            common_elements.append(item1)\n",
    "\n",
    "if common_elements:\n",
    "    print(\"Common elements in the lists:\")\n",
    "    for element in common_elements:\n",
    "        print(element)\n",
    "else:\n",
    "    print(\"No common elements found.\")\n"
   ]
  },
  {
   "cell_type": "markdown",
   "id": "1f10e6ab-65b7-489c-b94d-1ab140f473f3",
   "metadata": {},
   "source": [
    "## Question No.19"
   ]
  },
  {
   "cell_type": "code",
   "execution_count": 23,
   "id": "6f4ef58b-7e1e-4152-94e7-198642603683",
   "metadata": {},
   "outputs": [
    {
     "name": "stdout",
     "output_type": "stream",
     "text": [
      "*\n",
      "**\n",
      "***\n",
      "****\n",
      "*****\n"
     ]
    }
   ],
   "source": [
    "for j in range(1,6):\n",
    "    print(\"*\"*j)"
   ]
  },
  {
   "cell_type": "markdown",
   "id": "04de3d11-d918-42cd-af7f-a8b72e0d04bb",
   "metadata": {},
   "source": [
    "## Question No.20"
   ]
  },
  {
   "cell_type": "code",
   "execution_count": 41,
   "id": "d7fe2b0a-3eb9-4809-8833-9fd065cfeaa6",
   "metadata": {},
   "outputs": [
    {
     "name": "stdin",
     "output_type": "stream",
     "text": [
      "enter the first number 7\n",
      "enter the second number 28\n"
     ]
    },
    {
     "data": {
      "text/plain": [
       "7"
      ]
     },
     "execution_count": 41,
     "metadata": {},
     "output_type": "execute_result"
    }
   ],
   "source": [
    "num1 = int(input(\"enter the first number\"))\n",
    "num2 = int(input(\"enter the second number\"))\n",
    "list1 = []\n",
    "list2 = []\n",
    "for i in range(1,num1+1):\n",
    "    for j in range(1,num2+1):\n",
    "        if num1%i == 0 and num2%j == 0:\n",
    "            list1.append(i)\n",
    "            list2.append(j)\n",
    "\n",
    "common_elements = [element for element in list1 if element in list2]\n",
    "\n",
    "hcf = max(common_elements)\n",
    "hcf\n",
    "        \n"
   ]
  },
  {
   "cell_type": "code",
   "execution_count": 42,
   "id": "938dd2bc-fbfd-4957-9d88-e6511846ab0e",
   "metadata": {},
   "outputs": [
    {
     "name": "stdin",
     "output_type": "stream",
     "text": [
      "Enter the first number:  7\n",
      "Enter the second number:  28\n"
     ]
    },
    {
     "name": "stdout",
     "output_type": "stream",
     "text": [
      "The Highest Common Factor (HCF) of 7 and 28 is 7\n"
     ]
    }
   ],
   "source": [
    "num1 = int(input(\"Enter the first number: \"))\n",
    "num2 = int(input(\"Enter the second number: \"))\n",
    "\n",
    "def find_hcf(a, b):\n",
    "    while b:\n",
    "        a, b = b, a % b     #euclidean algorithm\n",
    "    return a\n",
    "\n",
    "hcf = find_hcf(num1, num2)\n",
    "print(f\"The Highest Common Factor (HCF) of {num1} and {num2} is {hcf}\")\n"
   ]
  },
  {
   "cell_type": "markdown",
   "id": "ebdacca2-6815-4ba9-8f2e-ea539a1fa062",
   "metadata": {},
   "source": [
    "## Question No.21"
   ]
  },
  {
   "cell_type": "code",
   "execution_count": 1,
   "id": "49e80522-bc3f-416c-9ca1-f195b30fd07a",
   "metadata": {},
   "outputs": [
    {
     "name": "stdout",
     "output_type": "stream",
     "text": [
      "Sum of digits in 123: 6\n",
      "Sum of digits in 456: 15\n",
      "Sum of digits in 789: 24\n",
      "Sum of digits in 101: 2\n"
     ]
    }
   ],
   "source": [
    "def digit_sum(number):\n",
    "    return sum(int(digit) for digit in str(number))\n",
    "\n",
    "numbers = [123, 456, 789, 101]\n",
    "\n",
    "digit_sums = [digit_sum(number) for number in numbers]\n",
    "\n",
    "for i in range(len(numbers)):\n",
    "    print(f\"Sum of digits in {numbers[i]}: {digit_sums[i]}\")\n"
   ]
  },
  {
   "cell_type": "code",
   "execution_count": 2,
   "id": "b320708f-03e6-4423-b9e8-e06b22823b02",
   "metadata": {},
   "outputs": [
    {
     "data": {
      "text/plain": [
       "[6, 15, 24, 2]"
      ]
     },
     "execution_count": 2,
     "metadata": {},
     "output_type": "execute_result"
    }
   ],
   "source": [
    "def digit_sum(number):\n",
    "    total = 0\n",
    "    while number > 0:\n",
    "        total += number % 10  # Add the last digit to the total\n",
    "        number //= 10         # Remove the last digit\n",
    "    return total\n",
    "\n",
    "numbers = [123, 456, 789, 101]\n",
    "digit_sums = [digit_sum(number) for number in numbers]\n",
    "digit_sums\n"
   ]
  },
  {
   "cell_type": "markdown",
   "id": "99421dab-c154-47b7-88e4-b905dceff574",
   "metadata": {},
   "source": [
    "## Question No.22"
   ]
  },
  {
   "cell_type": "code",
   "execution_count": 3,
   "id": "89eadc7c-6611-4057-93ce-5a8943b58da0",
   "metadata": {},
   "outputs": [
    {
     "name": "stdin",
     "output_type": "stream",
     "text": [
      "Enter a number:  6\n"
     ]
    },
    {
     "name": "stdout",
     "output_type": "stream",
     "text": [
      "The prime factors of 6 are: [2, 3]\n"
     ]
    }
   ],
   "source": [
    "def is_prime(number):\n",
    "    if number < 2:\n",
    "        return False\n",
    "    for i in range(2, int(number**0.5) + 1):\n",
    "        if number % i == 0:\n",
    "            return False\n",
    "    return True\n",
    "\n",
    "def prime_factors(n):\n",
    "    factors = [i for i in range(2, n + 1) if n % i == 0 and is_prime(i)]\n",
    "    return factors\n",
    "\n",
    "number = int(input(\"Enter a number: \"))\n",
    "\n",
    "if number < 2:\n",
    "    print(\"Prime factors are not defined for numbers less than 2.\")\n",
    "else:\n",
    "    factors = prime_factors(number)\n",
    "    if len(factors) == 1 and factors[0] == number:\n",
    "        print(f\"{number} is a prime number.\")\n",
    "    else:\n",
    "        print(f\"The prime factors of {number} are: {factors}\")\n"
   ]
  },
  {
   "cell_type": "code",
   "execution_count": 5,
   "id": "a381b52d-cb26-4e1a-9f87-527e6ff2886a",
   "metadata": {},
   "outputs": [
    {
     "name": "stdin",
     "output_type": "stream",
     "text": [
      "Enter a number:  12\n"
     ]
    },
    {
     "name": "stdout",
     "output_type": "stream",
     "text": [
      "The prime factors of 12 are: [2, 3]\n"
     ]
    }
   ],
   "source": [
    "def prime_factors(n):\n",
    "    factors = [i for i in range(2, n + 1) if n % i == 0 and all(i % j != 0 for j in range(2, int(i**0.5) + 1))]\n",
    "    return factors\n",
    "\n",
    "number = int(input(\"Enter a number: \"))\n",
    "\n",
    "if number < 2:\n",
    "    print(\"Prime factors are not defined for numbers less than 2.\")\n",
    "else:\n",
    "    factors = prime_factors(number)\n",
    "    if len(factors) == 1 and factors[0] == number:\n",
    "        print(f\"{number} is a prime number.\")\n",
    "    else:\n",
    "        print(f\"The prime factors of {number} are: {factors}\")\n"
   ]
  },
  {
   "cell_type": "markdown",
   "id": "75eb5a4b-7f64-4fc1-b56b-8ac14fabb449",
   "metadata": {},
   "source": [
    "## Question No.23"
   ]
  },
  {
   "cell_type": "code",
   "execution_count": 6,
   "id": "c33edb11-dbe0-44a5-8f4f-19a8a56e8f44",
   "metadata": {},
   "outputs": [
    {
     "data": {
      "text/plain": [
       "[4, 5, 1, 2, 6, 7, 8, 9]"
      ]
     },
     "execution_count": 6,
     "metadata": {},
     "output_type": "execute_result"
    }
   ],
   "source": [
    "list1 = [4,5,4,5,1,2,6,7,8,9]              # this can also be done using the set method\n",
    "\n",
    "list2 = [x for i, x in enumerate(list1) if x not in list1[:i]]\n",
    "list2"
   ]
  },
  {
   "cell_type": "markdown",
   "id": "c231c3bf-db70-4775-ace5-e9eddcb247d5",
   "metadata": {},
   "source": [
    "## Question No.24"
   ]
  },
  {
   "cell_type": "code",
   "execution_count": 8,
   "id": "c3a4666e-f030-49cc-b958-044c7c6808be",
   "metadata": {},
   "outputs": [
    {
     "name": "stdin",
     "output_type": "stream",
     "text": [
      "Enter the upper limit:  30\n"
     ]
    },
    {
     "name": "stdout",
     "output_type": "stream",
     "text": [
      "Palindromic Numbers: [1, 2, 3, 4, 5, 6, 7, 8, 9, 11, 22]\n"
     ]
    }
   ],
   "source": [
    "def is_palindrome(number):\n",
    "    return str(number) == str(number)[::-1]\n",
    "\n",
    "limit = int(input(\"Enter the upper limit: \"))\n",
    "\n",
    "palindromic_numbers = [num for num in range(1, limit + 1) if is_palindrome(num)]\n",
    "\n",
    "print(\"Palindromic Numbers:\", palindromic_numbers)\n"
   ]
  },
  {
   "cell_type": "markdown",
   "id": "ef575ffb-0e7b-4d10-8258-5bc1be5b0a2c",
   "metadata": {},
   "source": [
    "## Question No.25"
   ]
  },
  {
   "cell_type": "code",
   "execution_count": 2,
   "id": "68e7ce61-5159-43de-b501-7f1420bcc854",
   "metadata": {},
   "outputs": [
    {
     "name": "stdout",
     "output_type": "stream",
     "text": [
      "Original Nested List: [[1, [2, 9], 3], [1, [4, 5]], [3, [6, 7, 8]]]\n",
      "Flattened List: [1, 2, 9, 3, 1, 4, 5, 3, 6, 7, 8]\n"
     ]
    }
   ],
   "source": [
    "def flatten_list(nested_list):\n",
    "    flattened = []\n",
    "    for item in nested_list:\n",
    "        if isinstance(item, list):\n",
    "            flattened.extend(flatten_list(item))\n",
    "        else:\n",
    "            flattened.append(item)\n",
    "    return flattened\n",
    "\n",
    "nested_list = [[1, [2, 9], 3], [1, [4, 5]], [3, [6, 7, 8]]]\n",
    "flattened_list = flatten_list(nested_list)\n",
    "\n",
    "print(\"Original Nested List:\", nested_list)\n",
    "print(\"Flattened List:\", flattened_list)\n",
    "\n"
   ]
  },
  {
   "cell_type": "markdown",
   "id": "eb6056e5-98f8-4756-a9fe-21337a26685b",
   "metadata": {},
   "source": [
    "## Question No.26"
   ]
  },
  {
   "cell_type": "code",
   "execution_count": 3,
   "id": "7e1194f6-b43a-4894-92fa-f3d5bc715a59",
   "metadata": {},
   "outputs": [
    {
     "name": "stdout",
     "output_type": "stream",
     "text": [
      "Original List: [1, 2, 3, 4, 5, 6, 7, 8, 9]\n",
      "Sum of Even Numbers: 20\n",
      "Sum of Odd Numbers: 25\n"
     ]
    }
   ],
   "source": [
    "numbers = [1, 2, 3, 4, 5, 6, 7, 8, 9]\n",
    "\n",
    "even_sum = sum([x for x in numbers if x % 2 == 0])\n",
    "odd_sum = sum([x for x in numbers if x % 2 != 0])\n",
    "\n",
    "print(\"Original List:\", numbers)\n",
    "print(\"Sum of Even Numbers:\", even_sum)\n",
    "print(\"Sum of Odd Numbers:\", odd_sum)\n"
   ]
  },
  {
   "cell_type": "markdown",
   "id": "7280c77d-4538-40c7-a77c-5c76bf1f8f85",
   "metadata": {},
   "source": [
    "## Question No.27"
   ]
  },
  {
   "cell_type": "code",
   "execution_count": 4,
   "id": "dc88a2f9-618f-42f6-ae22-6a1dea28a133",
   "metadata": {},
   "outputs": [
    {
     "name": "stdout",
     "output_type": "stream",
     "text": [
      "Squares of Odd Numbers: [1, 9, 25, 49, 81]\n"
     ]
    }
   ],
   "source": [
    "odd_squares = [x**2 for x in range(1, 11) if x % 2 != 0]\n",
    "\n",
    "print(\"Squares of Odd Numbers:\", odd_squares)\n"
   ]
  },
  {
   "cell_type": "markdown",
   "id": "ce298371-3b8e-49bf-8d39-9c8448e3d2e3",
   "metadata": {},
   "source": [
    "## Question No.28"
   ]
  },
  {
   "cell_type": "code",
   "execution_count": 5,
   "id": "dc77b126-8fb7-4c7c-b792-ba52076c477e",
   "metadata": {},
   "outputs": [
    {
     "name": "stdout",
     "output_type": "stream",
     "text": [
      "Combined Dictionary: {'a': 1, 'b': 2, 'c': 3}\n"
     ]
    }
   ],
   "source": [
    "keys = ['a', 'b', 'c']\n",
    "values = [1, 2, 3]\n",
    "\n",
    "combined_dict = {keys[i]: values[i] for i in range(min(len(keys), len(values)))}\n",
    "\n",
    "print(\"Combined Dictionary:\", combined_dict)\n"
   ]
  },
  {
   "cell_type": "markdown",
   "id": "c837147a-4234-4828-8b89-39b198703f71",
   "metadata": {},
   "source": [
    "## Question No.29"
   ]
  },
  {
   "cell_type": "code",
   "execution_count": 6,
   "id": "0182985f-1e64-4d1d-951b-b865f33ef937",
   "metadata": {},
   "outputs": [
    {
     "name": "stdin",
     "output_type": "stream",
     "text": [
      "Enter a string:  hello\n"
     ]
    },
    {
     "name": "stdout",
     "output_type": "stream",
     "text": [
      "Vowels in the string: ['e', 'o']\n"
     ]
    }
   ],
   "source": [
    "input_string = input(\"Enter a string: \")\n",
    "\n",
    "input_string = input_string.lower()\n",
    "\n",
    "vowels = [char for char in input_string if char in 'aeiou']\n",
    "\n",
    "print(\"Vowels in the string:\", vowels)\n"
   ]
  },
  {
   "cell_type": "markdown",
   "id": "9dfa63ec-7664-498d-bae4-746a9bf4c0c4",
   "metadata": {},
   "source": [
    "## Question No.30"
   ]
  },
  {
   "cell_type": "code",
   "execution_count": 7,
   "id": "636985ef-3179-4e64-bf31-68477e368076",
   "metadata": {},
   "outputs": [
    {
     "name": "stdout",
     "output_type": "stream",
     "text": [
      "Original List: ['abc123', 'xyz45', 'pqr678', '1234', 'abc']\n",
      "Numeric List: ['123', '45', '678', '1234', '']\n"
     ]
    }
   ],
   "source": [
    "string_list = [\"abc123\", \"xyz45\", \"pqr678\", \"1234\", \"abc\"]\n",
    "\n",
    "numeric_list = [''.join(char for char in s if char.isdigit()) for s in string_list]\n",
    "\n",
    "print(\"Original List:\", string_list)\n",
    "print(\"Numeric List:\", numeric_list)\n"
   ]
  },
  {
   "cell_type": "markdown",
   "id": "972539f7-9d8f-4c7b-8d9d-2101c8a83db5",
   "metadata": {},
   "source": [
    "## Question No.31"
   ]
  },
  {
   "cell_type": "code",
   "execution_count": 8,
   "id": "c302c7e8-23ea-4c43-b13d-93197655869c",
   "metadata": {},
   "outputs": [
    {
     "name": "stdin",
     "output_type": "stream",
     "text": [
      "Enter the upper limit:  20\n"
     ]
    },
    {
     "name": "stdout",
     "output_type": "stream",
     "text": [
      "Prime numbers up to 20 are:\n",
      "[2, 3, 5, 7, 11, 13, 17, 19]\n"
     ]
    }
   ],
   "source": [
    "def sieve_of_eratosthenes(n):\n",
    "    \n",
    "    is_prime = [True] * (n + 1)\n",
    "    \n",
    "    is_prime[0] = is_prime[1] = False\n",
    "    \n",
    "    for p in range(2, int(n**0.5) + 1):\n",
    "        if is_prime[p]:\n",
    "            for i in range(p * p, n + 1, p):\n",
    "                is_prime[i] = False\n",
    "    \n",
    "    primes = [i for i in range(2, n + 1) if is_prime[i]]\n",
    "    \n",
    "    return primes\n",
    "\n",
    "n = int(input(\"Enter the upper limit: \"))\n",
    "prime_list = sieve_of_eratosthenes(n)\n",
    "\n",
    "print(\"Prime numbers up to\", n, \"are:\")\n",
    "print(prime_list)\n"
   ]
  },
  {
   "cell_type": "markdown",
   "id": "a7e79209-d964-446d-93a5-77e946698f38",
   "metadata": {},
   "source": [
    "## Question No.32"
   ]
  },
  {
   "cell_type": "code",
   "execution_count": 2,
   "id": "4691b9b6-787b-45b2-8f1f-0584381c8f9e",
   "metadata": {},
   "outputs": [
    {
     "name": "stdin",
     "output_type": "stream",
     "text": [
      "Enter the limit:  56\n"
     ]
    },
    {
     "name": "stdout",
     "output_type": "stream",
     "text": [
      "Pythagorean triplets up to 56 are:\n",
      "(3, 4, 5)\n",
      "(5, 12, 13)\n",
      "(6, 8, 10)\n",
      "(7, 24, 25)\n",
      "(8, 15, 17)\n",
      "(9, 12, 15)\n",
      "(9, 40, 41)\n",
      "(10, 24, 26)\n",
      "(12, 16, 20)\n",
      "(12, 35, 37)\n",
      "(14, 48, 50)\n",
      "(15, 20, 25)\n",
      "(15, 36, 39)\n",
      "(16, 30, 34)\n",
      "(18, 24, 30)\n",
      "(20, 21, 29)\n",
      "(20, 48, 52)\n",
      "(21, 28, 35)\n",
      "(24, 32, 40)\n",
      "(24, 45, 51)\n",
      "(27, 36, 45)\n",
      "(28, 45, 53)\n",
      "(30, 40, 50)\n",
      "(33, 44, 55)\n"
     ]
    }
   ],
   "source": [
    "def generate_pythagorean_triplets(limit):\n",
    "    triplets = [(a, b, c) for a in range(1, limit) for b in range(a, limit) \n",
    "                for c in range(b, limit) if a**2 + b**2 == c**2]\n",
    "    \n",
    "    return triplets\n",
    "\n",
    "limit = int(input(\"Enter the limit: \"))\n",
    "pythagorean_triplets = generate_pythagorean_triplets(limit)\n",
    "\n",
    "print(\"Pythagorean triplets up to\", limit, \"are:\")\n",
    "for triplet in pythagorean_triplets:\n",
    "    print(triplet)\n"
   ]
  },
  {
   "cell_type": "markdown",
   "id": "9be66965-8513-4939-8926-9835789073a1",
   "metadata": {},
   "source": [
    "## Question No.33"
   ]
  },
  {
   "cell_type": "code",
   "execution_count": 4,
   "id": "6d0cc5ff-d516-435b-91cb-7096361a8591",
   "metadata": {},
   "outputs": [
    {
     "name": "stdin",
     "output_type": "stream",
     "text": [
      "Enter the first list (comma-separated values):  h,1,True\n",
      "Enter the second list (comma-separated values):  True,i,4\n"
     ]
    },
    {
     "name": "stdout",
     "output_type": "stream",
     "text": [
      "All possible combinations of the two lists are:\n",
      "[('h', 'True'), ('h', 'i'), ('h', '4'), ('1', 'True'), ('1', 'i'), ('1', '4'), ('True', 'True'), ('True', 'i'), ('True', '4')]\n"
     ]
    }
   ],
   "source": [
    "list1 = input(\"Enter the first list (comma-separated values): \").split(',')\n",
    "list2 = input(\"Enter the second list (comma-separated values): \").split(',')\n",
    "\n",
    "combinations = [(x, y) for x in list1 for y in list2]\n",
    "\n",
    "print(\"All possible combinations of the two lists are:\")\n",
    "print(combinations)\n"
   ]
  },
  {
   "cell_type": "markdown",
   "id": "9cdb997f-34e4-413e-b692-02df59e53edc",
   "metadata": {},
   "source": [
    "## Question No.34"
   ]
  },
  {
   "cell_type": "code",
   "execution_count": 5,
   "id": "989d01ba-7928-47e3-8a37-f3016108a9fc",
   "metadata": {},
   "outputs": [
    {
     "name": "stdin",
     "output_type": "stream",
     "text": [
      "Enter a list of numbers (comma-separated values):  4,5,5,9,1,9\n"
     ]
    },
    {
     "name": "stdout",
     "output_type": "stream",
     "text": [
      "Mean: 5.5\n",
      "Median: 5.0\n",
      "Mode: 5.0\n"
     ]
    }
   ],
   "source": [
    "from statistics import mean, median, mode\n",
    "\n",
    "numbers = input(\"Enter a list of numbers (comma-separated values): \").split(',')\n",
    "numbers = [float(x.strip()) for x in numbers]\n",
    "\n",
    "mean_value = mean(numbers)\n",
    "median_value = median(numbers)\n",
    "try:\n",
    "    mode_value = mode(numbers)\n",
    "except StatisticsError:\n",
    "    mode_value = \"No unique mode found\"\n",
    "\n",
    "print(\"Mean:\", mean_value)\n",
    "print(\"Median:\", median_value)\n",
    "print(\"Mode:\", mode_value)\n"
   ]
  },
  {
   "cell_type": "markdown",
   "id": "36d683ce-7b4a-42e8-a373-a1da6e4ba910",
   "metadata": {},
   "source": [
    "## Question No.35"
   ]
  },
  {
   "cell_type": "code",
   "execution_count": 6,
   "id": "3fea3288-cc0a-4182-8f8a-3817af7c053d",
   "metadata": {},
   "outputs": [
    {
     "name": "stdin",
     "output_type": "stream",
     "text": [
      "Enter the number of rows for Pascal's triangle:  5\n"
     ]
    },
    {
     "name": "stdout",
     "output_type": "stream",
     "text": [
      "       1       \n",
      "      1 1      \n",
      "     1 2 1     \n",
      "    1 3 3 1    \n",
      "   1 4 6 4 1   \n"
     ]
    }
   ],
   "source": [
    "def generate_pascals_triangle(num_rows):\n",
    "    triangle = [[1]]\n",
    "    \n",
    "    for _ in range(1, num_rows):\n",
    "        prev_row = triangle[-1]\n",
    "        new_row = [1] + [prev_row[i] + prev_row[i+1] for i in range(len(prev_row) - 1)] + [1]\n",
    "        \n",
    "        triangle.append(new_row)\n",
    "    \n",
    "    return triangle\n",
    "\n",
    "num_rows = int(input(\"Enter the number of rows for Pascal's triangle: \"))\n",
    "pascals_triangle = generate_pascals_triangle(num_rows)\n",
    "\n",
    "for row in pascals_triangle:\n",
    "    print(\" \".join(map(str, row)).center(num_rows * 3))\n",
    "\n"
   ]
  },
  {
   "cell_type": "markdown",
   "id": "442f94d8-555e-4d99-89d9-f5ac588cd903",
   "metadata": {},
   "source": [
    "## Question No.36"
   ]
  },
  {
   "cell_type": "code",
   "execution_count": 7,
   "id": "7c49b1e2-8481-4f76-a71a-028cedd2046b",
   "metadata": {},
   "outputs": [
    {
     "name": "stdout",
     "output_type": "stream",
     "text": [
      "The sum of digits of 1! (1 factorial) is: 1\n",
      "The sum of digits of 2! (2 factorial) is: 2\n",
      "The sum of digits of 3! (3 factorial) is: 6\n",
      "The sum of digits of 4! (4 factorial) is: 6\n",
      "The sum of digits of 5! (5 factorial) is: 3\n"
     ]
    }
   ],
   "source": [
    "def factorial(n):\n",
    "    if n == 0:\n",
    "        return 1\n",
    "    else:\n",
    "        return n * factorial(n - 1)\n",
    "\n",
    "def sum_of_digits(n):\n",
    "    return sum(int(digit) for digit in str(n))\n",
    "\n",
    "for i in range(1, 6):\n",
    "    fact = factorial(i)\n",
    "    digit_sum = sum_of_digits(fact)\n",
    "    print(f\"The sum of digits of {i}! ({i} factorial) is: {digit_sum}\")\n"
   ]
  },
  {
   "cell_type": "markdown",
   "id": "57b95b25-d2cd-446a-80e7-b38789c5f7ce",
   "metadata": {},
   "source": [
    "## Question No.37"
   ]
  },
  {
   "cell_type": "code",
   "execution_count": 8,
   "id": "d37660ec-86df-41bc-a118-9f2a75b040d5",
   "metadata": {},
   "outputs": [
    {
     "name": "stdin",
     "output_type": "stream",
     "text": [
      "Enter a sentence:  hairs nazir lone\n"
     ]
    },
    {
     "name": "stdout",
     "output_type": "stream",
     "text": [
      "The longest word in the sentence is: hairs\n"
     ]
    }
   ],
   "source": [
    "sentence = input(\"Enter a sentence: \")\n",
    "\n",
    "words = sentence.split()\n",
    "longest_word = max((word for word in words), key=len)\n",
    "\n",
    "print(f\"The longest word in the sentence is: {longest_word}\")\n"
   ]
  },
  {
   "cell_type": "code",
   "execution_count": 9,
   "id": "354b16f6-6b17-4489-ab55-90d3b91e9a9d",
   "metadata": {},
   "outputs": [
    {
     "name": "stdin",
     "output_type": "stream",
     "text": [
      "Enter a sentence:  haris nazir lone\n"
     ]
    },
    {
     "name": "stdout",
     "output_type": "stream",
     "text": [
      "The longest word in the sentence is: haris\n"
     ]
    }
   ],
   "source": [
    "sentence = input(\"Enter a sentence: \")\n",
    "\n",
    "words = sentence.split()\n",
    "longest_word = max((word for word in words if len(word) == max(len(word) for word in words)), key=len)\n",
    "\n",
    "print(f\"The longest word in the sentence is: {longest_word}\")\n"
   ]
  },
  {
   "cell_type": "markdown",
   "id": "aab6d19f-d53e-4aeb-b6c9-28efdbc729d8",
   "metadata": {},
   "source": [
    "## Question No.38"
   ]
  },
  {
   "cell_type": "code",
   "execution_count": 15,
   "id": "874639d7-282a-4179-87c3-3cbc9249d4ff",
   "metadata": {},
   "outputs": [
    {
     "name": "stdin",
     "output_type": "stream",
     "text": [
      "Enter a list of strings (comma-separated):  aeiharis,nazir,lone\n"
     ]
    },
    {
     "name": "stdout",
     "output_type": "stream",
     "text": [
      "Strings with more than three vowels are:\n",
      "aeiharis\n"
     ]
    }
   ],
   "source": [
    "def count_vowels(string):\n",
    "    vowels = \"AEIOUaeiou\"\n",
    "    return sum(1 for char in string if char in vowels)\n",
    "\n",
    "input_string = input(\"Enter a list of strings (comma-separated): \")\n",
    "string_list = input_string.split(',')\n",
    "\n",
    "filtered_list = [string for string in string_list if count_vowels(string) > 3]\n",
    "\n",
    "if filtered_list:\n",
    "    print(\"Strings with more than three vowels are:\")\n",
    "    for string in filtered_list:\n",
    "        print(string.strip())  \n",
    "else:\n",
    "    print(\"No strings with more than three vowels found in the input.\")\n",
    "\n"
   ]
  },
  {
   "cell_type": "markdown",
   "id": "79145da2-35e8-457d-8d30-dc9b3ec1d992",
   "metadata": {},
   "source": [
    "## Question No.39"
   ]
  },
  {
   "cell_type": "code",
   "execution_count": 16,
   "id": "9a58eb90-4873-40ac-a5c7-debd4723651f",
   "metadata": {},
   "outputs": [
    {
     "name": "stdout",
     "output_type": "stream",
     "text": [
      "The sum of digits of numbers from 1 to 1000 is: 13501\n"
     ]
    }
   ],
   "source": [
    "def sum_of_digits(n):\n",
    "    return sum(int(digit) for digit in str(n))\n",
    "\n",
    "sum_of_digits_list = [sum_of_digits(i) for i in range(1, 1001)]\n",
    "\n",
    "total_sum = sum(sum_of_digits_list)\n",
    "\n",
    "print(\"The sum of digits of numbers from 1 to 1000 is:\", total_sum)\n"
   ]
  },
  {
   "cell_type": "markdown",
   "id": "84b49a2b-e45e-44d8-98fb-f7981e4fee7c",
   "metadata": {},
   "source": [
    "## Question No.40"
   ]
  },
  {
   "cell_type": "code",
   "execution_count": 17,
   "id": "0edc35f2-32f1-4cc3-9dc0-2e36b2b1bc82",
   "metadata": {},
   "outputs": [
    {
     "name": "stdout",
     "output_type": "stream",
     "text": [
      "Prime palindromic numbers from 1 to 1000 are:\n",
      "[2, 3, 5, 7, 11, 101, 131, 151, 181, 191, 313, 353, 373, 383, 727, 757, 787, 797, 919, 929]\n"
     ]
    }
   ],
   "source": [
    "def is_prime(n):\n",
    "    if n <= 1:\n",
    "        return False\n",
    "    if n == 2:\n",
    "        return True\n",
    "    if n % 2 == 0:\n",
    "        return False\n",
    "    for i in range(3, int(n**0.5) + 1, 2):\n",
    "        if n % i == 0:\n",
    "            return False\n",
    "    return True\n",
    "\n",
    "def is_palindrome(n):\n",
    "    return str(n) == str(n)[::-1]\n",
    "\n",
    "prime_palindromic_numbers = [num for num in range(1, 1001) if is_prime(num) and is_palindrome(num)]\n",
    "\n",
    "print(\"Prime palindromic numbers from 1 to 1000 are:\")\n",
    "print(prime_palindromic_numbers)\n"
   ]
  },
  {
   "cell_type": "code",
   "execution_count": 18,
   "id": "3ac4f12a-bb9a-4415-9baa-1a0a39b920ba",
   "metadata": {},
   "outputs": [
    {
     "name": "stdin",
     "output_type": "stream",
     "text": [
      "Enter the starting number:  500\n",
      "Enter the ending number:  1000\n"
     ]
    },
    {
     "name": "stdout",
     "output_type": "stream",
     "text": [
      "Prime palindromic numbers from 500 to 1000 are:\n",
      "[727, 757, 787, 797, 919, 929]\n"
     ]
    }
   ],
   "source": [
    "def is_prime(n):\n",
    "    if n <= 1:\n",
    "        return False\n",
    "    if n == 2:\n",
    "        return True\n",
    "    if n % 2 == 0:\n",
    "        return False\n",
    "    for i in range(3, int(n**0.5) + 1, 2):\n",
    "        if n % i == 0:\n",
    "            return False\n",
    "    return True\n",
    "\n",
    "def is_palindrome(n):\n",
    "    return str(n) == str(n)[::-1]\n",
    "\n",
    "start = int(input(\"Enter the starting number: \"))\n",
    "end = int(input(\"Enter the ending number: \"))\n",
    "\n",
    "prime_palindromic_numbers = [num for num in range(start, end + 1) if is_prime(num) and is_palindrome(num)]\n",
    "\n",
    "print(f\"Prime palindromic numbers from {start} to {end} are:\")\n",
    "print(prime_palindromic_numbers)\n"
   ]
  },
  {
   "cell_type": "code",
   "execution_count": null,
   "id": "67cf3546-6451-450b-a0fa-b3d7d527b89e",
   "metadata": {},
   "outputs": [],
   "source": []
  }
 ],
 "metadata": {
  "kernelspec": {
   "display_name": "Python 3 (ipykernel)",
   "language": "python",
   "name": "python3"
  },
  "language_info": {
   "codemirror_mode": {
    "name": "ipython",
    "version": 3
   },
   "file_extension": ".py",
   "mimetype": "text/x-python",
   "name": "python",
   "nbconvert_exporter": "python",
   "pygments_lexer": "ipython3",
   "version": "3.10.8"
  }
 },
 "nbformat": 4,
 "nbformat_minor": 5
}
