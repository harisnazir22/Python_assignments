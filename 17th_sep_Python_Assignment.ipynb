{
 "cells": [
  {
   "cell_type": "markdown",
   "id": "7e10ea27-b4a4-4ee1-9f69-e81608c8476a",
   "metadata": {},
   "source": [
    "# Python Assignments"
   ]
  },
  {
   "cell_type": "markdown",
   "id": "90e0d619-64c6-4079-a03d-7e2a28872c0d",
   "metadata": {},
   "source": [
    "## Loops"
   ]
  },
  {
   "cell_type": "markdown",
   "id": "90b0d1fc-c535-4f9f-9bff-e986557bc377",
   "metadata": {},
   "source": [
    "## Question No.1"
   ]
  },
  {
   "cell_type": "code",
   "execution_count": 1,
   "id": "14adaae2-d1f6-4360-9bab-7ce4cfc71b29",
   "metadata": {},
   "outputs": [
    {
     "name": "stdout",
     "output_type": "stream",
     "text": [
      "1\n",
      "2\n",
      "3\n",
      "4\n",
      "5\n",
      "6\n",
      "7\n",
      "8\n",
      "9\n",
      "10\n"
     ]
    }
   ],
   "source": [
    "for i in range(1,11):\n",
    "    print(i)"
   ]
  },
  {
   "cell_type": "markdown",
   "id": "12de36c6-a254-4ac5-9791-e718df6d4706",
   "metadata": {},
   "source": [
    "## Question No.2"
   ]
  },
  {
   "cell_type": "code",
   "execution_count": 2,
   "id": "ea580aeb-a411-4f7b-a4b3-2c318b8e3553",
   "metadata": {},
   "outputs": [
    {
     "name": "stdout",
     "output_type": "stream",
     "text": [
      "0\n",
      "1\n",
      "2\n",
      "3\n",
      "4\n",
      "0\n",
      "1\n",
      "2\n",
      "3\n",
      "4\n"
     ]
    }
   ],
   "source": [
    "'''For loops are suited for known or fixed iterations,\n",
    "   while loops are used when you need to iterate as long as a condition remains true.\n",
    "   For loop is automatically incremented or decremented,\n",
    "   while in case of While loop update is initialized inside the loop.'''\n",
    "# They also differ in syntax as\n",
    "for i in range(5):  # Iterate 5 times\n",
    "    print(i)\n",
    "\n",
    "    \n",
    "i = 0\n",
    "while i < 5:  # Iterate while the condition (i < 5) is true\n",
    "    print(i)\n",
    "    i += 1\n"
   ]
  },
  {
   "cell_type": "markdown",
   "id": "c03cc7b1-fffd-42d3-9628-09a7d485025d",
   "metadata": {},
   "source": [
    "## Question No.3"
   ]
  },
  {
   "cell_type": "code",
   "execution_count": 3,
   "id": "e5bcd981-26ee-4774-a42f-df5b0b250b32",
   "metadata": {},
   "outputs": [
    {
     "data": {
      "text/plain": [
       "5050"
      ]
     },
     "execution_count": 3,
     "metadata": {},
     "output_type": "execute_result"
    }
   ],
   "source": [
    "sum_ = 0\n",
    "for i in range(1,101):\n",
    "    sum_ += i\n",
    "sum_"
   ]
  },
  {
   "cell_type": "markdown",
   "id": "79c3851a-76cf-4960-abaf-220cdef2c9f3",
   "metadata": {},
   "source": [
    "## Question No.4"
   ]
  },
  {
   "cell_type": "code",
   "execution_count": 4,
   "id": "251ded7c-12c6-4423-9610-082c7cee003e",
   "metadata": {},
   "outputs": [
    {
     "name": "stdout",
     "output_type": "stream",
     "text": [
      "haris\n",
      "a\n",
      "1\n",
      "3\n",
      "5\n",
      "True\n"
     ]
    }
   ],
   "source": [
    "l = ['haris','a',1,3,5,True]\n",
    "for i in l:\n",
    "    print(i)"
   ]
  },
  {
   "cell_type": "markdown",
   "id": "ca894be2-cb5f-4fc5-88bc-ebcac74665a9",
   "metadata": {},
   "source": [
    "## Question No.5"
   ]
  },
  {
   "cell_type": "code",
   "execution_count": 5,
   "id": "af6fff64-8ed2-4a8e-bbf8-ede304836dea",
   "metadata": {},
   "outputs": [
    {
     "name": "stdout",
     "output_type": "stream",
     "text": [
      "19608480\n"
     ]
    }
   ],
   "source": [
    "l = [2,3,4,5,6,89,34,9]\n",
    "product = 1\n",
    "for i in l:\n",
    "    product *= i\n",
    "print(product)"
   ]
  },
  {
   "cell_type": "markdown",
   "id": "15669705-ec56-4f9b-8e45-ca6148b75f13",
   "metadata": {},
   "source": [
    "## Question No.6"
   ]
  },
  {
   "cell_type": "code",
   "execution_count": 6,
   "id": "03a1fea5-9125-43a4-ac2c-4931be9f2a20",
   "metadata": {},
   "outputs": [
    {
     "name": "stdout",
     "output_type": "stream",
     "text": [
      "2\n",
      "4\n",
      "6\n",
      "8\n",
      "10\n",
      "12\n",
      "14\n",
      "16\n",
      "18\n",
      "20\n"
     ]
    }
   ],
   "source": [
    "for i in range(2,21,2):\n",
    "    print(i)"
   ]
  },
  {
   "cell_type": "markdown",
   "id": "51816721-af22-42ab-9578-05d1f41376a1",
   "metadata": {},
   "source": [
    "## Question No.7"
   ]
  },
  {
   "cell_type": "code",
   "execution_count": 13,
   "id": "b7596962-0d1b-43aa-b58b-677d800abccf",
   "metadata": {},
   "outputs": [
    {
     "name": "stdin",
     "output_type": "stream",
     "text": [
      "enter a number 5\n"
     ]
    },
    {
     "name": "stdout",
     "output_type": "stream",
     "text": [
      "120\n"
     ]
    }
   ],
   "source": [
    "num = int(input('enter a number'))\n",
    "fact = 1\n",
    "for i in range(1,num+1):\n",
    "    fact *= i\n",
    "print(fact)"
   ]
  },
  {
   "cell_type": "markdown",
   "id": "504a8774-83f6-43f1-8971-70475555235d",
   "metadata": {},
   "source": [
    "## Question No.8"
   ]
  },
  {
   "cell_type": "code",
   "execution_count": 15,
   "id": "932dd4ef-7fc1-425c-9dfc-1cc277dc78a2",
   "metadata": {},
   "outputs": [
    {
     "name": "stdout",
     "output_type": "stream",
     "text": [
      "h\n",
      "a\n",
      "r\n",
      "i\n",
      "s\n",
      " \n",
      "n\n",
      "a\n",
      "z\n",
      "i\n",
      "r\n"
     ]
    }
   ],
   "source": [
    "my_name = 'haris nazir'\n",
    "for i in my_name:\n",
    "    print(i)"
   ]
  },
  {
   "cell_type": "markdown",
   "id": "18448d2a-411a-4ed4-861b-c3d1d94dc89d",
   "metadata": {},
   "source": [
    "## Question No.9"
   ]
  },
  {
   "cell_type": "code",
   "execution_count": 17,
   "id": "ba2b0be4-4d69-4edc-adea-2e31b2d161a2",
   "metadata": {},
   "outputs": [
    {
     "name": "stdout",
     "output_type": "stream",
     "text": [
      "89\n"
     ]
    }
   ],
   "source": [
    "l = [2,3,4,5,6,89,34,9]\n",
    "max1 = float('-inf')\n",
    "for i in l:\n",
    "    if i>max1:\n",
    "        max1 = i\n",
    "print(max1)\n",
    "    "
   ]
  },
  {
   "cell_type": "markdown",
   "id": "abdd2c89-27d5-4111-9d9d-cc878f9615a7",
   "metadata": {},
   "source": [
    "## Question No.10"
   ]
  },
  {
   "cell_type": "code",
   "execution_count": 1,
   "id": "45b3ac91-778e-4594-b4df-15e305eb6a61",
   "metadata": {},
   "outputs": [
    {
     "name": "stdin",
     "output_type": "stream",
     "text": [
      "Enter the number:  8\n"
     ]
    },
    {
     "name": "stdout",
     "output_type": "stream",
     "text": [
      "21\n"
     ]
    }
   ],
   "source": [
    "def fib(n):\n",
    "    a = 0\n",
    "    b = 1\n",
    "    if n == 0:\n",
    "        return a\n",
    "    elif n == 1:\n",
    "        return b\n",
    "    else:\n",
    "        for i in range(2, n + 1):\n",
    "            c = a + b\n",
    "            a = b\n",
    "            b = c\n",
    "        return c\n",
    "\n",
    "num = fib(int(input('Enter the number: ')))\n",
    "print(num)\n"
   ]
  },
  {
   "cell_type": "markdown",
   "id": "f477d8c1-e64f-4448-bb42-974bdb1ff294",
   "metadata": {},
   "source": [
    "## Question No.11"
   ]
  },
  {
   "cell_type": "code",
   "execution_count": 3,
   "id": "33892c37-b26f-4785-b468-86494a8d8be2",
   "metadata": {},
   "outputs": [
    {
     "name": "stdout",
     "output_type": "stream",
     "text": [
      "4\n"
     ]
    }
   ],
   "source": [
    "string = 'harisnazirlone'       # counts vowels only\n",
    "vowels = 'aeiouAEIOU'\n",
    "count = 0\n",
    "for i in vowels:\n",
    "    if i in string:\n",
    "        count +=1\n",
    "print(count)"
   ]
  },
  {
   "cell_type": "code",
   "execution_count": 6,
   "id": "8d4722d4-5aab-413a-a936-8559723ac796",
   "metadata": {},
   "outputs": [
    {
     "name": "stdout",
     "output_type": "stream",
     "text": [
      "6\n"
     ]
    }
   ],
   "source": [
    "string = 'harisnazirlone'             # counts vowels even with multiplicity\n",
    "vowels = 'aeiouAEIOU'\n",
    "count1 = 0\n",
    "for i in vowels:\n",
    "        count1 += string.count(i)\n",
    "print(count1)"
   ]
  },
  {
   "cell_type": "markdown",
   "id": "b78748a3-6a99-4c26-9ddb-90eb832d72ca",
   "metadata": {},
   "source": [
    "## Question No.12"
   ]
  },
  {
   "cell_type": "code",
   "execution_count": 7,
   "id": "bb95c16e-0b14-4e97-b22e-7cc2216f135e",
   "metadata": {},
   "outputs": [
    {
     "name": "stdin",
     "output_type": "stream",
     "text": [
      "enter the number 7\n"
     ]
    },
    {
     "name": "stdout",
     "output_type": "stream",
     "text": [
      "7X1=7\n",
      "7X2=14\n",
      "7X3=21\n",
      "7X4=28\n",
      "7X5=35\n",
      "7X6=42\n",
      "7X7=49\n",
      "7X8=56\n",
      "7X9=63\n",
      "7X10=70\n"
     ]
    }
   ],
   "source": [
    "num = int(input('enter the number'))\n",
    "for i in range(1,11):\n",
    "    print(f\"{num}X{i}={num*i}\")"
   ]
  },
  {
   "cell_type": "markdown",
   "id": "87ac3a81-f16c-4812-bad1-d163e249e8c1",
   "metadata": {},
   "source": [
    "## Question No.13"
   ]
  },
  {
   "cell_type": "code",
   "execution_count": 12,
   "id": "2a188b27-0abc-42c9-ad43-0aad2e7315ee",
   "metadata": {},
   "outputs": [
    {
     "data": {
      "text/plain": [
       "[9, 34, 89, 6, 5, 4, 3, 2]"
      ]
     },
     "execution_count": 12,
     "metadata": {},
     "output_type": "execute_result"
    }
   ],
   "source": [
    "l = [2,3,4,5,6,89,34,9]\n",
    "l2 = []\n",
    "for i in range(1,len(l)+1):\n",
    "    l2.append(l[-i])\n",
    "l2\n",
    "    "
   ]
  },
  {
   "cell_type": "markdown",
   "id": "f6040264-2d68-4aa0-89b7-956a5f8e948f",
   "metadata": {},
   "source": [
    "## Question No.14"
   ]
  },
  {
   "cell_type": "code",
   "execution_count": 20,
   "id": "8f0dda6b-c11a-41fc-b86f-6f780cfc157f",
   "metadata": {},
   "outputs": [
    {
     "data": {
      "text/plain": [
       "[4, 5, 6]"
      ]
     },
     "execution_count": 20,
     "metadata": {},
     "output_type": "execute_result"
    }
   ],
   "source": [
    "l = [2,3,4,5,6,89,34,9]\n",
    "l1 = ['a','b','c',4,5,6,7,8,]\n",
    "l3 = []\n",
    "for i in l:\n",
    "    for j in l1:\n",
    "        if i == j:\n",
    "            l3.append(i)\n",
    "l3"
   ]
  },
  {
   "cell_type": "code",
   "execution_count": 52,
   "id": "59509a90-7cc7-4127-8202-3d0b6c25ef1f",
   "metadata": {},
   "outputs": [
    {
     "data": {
      "text/plain": [
       "[4, 5, 6]"
      ]
     },
     "execution_count": 52,
     "metadata": {},
     "output_type": "execute_result"
    }
   ],
   "source": [
    "l = [2,3,4,5,6,89,34,9]\n",
    "l1 = ['a','b','c',4,5,6,7,8]\n",
    "\n",
    "l4 = [i for i in l for j in l1 if i ==j]\n",
    "l4\n"
   ]
  },
  {
   "cell_type": "markdown",
   "id": "4e58377e-16de-4145-a34b-43fa826df675",
   "metadata": {},
   "source": [
    "## Question No.15"
   ]
  },
  {
   "cell_type": "code",
   "execution_count": 22,
   "id": "4d061d54-0bb2-4399-b6ca-d74b2c343a30",
   "metadata": {},
   "outputs": [
    {
     "name": "stdout",
     "output_type": "stream",
     "text": [
      "name\n",
      "adress\n",
      "phone\n",
      "value\n"
     ]
    }
   ],
   "source": [
    "dict1 = {'name':'haris','adress':'sirnoo','phone':12345,'value':True}\n",
    "for i in dict1:\n",
    "    print(i)"
   ]
  },
  {
   "cell_type": "code",
   "execution_count": 23,
   "id": "45da81db-20a3-447b-a3a8-b8cfe6fa24d4",
   "metadata": {},
   "outputs": [
    {
     "name": "stdout",
     "output_type": "stream",
     "text": [
      "name\n",
      "adress\n",
      "phone\n",
      "value\n"
     ]
    }
   ],
   "source": [
    "dict1 = {'name':'haris','adress':'sirnoo','phone':12345,'value':True}\n",
    "for i in dict1.keys():\n",
    "    print(i)"
   ]
  },
  {
   "cell_type": "code",
   "execution_count": 24,
   "id": "06f34f4c-abb5-40da-9ae3-00147206fe2c",
   "metadata": {},
   "outputs": [
    {
     "name": "stdout",
     "output_type": "stream",
     "text": [
      "haris\n",
      "sirnoo\n",
      "12345\n",
      "True\n"
     ]
    }
   ],
   "source": [
    "dict1 = {'name':'haris','adress':'sirnoo','phone':12345,'value':True}\n",
    "for i in dict1.values():\n",
    "    print(i)"
   ]
  },
  {
   "cell_type": "code",
   "execution_count": 25,
   "id": "e2a85dae-752e-4928-a54b-46a4f2ea5b9a",
   "metadata": {},
   "outputs": [
    {
     "name": "stdout",
     "output_type": "stream",
     "text": [
      "('name', 'haris')\n",
      "('adress', 'sirnoo')\n",
      "('phone', 12345)\n",
      "('value', True)\n"
     ]
    }
   ],
   "source": [
    "dict1 = {'name':'haris','adress':'sirnoo','phone':12345,'value':True}\n",
    "for i in dict1.items():\n",
    "    print(i)"
   ]
  },
  {
   "cell_type": "code",
   "execution_count": 28,
   "id": "1e16d565-95a8-41fa-94a7-4d8f9dfc72e0",
   "metadata": {},
   "outputs": [
    {
     "name": "stdout",
     "output_type": "stream",
     "text": [
      "key is name and value is haris\n",
      "key is adress and value is sirnoo\n",
      "key is phone and value is 12345\n",
      "key is value and value is True\n"
     ]
    }
   ],
   "source": [
    "dict1 = {'name':'haris','adress':'sirnoo','phone':12345,'value':True}\n",
    "for i,j in dict1.items():\n",
    "    print(f\"key is {i} and value is {j}\")\n"
   ]
  },
  {
   "cell_type": "markdown",
   "id": "c2e4f014-047c-4d9c-822f-1f35bbf98c03",
   "metadata": {},
   "source": [
    "## Question No.16"
   ]
  },
  {
   "cell_type": "code",
   "execution_count": 48,
   "id": "eb5edd9e-e819-49e6-8bca-0f873183e54d",
   "metadata": {},
   "outputs": [
    {
     "name": "stdout",
     "output_type": "stream",
     "text": [
      "[1, 2, 3, 4, 6, 12]\n"
     ]
    },
    {
     "data": {
      "text/plain": [
       "12"
      ]
     },
     "execution_count": 48,
     "metadata": {},
     "output_type": "execute_result"
    }
   ],
   "source": [
    "def gdc(n1,n2):\n",
    "    common_factor = []\n",
    "    for i in range(1,n1):\n",
    "    \n",
    "        if n1%i == 0 and n2%i == 0:\n",
    "            common_factor.append(i)\n",
    "    print(common_factor)\n",
    "           \n",
    "    return max(common_factor)\n",
    "\n",
    "gdc(24,36)\n",
    "\n",
    "            "
   ]
  },
  {
   "cell_type": "markdown",
   "id": "a36118da-a18e-4990-9bd4-cf3d7c48424d",
   "metadata": {},
   "source": [
    "## Question No.17"
   ]
  },
  {
   "cell_type": "code",
   "execution_count": 51,
   "id": "3712de43-5d3a-43ad-96a9-cbdbb0d1864f",
   "metadata": {},
   "outputs": [
    {
     "name": "stdout",
     "output_type": "stream",
     "text": [
      "is palendrome\n"
     ]
    }
   ],
   "source": [
    "s1 = 'harah'\n",
    "s2 = ''\n",
    "for i in range(1,len(s1)+1):\n",
    "    s2 += s1[-i]\n",
    "\n",
    "if s1 == s2:\n",
    "    print('is palendrome')\n",
    "else:\n",
    "    print('not a palendrome')"
   ]
  },
  {
   "cell_type": "markdown",
   "id": "cdd16c92-7319-4950-aff5-f68e29b64d0b",
   "metadata": {},
   "source": [
    "## Question No.18"
   ]
  },
  {
   "cell_type": "code",
   "execution_count": 55,
   "id": "6023def6-e133-4dd6-8631-50c10433f52a",
   "metadata": {},
   "outputs": [
    {
     "data": {
      "text/plain": [
       "['a', 'c', 4, 7, 8, 5, 6, 'b']"
      ]
     },
     "execution_count": 55,
     "metadata": {},
     "output_type": "execute_result"
    }
   ],
   "source": [
    "l1 = ['a','b','c',4,5,6,7,8,5,6,6,'b']\n",
    "for i in l1:\n",
    "    while l1.count(i) >1:\n",
    "        l1.remove(i)\n",
    "l1"
   ]
  },
  {
   "cell_type": "code",
   "execution_count": 57,
   "id": "87091fad-8c02-4f4d-a0fb-90e21dd4365c",
   "metadata": {},
   "outputs": [
    {
     "data": {
      "text/plain": [
       "[1, 2, 3, 4, 5]"
      ]
     },
     "execution_count": 57,
     "metadata": {},
     "output_type": "execute_result"
    }
   ],
   "source": [
    "original_list = [1, 2, 2, 3, 4, 4, 5]\n",
    "unique_list = []\n",
    "[unique_list.append(item) for item in original_list if item not in unique_list]\n",
    "unique_list"
   ]
  },
  {
   "cell_type": "markdown",
   "id": "9139013e-09b2-4400-a67f-0e3aed7ef5fe",
   "metadata": {},
   "source": [
    "## Question No.19"
   ]
  },
  {
   "cell_type": "code",
   "execution_count": 59,
   "id": "28dfc66e-c857-4a44-a2b4-ef9846eb804e",
   "metadata": {},
   "outputs": [
    {
     "data": {
      "text/plain": [
       "{'my': 2,\n",
       " 'name': 1,\n",
       " 'is': 3,\n",
       " 'haris': 1,\n",
       " 'and': 2,\n",
       " 'favourite': 1,\n",
       " 'sport': 1,\n",
       " 'cricket': 1,\n",
       " 'i': 7,\n",
       " 'love': 1,\n",
       " 'playing': 1}"
      ]
     },
     "execution_count": 59,
     "metadata": {},
     "output_type": "execute_result"
    }
   ],
   "source": [
    "sent = 'my name is haris and my favourite sport is cricket and i love playing'\n",
    "l3 = sent.split()\n",
    "dict1 = {}\n",
    "for i in l3:\n",
    "    dict1[i] = sent.count(i)\n",
    "dict1"
   ]
  },
  {
   "cell_type": "markdown",
   "id": "b06bc316-6753-44be-a9a9-05b421e9af67",
   "metadata": {},
   "source": [
    "## Question No.20"
   ]
  },
  {
   "cell_type": "code",
   "execution_count": 60,
   "id": "2f9146e3-c80d-4964-bde0-44e06a8c3a1f",
   "metadata": {},
   "outputs": [
    {
     "name": "stdout",
     "output_type": "stream",
     "text": [
      "625\n"
     ]
    }
   ],
   "source": [
    "sum_odd = 0\n",
    "for i in range(1,50,2):\n",
    "    sum_odd += i\n",
    "print(sum_odd)"
   ]
  },
  {
   "cell_type": "markdown",
   "id": "34b819f0-06c6-44c8-b724-914891028d87",
   "metadata": {},
   "source": [
    "## Question No.21"
   ]
  },
  {
   "cell_type": "code",
   "execution_count": 9,
   "id": "1507611c-b02a-419d-8b82-5397d552c06d",
   "metadata": {},
   "outputs": [
    {
     "name": "stdin",
     "output_type": "stream",
     "text": [
      "enter the start year 2000\n",
      "enter the end year 2020\n"
     ]
    },
    {
     "name": "stdout",
     "output_type": "stream",
     "text": [
      "2000 is leap year\n",
      "2001 is not a leap year\n",
      "2002 is not a leap year\n",
      "2003 is not a leap year\n",
      "2004 is leap year\n",
      "2005 is not a leap year\n",
      "2006 is not a leap year\n",
      "2007 is not a leap year\n",
      "2008 is leap year\n",
      "2009 is not a leap year\n",
      "2010 is not a leap year\n",
      "2011 is not a leap year\n",
      "2012 is leap year\n",
      "2013 is not a leap year\n",
      "2014 is not a leap year\n",
      "2015 is not a leap year\n",
      "2016 is leap year\n",
      "2017 is not a leap year\n",
      "2018 is not a leap year\n",
      "2019 is not a leap year\n",
      "2020 is leap year\n"
     ]
    }
   ],
   "source": [
    "def is_leap(year):\n",
    "    if (year%4 == 0 and year%100 !=0) or year%400 ==0:\n",
    "        return True\n",
    "    else:\n",
    "        return False\n",
    "start_year = int(input('enter the start year'))\n",
    "end_year = int(input('enter the end year'))\n",
    "\n",
    "for i in range(start_year,end_year+1):\n",
    "    if is_leap(i):\n",
    "        print(f'{i} is leap year')\n",
    "    else:\n",
    "        print(f'{i} is not a leap year')"
   ]
  },
  {
   "cell_type": "markdown",
   "id": "50c567cf-cf84-46c8-b0aa-c866c1d25ca2",
   "metadata": {},
   "source": [
    "## Question No.22"
   ]
  },
  {
   "cell_type": "code",
   "execution_count": 15,
   "id": "66e0df82-2410-4f58-97e3-64d7c0cc788a",
   "metadata": {},
   "outputs": [
    {
     "name": "stdin",
     "output_type": "stream",
     "text": [
      "enter the number 16\n"
     ]
    },
    {
     "name": "stdout",
     "output_type": "stream",
     "text": [
      "4.0\n"
     ]
    }
   ],
   "source": [
    "num = int(input('enter the number'))\n",
    "guess = num/2\n",
    "for _ in range(1000):\n",
    "    guess = 1/2*( guess + num/guess)\n",
    "    \n",
    "print(guess)\n",
    "    "
   ]
  },
  {
   "cell_type": "markdown",
   "id": "1a3a8880-4838-4603-9b7d-b10dd0206890",
   "metadata": {},
   "source": [
    "## Question No.23"
   ]
  },
  {
   "cell_type": "code",
   "execution_count": 9,
   "id": "2ae0543a-2a3d-4fdf-b594-0a4aac4bfb93",
   "metadata": {},
   "outputs": [
    {
     "name": "stdin",
     "output_type": "stream",
     "text": [
      "enter the number 4\n",
      "enter the number 5\n"
     ]
    },
    {
     "data": {
      "text/plain": [
       "20"
      ]
     },
     "execution_count": 9,
     "metadata": {},
     "output_type": "execute_result"
    }
   ],
   "source": [
    "num1 = int(input('enter the number'))\n",
    "num2 = int(input('enter the number'))\n",
    "def lcm(n1,n2):\n",
    "    for i in range(1,100):\n",
    "        for j in range(1,100):\n",
    "            if n1*i == n2*j:\n",
    "                return (n1*i)\n",
    "            \n",
    "lst=[]\n",
    "lst.append(lcm(num1,num2))\n",
    "min(lst)\n",
    "            \n",
    "            \n",
    "            \n",
    "    \n",
    "    \n",
    "        \n"
   ]
  },
  {
   "cell_type": "code",
   "execution_count": 10,
   "id": "9c0a36dd-8b92-4434-bb17-3bd9e65b3384",
   "metadata": {},
   "outputs": [
    {
     "name": "stdin",
     "output_type": "stream",
     "text": [
      "Enter the first number:  3\n",
      "Enter the second number:  4\n"
     ]
    },
    {
     "name": "stdout",
     "output_type": "stream",
     "text": [
      "The LCM of 3 and 4 is 12\n"
     ]
    }
   ],
   "source": [
    "def lcm(num1, num2):\n",
    "    # Find the maximum of the two numbers\n",
    "    max_num = max(num1, num2)\n",
    "    \n",
    "    # Start the loop from the larger number\n",
    "    for i in range(max_num, num1 * num2 + 1, max_num):\n",
    "        if i % num1 == 0 and i % num2 == 0:\n",
    "            return i\n",
    "\n",
    "# Input two numbers from the user\n",
    "num1 = int(input('Enter the first number: '))\n",
    "num2 = int(input('Enter the second number: '))\n",
    "\n",
    "# Calculate and print the LCM\n",
    "result = lcm(num1, num2)\n",
    "print(f'The LCM of {num1} and {num2} is {result}')\n"
   ]
  },
  {
   "cell_type": "markdown",
   "id": "251dc526-54c4-4fc1-a06a-d1cb975650fc",
   "metadata": {},
   "source": [
    "## If-else"
   ]
  },
  {
   "cell_type": "markdown",
   "id": "4bb437da-ad9e-4d3b-a8ac-2593832d42bc",
   "metadata": {},
   "source": [
    "## Question No.1"
   ]
  },
  {
   "cell_type": "code",
   "execution_count": 11,
   "id": "e550a786-beef-4d31-b0b3-34a19d553dd8",
   "metadata": {},
   "outputs": [
    {
     "name": "stdin",
     "output_type": "stream",
     "text": [
      "Enter a number:  4\n"
     ]
    },
    {
     "name": "stdout",
     "output_type": "stream",
     "text": [
      "The number is positive.\n"
     ]
    }
   ],
   "source": [
    "# Input a number from the user\n",
    "number = float(input(\"Enter a number: \"))\n",
    "\n",
    "# Check if the number is positive, negative, or zero\n",
    "if number > 0:\n",
    "    print(\"The number is positive.\")\n",
    "elif number < 0:\n",
    "    print(\"The number is negative.\")\n",
    "else:\n",
    "    print(\"The number is zero.\")\n"
   ]
  },
  {
   "cell_type": "markdown",
   "id": "9112eab1-88cc-4e07-98c9-c7066eb6aee6",
   "metadata": {},
   "source": [
    "## Question No.2"
   ]
  },
  {
   "cell_type": "code",
   "execution_count": 12,
   "id": "d9cbb38b-74ee-4293-8cfd-b03284da1e27",
   "metadata": {},
   "outputs": [
    {
     "name": "stdin",
     "output_type": "stream",
     "text": [
      "Enter a number:  6\n"
     ]
    },
    {
     "name": "stdout",
     "output_type": "stream",
     "text": [
      "6 is even.\n"
     ]
    }
   ],
   "source": [
    "# Input a number from the user\n",
    "number = int(input(\"Enter a number: \"))\n",
    "\n",
    "# Check if the number is even or odd\n",
    "if number % 2 == 0:\n",
    "    print(f\"{number} is even.\")\n",
    "else:\n",
    "    print(f\"{number} is odd.\")\n"
   ]
  },
  {
   "cell_type": "markdown",
   "id": "d01597bb-b0a5-4dbf-b88c-a5b6cebfe31c",
   "metadata": {},
   "source": [
    "## Question No.3"
   ]
  },
  {
   "cell_type": "code",
   "execution_count": 13,
   "id": "d9cbe974-d848-451c-9d96-37106824b1ec",
   "metadata": {},
   "outputs": [
    {
     "name": "stdin",
     "output_type": "stream",
     "text": [
      "Enter your score:  87\n"
     ]
    },
    {
     "name": "stdout",
     "output_type": "stream",
     "text": [
      "Your grade is B\n"
     ]
    }
   ],
   "source": [
    "score = int(input(\"Enter your score: \"))\n",
    "\n",
    "if score >= 90:\n",
    "    grade = \"A\"\n",
    "else:\n",
    "    if score >= 80:\n",
    "        grade = \"B\"\n",
    "    else:\n",
    "        if score >= 70:\n",
    "            grade = \"C\"\n",
    "        else:\n",
    "            if score >= 60:\n",
    "                grade = \"D\"\n",
    "            else:\n",
    "                grade = \"F\"\n",
    "\n",
    "print(f\"Your grade is {grade}\")\n"
   ]
  },
  {
   "cell_type": "markdown",
   "id": "62bfeb01-8744-4cfa-98eb-39e289408961",
   "metadata": {},
   "source": [
    "## Question No.4"
   ]
  },
  {
   "cell_type": "code",
   "execution_count": 14,
   "id": "3a2775c7-a165-4197-8c22-50e1ab494652",
   "metadata": {},
   "outputs": [
    {
     "name": "stdin",
     "output_type": "stream",
     "text": [
      "Enter the first number:  5\n",
      "Enter the second number:  9\n",
      "Enter the third number:  1\n"
     ]
    },
    {
     "name": "stdout",
     "output_type": "stream",
     "text": [
      "The largest number among 5.0, 9.0, and 1.0 is 9.0\n"
     ]
    }
   ],
   "source": [
    "# Input three numbers from the user\n",
    "num1 = float(input(\"Enter the first number: \"))\n",
    "num2 = float(input(\"Enter the second number: \"))\n",
    "num3 = float(input(\"Enter the third number: \"))\n",
    "\n",
    "# Determine the largest number using if-else statements\n",
    "if num1 >= num2 and num1 >= num3:\n",
    "    largest = num1\n",
    "elif num2 >= num1 and num2 >= num3:\n",
    "    largest = num2\n",
    "else:\n",
    "    largest = num3\n",
    "\n",
    "# Print the largest number\n",
    "print(f\"The largest number among {num1}, {num2}, and {num3} is {largest}\")\n"
   ]
  },
  {
   "cell_type": "markdown",
   "id": "ff4453fa-6750-4895-877c-86d2c19ee0a2",
   "metadata": {},
   "source": [
    "## Question No.5"
   ]
  },
  {
   "cell_type": "code",
   "execution_count": 15,
   "id": "dc3e5033-2ac7-4176-8fa7-2949c016d2de",
   "metadata": {},
   "outputs": [
    {
     "name": "stdin",
     "output_type": "stream",
     "text": [
      "Enter a number:  -56\n"
     ]
    },
    {
     "name": "stdout",
     "output_type": "stream",
     "text": [
      "The absolute value of -56.0 is 56.0\n"
     ]
    }
   ],
   "source": [
    "# Input a number from the user\n",
    "number = float(input(\"Enter a number: \"))\n",
    "\n",
    "# Calculate the absolute value using if-else statements\n",
    "if number >= 0:\n",
    "    absolute_value = number\n",
    "else:\n",
    "    absolute_value = -number\n",
    "\n",
    "# Print the absolute value\n",
    "print(f\"The absolute value of {number} is {absolute_value}\")\n"
   ]
  },
  {
   "cell_type": "markdown",
   "id": "e2aa2e74-7f4c-4717-96c1-e527b55bf88c",
   "metadata": {},
   "source": [
    "## Question No.6"
   ]
  },
  {
   "cell_type": "code",
   "execution_count": 16,
   "id": "3a88bd01-718d-46bf-a71e-37c15fa97444",
   "metadata": {},
   "outputs": [
    {
     "name": "stdin",
     "output_type": "stream",
     "text": [
      "enter the character a\n"
     ]
    },
    {
     "name": "stdout",
     "output_type": "stream",
     "text": [
      "vowel\n"
     ]
    }
   ],
   "source": [
    "char = input('enter the character')\n",
    "vowels = 'aeiouAEIOU'\n",
    "if char in vowels:\n",
    "    print('vowel')\n",
    "else:\n",
    "    print('consonent')"
   ]
  },
  {
   "cell_type": "markdown",
   "id": "6b5d63f7-fc5c-4cba-bb57-c3b5c190dfe4",
   "metadata": {},
   "source": [
    "## Question No.7"
   ]
  },
  {
   "cell_type": "code",
   "execution_count": 17,
   "id": "4d493f39-5fa1-443f-9f01-76b2998dfad3",
   "metadata": {},
   "outputs": [
    {
     "name": "stdin",
     "output_type": "stream",
     "text": [
      "Enter your age:  67\n"
     ]
    },
    {
     "name": "stdout",
     "output_type": "stream",
     "text": [
      "You are eligible to vote.\n"
     ]
    }
   ],
   "source": [
    "# Input the user's age\n",
    "age = int(input(\"Enter your age: \"))\n",
    "\n",
    "# Determine if the user is eligible to vote using if-else statements\n",
    "if age >= 18:\n",
    "    print(\"You are eligible to vote.\")\n",
    "else:\n",
    "    print(\"You are not eligible to vote.\")\n"
   ]
  },
  {
   "cell_type": "markdown",
   "id": "92ae8079-af3e-4ebd-9605-452fea0c1a57",
   "metadata": {},
   "source": [
    "## Question No.8"
   ]
  },
  {
   "cell_type": "code",
   "execution_count": 18,
   "id": "26cd4c31-e28c-4766-872a-9d0572edbcc8",
   "metadata": {},
   "outputs": [
    {
     "name": "stdin",
     "output_type": "stream",
     "text": [
      "Enter the purchase amount:  567\n"
     ]
    },
    {
     "name": "stdout",
     "output_type": "stream",
     "text": [
      "The discount amount is $56.70\n"
     ]
    }
   ],
   "source": [
    "# Input the purchase amount from the user\n",
    "purchase_amount = float(input(\"Enter the purchase amount: \"))\n",
    "\n",
    "# Initialize variables for discount rate and discount amount\n",
    "discount_rate = 0.0\n",
    "discount_amount = 0.0\n",
    "\n",
    "# Determine the discount rate and calculate the discount amount using if-else statements\n",
    "if purchase_amount >= 100:\n",
    "    discount_rate = 0.1  # 10% discount for purchases of $100 or more\n",
    "else:\n",
    "    discount_rate = 0.0  # No discount for purchases less than $100\n",
    "\n",
    "discount_amount = purchase_amount * discount_rate\n",
    "\n",
    "# Print the discount amount\n",
    "print(f\"The discount amount is ${discount_amount:.2f}\")\n"
   ]
  },
  {
   "cell_type": "markdown",
   "id": "9ba9e348-ed1e-444d-b6c1-995b58659ea8",
   "metadata": {},
   "source": [
    "## Question No.9"
   ]
  },
  {
   "cell_type": "code",
   "execution_count": 19,
   "id": "bea61ed3-3fcb-4653-adfb-de8c88f5d1b6",
   "metadata": {},
   "outputs": [
    {
     "name": "stdin",
     "output_type": "stream",
     "text": [
      "Enter a number:  45\n"
     ]
    },
    {
     "name": "stdout",
     "output_type": "stream",
     "text": [
      "45.0 is within the range [10, 50].\n"
     ]
    }
   ],
   "source": [
    "# Input the number from the user\n",
    "number = float(input(\"Enter a number: \"))\n",
    "\n",
    "# Define the specified range\n",
    "lower_limit = 10\n",
    "upper_limit = 50\n",
    "\n",
    "# Check if the number is within the specified range using if-else statements\n",
    "if number >= lower_limit and number <= upper_limit:\n",
    "    print(f\"{number} is within the range [{lower_limit}, {upper_limit}].\")\n",
    "else:\n",
    "    print(f\"{number} is not within the range [{lower_limit}, {upper_limit}].\")\n"
   ]
  },
  {
   "cell_type": "markdown",
   "id": "fec45f7f-dbd4-4651-94e4-b9a3e866e679",
   "metadata": {},
   "source": [
    "## Question No.10"
   ]
  },
  {
   "cell_type": "code",
   "execution_count": 20,
   "id": "267db615-9491-4d55-8fd9-de8d0b46ab94",
   "metadata": {},
   "outputs": [
    {
     "name": "stdin",
     "output_type": "stream",
     "text": [
      "Enter the student's score:  56\n"
     ]
    },
    {
     "name": "stdout",
     "output_type": "stream",
     "text": [
      "The student's grade is F\n"
     ]
    }
   ],
   "source": [
    "# Input the student's score\n",
    "score = float(input(\"Enter the student's score: \"))\n",
    "\n",
    "# Determine the grade based on the score using if-else statements\n",
    "if score >= 90:\n",
    "    grade = \"A\"\n",
    "elif score >= 80:\n",
    "    grade = \"B\"\n",
    "elif score >= 70:\n",
    "    grade = \"C\"\n",
    "elif score >= 60:\n",
    "    grade = \"D\"\n",
    "else:\n",
    "    grade = \"F\"\n",
    "\n",
    "# Print the grade\n",
    "print(f\"The student's grade is {grade}\")\n"
   ]
  },
  {
   "cell_type": "markdown",
   "id": "2f27ebca-6c9b-401a-8dd7-5228408414c9",
   "metadata": {},
   "source": [
    "## Question No.11"
   ]
  },
  {
   "cell_type": "code",
   "execution_count": 21,
   "id": "1e1e35b9-3bf9-4118-aab7-cf4ebd0d8474",
   "metadata": {},
   "outputs": [
    {
     "name": "stdin",
     "output_type": "stream",
     "text": [
      "Enter a string:  rgbhnjm\n"
     ]
    },
    {
     "name": "stdout",
     "output_type": "stream",
     "text": [
      "The string is not empty.\n"
     ]
    }
   ],
   "source": [
    "# Input a string from the user\n",
    "input_string = input(\"Enter a string: \")\n",
    "\n",
    "# Check if the string is empty or not using if-else statements\n",
    "if not input_string:  # An empty string evaluates to False\n",
    "    print(\"The string is empty.\")\n",
    "else:\n",
    "    print(\"The string is not empty.\")\n"
   ]
  },
  {
   "cell_type": "markdown",
   "id": "933197a3-07f7-4b14-a66d-fea856bc2235",
   "metadata": {},
   "source": [
    "## Question No.12"
   ]
  },
  {
   "cell_type": "code",
   "execution_count": 22,
   "id": "f799b632-bd0c-4807-81d0-5caeb5b6bda5",
   "metadata": {},
   "outputs": [
    {
     "name": "stdin",
     "output_type": "stream",
     "text": [
      "Enter the length of the first side:  4\n",
      "Enter the length of the second side:  5\n",
      "Enter the length of the third side:  6\n"
     ]
    },
    {
     "name": "stdout",
     "output_type": "stream",
     "text": [
      "The triangle is a Scalene triangle.\n"
     ]
    }
   ],
   "source": [
    "# Input the lengths of the three sides of the triangle\n",
    "side1 = float(input(\"Enter the length of the first side: \"))\n",
    "side2 = float(input(\"Enter the length of the second side: \"))\n",
    "side3 = float(input(\"Enter the length of the third side: \"))\n",
    "\n",
    "# Check the type of triangle using if-else statements\n",
    "if side1 == side2 == side3:\n",
    "    triangle_type = \"Equilateral\"\n",
    "elif side1 == side2 or side1 == side3 or side2 == side3:\n",
    "    triangle_type = \"Isosceles\"\n",
    "else:\n",
    "    triangle_type = \"Scalene\"\n",
    "\n",
    "# Print the type of triangle\n",
    "print(f\"The triangle is a {triangle_type} triangle.\")\n"
   ]
  },
  {
   "cell_type": "markdown",
   "id": "9cc575ee-b5c1-4eee-8637-7ad526f70246",
   "metadata": {},
   "source": [
    "## Question No.13"
   ]
  },
  {
   "cell_type": "code",
   "execution_count": 23,
   "id": "860fca99-6911-449e-91ae-ccb90056f539",
   "metadata": {},
   "outputs": [
    {
     "name": "stdin",
     "output_type": "stream",
     "text": [
      "Enter a number (1-7) for the day of the week:  6\n"
     ]
    },
    {
     "name": "stdout",
     "output_type": "stream",
     "text": [
      "The day of the week corresponding to 6 is Saturday.\n"
     ]
    }
   ],
   "source": [
    "# Input a number for the day of the week\n",
    "day_number = int(input(\"Enter a number (1-7) for the day of the week: \"))\n",
    "\n",
    "# Determine the day of the week using if-else statements\n",
    "if day_number == 1:\n",
    "    day_name = \"Monday\"\n",
    "elif day_number == 2:\n",
    "    day_name = \"Tuesday\"\n",
    "elif day_number == 3:\n",
    "    day_name = \"Wednesday\"\n",
    "elif day_number == 4:\n",
    "    day_name = \"Thursday\"\n",
    "elif day_number == 5:\n",
    "    day_name = \"Friday\"\n",
    "elif day_number == 6:\n",
    "    day_name = \"Saturday\"\n",
    "elif day_number == 7:\n",
    "    day_name = \"Sunday\"\n",
    "else:\n",
    "    day_name = \"Invalid input\"\n",
    "\n",
    "# Print the day of the week\n",
    "print(f\"The day of the week corresponding to {day_number} is {day_name}.\")\n"
   ]
  },
  {
   "cell_type": "markdown",
   "id": "90879479-0e92-4c53-9f7b-4b0c41c82e8a",
   "metadata": {},
   "source": [
    "## Question No.14"
   ]
  },
  {
   "cell_type": "code",
   "execution_count": 24,
   "id": "798df79a-1792-492c-aeab-0b66a246f8ef",
   "metadata": {},
   "outputs": [
    {
     "name": "stdin",
     "output_type": "stream",
     "text": [
      "Enter a year:  2024\n"
     ]
    },
    {
     "name": "stdout",
     "output_type": "stream",
     "text": [
      "2024 is a leap year.\n"
     ]
    }
   ],
   "source": [
    "# Function to check if a year is a leap year\n",
    "def is_leap_year(year):\n",
    "    if (year % 4 == 0 and year % 100 != 0) or (year % 400 == 0):\n",
    "        return True\n",
    "    else:\n",
    "        return False\n",
    "\n",
    "# Input a year from the user\n",
    "year = int(input(\"Enter a year: \"))\n",
    "\n",
    "# Check if the year is a leap year using the function\n",
    "if is_leap_year(year):\n",
    "    print(f\"{year} is a leap year.\")\n",
    "else:\n",
    "    print(f\"{year} is not a leap year.\")\n"
   ]
  },
  {
   "cell_type": "markdown",
   "id": "6ea9efe2-6d37-4a2e-b420-740c5eb8da45",
   "metadata": {},
   "source": [
    "## Question No.15"
   ]
  },
  {
   "cell_type": "code",
   "execution_count": 4,
   "id": "b7b731e2-eaad-4b0e-8308-11d4458dd39b",
   "metadata": {},
   "outputs": [
    {
     "name": "stdout",
     "output_type": "stream",
     "text": [
      "x is greater than 5\n",
      "Result: 5.0\n"
     ]
    }
   ],
   "source": [
    "x = 10\n",
    "\n",
    "if x > 5:\n",
    "    print(\"x is greater than 5\")\n",
    "else:\n",
    "    assert x <= 5, \"x should be less than or equal to 5\"  \n",
    "\n",
    "def divide(a, b):\n",
    "    assert b != 0, \"Division by zero  not allowed\"\n",
    "    return a / b\n",
    "\n",
    "result = divide(10, 2)\n",
    "print(\"Result:\", result)\n",
    "\n",
    "\n"
   ]
  },
  {
   "cell_type": "code",
   "execution_count": 3,
   "id": "23a1fa42-9cad-4088-bb85-38fe7e6b1e44",
   "metadata": {},
   "outputs": [
    {
     "ename": "AssertionError",
     "evalue": "Division by zero  not allowed",
     "output_type": "error",
     "traceback": [
      "\u001b[0;31m---------------------------------------------------------------------------\u001b[0m",
      "\u001b[0;31mAssertionError\u001b[0m                            Traceback (most recent call last)",
      "Cell \u001b[0;32mIn[3], line 1\u001b[0m\n\u001b[0;32m----> 1\u001b[0m result \u001b[38;5;241m=\u001b[39m \u001b[43mdivide\u001b[49m\u001b[43m(\u001b[49m\u001b[38;5;241;43m10\u001b[39;49m\u001b[43m,\u001b[49m\u001b[43m \u001b[49m\u001b[38;5;241;43m0\u001b[39;49m\u001b[43m)\u001b[49m\n",
      "Cell \u001b[0;32mIn[2], line 9\u001b[0m, in \u001b[0;36mdivide\u001b[0;34m(a, b)\u001b[0m\n\u001b[1;32m      8\u001b[0m \u001b[38;5;28;01mdef\u001b[39;00m \u001b[38;5;21mdivide\u001b[39m(a, b):\n\u001b[0;32m----> 9\u001b[0m     \u001b[38;5;28;01massert\u001b[39;00m b \u001b[38;5;241m!=\u001b[39m \u001b[38;5;241m0\u001b[39m, \u001b[38;5;124m\"\u001b[39m\u001b[38;5;124mDivision by zero  not allowed\u001b[39m\u001b[38;5;124m\"\u001b[39m\n\u001b[1;32m     10\u001b[0m     \u001b[38;5;28;01mreturn\u001b[39;00m a \u001b[38;5;241m/\u001b[39m b\n",
      "\u001b[0;31mAssertionError\u001b[0m: Division by zero  not allowed"
     ]
    }
   ],
   "source": [
    "result = divide(10, 0)"
   ]
  },
  {
   "cell_type": "markdown",
   "id": "3801e57a-d2ab-449c-93c8-01cb06b45630",
   "metadata": {},
   "source": [
    "## Question No.16"
   ]
  },
  {
   "cell_type": "code",
   "execution_count": null,
   "id": "4d31d2c4-1f54-4ebc-b4cd-00fc514c50cb",
   "metadata": {},
   "outputs": [],
   "source": [
    "# Get the age of the person from the user\n",
    "age = int(input(\"Enter your age: \"))\n",
    "\n",
    "# Define the age threshold for senior citizen discount\n",
    "senior_age_threshold = 60\n",
    "\n",
    "# Check eligibility using if-else statement\n",
    "if age >= senior_age_threshold:\n",
    "    print(\"Congratulations! You are eligible for a senior citizen discount.\")\n",
    "else:\n",
    "    print(\"Sorry, you are not eligible for a senior citizen discount.\")\n"
   ]
  },
  {
   "cell_type": "markdown",
   "id": "c9fca5fd-a271-43ae-8ae5-c6415c3d5d5d",
   "metadata": {},
   "source": [
    "## Question No.17"
   ]
  },
  {
   "cell_type": "code",
   "execution_count": 5,
   "id": "010b5c12-b9de-44b0-a097-46caf8f11fae",
   "metadata": {},
   "outputs": [
    {
     "name": "stdin",
     "output_type": "stream",
     "text": [
      "Enter a character:  f\n"
     ]
    },
    {
     "name": "stdout",
     "output_type": "stream",
     "text": [
      "The character 'f' is lowercase.\n"
     ]
    }
   ],
   "source": [
    "# Get a character from the user\n",
    "char = input(\"Enter a character: \")\n",
    "\n",
    "# Check if the character is uppercase, lowercase, or neither using if-else\n",
    "if char.isupper():\n",
    "    print(f\"The character '{char}' is uppercase.\")\n",
    "elif char.islower():\n",
    "    print(f\"The character '{char}' is lowercase.\")\n",
    "else:\n",
    "    print(f\"The character '{char}' is neither uppercase nor lowercase.\")\n"
   ]
  },
  {
   "cell_type": "markdown",
   "id": "0f5c3a62-4b12-42da-a173-0363b1e3f080",
   "metadata": {},
   "source": [
    "## Question No.18"
   ]
  },
  {
   "cell_type": "code",
   "execution_count": 18,
   "id": "4759d43b-e957-4de7-b05c-413afa1106c9",
   "metadata": {},
   "outputs": [
    {
     "name": "stdin",
     "output_type": "stream",
     "text": [
      "Enter the coefficients of the quadratic equation separated by spaces:  1 2 3\n"
     ]
    },
    {
     "name": "stdout",
     "output_type": "stream",
     "text": [
      "roots are (-1+1.4142135623730951j) and (-1+1.4142135623730951j)\n"
     ]
    }
   ],
   "source": [
    "a, b, c = map(int, input('Enter the coefficients of the quadratic equation separated by spaces: ').split())\n",
    "\n",
    "discriminant = (b**2-4*a*c)\n",
    "if discriminant == 0:\n",
    "    print(f\"roots are {-b/2*a} and {-b/2*a}\")\n",
    "elif discriminant > 0:\n",
    "    print(f\"roots are {(-b+discriminant**0.5)/2*a} and {(-b-discriminant**0.5)/2*a}\")\n",
    "else:\n",
    "    print(f\"roots are {complex(-b/2*a,abs(discriminant)**0.5/2*a)} and {complex(-b/2*a,abs(discriminant)**0.5/2*a)}\")"
   ]
  },
  {
   "cell_type": "markdown",
   "id": "1f09b448-bacf-4991-81c3-12d82f3e9b7f",
   "metadata": {},
   "source": [
    "## Question No.19"
   ]
  },
  {
   "cell_type": "code",
   "execution_count": 19,
   "id": "11d8d49c-01bf-412b-a39c-f4258b052720",
   "metadata": {},
   "outputs": [
    {
     "name": "stdin",
     "output_type": "stream",
     "text": [
      "Enter a year:  2020\n"
     ]
    },
    {
     "name": "stdout",
     "output_type": "stream",
     "text": [
      "2020 is not a century year.\n"
     ]
    }
   ],
   "source": [
    "# Get the year from the user\n",
    "year = int(input(\"Enter a year: \"))\n",
    "\n",
    "# Check if the year is a century year using if-else\n",
    "if year % 100 == 0:\n",
    "    print(f\"{year} is a century year.\")\n",
    "else:\n",
    "    print(f\"{year} is not a century year.\")\n"
   ]
  },
  {
   "cell_type": "markdown",
   "id": "4a6687c9-0f32-4b1e-99e1-2f0eefcff313",
   "metadata": {},
   "source": [
    "## Question No.20"
   ]
  },
  {
   "cell_type": "code",
   "execution_count": null,
   "id": "793d3756-9d95-4401-9fea-db020e28594e",
   "metadata": {},
   "outputs": [],
   "source": [
    "num = int(input('Enter the number: '))\n",
    "\n",
    "# Calculate the square root and convert it to an integer\n",
    "sqrt_num = int(num**0.5)\n",
    "\n",
    "# Check if the square of the integer square root matches the original number\n",
    "if sqrt_num**2 == num:\n",
    "    print('It is a perfect square.')\n",
    "else:\n",
    "    print('It is not a perfect square.')\n"
   ]
  },
  {
   "cell_type": "markdown",
   "id": "ecc95a72-9112-4e24-b539-8967c0372fc7",
   "metadata": {},
   "source": [
    "## Question No.21"
   ]
  },
  {
   "cell_type": "code",
   "execution_count": 5,
   "id": "6062a4a6-4467-4f68-b3e1-3f771797d5df",
   "metadata": {},
   "outputs": [
    {
     "name": "stdout",
     "output_type": "stream",
     "text": [
      "1\n",
      "2\n",
      "Skipping 3 and continuing to the next iteration.\n",
      "4\n",
      "Breaking the loop when 5 is encountered.\n"
     ]
    }
   ],
   "source": [
    "for i in range(1, 6):\n",
    "    if i == 3:\n",
    "        print(f\"Skipping {i} and continuing to the next iteration.\")\n",
    "        continue  # Skip the current iteration and continue to the next\n",
    "    elif i == 5:\n",
    "        print(f\"Breaking the loop when {i} is encountered.\")\n",
    "        break  # Exit the loop when i is 5\n",
    "    print(i)\n"
   ]
  },
  {
   "cell_type": "markdown",
   "id": "26faa731-fc25-4ed0-8058-d2104c469bd4",
   "metadata": {},
   "source": [
    "## Question No.22"
   ]
  },
  {
   "cell_type": "code",
   "execution_count": 7,
   "id": "00d16269-101f-4d0c-8758-abb231d3e3f1",
   "metadata": {},
   "outputs": [
    {
     "name": "stdin",
     "output_type": "stream",
     "text": [
      "enter the weight in kgs 78\n",
      "enter the height in meters 3\n"
     ]
    },
    {
     "name": "stdout",
     "output_type": "stream",
     "text": [
      "your bmi is 8.666666666666666\n"
     ]
    }
   ],
   "source": [
    "weight = int(input('enter the weight in kgs'))\n",
    "height = int(input('enter the height in meters'))\n",
    "bmi = weight/height**2\n",
    "print(f'your bmi is {bmi}')"
   ]
  },
  {
   "cell_type": "markdown",
   "id": "fdc8a460-9c9f-4aa2-85ad-881cbdd0e050",
   "metadata": {},
   "source": [
    "## Question No.23"
   ]
  },
  {
   "cell_type": "code",
   "execution_count": 10,
   "id": "f52fe8be-3910-421e-a59f-2daaef706851",
   "metadata": {},
   "outputs": [
    {
     "name": "stdout",
     "output_type": "stream",
     "text": [
      "Filtered numbers: [2, 4, 5, 7, 9]\n"
     ]
    }
   ],
   "source": [
    "# Sample list of numbers\n",
    "numbers = [1, 2, 3, 4, 5, 6, 7, 8, 9, 10]\n",
    "\n",
    "# Use filter with if-else statement to filter elements based on multiple conditions\n",
    "filtered_numbers = list(filter(lambda x: x % 2 == 0 if x < 5 else x % 2 != 0, numbers))\n",
    "\n",
    "print(\"Filtered numbers:\", filtered_numbers)\n",
    "\n"
   ]
  },
  {
   "cell_type": "markdown",
   "id": "9462b389-b656-4bd3-ac66-7638ec2d9260",
   "metadata": {},
   "source": [
    "## Question No.24"
   ]
  },
  {
   "cell_type": "code",
   "execution_count": 11,
   "id": "47852e90-d99e-41b8-9188-b5e5e8c8662e",
   "metadata": {},
   "outputs": [
    {
     "name": "stdin",
     "output_type": "stream",
     "text": [
      "Enter a number:  5\n"
     ]
    },
    {
     "name": "stdout",
     "output_type": "stream",
     "text": [
      "5 is a prime number.\n"
     ]
    }
   ],
   "source": [
    "# Get the number from the user\n",
    "num = int(input(\"Enter a number: \"))\n",
    "\n",
    "# Check if the number is less than 2 (not prime)\n",
    "if num < 2:\n",
    "    is_prime = False\n",
    "else:\n",
    "    # Assume the number is prime initially\n",
    "    is_prime = True\n",
    "    \n",
    "    # Check for factors from 2 to the square root of the number\n",
    "    for i in range(2, int(num**0.5) + 1):\n",
    "        if num % i == 0:\n",
    "            is_prime = False\n",
    "            break\n",
    "\n",
    "# Display the result\n",
    "if is_prime:\n",
    "    print(f\"{num} is a prime number.\")\n",
    "else:\n",
    "    print(f\"{num} is not a prime number.\")\n"
   ]
  },
  {
   "cell_type": "markdown",
   "id": "8a47f1fc-46ca-4c0b-8a7f-5d819e028b34",
   "metadata": {},
   "source": [
    "## Map function"
   ]
  },
  {
   "cell_type": "markdown",
   "id": "728cc7b5-eafb-41ed-a9b5-9f10b093d5b4",
   "metadata": {},
   "source": [
    "## Question No.1"
   ]
  },
  {
   "cell_type": "code",
   "execution_count": 4,
   "id": "74beba10-fce2-442b-81eb-beb0d96900f5",
   "metadata": {},
   "outputs": [
    {
     "name": "stdout",
     "output_type": "stream",
     "text": [
      "[1, 4, 9, 16, 25]\n"
     ]
    }
   ],
   "source": [
    "'''The map() function is especially useful when you want to apply a function to every element of a collection\n",
    "   without the need for explicit loops,making your code more concise and readable.\n",
    "   The map() function returns a map object, which is an iterator. To use the results,\n",
    "   you typically convert the map object to a list, tuple, or another iterable type.'''\n",
    "\n",
    "# Define a function that squares a number\n",
    "def square(x):\n",
    "    return x * x\n",
    "\n",
    "# Create a list of numbers\n",
    "numbers = [1, 2, 3, 4, 5]\n",
    "\n",
    "# Use map() to apply the square function to each element in the list\n",
    "result = map(square, numbers)\n",
    "\n",
    "# Convert the map object to a list to access the results\n",
    "result_list = list(result)\n",
    "\n",
    "# Print the results\n",
    "print(result_list)  # Output: [1, 4, 9, 16, 25]\n",
    "\n"
   ]
  },
  {
   "cell_type": "markdown",
   "id": "26a9a9c5-6f2f-43b9-81cb-790fa8dabd8d",
   "metadata": {},
   "source": [
    "## Question No.2"
   ]
  },
  {
   "cell_type": "code",
   "execution_count": 5,
   "id": "6cdd1b78-9c16-4527-9a34-c7f9281bd6cb",
   "metadata": {},
   "outputs": [
    {
     "name": "stdout",
     "output_type": "stream",
     "text": [
      "[1, 4, 9, 16, 25]\n"
     ]
    }
   ],
   "source": [
    "# Define a function that squares a number\n",
    "def square(x):\n",
    "    return x * x\n",
    "\n",
    "# Create a list of numbers\n",
    "numbers = [1, 2, 3, 4, 5]\n",
    "\n",
    "# Use map() to apply the square function to each element in the list\n",
    "result = map(square, numbers)\n",
    "\n",
    "# Convert the map object to a list to access the results\n",
    "result_list = list(result)\n",
    "\n",
    "# Print the results\n",
    "print(result_list)  # Output: [1, 4, 9, 16, 25]\n"
   ]
  },
  {
   "cell_type": "markdown",
   "id": "3633e77f-3691-4912-a97b-00c1d7d6fcc3",
   "metadata": {},
   "source": [
    "## Question No.3"
   ]
  },
  {
   "cell_type": "code",
   "execution_count": 2,
   "id": "36d43574-2f63-4130-8381-d01e321b00a4",
   "metadata": {},
   "outputs": [
    {
     "data": {
      "text/plain": [
       "[2, 4, 6, 8, 10]"
      ]
     },
     "execution_count": 2,
     "metadata": {},
     "output_type": "execute_result"
    }
   ],
   "source": [
    "'''map() applies a function to each item in an iterable and returns an iterator,\n",
    "   while list comprehensions create new lists by transforming elements from an iterable.\n",
    "   Choose map() for iterators and list comprehensions for lists.'''\n",
    "\n",
    "numbers = [1, 2, 3, 4, 5]\n",
    "doubled = map(lambda x: x * 2, numbers)\n",
    "# doubled is an iterator, so convert it to a list\n",
    "doubled_list = list(doubled)\n",
    "doubled_list"
   ]
  },
  {
   "cell_type": "code",
   "execution_count": 4,
   "id": "e6751867-60d6-40fb-a7e1-c39ed7a7eff4",
   "metadata": {},
   "outputs": [
    {
     "data": {
      "text/plain": [
       "[2, 4, 6, 8, 10]"
      ]
     },
     "execution_count": 4,
     "metadata": {},
     "output_type": "execute_result"
    }
   ],
   "source": [
    "numbers = [1, 2, 3, 4, 5]\n",
    "doubled = [x * 2 for x in numbers] \n",
    "doubled\n",
    "# Choose map() for iterators and list comprehensions for creating new lists."
   ]
  },
  {
   "cell_type": "markdown",
   "id": "3fd4f909-8a0b-48bb-9bc4-9ed99eda28e8",
   "metadata": {},
   "source": [
    "## Question No.4"
   ]
  },
  {
   "cell_type": "code",
   "execution_count": 6,
   "id": "4d2b3a22-1fad-4006-b56b-68113530f3b6",
   "metadata": {},
   "outputs": [
    {
     "data": {
      "text/plain": [
       "['HARIS', 'NAZIR', 'LONE']"
      ]
     },
     "execution_count": 6,
     "metadata": {},
     "output_type": "execute_result"
    }
   ],
   "source": [
    "l = ['haris','nazir','lone']\n",
    "def upr(s):\n",
    "    return s.upper()\n",
    "\n",
    "upper_list = map(upr,l)\n",
    "list(upper_list)"
   ]
  },
  {
   "cell_type": "markdown",
   "id": "7eb4a545-62b1-4d3f-9e13-c387acc11a35",
   "metadata": {},
   "source": [
    "## Question No.5"
   ]
  },
  {
   "cell_type": "code",
   "execution_count": 9,
   "id": "93acbcf7-1b1a-4faf-9560-4ae1a67eb6e2",
   "metadata": {},
   "outputs": [
    {
     "data": {
      "text/plain": [
       "[5, 5, 4]"
      ]
     },
     "execution_count": 9,
     "metadata": {},
     "output_type": "execute_result"
    }
   ],
   "source": [
    "l = ['haris','nazir','lone']\n",
    "def len1(s):\n",
    "    return len(s)\n",
    "\n",
    "length_list = map(len1,l)\n",
    "list(length_list)"
   ]
  },
  {
   "cell_type": "code",
   "execution_count": 10,
   "id": "23a0e237-a15a-49b1-8cc8-b8c94388d2ea",
   "metadata": {},
   "outputs": [
    {
     "data": {
      "text/plain": [
       "[5, 5, 4]"
      ]
     },
     "execution_count": 10,
     "metadata": {},
     "output_type": "execute_result"
    }
   ],
   "source": [
    "l = ['haris','nazir','lone']\n",
    "\n",
    "\n",
    "length_list = map(len,l)\n",
    "list(length_list)"
   ]
  },
  {
   "cell_type": "markdown",
   "id": "12581a50-80e0-41d1-8773-24897dc34883",
   "metadata": {},
   "source": [
    "## Question No.6"
   ]
  },
  {
   "cell_type": "code",
   "execution_count": null,
   "id": "7e934ef6-447a-4cd4-b50c-64147d51dfeb",
   "metadata": {},
   "outputs": [],
   "source": [
    "list1 = [1, 2, 3, 4]\n",
    "list2 = [5, 6, 7, 8]\n",
    "\n",
    "# Define a custom function that takes two arguments and performs some operation\n",
    "def custom_function(x, y):\n",
    "    return x + y\n",
    "\n",
    "# Use map() to apply custom_function to elements of both lists simultaneously\n",
    "result = list(map(custom_function, list1, list2))\n",
    "\n",
    "print(result)  # Output: [6, 8, 10, 12]\n"
   ]
  },
  {
   "cell_type": "markdown",
   "id": "e2d38d73-a516-4566-9390-cf7bb1e05099",
   "metadata": {},
   "source": [
    "## Question No.7"
   ]
  },
  {
   "cell_type": "code",
   "execution_count": 11,
   "id": "c9707176-e206-450f-b561-acfdcca31db8",
   "metadata": {},
   "outputs": [
    {
     "name": "stdout",
     "output_type": "stream",
     "text": [
      "0 degrees Celsius is 32.00 degrees Fahrenheit\n",
      "25 degrees Celsius is 77.00 degrees Fahrenheit\n",
      "100 degrees Celsius is 212.00 degrees Fahrenheit\n",
      "-10 degrees Celsius is 14.00 degrees Fahrenheit\n"
     ]
    }
   ],
   "source": [
    "def celsius_to_fahrenheit(celsius):\n",
    "    return (celsius * 9/5) + 32\n",
    "\n",
    "celsius_temperatures = [0, 25, 100, -10]\n",
    "\n",
    "fahrenheit_temperatures = list(map(celsius_to_fahrenheit, celsius_temperatures))\n",
    "\n",
    "# Print the results\n",
    "for c, f in zip(celsius_temperatures, fahrenheit_temperatures):\n",
    "    print(f\"{c} degrees Celsius is {f:.2f} degrees Fahrenheit\")\n"
   ]
  },
  {
   "cell_type": "markdown",
   "id": "9cf4577b-b3f0-45f0-b083-bf6795ade071",
   "metadata": {},
   "source": [
    "## Question No.8"
   ]
  },
  {
   "cell_type": "code",
   "execution_count": 12,
   "id": "1598402f-1e46-41c6-8151-fece36608dbf",
   "metadata": {},
   "outputs": [
    {
     "name": "stdout",
     "output_type": "stream",
     "text": [
      "3.14 rounded to the nearest integer is 3\n",
      "2.718 rounded to the nearest integer is 3\n",
      "1.618 rounded to the nearest integer is 2\n",
      "4.669 rounded to the nearest integer is 5\n"
     ]
    }
   ],
   "source": [
    "float_numbers = [3.14, 2.718, 1.618, 4.669]\n",
    "\n",
    "rounded_numbers = list(map(round, float_numbers))\n",
    "\n",
    "for original, rounded in zip(float_numbers, rounded_numbers):\n",
    "    print(f\"{original} rounded to the nearest integer is {rounded}\")\n"
   ]
  },
  {
   "cell_type": "markdown",
   "id": "97ba9318-37f0-49df-a3df-49da7d435c77",
   "metadata": {},
   "source": [
    "## Reduce Function"
   ]
  },
  {
   "cell_type": "markdown",
   "id": "2f064d22-e7f4-453c-bfdc-78f032d0d96a",
   "metadata": {},
   "source": [
    "## Question No.1"
   ]
  },
  {
   "cell_type": "code",
   "execution_count": 1,
   "id": "1323db68-a820-47b6-a1df-7cb93915df21",
   "metadata": {},
   "outputs": [
    {
     "data": {
      "text/plain": [
       "1"
      ]
     },
     "execution_count": 1,
     "metadata": {},
     "output_type": "execute_result"
    }
   ],
   "source": [
    "'''The reduce() function in Python is used for cumulative operations on an iterable (e.g., a list).\n",
    "   It repeatedly applies a specified function to the elements of the iterable,\n",
    "   accumulating a single result. To use reduce(), you need to import it from the functools module.'''\n",
    "from functools import reduce\n",
    "\n",
    "# Define a function to add two numbers\n",
    "def add(x, y):\n",
    "    return x + y\n",
    "\n",
    "# List of numbers\n",
    "numbers = [1, 2, 3, 4, 5]\n",
    "\n",
    "# Use reduce() to find the sum of all numbers\n",
    "sum_of_numbers = reduce(add, numbers)\n",
    "\n",
    "print(sum_of_numbers)  # Output: 15 (1 + 2 + 3 + 4 + 5)\n"
   ]
  },
  {
   "cell_type": "markdown",
   "id": "128b11cf-bd4c-4963-b691-954fc1f83497",
   "metadata": {},
   "source": [
    "## Question No.2"
   ]
  },
  {
   "cell_type": "code",
   "execution_count": 3,
   "id": "77fb5cc8-ed5e-4d52-8bfb-96fb620a367c",
   "metadata": {},
   "outputs": [
    {
     "data": {
      "text/plain": [
       "12960"
      ]
     },
     "execution_count": 3,
     "metadata": {},
     "output_type": "execute_result"
    }
   ],
   "source": [
    "from functools import reduce\n",
    "l = [2,3,5,8,9,6]\n",
    "def product(a,b):\n",
    "    return a*b\n",
    "product_list = reduce(product,l)\n",
    "product_list"
   ]
  },
  {
   "cell_type": "markdown",
   "id": "0f86ded4-009b-415b-b82c-d8ae4ced6e53",
   "metadata": {},
   "source": [
    "## Question No.3"
   ]
  },
  {
   "cell_type": "code",
   "execution_count": 4,
   "id": "50f2347b-e9b5-4d17-8b93-14fb8ddbf331",
   "metadata": {},
   "outputs": [
    {
     "data": {
      "text/plain": [
       "9"
      ]
     },
     "execution_count": 4,
     "metadata": {},
     "output_type": "execute_result"
    }
   ],
   "source": [
    "from functools import reduce\n",
    "l = [2,3,5,8,9,6]\n",
    "def max1(a,b):\n",
    "    return max(a,b)\n",
    "max_in_list = reduce(max1,l)\n",
    "max_in_list"
   ]
  },
  {
   "cell_type": "code",
   "execution_count": 5,
   "id": "4c83bfcf-aff7-42f3-9579-1ee564e80aaf",
   "metadata": {},
   "outputs": [
    {
     "data": {
      "text/plain": [
       "9"
      ]
     },
     "execution_count": 5,
     "metadata": {},
     "output_type": "execute_result"
    }
   ],
   "source": [
    "from functools import reduce\n",
    "l = [2,3,5,8,9,6]\n",
    "\n",
    "max_in_list = reduce(max,l)\n",
    "max_in_list"
   ]
  },
  {
   "cell_type": "markdown",
   "id": "d6cc5c3e-acff-48dd-b3d7-c9d15cb89e07",
   "metadata": {},
   "source": [
    "## Question No.4"
   ]
  },
  {
   "cell_type": "code",
   "execution_count": 6,
   "id": "7e627f88-94d2-4749-b8c7-ce2894c37e4a",
   "metadata": {},
   "outputs": [
    {
     "data": {
      "text/plain": [
       "'haris'"
      ]
     },
     "execution_count": 6,
     "metadata": {},
     "output_type": "execute_result"
    }
   ],
   "source": [
    "l1 = ['h','a','r','i','s']\n",
    "def concat(a,b):\n",
    "    return a+b\n",
    "string = reduce(concat,l1)\n",
    "string"
   ]
  },
  {
   "cell_type": "markdown",
   "id": "91a35d3d-64b2-4de8-9edf-8fe2a6137171",
   "metadata": {},
   "source": [
    "## Question No.5"
   ]
  },
  {
   "cell_type": "code",
   "execution_count": 7,
   "id": "1ce8fdfa-0676-4a51-952c-aeeb54178aa1",
   "metadata": {},
   "outputs": [
    {
     "name": "stdin",
     "output_type": "stream",
     "text": [
      "Enter a number:  6\n"
     ]
    },
    {
     "name": "stdout",
     "output_type": "stream",
     "text": [
      "The factorial of 6 is 720\n"
     ]
    }
   ],
   "source": [
    "from functools import reduce\n",
    "\n",
    "# Define a function to multiply two numbers\n",
    "def multiply(x, y):\n",
    "    return x * y\n",
    "\n",
    "# Function to calculate factorial\n",
    "def factorial(n):\n",
    "    if n == 0:\n",
    "        return 1\n",
    "    else:\n",
    "        # Use reduce to multiply all numbers from 1 to n\n",
    "        return reduce(multiply, range(1, n + 1))\n",
    "\n",
    "# Input: The number for which you want to calculate the factorial\n",
    "num = int(input(\"Enter a number: \"))\n",
    "\n",
    "# Calculate and print the factorial\n",
    "result = factorial(num)\n",
    "print(f\"The factorial of {num} is {result}\")\n"
   ]
  },
  {
   "cell_type": "markdown",
   "id": "c9008d46-5c5c-4e44-98b2-1798a905ff3a",
   "metadata": {},
   "source": [
    "## Question No.6"
   ]
  },
  {
   "cell_type": "code",
   "execution_count": 8,
   "id": "25e02834-b0ed-4106-9eed-0e91f56046a1",
   "metadata": {},
   "outputs": [
    {
     "name": "stdout",
     "output_type": "stream",
     "text": [
      "The GCD of the numbers is: 12\n"
     ]
    }
   ],
   "source": [
    "from functools import reduce\n",
    "import math\n",
    "\n",
    "# Define a function to calculate the GCD of two numbers\n",
    "def gcd(x, y):\n",
    "    return math.gcd(x, y)\n",
    "\n",
    "# List of numbers for which you want to find the GCD\n",
    "numbers = [36, 48, 60, 72]\n",
    "\n",
    "# Use reduce() to find the GCD of all numbers\n",
    "gcd_result = reduce(gcd, numbers)\n",
    "\n",
    "print(f\"The GCD of the numbers is: {gcd_result}\")\n"
   ]
  },
  {
   "cell_type": "code",
   "execution_count": 9,
   "id": "607d7202-95a1-4a80-a489-24bb78b5d0cf",
   "metadata": {},
   "outputs": [
    {
     "name": "stdout",
     "output_type": "stream",
     "text": [
      "The GCD of the numbers is: 12\n"
     ]
    }
   ],
   "source": [
    "from functools import reduce\n",
    "import math\n",
    "\n",
    "# Define a function to calculate the GCD of two numbers\n",
    "def gcd(x, y):\n",
    "    while y != 0:\n",
    "        x, y = y, x % y\n",
    "    return x\n",
    "\n",
    "# List of numbers for which you want to find the GCD\n",
    "numbers = [36, 48, 60, 72]\n",
    "\n",
    "# Use reduce() to find the GCD of all numbers\n",
    "gcd_result = reduce(gcd, numbers)\n",
    "\n",
    "print(f\"The GCD of the numbers is: {gcd_result}\")\n"
   ]
  },
  {
   "cell_type": "markdown",
   "id": "348ff3ed-46b0-4086-99b6-326a028d8439",
   "metadata": {},
   "source": [
    "## Question No.7"
   ]
  },
  {
   "cell_type": "code",
   "execution_count": 15,
   "id": "eacf1739-ad89-4ddb-90d8-feeb3c9bb677",
   "metadata": {},
   "outputs": [
    {
     "data": {
      "text/plain": [
       "14"
      ]
     },
     "execution_count": 15,
     "metadata": {},
     "output_type": "execute_result"
    }
   ],
   "source": [
    "number = 2345\n",
    "def sum1(a,b):\n",
    "    return a+b\n",
    "sum_number = reduce(sum1,list(map(int, str(number))))\n",
    "sum_number"
   ]
  },
  {
   "cell_type": "markdown",
   "id": "91ac94bb-fbd5-4bb9-a600-29564a760c9f",
   "metadata": {},
   "source": [
    "## Filter Function"
   ]
  },
  {
   "cell_type": "markdown",
   "id": "81fb419f-309d-4284-9df2-75a5cea2aeef",
   "metadata": {},
   "source": [
    "## Question No.1"
   ]
  },
  {
   "cell_type": "code",
   "execution_count": 16,
   "id": "253de498-1029-49be-afb0-cd87c750710d",
   "metadata": {},
   "outputs": [
    {
     "name": "stdout",
     "output_type": "stream",
     "text": [
      "[2, 4, 6, 8, 10]\n"
     ]
    }
   ],
   "source": [
    "''' the filter() function is used to filter elements from an iterable (e.g., a list, tuple, or other iterable)\n",
    "    based on a given function or condition. It returns an iterator containing the elements for which\n",
    "    the function returns True.'''\n",
    "# Define a function to check if a number is even\n",
    "def is_even(num):\n",
    "    return num % 2 == 0\n",
    "\n",
    "# List of numbers\n",
    "numbers = [1, 2, 3, 4, 5, 6, 7, 8, 9, 10]\n",
    "\n",
    "# Use filter() to get even numbers\n",
    "even_numbers = filter(is_even, numbers)\n",
    "\n",
    "# Convert the filter object to a list to see the result\n",
    "even_numbers_list = list(even_numbers)\n",
    "\n",
    "print(even_numbers_list)  # Output: [2, 4, 6, 8, 10]\n"
   ]
  },
  {
   "cell_type": "markdown",
   "id": "ee9a5094-1a6a-47c3-b3ee-a71af143f7cc",
   "metadata": {},
   "source": [
    "## Question No.2"
   ]
  },
  {
   "cell_type": "code",
   "execution_count": 17,
   "id": "0d8f0ccd-8e53-4708-9d9f-3463f41db2d7",
   "metadata": {},
   "outputs": [
    {
     "name": "stdout",
     "output_type": "stream",
     "text": [
      "[2, 4, 6, 8, 10]\n"
     ]
    }
   ],
   "source": [
    "def is_even(num):\n",
    "    return num % 2 == 0\n",
    "\n",
    "numbers = [1, 2, 3, 4, 5, 6, 7, 8, 9, 10]\n",
    "\n",
    "even_numbers = filter(is_even, numbers)\n",
    "\n",
    "even_numbers_list = list(even_numbers)\n",
    "\n",
    "print(even_numbers_list) \n"
   ]
  },
  {
   "cell_type": "markdown",
   "id": "12d98aa2-7d83-4ea7-9d14-fe346a62f3c8",
   "metadata": {},
   "source": [
    "## Question No.3"
   ]
  },
  {
   "cell_type": "code",
   "execution_count": 25,
   "id": "3d927d32-85d5-4f4a-9258-45f9c8dfc5d7",
   "metadata": {},
   "outputs": [
    {
     "data": {
      "text/plain": [
       "['haris', 'haider', 'hilal']"
      ]
     },
     "execution_count": 25,
     "metadata": {},
     "output_type": "execute_result"
    }
   ],
   "source": [
    "l = ['haris','haider','hilal','aadil','nazir']\n",
    "def starts_with(s):\n",
    "    return s.startswith('h')\n",
    "        \n",
    "l2 = list(filter(starts_with,l))\n",
    "l2\n",
    "\n"
   ]
  },
  {
   "cell_type": "markdown",
   "id": "cd41045d-bec4-469b-96df-c16d81c19bc9",
   "metadata": {},
   "source": [
    "## Question No.4"
   ]
  },
  {
   "cell_type": "code",
   "execution_count": 26,
   "id": "dc539511-3965-493e-8c48-83baa0ea5172",
   "metadata": {},
   "outputs": [
    {
     "name": "stdout",
     "output_type": "stream",
     "text": [
      "Prime numbers: [2, 3, 5, 7, 11, 13, 17]\n"
     ]
    }
   ],
   "source": [
    "# Define a function to check if a number is prime\n",
    "def is_prime(n):\n",
    "    if n <= 1:\n",
    "        return False\n",
    "    if n == 2:\n",
    "        return True\n",
    "    if n % 2 == 0:\n",
    "        return False\n",
    "    for i in range(3, int(n**0.5) + 1, 2):\n",
    "        if n % i == 0:\n",
    "            return False\n",
    "    return True\n",
    "\n",
    "# List of integers\n",
    "numbers = [2, 3, 5, 7, 9, 11, 13, 16, 17]\n",
    "\n",
    "# Use filter() to select prime numbers\n",
    "prime_numbers = list(filter(is_prime, numbers))\n",
    "\n",
    "print(\"Prime numbers:\", prime_numbers)\n"
   ]
  },
  {
   "cell_type": "markdown",
   "id": "6614640c-2408-44cf-8364-97282b8371a5",
   "metadata": {},
   "source": [
    "## Question No.5"
   ]
  },
  {
   "cell_type": "code",
   "execution_count": 27,
   "id": "78935eca-9ee8-4d95-acd9-bd49e0dee57d",
   "metadata": {},
   "outputs": [
    {
     "name": "stdout",
     "output_type": "stream",
     "text": [
      "[1, 3, 5, 7]\n"
     ]
    }
   ],
   "source": [
    "# List with None values\n",
    "my_list = [1, None, 3, None, 5, None, 7]\n",
    "\n",
    "# Use filter() to remove None values\n",
    "filtered_list = list(filter(lambda x: x is not None, my_list))\n",
    "\n",
    "print(filtered_list)\n"
   ]
  },
  {
   "cell_type": "markdown",
   "id": "3bd409ef-4a05-418f-8896-23a972750733",
   "metadata": {},
   "source": [
    "## Question No.6"
   ]
  },
  {
   "cell_type": "code",
   "execution_count": 28,
   "id": "eea5d6a1-8094-44d7-9dbf-17cc8451fd4a",
   "metadata": {},
   "outputs": [
    {
     "name": "stdout",
     "output_type": "stream",
     "text": [
      "Words longer than 5 characters: ['banana', 'cherry', 'elderberry']\n"
     ]
    }
   ],
   "source": [
    "# List of strings\n",
    "words = [\"apple\", \"banana\", \"cherry\", \"date\", \"elderberry\", \"fig\", \"grape\"]\n",
    "\n",
    "# Minimum length for words to be selected\n",
    "min_length = 5\n",
    "\n",
    "# Use filter() to select words longer than min_length\n",
    "filtered_words = list(filter(lambda word: len(word) > min_length, words))\n",
    "\n",
    "print(\"Words longer than\", min_length, \"characters:\", filtered_words)\n"
   ]
  },
  {
   "cell_type": "markdown",
   "id": "e276a808-5035-493d-8a2d-d073f92f74db",
   "metadata": {},
   "source": [
    "## Question No.7"
   ]
  },
  {
   "cell_type": "code",
   "execution_count": null,
   "id": "50469e33-5286-4c4d-8e14-2e4d4acead88",
   "metadata": {},
   "outputs": [],
   "source": [
    "# List of values\n",
    "values = [10, 25, 5, 30, 15, 40, 20]\n",
    "\n",
    "# Threshold value\n",
    "threshold = 20\n",
    "\n",
    "# Use filter() to select elements greater than the threshold\n",
    "filtered_values = list(filter(lambda x: x > threshold, values))\n",
    "\n",
    "print(\"Values greater than\", threshold, \":\", filtered_values)\n"
   ]
  },
  {
   "cell_type": "markdown",
   "id": "4268c2bf-05a6-492a-9849-93ce2fa9d3c2",
   "metadata": {},
   "source": [
    "## Recursion"
   ]
  },
  {
   "cell_type": "markdown",
   "id": "b9ed3a3b-afac-4e87-830e-5722d50dfcd0",
   "metadata": {},
   "source": [
    "## Question No.1"
   ]
  },
  {
   "cell_type": "code",
   "execution_count": 3,
   "id": "12f38c54-8d5e-4302-9c67-9cfaced73322",
   "metadata": {},
   "outputs": [
    {
     "name": "stdout",
     "output_type": "stream",
     "text": [
      "120\n"
     ]
    }
   ],
   "source": [
    "'''Recursion involves a function calling itself to solve a problem by breaking it down into smaller,\n",
    "   similar subproblems. It requires a base case to terminate the recursive calls and uses a call stack to\n",
    "   manage function calls. Recursion can be elegant for problems that naturally decompose into subproblems\n",
    "   while Iteration uses loops (e.g., for or while loops) to repeatedly execute a block of code until a specific\n",
    "   condition is met. It doesn't involve function calls to itself and is often used for straightforward, linear,\n",
    "   or sequential processing. Iteration is generally more memory-efficient and suitable for many types of problems.'''\n",
    "def factorial(n):\n",
    "    if n == 0:\n",
    "        return 1  # Base case\n",
    "    else:\n",
    "        return n * factorial(n - 1)  # Recursive call\n",
    "\n",
    "result = factorial(5)  # Calculates 5!\n",
    "print(result)  # Output: 120\n",
    "\n"
   ]
  },
  {
   "cell_type": "markdown",
   "id": "194938b6-cdee-4d8a-8fd4-9f16f0414aff",
   "metadata": {},
   "source": [
    "## Question No.2"
   ]
  },
  {
   "cell_type": "code",
   "execution_count": 4,
   "id": "df8a070d-211b-44cc-af4a-b69296a521f0",
   "metadata": {},
   "outputs": [
    {
     "name": "stdout",
     "output_type": "stream",
     "text": [
      "120\n"
     ]
    }
   ],
   "source": [
    "def factorial(n):\n",
    "    if n == 0:\n",
    "        return 1  # Base case\n",
    "    else:\n",
    "        return n * factorial(n - 1)  # Recursive call\n",
    "\n",
    "result = factorial(5)  # Calculates 5!\n",
    "print(result)  # Output: 120\n"
   ]
  },
  {
   "cell_type": "markdown",
   "id": "de96066b-2249-4628-88b5-03818ae4c69e",
   "metadata": {},
   "source": [
    "## Question No.3"
   ]
  },
  {
   "cell_type": "code",
   "execution_count": 11,
   "id": "32d9b8ca-43cd-4827-858a-d6c6228ea9bc",
   "metadata": {},
   "outputs": [
    {
     "data": {
      "text/plain": [
       "21"
      ]
     },
     "execution_count": 11,
     "metadata": {},
     "output_type": "execute_result"
    }
   ],
   "source": [
    "def fib(n):\n",
    "    if n == 0:\n",
    "        return 0\n",
    "    elif n == 1:\n",
    "        return 1\n",
    "    else:\n",
    "        return fib(n-1)+fib(n-2)\n",
    "fib(8)\n"
   ]
  },
  {
   "cell_type": "markdown",
   "id": "56403815-5350-43e8-928b-b47fd378928d",
   "metadata": {},
   "source": [
    "## Question No.4"
   ]
  },
  {
   "cell_type": "code",
   "execution_count": 14,
   "id": "3b7d7a8a-2e79-4402-b4d3-dae00980339a",
   "metadata": {},
   "outputs": [
    {
     "data": {
      "text/plain": [
       "45"
      ]
     },
     "execution_count": 14,
     "metadata": {},
     "output_type": "execute_result"
    }
   ],
   "source": [
    "ls = [1,2,3,4,5,6,7,8,9]\n",
    " \n",
    "def sum1(l):\n",
    "   \n",
    "    if not l:\n",
    "        return 0\n",
    "    else:\n",
    "        return l[0] + sum1(l[1:])\n",
    "sum1(ls)"
   ]
  },
  {
   "cell_type": "markdown",
   "id": "1482c25f-3664-4352-ad9b-b1d076448764",
   "metadata": {},
   "source": [
    "## Question No.5"
   ]
  },
  {
   "cell_type": "code",
   "execution_count": null,
   "id": "13c9d894-1b8b-4bb2-8f3a-cc701623855b",
   "metadata": {},
   "outputs": [],
   "source": [
    "'''The stack overflow error can be prevented by,\n",
    "   Choose Appropriate Base Case(s): Make sure your base case(s) cover all possible conditions under which the recursion\n",
    "   should stop.\n",
    "   Ensure Progress Toward Base Case(s): In each recursive call, make sure that the input values or problem size \n",
    "   move closer to the base case(s). This often involves decreasing a numerical value, such as n - 1.'''\n",
    "def factorial(n):\n",
    "    # Base case: When n is 0 or 1, return 1\n",
    "    if n == 0 or n == 1:\n",
    "        return 1\n",
    "    else:\n",
    "        # Recursive case: Make progress by reducing n and making a recursive call\n",
    "        return n * factorial(n - 1)\n"
   ]
  },
  {
   "cell_type": "markdown",
   "id": "51fb8762-4d4b-41f7-a4a3-c6f6e177cdd9",
   "metadata": {},
   "source": [
    "## Question No.6"
   ]
  },
  {
   "cell_type": "code",
   "execution_count": 27,
   "id": "585c31ce-d0e5-4319-959f-43fa4611b6de",
   "metadata": {},
   "outputs": [
    {
     "name": "stdout",
     "output_type": "stream",
     "text": [
      "2\n"
     ]
    }
   ],
   "source": [
    "def gcd(a,b):\n",
    "    if b == 0:\n",
    "        return a\n",
    "    else:\n",
    "       \n",
    "        return gcd(b,a%b)\n",
    "        \n",
    "print(gcd(34,18))\n"
   ]
  },
  {
   "cell_type": "markdown",
   "id": "c687faab-87e4-4bdd-a4c6-4dc38abc9493",
   "metadata": {},
   "source": [
    "## Question No.7"
   ]
  },
  {
   "cell_type": "code",
   "execution_count": 29,
   "id": "4bca74a2-0cc0-40d4-b58f-df83e32d2dd9",
   "metadata": {},
   "outputs": [
    {
     "data": {
      "text/plain": [
       "'enolrizansirah'"
      ]
     },
     "execution_count": 29,
     "metadata": {},
     "output_type": "execute_result"
    }
   ],
   "source": [
    "strg = 'harisnazirlone'\n",
    "def rev(s):\n",
    "    if len(s)<=1:\n",
    "        return s\n",
    "    else:\n",
    "        return rev(s[1:]) + s[0]\n",
    "rev(strg)"
   ]
  },
  {
   "cell_type": "markdown",
   "id": "9e2537b3-0d34-4276-abcc-85b954229f60",
   "metadata": {},
   "source": [
    "## Question No.8"
   ]
  },
  {
   "cell_type": "code",
   "execution_count": 30,
   "id": "33296861-2ec0-4d42-9c1f-7f5f4a21af0b",
   "metadata": {},
   "outputs": [
    {
     "name": "stdout",
     "output_type": "stream",
     "text": [
      "8\n"
     ]
    }
   ],
   "source": [
    "def power(x, n):\n",
    "    # Base case: If n is 0, the result is 1 (x^0 = 1)\n",
    "    if n == 0:\n",
    "        return 1\n",
    "    else:\n",
    "        # Recursive case: Calculate power by making a recursive call\n",
    "        return x * power(x, n - 1)\n",
    "\n",
    "# Example usage:\n",
    "result = power(2, 3)  # Calculating 2^3\n",
    "print(result)  # Output: 8\n"
   ]
  },
  {
   "cell_type": "markdown",
   "id": "0b30a6ec-2906-43f8-aeb4-45dac22ea5a0",
   "metadata": {},
   "source": [
    "## Question No.9"
   ]
  },
  {
   "cell_type": "code",
   "execution_count": 9,
   "id": "780097a9-c755-4b15-b5ff-782ec41c9843",
   "metadata": {},
   "outputs": [
    {
     "name": "stdout",
     "output_type": "stream",
     "text": [
      "['bc']\n",
      "['bc', 'cb']\n",
      "['abc']\n",
      "['abc', 'acb']\n",
      "['ac']\n",
      "['ac', 'ca']\n",
      "['abc', 'acb', 'bac']\n",
      "['abc', 'acb', 'bac', 'bca']\n",
      "['ab']\n",
      "['ab', 'ba']\n",
      "['abc', 'acb', 'bac', 'bca', 'cab']\n",
      "['abc', 'acb', 'bac', 'bca', 'cab', 'cba']\n",
      "['abc', 'acb', 'bac', 'bca', 'cab', 'cba']\n"
     ]
    }
   ],
   "source": [
    "def get_permutations(string):\n",
    "    # Base case: If the string has only one character, return a list with that character\n",
    "    if len(string) == 1:\n",
    "        return [string]\n",
    "\n",
    "    # Recursive case:\n",
    "    permutations = []  # To store permutations\n",
    "\n",
    "    for i, char in enumerate(string):\n",
    "        # Remove the current character from the string\n",
    "        remaining_chars = string[:i] + string[i+1:]\n",
    "\n",
    "        # Recursive call to get permutations of the remaining characters\n",
    "        for perm in get_permutations(remaining_chars):\n",
    "            # Combine the current character with permutations of the remaining characters\n",
    "            permutations.append(char + perm)\n",
    "            print(permutations)\n",
    "\n",
    "    return permutations\n",
    "\n",
    "# Example usage:\n",
    "input_string = \"abc\"\n",
    "result = get_permutations(input_string)\n",
    "print(result)\n"
   ]
  },
  {
   "cell_type": "markdown",
   "id": "34d3143b-0ccf-4e76-b7b9-87a9c5c0f709",
   "metadata": {},
   "source": [
    "## Question No.10"
   ]
  },
  {
   "cell_type": "code",
   "execution_count": null,
   "id": "0a827d8e-3b5c-43c4-81ba-21cff33d622d",
   "metadata": {},
   "outputs": [],
   "source": [
    "def is_palindrome(string):\n",
    "    # Base case: If the string has 0 or 1 character, it's a palindrome\n",
    "    if len(string) <= 1:\n",
    "        return True\n",
    "    else:\n",
    "        # Check if the first and last characters are the same\n",
    "        if string[0] != string[-1]:\n",
    "            return False\n",
    "        else:\n",
    "            # Recursive case: Remove the first and last characters and check the remaining string\n",
    "            return is_palindrome(string[1:-1])\n",
    "\n",
    "# Example usage:\n",
    "test_string1 = \"racecar\"\n",
    "test_string2 = \"hello\"\n",
    "result1 = is_palindrome(test_string1)\n",
    "result2 = is_palindrome(test_string2)\n",
    "print(result1)  # Output: True (racecar is a palindrome)\n",
    "print(result2)  # Output: False (hello is not a palindrome)\n"
   ]
  },
  {
   "cell_type": "markdown",
   "id": "e583d3d7-391e-4cd3-a991-cfe21f7dfe56",
   "metadata": {},
   "source": [
    "## Question No.11"
   ]
  },
  {
   "cell_type": "code",
   "execution_count": 1,
   "id": "8eff2af4-d3f7-4ccb-bbc3-7d9df5ce30e8",
   "metadata": {},
   "outputs": [
    {
     "name": "stdout",
     "output_type": "stream",
     "text": [
      "[[1, 2], [1, 3], [2, 3]]\n"
     ]
    }
   ],
   "source": [
    "def find_combinations(elements, k):\n",
    "    # Base case: If k is 0 or elements is empty, return an empty list (no combinations)\n",
    "    if k == 0 or len(elements) == 0:\n",
    "        return [[]]\n",
    "\n",
    "    # Base case: If k is greater than the number of elements, return all elements as a combination\n",
    "    if k >= len(elements):\n",
    "        return [elements]\n",
    "\n",
    "    # Recursive case\n",
    "    first = elements[0]\n",
    "    rest = elements[1:]\n",
    "\n",
    "    # Recursively find combinations that include the first element\n",
    "    with_first = find_combinations(rest, k - 1)\n",
    "    with_first = [[first] + combo for combo in with_first]\n",
    "\n",
    "    # Recursively find combinations that do not include the first element\n",
    "    without_first = find_combinations(rest, k)\n",
    "\n",
    "    # Combine both sets of combinations\n",
    "    combinations = with_first + without_first\n",
    "\n",
    "    return combinations\n",
    "\n",
    "# Example usage:\n",
    "elements = [1, 2, 3]\n",
    "k = 2\n",
    "result = find_combinations(elements, k)\n",
    "print(result)\n"
   ]
  },
  {
   "cell_type": "code",
   "execution_count": 31,
   "id": "80815b50-b00c-4baa-942a-d8904f51de00",
   "metadata": {},
   "outputs": [
    {
     "name": "stdout",
     "output_type": "stream",
     "text": [
      "[[1, 2], [1, 3], [1, 4], [2, 3], [2, 4], [3, 4]]\n"
     ]
    }
   ],
   "source": [
    "def get_combinations(elements, k):\n",
    "    # Base case: If k is 0, return an empty list (no combinations)\n",
    "    if k == 0:\n",
    "        return [[]]\n",
    "    \n",
    "    # Base case: If elements is empty or smaller than k, return an empty list (no combinations)\n",
    "    if not elements or len(elements) < k:\n",
    "        return []\n",
    "\n",
    "    # Recursive case:\n",
    "    # Consider the first element and generate combinations both including and excluding it\n",
    "    first_element = elements[0]\n",
    "    with_first = [[first_element] + combo for combo in get_combinations(elements[1:], k - 1)]\n",
    "    without_first = get_combinations(elements[1:], k)\n",
    "\n",
    "    # Combine both sets of combinations and return\n",
    "    return with_first + without_first\n",
    "\n",
    "# Example usage:\n",
    "my_elements = [1, 2, 3, 4]\n",
    "combination_size = 2\n",
    "result = get_combinations(my_elements, combination_size)\n",
    "print(result)\n"
   ]
  },
  {
   "cell_type": "markdown",
   "id": "ac70b3a4-68e8-4c26-bf2b-1eee4971bd1a",
   "metadata": {},
   "source": [
    "## Basics of functions"
   ]
  },
  {
   "cell_type": "markdown",
   "id": "a064f62c-098c-4b45-918c-2a6fa9e0919f",
   "metadata": {},
   "source": [
    "## Question No.1"
   ]
  },
  {
   "cell_type": "code",
   "execution_count": 12,
   "id": "e798eb3a-0ad7-4571-8432-18ae32b21e0c",
   "metadata": {},
   "outputs": [
    {
     "data": {
      "text/plain": [
       "8"
      ]
     },
     "execution_count": 12,
     "metadata": {},
     "output_type": "execute_result"
    }
   ],
   "source": [
    "''' functions in Python are used to encapsulate and reuse code, \n",
    "    promote modularity and maintainability, and make your programs more organized and readable. \n",
    "    They are a fundamental building block of Python and most programming languages'''\n",
    "\n",
    "def add(x, y):           # Function definition\n",
    "    result = x + y\n",
    "    return result\n",
    "\n",
    "sum_result = add(3, 5)      # Function call\n",
    "sum_result"
   ]
  },
  {
   "cell_type": "markdown",
   "id": "1c9ea9d1-bece-48f7-b7f1-50309f6e21f7",
   "metadata": {},
   "source": [
    "## Question No.2"
   ]
  },
  {
   "cell_type": "code",
   "execution_count": 14,
   "id": "18c3ab20-2da2-440d-be7e-3f747ddadd02",
   "metadata": {
    "collapsed": true,
    "jupyter": {
     "outputs_hidden": true
    },
    "tags": []
   },
   "outputs": [
    {
     "ename": "SyntaxError",
     "evalue": "invalid syntax (3557085225.py, line 1)",
     "output_type": "error",
     "traceback": [
      "\u001b[0;36m  Cell \u001b[0;32mIn[14], line 1\u001b[0;36m\u001b[0m\n\u001b[0;31m    def function_name(parameter1, parameter2, ...):      # def keyword is used to define a function\u001b[0m\n\u001b[0m                                              ^\u001b[0m\n\u001b[0;31mSyntaxError\u001b[0m\u001b[0;31m:\u001b[0m invalid syntax\n"
     ]
    }
   ],
   "source": [
    "def function_name(parameter1, parameter2, ...):      # def keyword is used to define a function\n",
    "    # Function body (code block)\n",
    "    # Perform some tasks using parameters\n",
    "    # Optionally, return a result\n",
    "\n",
    "# example\n",
    "def add(x, y):           # Function definition\n",
    "    result = x + y\n",
    "    return result\n",
    "\n",
    "sum_result = add(3, 5)      # Function call\n",
    "\n"
   ]
  },
  {
   "cell_type": "markdown",
   "id": "334d15bb-b6d0-4531-98f1-69791fb04e5d",
   "metadata": {},
   "source": [
    "## Question No.3"
   ]
  },
  {
   "cell_type": "code",
   "execution_count": 15,
   "id": "46501c1b-798c-429c-bb54-2010307e79af",
   "metadata": {},
   "outputs": [
    {
     "name": "stdout",
     "output_type": "stream",
     "text": [
      "120\n"
     ]
    }
   ],
   "source": [
    "'''A function definition defines what a function does, its name, and its parameters. \n",
    "It does not execute the function but provides the blueprint for its behavior.\n",
    "\n",
    "A function call, on the other hand, is the actual execution of the function. \n",
    "It involves providing arguments and triggering the code within the function to run.'''\n",
    "\n",
    "# Function definition\n",
    "def factorial(n):\n",
    "    if n == 0:\n",
    "        return 1\n",
    "    else:\n",
    "        return n * factorial(n - 1)\n",
    "\n",
    "# Function call\n",
    "result = factorial(5)\n",
    "\n",
    "print(result)  # Output: 120 (5! = 5 x 4 x 3 x 2 x 1 = 120)\n"
   ]
  },
  {
   "cell_type": "markdown",
   "id": "4de5e907-7129-43b0-8c4e-56126263ea50",
   "metadata": {},
   "source": [
    "## Question No.4"
   ]
  },
  {
   "cell_type": "code",
   "execution_count": null,
   "id": "c32b274a-1e24-4673-856a-2217c72d5918",
   "metadata": {},
   "outputs": [],
   "source": [
    "def add(x, y):           # Function definition\n",
    "    result = x + y\n",
    "    return result\n",
    "\n",
    "sum_result = add(3, 5)      # Function call\n",
    "\n"
   ]
  },
  {
   "cell_type": "markdown",
   "id": "2e75168f-af95-404d-91c0-281e66c14d9d",
   "metadata": {},
   "source": [
    "## Question No.5"
   ]
  },
  {
   "cell_type": "code",
   "execution_count": null,
   "id": "8345565c-2900-4e2f-a885-a8edb2be298f",
   "metadata": {},
   "outputs": [],
   "source": [
    "'''A function signature provides a high-level overview of how the function can be used and \n",
    "   what to expect when working with it. It serves as a reference for both the programmer implementing \n",
    "   the function and anyone using it in their code.'''\n",
    "\n",
    "# example\n",
    "def calculate_average(numbers: list) -> float:\n"
   ]
  },
  {
   "cell_type": "markdown",
   "id": "e8d0a4a2-7688-44b1-a558-26ea12413e8e",
   "metadata": {},
   "source": [
    "## Question No.6"
   ]
  },
  {
   "cell_type": "code",
   "execution_count": 16,
   "id": "2cfea825-2761-4329-81cb-016cd3d4bb8a",
   "metadata": {},
   "outputs": [
    {
     "name": "stdout",
     "output_type": "stream",
     "text": [
      "15\n"
     ]
    }
   ],
   "source": [
    "def multiply(x, y):\n",
    "    result = x * y\n",
    "    return result\n",
    "\n",
    "result = multiply(3, 5)\n",
    "print(result)  # Output: 15\n"
   ]
  },
  {
   "cell_type": "markdown",
   "id": "e43d9c21-1439-4744-b50b-2c03c9576651",
   "metadata": {},
   "source": [
    "## Function parameters and arguments"
   ]
  },
  {
   "cell_type": "markdown",
   "id": "8db77b23-505c-4863-8625-b7184063a164",
   "metadata": {},
   "source": [
    "## Question No.1"
   ]
  },
  {
   "cell_type": "code",
   "execution_count": 17,
   "id": "f3fed800-8885-4783-9b43-08d6b0cb31ed",
   "metadata": {},
   "outputs": [],
   "source": [
    "'''Formal parameters define the function's interface and expectations, \n",
    "   while actual arguments provide the specific data for the function to work with during a function call.'''\n",
    "\n",
    "# defining with formal arguments\n",
    "def add(x, y):   \n",
    "    result = x + y\n",
    "    return result\n",
    "\n",
    "# Calling the function with actual arguments\n",
    "sum_result = add(3, 5)\n"
   ]
  },
  {
   "cell_type": "markdown",
   "id": "0ffa4f43-4b85-47b2-96b6-cc8388b93ef3",
   "metadata": {},
   "source": [
    "## Question No.2"
   ]
  },
  {
   "cell_type": "code",
   "execution_count": 18,
   "id": "831d7192-b686-4ab9-b86d-62a22b1dbcd6",
   "metadata": {},
   "outputs": [
    {
     "name": "stdout",
     "output_type": "stream",
     "text": [
      "Hello, Guest!\n",
      "Hi, Alice!\n"
     ]
    }
   ],
   "source": [
    "def greet(name=\"Guest\", greeting=\"Hello\"):\n",
    "    message = f\"{greeting}, {name}!\"\n",
    "    return message\n",
    "\n",
    "# Call the function with default arguments\n",
    "default_greeting = greet()\n",
    "print(default_greeting)  # Output: Hello, Guest!\n",
    "\n",
    "# Call the function with custom arguments\n",
    "custom_greeting = greet(\"Alice\", \"Hi\")\n",
    "print(custom_greeting)  # Output: Hi, Alice!\n"
   ]
  },
  {
   "cell_type": "markdown",
   "id": "dbfc7f3d-7656-4fef-839f-6e158e63dc03",
   "metadata": {},
   "source": [
    "## Question No.3"
   ]
  },
  {
   "cell_type": "code",
   "execution_count": 19,
   "id": "5660f6f5-7a0b-4868-aa73-10ae0015d0ff",
   "metadata": {},
   "outputs": [
    {
     "name": "stdout",
     "output_type": "stream",
     "text": [
      "Hi, Alice! You are 30 years old.\n"
     ]
    }
   ],
   "source": [
    "''' keyword arguments in function calls can be used by specifying the parameter names along with the corresponding values. \n",
    "    This allows you to provide values to specific parameters in any order, \n",
    "    making your code more readable and self-explanatory, \n",
    "    especially when dealing with functions that have many parameters'''\n",
    "\n",
    "def greet(name, age, greeting=\"Hello\"):\n",
    "    message = f\"{greeting}, {name}! You are {age} years old.\"\n",
    "    return message\n",
    "\n",
    "# Using keyword arguments to call the function\n",
    "greeting_message = greet(name=\"Alice\", age=30, greeting=\"Hi\")\n",
    "print(greeting_message)\n"
   ]
  },
  {
   "cell_type": "markdown",
   "id": "465fce0c-0966-4b87-990e-40648af7ea84",
   "metadata": {},
   "source": [
    "## Question No.4"
   ]
  },
  {
   "cell_type": "code",
   "execution_count": 20,
   "id": "6a8b4f4b-32b2-4af3-8ef6-670936f14dc3",
   "metadata": {},
   "outputs": [
    {
     "name": "stdout",
     "output_type": "stream",
     "text": [
      "8\n",
      "15\n"
     ]
    }
   ],
   "source": [
    "def calculate_sum(*args):\n",
    "    total = 0\n",
    "    for num in args:\n",
    "        total += num\n",
    "    return total\n",
    "\n",
    "# Example usage:\n",
    "result1 = calculate_sum(3, 5)\n",
    "result2 = calculate_sum(1, 2, 3, 4, 5)\n",
    "\n",
    "print(result1)  # Output: 8\n",
    "print(result2)  # Output: 15\n"
   ]
  },
  {
   "cell_type": "markdown",
   "id": "f3115a82-0cfd-4882-a706-2a45794a6f89",
   "metadata": {},
   "source": [
    "## Question No.5"
   ]
  },
  {
   "cell_type": "code",
   "execution_count": 21,
   "id": "01725082-3327-4ea4-b3c3-87ca5aadc4fd",
   "metadata": {},
   "outputs": [
    {
     "name": "stdout",
     "output_type": "stream",
     "text": [
      "15\n",
      "Hello, Alice! You are 30 years old.\n"
     ]
    }
   ],
   "source": [
    "''' *args is used to pass a variable number of non-keyword (positional) arguments to a function. \n",
    "    It allows you to accept an arbitrary number of values as positional arguments.'''\n",
    "\n",
    "def add(*args):\n",
    "    result = 0\n",
    "    for num in args:\n",
    "        result += num\n",
    "    return result\n",
    "\n",
    "result = add(1, 2, 3, 4, 5)\n",
    "print(result)  # Output: 15\n",
    "\n",
    "''' **kwargs is used to pass a variable number of keyword arguments (key-value pairs) to a function. \n",
    "    It allows you to accept an arbitrary number of named arguments.'''\n",
    "    \n",
    "def greet(**kwargs):\n",
    "    message = f\"Hello, {kwargs['name']}! You are {kwargs['age']} years old.\"\n",
    "    return message\n",
    "\n",
    "result = greet(name=\"Alice\", age=30)\n",
    "print(result)  # Output: Hello, Alice! You are 30 years old.\n"
   ]
  },
  {
   "cell_type": "markdown",
   "id": "c67605e9-afd9-4130-8a99-91bfd2ba27d1",
   "metadata": {},
   "source": [
    "## Return Values and Scoping"
   ]
  },
  {
   "cell_type": "markdown",
   "id": "c786f561-8099-4be9-8f6b-3d282e863b98",
   "metadata": {},
   "source": [
    "## Question No.1"
   ]
  },
  {
   "cell_type": "code",
   "execution_count": 3,
   "id": "7a2c9475-70e7-4f46-97bc-da78daa30844",
   "metadata": {},
   "outputs": [
    {
     "name": "stdout",
     "output_type": "stream",
     "text": [
      "Quotient: 3\n",
      "Remainder: 1\n"
     ]
    }
   ],
   "source": [
    "''' the return statement is used within functions to specify what value or values should be sent back (returned)\n",
    "    to the caller of the function. It marks the end of the function's execution and passes control and\n",
    "    any specified result back to the calling code. The return statement is essential for functions \n",
    "    that need to produce a result or perform an action that provides feedback to the caller.'''\n",
    "\n",
    "def divide_and_remainder(a, b):\n",
    "    quotient = a // b\n",
    "    remainder = a % b\n",
    "    return quotient, remainder\n",
    "\n",
    "q, r = divide_and_remainder(10, 3)\n",
    "print(\"Quotient:\", q)    # Output: Quotient: 3\n",
    "print(\"Remainder:\", r)   # Output: Remainder: 1\n"
   ]
  },
  {
   "cell_type": "markdown",
   "id": "7216c93e-975e-47cb-ad7e-3828ab4223b5",
   "metadata": {},
   "source": [
    "## Question No.2"
   ]
  },
  {
   "cell_type": "code",
   "execution_count": 7,
   "id": "3e1dff28-a605-480b-95e2-37cf0cd1f8ba",
   "metadata": {},
   "outputs": [
    {
     "name": "stdout",
     "output_type": "stream",
     "text": [
      "10\n"
     ]
    }
   ],
   "source": [
    "'''Variable scope in Python refers to the region of a program where a particular variable can be accessed or modified. \n",
    "   Python has two primary types of variable scope: local and global.'''\n",
    "\n",
    "def my_function():\n",
    "    x = 10  # x is a local variable\n",
    "    print(x)\n",
    "\n",
    "my_function()  # Output: 10\n"
   ]
  },
  {
   "cell_type": "code",
   "execution_count": 6,
   "id": "4d296780-f245-4cc5-834e-a3cb976ba101",
   "metadata": {},
   "outputs": [
    {
     "ename": "NameError",
     "evalue": "name 'x' is not defined",
     "output_type": "error",
     "traceback": [
      "\u001b[0;31m---------------------------------------------------------------------------\u001b[0m",
      "\u001b[0;31mNameError\u001b[0m                                 Traceback (most recent call last)",
      "Cell \u001b[0;32mIn[6], line 1\u001b[0m\n\u001b[0;32m----> 1\u001b[0m \u001b[38;5;28mprint\u001b[39m(\u001b[43mx\u001b[49m)  \u001b[38;5;66;03m# This will raise a NameError because x is not defined in the global scope\u001b[39;00m\n",
      "\u001b[0;31mNameError\u001b[0m: name 'x' is not defined"
     ]
    }
   ],
   "source": [
    "print(x)  # This will raise a NameError because x is not defined in the global scope"
   ]
  },
  {
   "cell_type": "code",
   "execution_count": 8,
   "id": "57bb0f8b-2e4b-4d6c-937c-dbb50f19e801",
   "metadata": {},
   "outputs": [
    {
     "name": "stdout",
     "output_type": "stream",
     "text": [
      "25\n"
     ]
    }
   ],
   "source": [
    "y = 20  # y is a global variable\n",
    "\n",
    "def my_function():\n",
    "    global y  # This line indicates that we want to use the global y variable\n",
    "    y += 5  # Modifying the global variable\n",
    "\n",
    "my_function()\n",
    "print(y)  # Output: 25\n"
   ]
  },
  {
   "cell_type": "code",
   "execution_count": 9,
   "id": "4a4189f8-d6e6-43f2-a3f5-e1d100369135",
   "metadata": {},
   "outputs": [
    {
     "name": "stdout",
     "output_type": "stream",
     "text": [
      "10\n",
      "100\n"
     ]
    }
   ],
   "source": [
    "x = 100  # Global variable\n",
    "\n",
    "def my_function():\n",
    "    x = 10  # Local variable with the same name as the global variable\n",
    "    print(x)  # This will print the local variable\n",
    "\n",
    "my_function()\n",
    "print(x)  # This will print the global variable\n",
    "\n",
    "# Output:\n",
    "# 10\n",
    "# 100\n"
   ]
  },
  {
   "cell_type": "code",
   "execution_count": 10,
   "id": "f8c044be-ed00-4d30-9a9a-e11aa64383af",
   "metadata": {},
   "outputs": [
    {
     "name": "stdout",
     "output_type": "stream",
     "text": [
      "10\n"
     ]
    }
   ],
   "source": [
    "x = 100  # Global variable\n",
    "\n",
    "def outer_function():\n",
    "    x = 10  # Enclosing scope variable\n",
    "    \n",
    "    def inner_function():\n",
    "        print(x)  # This will print the variable from the enclosing scope\n",
    "\n",
    "    inner_function()\n",
    "\n",
    "outer_function()\n"
   ]
  },
  {
   "cell_type": "markdown",
   "id": "6c073109-d879-4935-a5df-71773763d51e",
   "metadata": {},
   "source": [
    "## Question No.3"
   ]
  },
  {
   "cell_type": "code",
   "execution_count": 11,
   "id": "c5514446-a0a4-489f-90a1-ab96d93c58b6",
   "metadata": {},
   "outputs": [
    {
     "name": "stdout",
     "output_type": "stream",
     "text": [
      "Global Variable: 10\n",
      "Global Variable: 15\n"
     ]
    }
   ],
   "source": [
    "# Global variable\n",
    "global_var = 10\n",
    "\n",
    "def modify_global_variable():\n",
    "    # Accessing and modifying the global variable\n",
    "    global global_var\n",
    "    global_var += 5\n",
    "\n",
    "def print_global_variable():\n",
    "    # Accessing the global variable\n",
    "    print(\"Global Variable:\", global_var)\n",
    "\n",
    "# Initially, the global variable is 10\n",
    "print_global_variable()\n",
    "\n",
    "# Modifying the global variable within a function\n",
    "modify_global_variable()\n",
    "\n",
    "# After modification, the global variable is now 15\n",
    "print_global_variable()\n"
   ]
  },
  {
   "cell_type": "markdown",
   "id": "e6df9f73-8f26-448f-a008-748d3dd0f0fe",
   "metadata": {},
   "source": [
    "## Question No.4"
   ]
  },
  {
   "cell_type": "code",
   "execution_count": 12,
   "id": "d7a99b66-a692-4e84-8a6e-86ad6d79def4",
   "metadata": {},
   "outputs": [
    {
     "name": "stdout",
     "output_type": "stream",
     "text": [
      "The factorial of 5 is 120\n"
     ]
    }
   ],
   "source": [
    "def factorial(n):\n",
    "    if n < 0:\n",
    "        return \"Factorial is undefined for negative numbers\"\n",
    "    elif n == 0:\n",
    "        return 1\n",
    "    else:\n",
    "        result = 1\n",
    "        for i in range(1, n + 1):\n",
    "            result *= i\n",
    "        return result\n",
    "\n",
    "# Example usage:\n",
    "number = 5\n",
    "result = factorial(number)\n",
    "print(f\"The factorial of {number} is {result}\")\n"
   ]
  },
  {
   "cell_type": "markdown",
   "id": "5bfebac3-7d2f-4ec9-b780-72a9873ebc97",
   "metadata": {},
   "source": [
    "## Question No.5"
   ]
  },
  {
   "cell_type": "code",
   "execution_count": 13,
   "id": "cbc5f7a0-8852-4a92-95e3-b1965c4df97f",
   "metadata": {},
   "outputs": [
    {
     "name": "stdout",
     "output_type": "stream",
     "text": [
      "Inside the function: 10\n",
      "Outside the function: 10\n"
     ]
    }
   ],
   "source": [
    "# Define a global variable\n",
    "global_var = 10\n",
    "\n",
    "def access_global_variable():\n",
    "    # Access the global variable within the function\n",
    "    print(\"Inside the function:\", global_var)\n",
    "\n",
    "# Call the function\n",
    "access_global_variable()\n",
    "\n",
    "# Access the global variable outside the function\n",
    "print(\"Outside the function:\", global_var)\n"
   ]
  },
  {
   "cell_type": "markdown",
   "id": "0baa49fd-9826-40f7-930e-be9d677f7fc3",
   "metadata": {},
   "source": [
    "## Lambda Functions and Higher-Order Functions"
   ]
  },
  {
   "cell_type": "markdown",
   "id": "8e3ed836-8708-40d6-a92c-59a66cc04123",
   "metadata": {},
   "source": [
    "## Question No.1"
   ]
  },
  {
   "cell_type": "code",
   "execution_count": 14,
   "id": "87144e77-cb12-4e32-8f1b-be80fe4ce572",
   "metadata": {},
   "outputs": [
    {
     "name": "stdout",
     "output_type": "stream",
     "text": [
      "The result is 10\n"
     ]
    }
   ],
   "source": [
    "'''They are typically used for simple, short operations where a full function definition is unnecessary.\n",
    "   mostly used for , often used as arguments to higher-order functions that accept functions as parameters, \n",
    "   such as map(), filter(), and sorted() and callbacks.'''\n",
    "\n",
    "numbers = [1, 2, 3, 4, 5]\n",
    "squared = list(map(lambda x: x**2, numbers))\n",
    "# squared will be [1, 4, 9, 16, 25]\n",
    "\n",
    "numbers = [1, 2, 3, 4, 5, 6, 7, 8, 9]\n",
    "even_numbers = list(filter(lambda x: x % 2 == 0, numbers))\n",
    "# even_numbers will be [2, 4, 6, 8]\n",
    "\n",
    "students = [(\"Alice\", 25), (\"Bob\", 22), (\"Charlie\", 28)]\n",
    "students_sorted_by_age = sorted(students, key=lambda x: x[1])\n",
    "# students_sorted_by_age will be [(\"Bob\", 22), (\"Alice\", 25), (\"Charlie\", 28)]\n",
    "\n",
    "def do_operation(x, callback):\n",
    "    result = x * 2\n",
    "    callback(result)\n",
    "\n",
    "# Using a lambda function as a callback\n",
    "do_operation(5, lambda result: print(f\"The result is {result}\"))\n"
   ]
  },
  {
   "cell_type": "markdown",
   "id": "3155a4fe-54bf-4341-8192-df3fa0c0dbe9",
   "metadata": {},
   "source": [
    "## Question No.2"
   ]
  },
  {
   "cell_type": "code",
   "execution_count": 15,
   "id": "4e8a55d7-3b33-4daa-906d-1211ac0327fc",
   "metadata": {},
   "outputs": [
    {
     "name": "stdout",
     "output_type": "stream",
     "text": [
      "('Bob', 22)\n",
      "('David', 22)\n",
      "('Alice', 25)\n",
      "('Charlie', 28)\n",
      "('Eve', 30)\n"
     ]
    }
   ],
   "source": [
    "# List of tuples\n",
    "data = [(\"Alice\", 25), (\"Bob\", 22), (\"Charlie\", 28), (\"David\", 22), (\"Eve\", 30)]\n",
    "\n",
    "# Sorting the list based on the second element of each tuple\n",
    "sorted_data = sorted(data, key=lambda x: x[1])\n",
    "\n",
    "# Display the sorted list\n",
    "for item in sorted_data:\n",
    "    print(item)\n"
   ]
  },
  {
   "cell_type": "markdown",
   "id": "5133e332-f5a0-4fd7-8aba-1410b4060b4c",
   "metadata": {},
   "source": [
    "## Question No.3"
   ]
  },
  {
   "cell_type": "code",
   "execution_count": 16,
   "id": "a6e778e8-1120-49b5-a411-c60a770c6dfd",
   "metadata": {},
   "outputs": [
    {
     "name": "stdout",
     "output_type": "stream",
     "text": [
      "[1, 4, 9, 16, 25]\n"
     ]
    }
   ],
   "source": [
    "'''Higher-order functions in Python are functions that can take one or more functions as arguments and/or return\n",
    "   a function as their result. These functions treat other functions as first-class citizens, \n",
    "   allowing for more flexible and modular code. Higher-order functions are a fundamental concept in \n",
    "   functional programming and are commonly used in Python to abstract and encapsulate behavior.'''\n",
    "\n",
    "# function that takes function as argument\n",
    "# Example 1: Using map()\n",
    "numbers = [1, 2, 3, 4, 5]\n",
    "\n",
    "# Define a function to square a number\n",
    "def square(x):\n",
    "    return x ** 2\n",
    "\n",
    "# Use map() to apply the square function to each element in numbers\n",
    "squared_numbers = list(map(square, numbers))\n",
    "print(squared_numbers)  # Output: [1, 4, 9, 16, 25]\n"
   ]
  },
  {
   "cell_type": "code",
   "execution_count": 17,
   "id": "279d18a7-fbd8-4fc8-bad2-b6583a3a4d3c",
   "metadata": {},
   "outputs": [],
   "source": [
    "# function that returns functions\n",
    "# Example 2: Function that returns functions\n",
    "def operation_factory(operator):\n",
    "    if operator == '+':\n",
    "        return lambda x, y: x + y\n",
    "    elif operator == '-':\n",
    "        return lambda x, y: x - y\n",
    "    elif operator == '*':\n",
    "        return lambda x, y: x * y\n",
    "\n",
    "# Create functions for addition, subtraction, and multiplication\n",
    "add_function = operation_factory('+')\n",
    "subtract_function = operation_factory('-')\n",
    "multiply_function = operation_factory('*')\n",
    "\n",
    "# Use the generated functions\n",
    "result1 = add_function(5, 3)        # Output: 8\n",
    "result2 = subtract_function(5, 3)   # Output: 2\n",
    "result3 = multiply_function(5, 3)   # Output: 15\n"
   ]
  },
  {
   "cell_type": "code",
   "execution_count": 18,
   "id": "8159eac5-58ea-4cce-8fea-b9052bd3570e",
   "metadata": {},
   "outputs": [
    {
     "name": "stdout",
     "output_type": "stream",
     "text": [
      "Addition: 8\n",
      "Subtraction: 2\n",
      "Multiplication: 15\n"
     ]
    }
   ],
   "source": [
    "def apply_operation(x, y, operation):\n",
    "    \"\"\"Apply a binary operation to x and y.\"\"\"\n",
    "    return operation(x, y)\n",
    "\n",
    "# Define some binary operation functions\n",
    "def add(x, y):\n",
    "    return x + y\n",
    "\n",
    "def subtract(x, y):\n",
    "    return x - y\n",
    "\n",
    "def multiply(x, y):\n",
    "    return x * y\n",
    "\n",
    "# Using apply_operation with different operations\n",
    "result1 = apply_operation(5, 3, add)\n",
    "result2 = apply_operation(5, 3, subtract)\n",
    "result3 = apply_operation(5, 3, multiply)\n",
    "\n",
    "print(\"Addition:\", result1)       # Output: Addition: 8\n",
    "print(\"Subtraction:\", result2)    # Output: Subtraction: 2\n",
    "print(\"Multiplication:\", result3) # Output: Multiplication: 15\n"
   ]
  },
  {
   "cell_type": "markdown",
   "id": "eb63b1bd-a82a-4505-bef9-0c47982f6b29",
   "metadata": {},
   "source": [
    "## Question No.4"
   ]
  },
  {
   "cell_type": "code",
   "execution_count": 19,
   "id": "63ac522c-b425-416f-9c4d-108846cf4bb1",
   "metadata": {},
   "outputs": [
    {
     "name": "stdout",
     "output_type": "stream",
     "text": [
      "[1, 4, 9, 16, 25]\n"
     ]
    }
   ],
   "source": [
    "def apply_function_to_list(numbers, func):\n",
    "    \"\"\"\n",
    "    Apply a given function to each element in the list of numbers.\n",
    "\n",
    "    Args:\n",
    "        numbers (list): List of numbers.\n",
    "        func (function): The function to apply to each element.\n",
    "\n",
    "    Returns:\n",
    "        list: A list containing the results of applying the function to each element.\n",
    "    \"\"\"\n",
    "    result = []\n",
    "    for num in numbers:\n",
    "        result.append(func(num))\n",
    "    return result\n",
    "\n",
    "# Example usage:\n",
    "numbers = [1, 2, 3, 4, 5]\n",
    "\n",
    "# Define a function to square a number\n",
    "def square(x):\n",
    "    return x ** 2\n",
    "\n",
    "# Apply the square function to each element in the list\n",
    "squared_numbers = apply_function_to_list(numbers, square)\n",
    "print(squared_numbers)  # Output: [1, 4, 9, 16, 25]\n"
   ]
  },
  {
   "cell_type": "markdown",
   "id": "55424107-c050-414b-b981-1d56df57af7b",
   "metadata": {},
   "source": [
    "## Built-in Functions"
   ]
  },
  {
   "cell_type": "markdown",
   "id": "edae4e93-5541-4127-a0ac-da2ae2de0eb8",
   "metadata": {},
   "source": [
    "## Question No.1"
   ]
  },
  {
   "cell_type": "code",
   "execution_count": 20,
   "id": "2e699b69-f5ca-493a-bb97-b1cbf0adbd19",
   "metadata": {},
   "outputs": [],
   "source": [
    "my_list = [1, 2, 3, 4, 5]\n",
    "length = len(my_list)  # length will be 5\n",
    "\n",
    "numbers = [3, 1, 4, 1, 5, 9, 2, 6, 5, 3, 5]\n",
    "maximum = max(numbers)  # maximum will be 9\n",
    "\n",
    "x = 10\n",
    "y = 20\n",
    "max_value = max(x, y)  # max_value will be 20\n",
    "\n",
    "numbers = [3, 1, 4, 1, 5, 9, 2, 6, 5, 3, 5]\n",
    "minimum = min(numbers)  # minimum will be 1\n",
    "\n",
    "x = 10\n",
    "y = 20\n",
    "min_value = min(x, y)  # min_value will be 10\n",
    "\n"
   ]
  },
  {
   "cell_type": "markdown",
   "id": "2fc769ca-d779-467b-9a31-842bd636b3a3",
   "metadata": {},
   "source": [
    "## Question No.2"
   ]
  },
  {
   "cell_type": "code",
   "execution_count": 21,
   "id": "d9367e30-ca86-4b3d-bc5d-0b552b88c400",
   "metadata": {},
   "outputs": [
    {
     "name": "stdout",
     "output_type": "stream",
     "text": [
      "Original Numbers: [1, 2, 3, 4, 5]\n",
      "Doubled Numbers: [2, 4, 6, 8, 10]\n"
     ]
    }
   ],
   "source": [
    "# Define a function to double a number\n",
    "def double(x):\n",
    "    return x * 2\n",
    "\n",
    "# List of numbers\n",
    "numbers = [1, 2, 3, 4, 5]\n",
    "\n",
    "# Use map() to apply the double function to each element in numbers\n",
    "doubled_numbers = list(map(double, numbers))\n",
    "\n",
    "# Print the result\n",
    "print(\"Original Numbers:\", numbers)\n",
    "print(\"Doubled Numbers:\", doubled_numbers)\n"
   ]
  },
  {
   "cell_type": "markdown",
   "id": "a59fbba0-2c29-4b7f-b683-f55e13ef1f34",
   "metadata": {},
   "source": [
    "## Question No.3"
   ]
  },
  {
   "cell_type": "code",
   "execution_count": 22,
   "id": "a1dbb338-5b6c-4e5e-be1f-44059747154d",
   "metadata": {},
   "outputs": [
    {
     "name": "stdout",
     "output_type": "stream",
     "text": [
      "[2, 4, 6, 8]\n"
     ]
    }
   ],
   "source": [
    "# Define a predicate function to filter even numbers\n",
    "def is_even(x):\n",
    "    return x % 2 == 0\n",
    "\n",
    "# List of numbers\n",
    "numbers = [1, 2, 3, 4, 5, 6, 7, 8, 9]\n",
    "\n",
    "# Use filter() to get a list of even numbers from the numbers list\n",
    "even_numbers = list(filter(is_even, numbers))\n",
    "\n",
    "# Output: [2, 4, 6, 8]\n",
    "print(even_numbers)\n"
   ]
  },
  {
   "cell_type": "markdown",
   "id": "67f300f7-6c26-489d-9147-e56149d833c0",
   "metadata": {},
   "source": [
    "## Question No.4"
   ]
  },
  {
   "cell_type": "code",
   "execution_count": 23,
   "id": "b41afb41-6fc9-49bd-8650-9689da3c07af",
   "metadata": {},
   "outputs": [
    {
     "name": "stdout",
     "output_type": "stream",
     "text": [
      "Numbers: [1, 2, 3, 4, 5]\n",
      "Product: 120\n"
     ]
    }
   ],
   "source": [
    "from functools import reduce\n",
    "\n",
    "# Define a function to calculate the product of two numbers\n",
    "def multiply(x, y):\n",
    "    return x * y\n",
    "\n",
    "# List of numbers\n",
    "numbers = [1, 2, 3, 4, 5]\n",
    "\n",
    "# Use reduce() to find the product of all elements in the list\n",
    "product = reduce(multiply, numbers)\n",
    "\n",
    "# Print the result\n",
    "print(\"Numbers:\", numbers)\n",
    "print(\"Product:\", product)\n"
   ]
  },
  {
   "cell_type": "markdown",
   "id": "b881e916-f545-4893-bdf9-8fb47dc8161b",
   "metadata": {},
   "source": [
    "## Function Documentation and Best Practices:"
   ]
  },
  {
   "cell_type": "markdown",
   "id": "8530f038-e038-4fc2-8a17-b4156e9ec1e5",
   "metadata": {},
   "source": [
    "## Question No.1"
   ]
  },
  {
   "cell_type": "code",
   "execution_count": 26,
   "id": "03454316-9d8f-471e-afb2-2e8338e6b7f7",
   "metadata": {},
   "outputs": [
    {
     "name": "stdout",
     "output_type": "stream",
     "text": [
      "Help on function add in module __main__:\n",
      "\n",
      "add(x, y)\n",
      "    This function adds two numbers and returns the result.\n",
      "    \n",
      "    Parameters:\n",
      "    x (int): The first number.\n",
      "    y (int): The second number.\n",
      "    \n",
      "    Returns:\n",
      "    int: The sum of x and y.\n",
      "\n"
     ]
    }
   ],
   "source": [
    "def add(x, y):\n",
    "    \"\"\"\n",
    "    This function adds two numbers and returns the result.\n",
    "\n",
    "    Parameters:\n",
    "    x (int): The first number.\n",
    "    y (int): The second number.\n",
    "\n",
    "    Returns:\n",
    "    int: The sum of x and y.\n",
    "    \"\"\"\n",
    "    return x + y\n",
    "\n",
    "help(add)  # Display the docstring of the 'add' function\n"
   ]
  },
  {
   "cell_type": "code",
   "execution_count": 27,
   "id": "b933fbf2-f566-4028-ac84-04d70ca265d5",
   "metadata": {},
   "outputs": [
    {
     "name": "stdout",
     "output_type": "stream",
     "text": [
      "\n",
      "    This function adds two numbers and returns the result.\n",
      "\n",
      "    Parameters:\n",
      "    x (int): The first number.\n",
      "    y (int): The second number.\n",
      "\n",
      "    Returns:\n",
      "    int: The sum of x and y.\n",
      "    \n"
     ]
    }
   ],
   "source": [
    "print(add.__doc__)  # Print the docstring of the 'add' function"
   ]
  },
  {
   "cell_type": "markdown",
   "id": "d0699ce2-e742-4e62-9eda-c775bab66ad5",
   "metadata": {},
   "source": [
    "## Question No.2"
   ]
  },
  {
   "cell_type": "code",
   "execution_count": null,
   "id": "bee1f7ab-a4e4-4eb4-a481-50ed4630b932",
   "metadata": {},
   "outputs": [],
   "source": [
    "# Use Descriptive Names:\n",
    "# Good\n",
    "def calculate_average_score(student_scores):\n",
    "    # ...\n",
    "\n",
    "# Avoid\n",
    "def calc_avg(scr):\n",
    "    # ...\n"
   ]
  },
  {
   "cell_type": "code",
   "execution_count": null,
   "id": "0af114d8-b2c1-4d22-ae7c-f26271addd65",
   "metadata": {},
   "outputs": [],
   "source": [
    "'''Adhere to the Python Enhancement Proposal 8 (PEP 8) style guide for naming conventions.\n",
    "    Function names should be lowercase with words separated by underscores.\n",
    "    Variable names should also be lowercase with words separated by underscores'''\n",
    "# PEP 8-compliant\n",
    "def calculate_average_score(student_scores):\n",
    "    # ...\n",
    "\n",
    "student_name = \"John Doe\"\n"
   ]
  },
  {
   "cell_type": "code",
   "execution_count": null,
   "id": "85bc239e-c946-4b54-b6e1-93c8d87414dc",
   "metadata": {},
   "outputs": [],
   "source": [
    "'''Use Meaningful Variable Names:\n",
    "\n",
    "    Variables should have names that clearly convey their purpose.\n",
    "    Avoid using single-letter variable names unless they represent loop indices.'''\n",
    "# Good\n",
    "total_students = 100\n",
    "\n",
    "# Avoid\n",
    "t = 100\n"
   ]
  },
  {
   "cell_type": "code",
   "execution_count": null,
   "id": "a658f892-b0ed-4e69-908f-8d649b8db5bf",
   "metadata": {},
   "outputs": [],
   "source": [
    "'''Avoid Using Reserved Words:\n",
    "\n",
    "    Do not use Python's reserved words (e.g., if, while, class, for) as variable or function names.\n",
    "    Follow Conventions for Constants:\n",
    "\n",
    "    If you have constants, use uppercase letters with underscores to name them.'''\n",
    "\n",
    "MAX_ATTEMPTS = 3\n"
   ]
  },
  {
   "cell_type": "code",
   "execution_count": null,
   "id": "6c0d8c5a-1d80-49ff-9ab6-b44bf2a0832b",
   "metadata": {},
   "outputs": [],
   "source": [
    "# Use Verbs for Function Names\n",
    "# Good\n",
    "def calculate_average_score(student_scores):\n",
    "    # ...\n",
    "\n",
    "# Avoid\n",
    "def student_scores():\n",
    "    # ...\n"
   ]
  },
  {
   "cell_type": "code",
   "execution_count": null,
   "id": "6afe4f30-5ede-4c22-a358-488de16042a4",
   "metadata": {},
   "outputs": [],
   "source": [
    "#Use Nouns for Variables:\n",
    "Variable names should typically be nouns or noun phrases that describe what the variable represents.\n",
    "\n",
    "# Good\n",
    "student_name = \"John Doe\"\n",
    "\n",
    "# Avoid\n",
    "name_of_the_student = \"John Doe\""
   ]
  },
  {
   "cell_type": "code",
   "execution_count": null,
   "id": "b017e12f-a713-4f7a-b80f-510bd0b1fc44",
   "metadata": {},
   "outputs": [],
   "source": [
    "#Avoid Using Single Underscores as a Prefix\n",
    "# Use CamelCase for Class Names\n",
    "\n",
    "class StudentRecord:\n",
    "    # ...\n"
   ]
  }
 ],
 "metadata": {
  "kernelspec": {
   "display_name": "Python 3 (ipykernel)",
   "language": "python",
   "name": "python3"
  },
  "language_info": {
   "codemirror_mode": {
    "name": "ipython",
    "version": 3
   },
   "file_extension": ".py",
   "mimetype": "text/x-python",
   "name": "python",
   "nbconvert_exporter": "python",
   "pygments_lexer": "ipython3",
   "version": "3.10.8"
  }
 },
 "nbformat": 4,
 "nbformat_minor": 5
}
