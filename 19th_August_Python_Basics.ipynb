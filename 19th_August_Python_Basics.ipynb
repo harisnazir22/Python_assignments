{
 "cells": [
  {
   "cell_type": "markdown",
   "id": "96b248ab-f26e-42c1-9a2a-34211923ff05",
   "metadata": {},
   "source": [
    "# Python Basic Variables"
   ]
  },
  {
   "cell_type": "markdown",
   "id": "d0f86e48-8d67-4592-af26-3b0cc19b37ad",
   "metadata": {},
   "source": [
    "## Question No.1"
   ]
  },
  {
   "cell_type": "code",
   "execution_count": 1,
   "id": "6207560c-6dac-432b-8e30-d1943f1ee987",
   "metadata": {},
   "outputs": [
    {
     "name": "stdout",
     "output_type": "stream",
     "text": [
      "10\n",
      "15\n"
     ]
    }
   ],
   "source": [
    "x = 10\n",
    "y = 15\n",
    "x = x + y \n",
    "y = x - y\n",
    "print(y)\n",
    "x = x -y\n",
    "print(x)\n"
   ]
  },
  {
   "cell_type": "markdown",
   "id": "6f62505a-20ef-4f66-ac47-15b98b5e80c3",
   "metadata": {},
   "source": [
    "## Question No.2"
   ]
  },
  {
   "cell_type": "code",
   "execution_count": 3,
   "id": "b7afd0c0-a365-4b2a-bb1f-caeb2603c41e",
   "metadata": {},
   "outputs": [
    {
     "name": "stdin",
     "output_type": "stream",
     "text": [
      "Enter length 7\n"
     ]
    }
   ],
   "source": [
    "length = int(input(\"Enter length\"))"
   ]
  },
  {
   "cell_type": "code",
   "execution_count": 4,
   "id": "4645e438-e1aa-4fcb-ab68-83f73b1a7146",
   "metadata": {},
   "outputs": [
    {
     "name": "stdin",
     "output_type": "stream",
     "text": [
      "Enter width 9\n"
     ]
    }
   ],
   "source": [
    "width = int(input(\"Enter width\"))"
   ]
  },
  {
   "cell_type": "code",
   "execution_count": 5,
   "id": "ceedd2cb-1a92-479a-b65c-8cf840b74120",
   "metadata": {},
   "outputs": [
    {
     "name": "stdout",
     "output_type": "stream",
     "text": [
      "63\n"
     ]
    }
   ],
   "source": [
    "area = length * width \n",
    "print(area)"
   ]
  },
  {
   "cell_type": "markdown",
   "id": "ac8019d3-23ff-42c7-bb6e-f23b9e6f71a4",
   "metadata": {},
   "source": [
    "## Question No.3"
   ]
  },
  {
   "cell_type": "code",
   "execution_count": 6,
   "id": "4fa0a2f9-7040-40f3-b2cb-a95112f4e8ac",
   "metadata": {},
   "outputs": [
    {
     "name": "stdin",
     "output_type": "stream",
     "text": [
      "Enter temperature in Celsius 37\n"
     ]
    }
   ],
   "source": [
    "temp_cel = int(input(\"Enter temperature in Celsius\"))"
   ]
  },
  {
   "cell_type": "code",
   "execution_count": 7,
   "id": "6631917e-37eb-469e-89fb-458fcbb16e0b",
   "metadata": {},
   "outputs": [
    {
     "name": "stdout",
     "output_type": "stream",
     "text": [
      "temperature in fahrenheit is: 98.6\n"
     ]
    }
   ],
   "source": [
    " fahrenheit = (temp_cel * 9/5) + 32\n",
    "print(f\"temperature in fahrenheit is: {fahrenheit}\")"
   ]
  },
  {
   "cell_type": "markdown",
   "id": "cfac2baf-0574-4863-9de9-9d6d394c0337",
   "metadata": {},
   "source": [
    "# String Based Questions"
   ]
  },
  {
   "cell_type": "markdown",
   "id": "c54d9b28-f3ce-488a-a1bc-c31251fe7598",
   "metadata": {},
   "source": [
    "## Question No.1"
   ]
  },
  {
   "cell_type": "code",
   "execution_count": 8,
   "id": "ebc540f4-1a8c-4d40-a7b5-f752fb5429e1",
   "metadata": {},
   "outputs": [
    {
     "name": "stdin",
     "output_type": "stream",
     "text": [
      "Enter the string:  haris nazir\n"
     ]
    }
   ],
   "source": [
    "my_string = input(\"Enter the string: \")"
   ]
  },
  {
   "cell_type": "code",
   "execution_count": 9,
   "id": "7cad1cb6-67c3-4524-b58e-13d9da86e970",
   "metadata": {},
   "outputs": [
    {
     "name": "stdout",
     "output_type": "stream",
     "text": [
      "The length of the string is: 11\n"
     ]
    }
   ],
   "source": [
    "string_len = len(my_string)\n",
    "print(f\"The length of the string is: {string_len}\")"
   ]
  },
  {
   "cell_type": "markdown",
   "id": "eb7143a6-8ffa-4c22-88ea-9cf8f709e90f",
   "metadata": {},
   "source": [
    "## Question No.2"
   ]
  },
  {
   "cell_type": "code",
   "execution_count": 10,
   "id": "2b69dfb3-f396-47c4-b9a4-a29e3a78bec8",
   "metadata": {},
   "outputs": [
    {
     "name": "stdin",
     "output_type": "stream",
     "text": [
      "Enter the sentence:  haris nazir lone\n"
     ]
    }
   ],
   "source": [
    "my_sentence = input(\"Enter the sentence: \")"
   ]
  },
  {
   "cell_type": "code",
   "execution_count": 11,
   "id": "3e653e57-f5de-40ce-be6f-05b5e3255b68",
   "metadata": {},
   "outputs": [
    {
     "name": "stdout",
     "output_type": "stream",
     "text": [
      "The no.of vowels in the given no. are: 5\n"
     ]
    }
   ],
   "source": [
    "a = my_sentence.count('a')\n",
    "b = my_sentence.count('e')\n",
    "c = my_sentence.count('i')\n",
    "d = my_sentence.count('0')\n",
    "e = my_sentence.count('u')\n",
    "f = my_sentence.count('A')\n",
    "g = my_sentence.count('E')\n",
    "h = my_sentence.count('I')\n",
    "i = my_sentence.count('O')\n",
    "j = my_sentence.count('U')\n",
    "print(f\"The no.of vowels in the given no. are: {a+b+c+d+e+f+g+h+i+j}\")"
   ]
  },
  {
   "cell_type": "markdown",
   "id": "7c9fba88-4da2-43a2-a11a-e28b3b868d56",
   "metadata": {},
   "source": [
    "## Questin No.3"
   ]
  },
  {
   "cell_type": "code",
   "execution_count": 12,
   "id": "7ac328a3-a025-46d1-8e1c-a0ba8287f05f",
   "metadata": {},
   "outputs": [
    {
     "name": "stdin",
     "output_type": "stream",
     "text": [
      "Enter the string:  haris nazir lone\n"
     ]
    }
   ],
   "source": [
    "my_string = input(\"Enter the string: \")"
   ]
  },
  {
   "cell_type": "code",
   "execution_count": 13,
   "id": "43796948-764a-4ef2-9b1a-a46f419c396a",
   "metadata": {},
   "outputs": [
    {
     "name": "stdout",
     "output_type": "stream",
     "text": [
      "The reversed string is:  enol rizan sirah\n"
     ]
    }
   ],
   "source": [
    "print(\"The reversed string is: \", my_string[::-1])"
   ]
  },
  {
   "cell_type": "markdown",
   "id": "34d1ab2d-848c-44f6-9d89-7ec7e475416e",
   "metadata": {},
   "source": [
    "## Question No.4"
   ]
  },
  {
   "cell_type": "code",
   "execution_count": 15,
   "id": "a3822316-9fe5-4043-9be8-f222107fb610",
   "metadata": {},
   "outputs": [
    {
     "name": "stdin",
     "output_type": "stream",
     "text": [
      "Enter the string:  harisnazirlone\n"
     ]
    }
   ],
   "source": [
    "my_string = input(\"Enter the string: \")"
   ]
  },
  {
   "cell_type": "code",
   "execution_count": 16,
   "id": "3ebdc160-b442-482b-ac3e-ea360f62c2cc",
   "metadata": {},
   "outputs": [
    {
     "name": "stdout",
     "output_type": "stream",
     "text": [
      "It is not a Palendrome\n"
     ]
    }
   ],
   "source": [
    "my_revstring = my_string[::-1]\n",
    "if my_string == my_revstring:\n",
    "    print(\"It is a Palendrome\")\n",
    "else:\n",
    "    print(\"It is not a Palendrome\")"
   ]
  },
  {
   "cell_type": "markdown",
   "id": "76da4cb2-ac0e-4039-9872-4ff8ce6c1f56",
   "metadata": {},
   "source": [
    "## Question No.5"
   ]
  },
  {
   "cell_type": "code",
   "execution_count": 19,
   "id": "34746057-b1b3-4c9b-a8aa-a6137e369348",
   "metadata": {},
   "outputs": [
    {
     "name": "stdin",
     "output_type": "stream",
     "text": [
      "Enter the string:  haris nazir lone\n"
     ]
    }
   ],
   "source": [
    "my_string = input(\"Enter the string: \")"
   ]
  },
  {
   "cell_type": "code",
   "execution_count": 20,
   "id": "8f6de31f-6436-4085-8879-cc0b142cd65b",
   "metadata": {},
   "outputs": [
    {
     "name": "stdout",
     "output_type": "stream",
     "text": [
      "The string without spaces is:  harisnazirlone\n"
     ]
    }
   ],
   "source": [
    "string1 = my_string.split()\n",
    "print(\"The string without spaces is: \", \"\".join(string1))"
   ]
  },
  {
   "cell_type": "code",
   "execution_count": 23,
   "id": "331bc293-deb4-4675-ac2b-8a3662be1bd3",
   "metadata": {},
   "outputs": [
    {
     "name": "stdout",
     "output_type": "stream",
     "text": [
      "The string without spaces is:  harisnazirlone\n"
     ]
    }
   ],
   "source": [
    "print(\"The string without spaces is: \",my_string.replace(\" \", \"\"))"
   ]
  },
  {
   "cell_type": "code",
   "execution_count": null,
   "id": "0b2887ce-36b8-4bae-b137-a583e06d65d8",
   "metadata": {},
   "outputs": [],
   "source": []
  }
 ],
 "metadata": {
  "kernelspec": {
   "display_name": "Python 3 (ipykernel)",
   "language": "python",
   "name": "python3"
  },
  "language_info": {
   "codemirror_mode": {
    "name": "ipython",
    "version": 3
   },
   "file_extension": ".py",
   "mimetype": "text/x-python",
   "name": "python",
   "nbconvert_exporter": "python",
   "pygments_lexer": "ipython3",
   "version": "3.10.8"
  }
 },
 "nbformat": 4,
 "nbformat_minor": 5
}
