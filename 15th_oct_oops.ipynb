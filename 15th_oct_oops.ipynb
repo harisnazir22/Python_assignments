{
 "cells": [
  {
   "cell_type": "markdown",
   "id": "e8635344-0684-44a5-8865-fc1b7c59cc2e",
   "metadata": {},
   "source": [
    "# constructors"
   ]
  },
  {
   "cell_type": "markdown",
   "id": "dec2063b-6790-4261-a729-074c55f1b3eb",
   "metadata": {},
   "source": [
    "## 1. What is a constructor in Python? Explain its purpose and usage."
   ]
  },
  {
   "cell_type": "code",
   "execution_count": 1,
   "id": "77078340-366a-496c-a84d-15e455328178",
   "metadata": {},
   "outputs": [
    {
     "name": "stdout",
     "output_type": "stream",
     "text": [
      "0\n",
      "Alice 30\n",
      "Bob 25\n"
     ]
    }
   ],
   "source": [
    "'''In Python, a constructor is a special method that gets called when an object of a class is instantiated or created. \n",
    "   It is used to initialize the attributes or properties of the object. The primary purpose of a constructor is to set\n",
    "   up the initial state of an object, allowing you to define and assign values to the object's attributes.'''\n",
    "\n",
    "# default constructor\n",
    "class MyClass:\n",
    "    def __init__(self):\n",
    "        self.my_attribute = 0\n",
    "\n",
    "# Creating an object of MyClass\n",
    "obj = MyClass()\n",
    "print(obj.my_attribute)  # Outputs: 0\n",
    "\n",
    "# paramaterised constructor\n",
    "class Person:\n",
    "    def __init__(self, name, age):\n",
    "        self.name = name\n",
    "        self.age = age\n",
    "\n",
    "# Creating two objects of Person with different attribute values\n",
    "person1 = Person(\"Alice\", 30)\n",
    "person2 = Person(\"Bob\", 25)\n",
    "\n",
    "print(person1.name, person1.age)  # Outputs: Alice 30\n",
    "print(person2.name, person2.age)  # Outputs: Bob 25\n"
   ]
  },
  {
   "cell_type": "markdown",
   "id": "32f156d9-6ab2-4a44-8a36-fb0d93333665",
   "metadata": {},
   "source": [
    "## 2. Differentiate between a parameterless constructor and a parameterized constructor in Python."
   ]
  },
  {
   "cell_type": "code",
   "execution_count": 2,
   "id": "266c4094-f3ae-43f4-8079-0eff1603835d",
   "metadata": {},
   "outputs": [
    {
     "name": "stdout",
     "output_type": "stream",
     "text": [
      "0\n",
      "Alice 30\n",
      "Bob 25\n"
     ]
    }
   ],
   "source": [
    "'''The main difference between a parameterless constructor and a parameterized constructor lies in whether\n",
    "   or not they accept parameters.'''\n",
    "\n",
    "# default constructor\n",
    "class MyClass:\n",
    "    def __init__(self):\n",
    "        self.my_attribute = 0\n",
    "\n",
    "# Creating an object of MyClass\n",
    "obj = MyClass()\n",
    "print(obj.my_attribute)  # Outputs: 0\n",
    "\n",
    "# paramaterised constructor\n",
    "class Person:\n",
    "    def __init__(self, name, age):\n",
    "        self.name = name\n",
    "        self.age = age\n",
    "\n",
    "# Creating two objects of Person with different attribute values\n",
    "person1 = Person(\"Alice\", 30)\n",
    "person2 = Person(\"Bob\", 25)\n",
    "\n",
    "print(person1.name, person1.age)  # Outputs: Alice 30\n",
    "print(person2.name, person2.age)  # Outputs: Bob 25"
   ]
  },
  {
   "cell_type": "markdown",
   "id": "76d6c5f1-f4fa-484f-a249-4a256f16655a",
   "metadata": {},
   "source": [
    "## 3. How do you define a constructor in a Python class? Provide an example."
   ]
  },
  {
   "cell_type": "code",
   "execution_count": 3,
   "id": "42732378-5df3-4767-8004-896ac63ff3ba",
   "metadata": {},
   "outputs": [
    {
     "name": "stdout",
     "output_type": "stream",
     "text": [
      "Alice 30\n",
      "Bob 25\n"
     ]
    }
   ],
   "source": [
    "'''In Python, a constructor is defined as a special method within a class, and it is used to initialize the\n",
    "   attributes or properties of objects when they are created. The most common constructor in Python is\n",
    "   the __init__ method, which is also known as the \"magic method\" or \"dunder method.\"'''\n",
    "\n",
    "class Person:\n",
    "    def __init__(self, name, age):\n",
    "        self.name = name\n",
    "        self.age = age\n",
    "\n",
    "# Create two objects of the Person class\n",
    "person1 = Person(\"Alice\", 30)\n",
    "person2 = Person(\"Bob\", 25)\n",
    "\n",
    "# Access object attributes\n",
    "print(person1.name, person1.age)  # Outputs: Alice 30\n",
    "print(person2.name, person2.age)  # Outputs: Bob 25\n"
   ]
  },
  {
   "cell_type": "markdown",
   "id": "adf048d9-cad5-4258-a67d-247e42c7f3ad",
   "metadata": {},
   "source": [
    "## 4. Explain the `__init__` method in Python and its role in constructors."
   ]
  },
  {
   "cell_type": "code",
   "execution_count": 4,
   "id": "95760d66-0080-4b93-9403-f125b2f1c6ca",
   "metadata": {},
   "outputs": [],
   "source": [
    "'''The __init__ method in Python is a special method or dunder method (short for \"double underscore init\") that\n",
    "   plays a critical role in defining constructors for classes. The __init__ method is automatically called\n",
    "   when an object of a class is created. Its primary purpose is to initialize the attributes or properties\n",
    "   of the object, allowing you to set up the initial state of the object.'''\n",
    "\n",
    "class Person:\n",
    "    def __init__(self, name, age):\n",
    "        self.name = name\n",
    "        self.age = age\n"
   ]
  },
  {
   "cell_type": "markdown",
   "id": "055df839-7e0b-4b5d-9272-8d4f9fc5bbde",
   "metadata": {},
   "source": [
    "## 5. In a class named `Person`, create a constructor that initializes the `name` and `age` attributes. Provide an example of creating an object of this class."
   ]
  },
  {
   "cell_type": "code",
   "execution_count": 5,
   "id": "c95ab270-01ba-4c1b-969b-aceac2085b6b",
   "metadata": {},
   "outputs": [
    {
     "name": "stdout",
     "output_type": "stream",
     "text": [
      "Name: Alice\n",
      "Age: 30\n"
     ]
    }
   ],
   "source": [
    "class Person:\n",
    "    def __init__(self, name, age):\n",
    "        self.name = name\n",
    "        self.age = age\n",
    "\n",
    "# Creating a Person object\n",
    "person1 = Person(\"Alice\", 30)\n",
    "\n",
    "# Accessing the attributes\n",
    "print(\"Name:\", person1.name)\n",
    "print(\"Age:\", person1.age)\n"
   ]
  },
  {
   "cell_type": "markdown",
   "id": "c9ec7c51-d5a1-4098-b42c-28291af475e8",
   "metadata": {},
   "source": [
    "## 6. How can you call a constructor explicitly in Python? Give an example."
   ]
  },
  {
   "cell_type": "code",
   "execution_count": 1,
   "id": "c5b3abda-99e4-499b-b295-b4de25bc77c6",
   "metadata": {},
   "outputs": [
    {
     "name": "stdout",
     "output_type": "stream",
     "text": [
      "42\n",
      "123\n"
     ]
    }
   ],
   "source": [
    "# you can call a constructor explicitly by using the __init__ method of a class. \n",
    "\n",
    "class MyClass:\n",
    "    def __init__(self, value):\n",
    "        self.value = value\n",
    "\n",
    "# Create an instance of MyClass\n",
    "obj = MyClass(42)  # This implicitly calls the constructor\n",
    "\n",
    "# Now, let's call the constructor explicitly\n",
    "new_obj = MyClass.__new__(MyClass)  # Create an instance without invoking the constructor\n",
    "MyClass.__init__(new_obj, 123)      # Call the constructor explicitly\n",
    "\n",
    "print(obj.value)       # Output: 42\n",
    "print(new_obj.value)   # Output: 123\n"
   ]
  },
  {
   "cell_type": "code",
   "execution_count": 2,
   "id": "68e48e32-27f7-4e3b-ad7f-f825f5b342ae",
   "metadata": {},
   "outputs": [
    {
     "name": "stdout",
     "output_type": "stream",
     "text": [
      "Initializing a connection to the 'MySQL' database.\n",
      "Initializing a connection to the 'SQLite' database.\n",
      "Initializing a connection to the 'MySQL' database.\n",
      "False\n",
      "True\n"
     ]
    }
   ],
   "source": [
    "class DatabaseConnection:\n",
    "    _instances = {}  # A dictionary to store instances\n",
    "\n",
    "    def __new__(cls, database_name):\n",
    "        if database_name not in cls._instances:\n",
    "            instance = super(DatabaseConnection, cls).__new__(cls)\n",
    "            instance.database_name = database_name\n",
    "            cls._instances[database_name] = instance\n",
    "        else:\n",
    "            instance = cls._instances[database_name]\n",
    "        return instance\n",
    "\n",
    "    def __init__(self, database_name):\n",
    "        print(f\"Initializing a connection to the '{self.database_name}' database.\")\n",
    "\n",
    "# Create database connections\n",
    "connection1 = DatabaseConnection(\"MySQL\")\n",
    "connection2 = DatabaseConnection(\"SQLite\")\n",
    "connection3 = DatabaseConnection(\"MySQL\")\n",
    "\n",
    "# When the same database is requested, it returns the existing connection\n",
    "print(connection1 is connection2)  # Output: False (Different databases)\n",
    "print(connection1 is connection3)  # Output: True (Same database)\n"
   ]
  },
  {
   "cell_type": "markdown",
   "id": "72f14387-a622-485c-b5d1-e17a362b8762",
   "metadata": {},
   "source": [
    "## 7. What is the significance of the `self` parameter in Python constructors? Explain with an example."
   ]
  },
  {
   "cell_type": "code",
   "execution_count": 3,
   "id": "6601fa39-901d-40fb-93cd-9a7664b2ac85",
   "metadata": {},
   "outputs": [
    {
     "name": "stdout",
     "output_type": "stream",
     "text": [
      "Alice\n",
      "My name is Bob, and I am 25 years old.\n"
     ]
    }
   ],
   "source": [
    "'''The self parameter in Python constructors (and instance methods) is a conventional name for the first parameter\n",
    "   that refers to the instance of the class being created or operated on. It is a reference to the instance itself\n",
    "   and allows you to access and manipulate instance-specific attributes and methods within the class. The use of self\n",
    "   is a Python convention, and you can name it differently, but using self is a widely followed convention and is recommended\n",
    "   for readability and consistency.'''\n",
    "\n",
    "class Person:\n",
    "    def __init__(self, name, age):\n",
    "        self.name = name  # instance attribute\n",
    "        self.age = age    # instance attribute\n",
    "\n",
    "    def introduce(self):\n",
    "        print(f\"My name is {self.name}, and I am {self.age} years old.\")\n",
    "\n",
    "# Creating instances of the Person class\n",
    "person1 = Person(\"Alice\", 30)\n",
    "person2 = Person(\"Bob\", 25)\n",
    "\n",
    "# Accessing instance attributes and calling an instance method\n",
    "print(person1.name)  # Accessing the 'name' attribute of person1\n",
    "person2.introduce()  # Calling the 'introduce' method for person2\n"
   ]
  },
  {
   "cell_type": "markdown",
   "id": "5d6d4afa-0214-42ba-995d-f9809cb45c7f",
   "metadata": {},
   "source": [
    "## 8. Discuss the concept of default constructors in Python. When are they used?"
   ]
  },
  {
   "cell_type": "code",
   "execution_count": 4,
   "id": "a594fa36-50e6-484e-9885-830bc0e0f6d3",
   "metadata": {},
   "outputs": [],
   "source": [
    "'''default constructors in Python are provided automatically by the language if you don't define your own __init__ method.\n",
    "   They don't perform any special initialization, and you may need to handle attribute initialization within\n",
    "   your class methods or externally, depending on your class's requirements.'''\n",
    "\n",
    "class MyClass:\n",
    "    pass\n",
    "\n",
    "# No constructor defined, so a default constructor is used\n",
    "\n",
    "obj = MyClass()\n"
   ]
  },
  {
   "cell_type": "markdown",
   "id": "9e2d9223-0779-47aa-b39c-dc09ddea847a",
   "metadata": {},
   "source": [
    "## 9. Create a Python class called `Rectangle` with a constructor that initializes the `width` and `height`attributes. Provide a method to calculate the area of the rectangle."
   ]
  },
  {
   "cell_type": "code",
   "execution_count": 5,
   "id": "cb839506-899d-45b1-867e-caa58e1c2987",
   "metadata": {},
   "outputs": [
    {
     "name": "stdout",
     "output_type": "stream",
     "text": [
      "The area of the rectangle is 50 square units.\n"
     ]
    }
   ],
   "source": [
    "class Rectangle:\n",
    "    def __init__(self, width, height):\n",
    "        self.width = width\n",
    "        self.height = height\n",
    "\n",
    "    def calculate_area(self):\n",
    "        return self.width * self.height\n",
    "\n",
    "# Create a Rectangle instance\n",
    "rect = Rectangle(5, 10)\n",
    "\n",
    "# Calculate and print the area of the rectangle\n",
    "area = rect.calculate_area()\n",
    "print(f\"The area of the rectangle is {area} square units.\")\n"
   ]
  },
  {
   "cell_type": "markdown",
   "id": "9c2d710f-c7d3-4521-b47b-b72e393560f5",
   "metadata": {},
   "source": [
    "## 10. How can you have multiple constructors in a Python class? Explain with an example."
   ]
  },
  {
   "cell_type": "code",
   "execution_count": 6,
   "id": "cc78ca8c-5297-4cd6-ac0f-083988ba39d2",
   "metadata": {},
   "outputs": [
    {
     "name": "stdout",
     "output_type": "stream",
     "text": [
      "Value1 Default Value\n",
      "Value2 Value3\n"
     ]
    }
   ],
   "source": [
    "'''In Python, you can't have multiple constructors in the same way you can in some other languages like Java or C++.\n",
    "   However, you can achieve similar behavior by using default parameter values and optional arguments in the \n",
    "   constructor (the __init__ method) to create different constructor-like behaviors.'''\n",
    "\n",
    "class MyClass:\n",
    "    def __init__(self, param1, param2=None):\n",
    "        if param2 is None:\n",
    "            # Constructor with one argument\n",
    "            self.param1 = param1\n",
    "            self.param2 = \"Default Value\"\n",
    "        else:\n",
    "            # Constructor with two arguments\n",
    "            self.param1 = param1\n",
    "            self.param2 = param2\n",
    "\n",
    "# Create instances using different \"constructors\"\n",
    "obj1 = MyClass(\"Value1\")  # Uses the constructor with one argument\n",
    "obj2 = MyClass(\"Value2\", \"Value3\")  # Uses the constructor with two arguments\n",
    "\n",
    "print(obj1.param1, obj1.param2)  # Output: Value1 Default Value\n",
    "print(obj2.param1, obj2.param2)  # Output: Value2 Value3\n"
   ]
  },
  {
   "cell_type": "code",
   "execution_count": 7,
   "id": "6e6e8e68-f92a-4fc1-a72a-3678172e66a7",
   "metadata": {},
   "outputs": [],
   "source": [
    "class Point:\n",
    "    def __init__(self, **kwargs):\n",
    "        self.x = kwargs.get(\"x\", 0)\n",
    "        self.y = kwargs.get(\"y\", 0)\n",
    "\n",
    "# Create a new Point object with the default values.\n",
    "point1 = Point()\n",
    "\n",
    "# Create a new Point object with the specified values.\n",
    "point2 = Point(x=10, y=20)\n"
   ]
  },
  {
   "cell_type": "code",
   "execution_count": 4,
   "id": "93cf8dde-a106-4ba6-a14a-55bf8372c8e7",
   "metadata": {},
   "outputs": [
    {
     "name": "stdout",
     "output_type": "stream",
     "text": [
      "10 20\n",
      "0 0\n"
     ]
    }
   ],
   "source": [
    "class Point:\n",
    "    def __init__(self, x, y):\n",
    "        self.x = x\n",
    "        self.y = y\n",
    "\n",
    "    @classmethod\n",
    "    def from_coordinates(cls, x, y):\n",
    "        return cls(x, y)\n",
    "\n",
    "    @classmethod\n",
    "    def from_origin(cls):\n",
    "        return cls(0, 0)\n",
    "\n",
    "# Create a new Point object from the specified coordinates.\n",
    "point1 = Point.from_coordinates(10, 20)\n",
    "\n",
    "# Create a new Point object at the origin.\n",
    "point2 = Point.from_origin()\n",
    "\n",
    "# Access the coordinates of the points\n",
    "print(point1.x, point1.y)  # Output: 10 20\n",
    "print(point2.x, point2.y)  # Output: 0 0\n"
   ]
  },
  {
   "cell_type": "markdown",
   "id": "8b7fdfbf-a1a1-427b-966a-1e6308a8f3d0",
   "metadata": {},
   "source": [
    "## 11. What is method overloading, and how is it related to constructors in Python?"
   ]
  },
  {
   "cell_type": "code",
   "execution_count": 5,
   "id": "e4e91f9d-b6b2-4eb5-b38c-368672b7313a",
   "metadata": {},
   "outputs": [
    {
     "name": "stdout",
     "output_type": "stream",
     "text": [
      "Value1 None\n",
      "Value2 Value3\n"
     ]
    }
   ],
   "source": [
    "'''in Python, method overloading is not directly supported in the same way as in languages like Java or C++.\n",
    "   Python does not support method overloading based on the number or types of arguments because it allows you to\n",
    "   define multiple functions or methods with the same name, but only the latest defined one will be used.'''\n",
    "\n",
    "class MyClass:\n",
    "    def __init__(self, param1, param2=None):\n",
    "        self.param1 = param1\n",
    "        self.param2 = param2\n",
    "\n",
    "# Create instances with different constructor variations\n",
    "obj1 = MyClass(\"Value1\")\n",
    "obj2 = MyClass(\"Value2\", \"Value3\")\n",
    "\n",
    "print(obj1.param1, obj1.param2)  # Output: Value1 None\n",
    "print(obj2.param1, obj2.param2)  # Output: Value2 Value3\n"
   ]
  },
  {
   "cell_type": "code",
   "execution_count": 6,
   "id": "b355b39a-6dec-441c-9285-5edf5452f263",
   "metadata": {},
   "outputs": [
    {
     "name": "stdout",
     "output_type": "stream",
     "text": [
      "Value1 Default Param2 Value\n",
      "Value2 Value3\n",
      "Value4 Value5\n"
     ]
    }
   ],
   "source": [
    "class MyClass:\n",
    "    def __init__(self, *args, **kwargs):\n",
    "        if args:\n",
    "            self.param1 = args[0]\n",
    "            if len(args) > 1:\n",
    "                self.param2 = args[1]\n",
    "            else:\n",
    "                self.param2 = \"Default Param2 Value\"\n",
    "        else:\n",
    "            self.param1 = kwargs.get(\"param1\", \"Default Param1 Value\")\n",
    "            self.param2 = kwargs.get(\"param2\", \"Default Param2 Value\")\n",
    "\n",
    "# Create instances with different constructor variations\n",
    "obj1 = MyClass(\"Value1\")  # Uses constructor with one positional argument\n",
    "obj2 = MyClass(\"Value2\", \"Value3\")  # Uses constructor with two positional arguments\n",
    "obj3 = MyClass(param1=\"Value4\", param2=\"Value5\")  # Uses constructor with two keyword arguments\n",
    "\n",
    "print(obj1.param1, obj1.param2)  # Output: Value1 Default Param2 Value\n",
    "print(obj2.param1, obj2.param2)  # Output: Value2 Value3\n",
    "print(obj3.param1, obj3.param2)  # Output: Value4 Value5\n"
   ]
  },
  {
   "cell_type": "markdown",
   "id": "15fd698c-f5b2-4b9e-b19a-729d34ac10dd",
   "metadata": {},
   "source": [
    "## 12. Explain the use of the `super()` function in Python constructors. Provide an example."
   ]
  },
  {
   "cell_type": "code",
   "execution_count": 7,
   "id": "65242313-4d76-48f8-a4b6-200749892468",
   "metadata": {},
   "outputs": [
    {
     "name": "stdout",
     "output_type": "stream",
     "text": [
      "Alice\n",
      "30\n"
     ]
    }
   ],
   "source": [
    "class Parent:\n",
    "    def __init__(self, name):\n",
    "        self.name = name\n",
    "\n",
    "class Child(Parent):\n",
    "    def __init__(self, name, age):\n",
    "        super().__init__(name)  # Call the parent class constructor\n",
    "        self.age = age\n",
    "\n",
    "# Create an instance of the Child class\n",
    "child = Child(\"Alice\", 30)\n",
    "\n",
    "print(child.name)  # Output: Alice\n",
    "print(child.age)   # Output: 30\n"
   ]
  },
  {
   "cell_type": "markdown",
   "id": "10b9bd1f-5c3a-443c-a3a2-06badffb663e",
   "metadata": {},
   "source": [
    "## 13. Create a class called `Book` with a constructor that initializes the `title`, `author`, and `published_year`attributes. Provide a method to display book details."
   ]
  },
  {
   "cell_type": "code",
   "execution_count": 8,
   "id": "c89860c6-0b02-4c45-9db9-844b24e518ba",
   "metadata": {},
   "outputs": [
    {
     "name": "stdout",
     "output_type": "stream",
     "text": [
      "Title: The Great Gatsby\n",
      "Author: F. Scott Fitzgerald\n",
      "Published Year: 1925\n"
     ]
    }
   ],
   "source": [
    "class Book:\n",
    "    def __init__(self, title, author, published_year):\n",
    "        self.title = title\n",
    "        self.author = author\n",
    "        self.published_year = published_year\n",
    "\n",
    "    def display_details(self):\n",
    "        print(f\"Title: {self.title}\")\n",
    "        print(f\"Author: {self.author}\")\n",
    "        print(f\"Published Year: {self.published_year}\")\n",
    "\n",
    "# Create an instance of the Book class\n",
    "book1 = Book(\"The Great Gatsby\", \"F. Scott Fitzgerald\", 1925)\n",
    "\n",
    "# Display the book details\n",
    "book1.display_details()\n"
   ]
  },
  {
   "cell_type": "markdown",
   "id": "58f302f7-ccc9-47b3-98f6-5a5b9e7ecde1",
   "metadata": {},
   "source": [
    "## 14. Discuss the differences between constructors and regular methods in Python classes."
   ]
  },
  {
   "cell_type": "code",
   "execution_count": 9,
   "id": "5abc78a7-897c-4b1f-93db-f3ee24296549",
   "metadata": {},
   "outputs": [
    {
     "name": "stdout",
     "output_type": "stream",
     "text": [
      "Alice\n",
      "30\n"
     ]
    }
   ],
   "source": [
    "''' constructors are a special type of method used for object initialization, and they have a predefined name __init__,\n",
    "    while regular methods are standard methods used for encapsulating the behavior and functionality of objects.\n",
    "    Both types of methods are essential in defining the behavior and characteristics of classes and their objects in Python.'''\n",
    "\n",
    "class Person:\n",
    "    def __init__(self, name, age):\n",
    "        self.name = name\n",
    "        self.age = age\n",
    "\n",
    "# Creating an object of the Person class and invoking the constructor\n",
    "person1 = Person(\"Alice\", 30)\n",
    "\n",
    "# Accessing the attributes initialized in the constructor\n",
    "print(person1.name)  # Output: \"Alice\"\n",
    "print(person1.age)   # Output: 30\n",
    "\n",
    "\n"
   ]
  },
  {
   "cell_type": "code",
   "execution_count": 10,
   "id": "4ef1279f-4a02-4578-b77d-a108530ece32",
   "metadata": {},
   "outputs": [
    {
     "name": "stdout",
     "output_type": "stream",
     "text": [
      "8\n",
      "6\n"
     ]
    }
   ],
   "source": [
    "class Calculator:\n",
    "    def add(self, a, b):\n",
    "        return a + b\n",
    "\n",
    "    def subtract(self, a, b):\n",
    "        return a - b\n",
    "\n",
    "# Creating an object of the Calculator class\n",
    "calc = Calculator()\n",
    "\n",
    "# Using regular methods to perform operations\n",
    "result1 = calc.add(5, 3)\n",
    "result2 = calc.subtract(10, 4)\n",
    "\n",
    "print(result1)  # Output: 8\n",
    "print(result2)  # Output: 6\n"
   ]
  },
  {
   "cell_type": "markdown",
   "id": "55dd5ef8-1459-438f-bd45-92e2f18f0b10",
   "metadata": {},
   "source": [
    "## 15. Explain the role of the `self` parameter in instance variable initialization within a constructor."
   ]
  },
  {
   "cell_type": "code",
   "execution_count": 11,
   "id": "d47c3c06-9132-4334-bcf1-6c075b2d1b83",
   "metadata": {},
   "outputs": [],
   "source": [
    "''' the self parameter in a constructor plays a crucial role in instance variable initialization within the constructor.\n",
    "    The self parameter represents the instance of the class that the constructor is being called on. It is a convention,\n",
    "    and you can choose any name for this parameter, but self is widely used and recommended for clarity.'''\n",
    "\n",
    "class Person:\n",
    "    def __init__(self, name, age):\n",
    "        self.name = name  # Initializing the 'name' attribute for this instance\n",
    "        self.age = age    # Initializing the 'age' attribute for this instance\n"
   ]
  },
  {
   "cell_type": "code",
   "execution_count": 12,
   "id": "1948b6f8-1d05-4ed3-8c77-bd9bdaa99537",
   "metadata": {},
   "outputs": [],
   "source": [
    "class Person:\n",
    "    def __init__(self, name, age):\n",
    "        self.name = name\n",
    "        self.age = age\n",
    "\n",
    "    def introduce(self):\n",
    "        return f\"My name is {self.name} and I am {self.age} years old.\"\n"
   ]
  },
  {
   "cell_type": "markdown",
   "id": "54bd543f-5610-4b2a-838d-6eb43d1bda1d",
   "metadata": {},
   "source": [
    "## 16. How do you prevent a class from having multiple instances by using constructors in Python? Provide an example."
   ]
  },
  {
   "cell_type": "code",
   "execution_count": 13,
   "id": "e9673abc-e9c3-4694-a484-6b63f2078514",
   "metadata": {},
   "outputs": [
    {
     "name": "stdout",
     "output_type": "stream",
     "text": [
      "2\n",
      "2\n",
      "True\n"
     ]
    }
   ],
   "source": [
    "'''To prevent a class from having multiple instances (i.e., make it a singleton), you can use the Singleton design pattern.\n",
    "   This pattern ensures that a class has only one instance throughout the lifetime of the program. You achieve this\n",
    "   by controlling the instantiation of objects in the constructor and returning the existing instance if one already exists.'''\n",
    "\n",
    "class Singleton:\n",
    "    _instance = None\n",
    "\n",
    "    def __new__(cls):\n",
    "        if cls._instance is None:\n",
    "            cls._instance = super(Singleton, cls).__new__(cls)\n",
    "            cls._instance.value = 0\n",
    "        return cls._instance\n",
    "\n",
    "    def increment(self):\n",
    "        self.value += 1\n",
    "\n",
    "    def get_value(self):\n",
    "        return self.value\n",
    "\n",
    "\n",
    "# Example usage:\n",
    "s1 = Singleton()\n",
    "s2 = Singleton()\n",
    "\n",
    "s1.increment()\n",
    "s2.increment()\n",
    "\n",
    "print(s1.get_value())  # Output: 2\n",
    "print(s2.get_value())  # Output: 2\n",
    "\n",
    "# s1 and s2 are the same instance:\n",
    "print(s1 is s2)  # Output: True\n"
   ]
  },
  {
   "cell_type": "markdown",
   "id": "914e7a54-1e70-4e7f-b355-205df3ac7b5b",
   "metadata": {},
   "source": [
    "## 17. Create a Python class called `Student` with a constructor that takes a list of subjects as a parameter and initializes the `subjects` attribute."
   ]
  },
  {
   "cell_type": "code",
   "execution_count": 14,
   "id": "42a5499a-9f6f-4338-b6df-91c0ad8fc2a9",
   "metadata": {},
   "outputs": [
    {
     "name": "stdout",
     "output_type": "stream",
     "text": [
      "['Math', 'Science', 'History']\n"
     ]
    }
   ],
   "source": [
    "class Student:\n",
    "    def __init__(self, subjects):\n",
    "        self.subjects = subjects\n",
    "\n",
    "# Example usage:\n",
    "subjects_list = [\"Math\", \"Science\", \"History\"]\n",
    "student1 = Student(subjects_list)\n",
    "\n",
    "# Accessing the subjects attribute\n",
    "print(student1.subjects)  # Output: [\"Math\", \"Science\", \"History\"]\n"
   ]
  },
  {
   "cell_type": "markdown",
   "id": "1e7d8895-8a75-4b85-99ff-273a81318954",
   "metadata": {},
   "source": [
    "## 18. What is the purpose of the `__del__` method in Python classes, and how does it relate to constructors?"
   ]
  },
  {
   "cell_type": "code",
   "execution_count": 15,
   "id": "aa7ba282-875e-4aaa-99b4-99a22edd69a4",
   "metadata": {},
   "outputs": [
    {
     "name": "stdout",
     "output_type": "stream",
     "text": [
      "Resource created\n",
      "Resource destroyed\n"
     ]
    }
   ],
   "source": [
    "''' the __del__ method in Python classes is used for resource cleanup and is called before an object is destroyed.\n",
    "    It is the counterpart to the constructor (__init__) and is responsible for performing cleanup operations,\n",
    "    but it's not always the best choice for resource management due to its unpredictability.(garbage collector)'''\n",
    "    \n",
    "    \n",
    "class Resource:\n",
    "    def __init__(self):\n",
    "        print(\"Resource created\")\n",
    "\n",
    "    def __del__(self):\n",
    "        print(\"Resource destroyed\")\n",
    "\n",
    "# Example usage:\n",
    "resource = Resource()  # Object created\n",
    "del resource  # Object destroyed\n",
    "\n",
    "\n",
    "\n",
    "\n",
    "\n",
    "\n"
   ]
  },
  {
   "cell_type": "markdown",
   "id": "5ea29a6f-9404-4f49-b374-277fe605f91c",
   "metadata": {},
   "source": [
    "## 19. Explain the use of constructor chaining in Python. Provide a practical example."
   ]
  },
  {
   "cell_type": "code",
   "execution_count": 19,
   "id": "a3068c66-ac26-4dc1-ba10-f514f70d141d",
   "metadata": {},
   "outputs": [
    {
     "name": "stdout",
     "output_type": "stream",
     "text": [
      "2023 Toyota Camry\n",
      "2022 Honda Civic\n"
     ]
    }
   ],
   "source": [
    "'''Constructor chaining in Python refers to the ability of one constructor within a class to call another constructor\n",
    "   from the same class. This allows you to reuse code and avoid duplicating initialization logic in multiple constructors.\n",
    "   It can be particularly useful when a class has multiple constructors with different sets of parameters but\n",
    "   shares common initialization code.'''\n",
    "\n",
    "class Vehicle:\n",
    "    def __init__(self, make, model):\n",
    "        self.make = make\n",
    "        self.model = model\n",
    "\n",
    "class Car(Vehicle):\n",
    "    def __init__(self, make, model, year):\n",
    "        super().__init__(make, model)\n",
    "        self.year = year\n",
    "\n",
    "    def get_info(self):\n",
    "        return f\"{self.year} {self.make} {self.model}\"\n",
    "\n",
    "# Example usage:\n",
    "car1 = Car(\"Toyota\", \"Camry\", 2023)\n",
    "print(car1.get_info())  # Output: \"2023 Toyota Camry\"\n",
    "\n",
    "car2 = Car(\"Honda\", \"Civic\", 2022)\n",
    "print(car2.get_info())  # Output: \"2022 Honda Civic\"\n",
    "\n",
    "\n"
   ]
  },
  {
   "cell_type": "markdown",
   "id": "125c289c-f443-49b4-a67f-c492877b979c",
   "metadata": {},
   "source": [
    "## 20. Create a Python class called `Car` with a default constructor that initializes the `make` and `model` attributes. Provide a method to display car information."
   ]
  },
  {
   "cell_type": "code",
   "execution_count": 20,
   "id": "cef03eb3-45d7-439d-86e1-d719b241c9c4",
   "metadata": {},
   "outputs": [
    {
     "name": "stdout",
     "output_type": "stream",
     "text": [
      "Car Make: Unknown, Model: Unknown\n",
      "Car Make: Toyota, Model: Camry\n"
     ]
    }
   ],
   "source": [
    "class Car:\n",
    "    def __init__(self, make=\"Unknown\", model=\"Unknown\"):\n",
    "        self.make = make\n",
    "        self.model = model\n",
    "\n",
    "    def display_info(self):\n",
    "        return f\"Car Make: {self.make}, Model: {self.model}\"\n",
    "\n",
    "# Example usage:\n",
    "car1 = Car()  # Using the default constructor\n",
    "car2 = Car(\"Toyota\", \"Camry\")\n",
    "\n",
    "print(car1.display_info())  # Output: \"Car Make: Unknown, Model: Unknown\"\n",
    "print(car2.display_info())  # Output: \"Car Make: Toyota, Model: Camry\"\n"
   ]
  },
  {
   "cell_type": "markdown",
   "id": "eb7b902b-94b5-444b-9289-5c4a6e283155",
   "metadata": {},
   "source": [
    "# inheritance"
   ]
  },
  {
   "cell_type": "markdown",
   "id": "3b5e9ee8-d745-4067-9e6e-483ec5b951ed",
   "metadata": {},
   "source": [
    "## 1. What is inheritance in Python? Explain its significance in object-oriented programming."
   ]
  },
  {
   "cell_type": "code",
   "execution_count": 21,
   "id": "44bc3fb7-3b6a-4b3d-b7c6-416a88fba8ae",
   "metadata": {},
   "outputs": [
    {
     "data": {
      "text/plain": [
       "'Inheritance is a fundamental concept in object-oriented programming (OOP) that allows you to create a new \\n   class (derived or child class) based on an existing class (base or parent class). The derived class inherits the\\n   attributes and behaviors (methods) of the parent class. In Python, this relationship between classes is established\\n   using the class definition and the super() function.\\n\\n          Significance of inheritance in object-oriented programming:\\n\\n1.Code Reusability: Inheritance promotes code reuse by allowing you to define common attributes and methods in a base\\n  class and then create multiple derived classes that inherit these attributes and methods. This reduces code duplication\\n  and helps maintainability.\\n\\n2.Hierarchical Organization: Inheritance allows you to create a hierarchical structure of classes. You can have a base\\n  class at the top and multiple levels of derived classes beneath it. This hierarchical organization models relationships\\n  and concepts more effectively.\\n\\n3.Extensibility: You can extend the functionality of existing classes by adding new attributes and methods in derived\\n  classes. This promotes modularity and makes it easier to add or modify features without affecting the base class.\\n\\n4.Polymorphism: Inheritance enables polymorphism, where objects of derived classes can be treated as objects of their\\n  parent class. This allows you to create more generic code that works with a variety of objects without needing to\\n  know their specific derived types.\\n\\n5.Specialization: You can create specialized classes that inherit from more general classes. This enables you to model\\n  specific behaviors and attributes for specialized objects while benefiting from the common features defined in the\\n  base class.\\n\\n6.Easy Maintenance: Inheritance makes it easier to maintain and update code. Changes made to the base class are\\n  automatically inherited by all derived classes. This reduces the risk of inconsistencies and simplifies maintenance.\\n\\n7.Abstraction: By defining a base class with abstract methods and attributes, you can enforce certain behavior and\\n  characteristics in derived classes. This encourages a structured and consistent design.\\n\\n8.Code Organization: Inheritance helps organize code into logical and meaningful groupings. It reflects the natural\\n  relationships and hierarchies in the problem domain, making code more intuitive and understandable.'"
      ]
     },
     "execution_count": 21,
     "metadata": {},
     "output_type": "execute_result"
    }
   ],
   "source": [
    "'''Inheritance is a fundamental concept in object-oriented programming (OOP) that allows you to create a new \n",
    "   class (derived or child class) based on an existing class (base or parent class). The derived class inherits the\n",
    "   attributes and behaviors (methods) of the parent class. In Python, this relationship between classes is established\n",
    "   using the class definition and the super() function.\n",
    "\n",
    "          Significance of inheritance in object-oriented programming:\n",
    "\n",
    "1.Code Reusability: Inheritance promotes code reuse by allowing you to define common attributes and methods in a base\n",
    "  class and then create multiple derived classes that inherit these attributes and methods. This reduces code duplication\n",
    "  and helps maintainability.\n",
    "\n",
    "2.Hierarchical Organization: Inheritance allows you to create a hierarchical structure of classes. You can have a base\n",
    "  class at the top and multiple levels of derived classes beneath it. This hierarchical organization models relationships\n",
    "  and concepts more effectively.\n",
    "\n",
    "3.Extensibility: You can extend the functionality of existing classes by adding new attributes and methods in derived\n",
    "  classes. This promotes modularity and makes it easier to add or modify features without affecting the base class.\n",
    "\n",
    "4.Polymorphism: Inheritance enables polymorphism, where objects of derived classes can be treated as objects of their\n",
    "  parent class. This allows you to create more generic code that works with a variety of objects without needing to\n",
    "  know their specific derived types.\n",
    "\n",
    "5.Specialization: You can create specialized classes that inherit from more general classes. This enables you to model\n",
    "  specific behaviors and attributes for specialized objects while benefiting from the common features defined in the\n",
    "  base class.\n",
    "\n",
    "6.Easy Maintenance: Inheritance makes it easier to maintain and update code. Changes made to the base class are\n",
    "  automatically inherited by all derived classes. This reduces the risk of inconsistencies and simplifies maintenance.\n",
    "\n",
    "7.Abstraction: By defining a base class with abstract methods and attributes, you can enforce certain behavior and\n",
    "  characteristics in derived classes. This encourages a structured and consistent design.\n",
    "\n",
    "8.Code Organization: Inheritance helps organize code into logical and meaningful groupings. It reflects the natural\n",
    "  relationships and hierarchies in the problem domain, making code more intuitive and understandable.'''"
   ]
  },
  {
   "cell_type": "markdown",
   "id": "b6e2d753-21cf-4f7f-9c6c-12b502f70091",
   "metadata": {},
   "source": [
    "##  Differentiate between single inheritance and multiple inheritance in Python. Provide examples for each."
   ]
  },
  {
   "cell_type": "code",
   "execution_count": 22,
   "id": "4efb96f1-1b4a-429d-9290-7b28f0b9062f",
   "metadata": {},
   "outputs": [
    {
     "name": "stdout",
     "output_type": "stream",
     "text": [
      "Buddy says Woof!\n",
      "Whiskers says Meow!\n"
     ]
    }
   ],
   "source": [
    "class Animal:\n",
    "    def __init__(self, name):\n",
    "        self.name = name\n",
    "\n",
    "    def speak(self):\n",
    "        pass\n",
    "\n",
    "class Dog(Animal):\n",
    "    def speak(self):\n",
    "        return f\"{self.name} says Woof!\"\n",
    "\n",
    "class Cat(Animal):\n",
    "    def speak(self):\n",
    "        return f\"{self.name} says Meow!\"\n",
    "\n",
    "# Example usage:\n",
    "dog = Dog(\"Buddy\")\n",
    "cat = Cat(\"Whiskers\")\n",
    "\n",
    "print(dog.speak())  # Output: \"Buddy says Woof!\"\n",
    "print(cat.speak())  # Output: \"Whiskers says Meow!\"\n"
   ]
  },
  {
   "cell_type": "code",
   "execution_count": 23,
   "id": "f57b833e-b835-4728-8309-63acd4c4bde2",
   "metadata": {},
   "outputs": [
    {
     "name": "stdout",
     "output_type": "stream",
     "text": [
      "Method 1 from Parent1\n",
      "Method 2 from Parent2\n",
      "Method 3 in Child\n"
     ]
    }
   ],
   "source": [
    "class Parent1:\n",
    "    def method1(self):\n",
    "        return \"Method 1 from Parent1\"\n",
    "\n",
    "class Parent2:\n",
    "    def method2(self):\n",
    "        return \"Method 2 from Parent2\"\n",
    "\n",
    "class Child(Parent1, Parent2):\n",
    "    def method3(self):\n",
    "        return \"Method 3 in Child\"\n",
    "\n",
    "# Example usage:\n",
    "child = Child()\n",
    "\n",
    "print(child.method1())  # Output: \"Method 1 from Parent1\"\n",
    "print(child.method2())  # Output: \"Method 2 from Parent2\"\n",
    "print(child.method3())  # Output: \"Method 3 in Child\"\n"
   ]
  },
  {
   "cell_type": "markdown",
   "id": "78319a54-0122-4ea4-b6b0-ebe06e9fc720",
   "metadata": {},
   "source": [
    "## 3. Create a Python class called `Vehicle` with attributes `color` and `speed`. Then, create a child class called `Car` that inherits from `Vehicle` and adds a `brand` attribute. Provide an example of creating a `Car` object."
   ]
  },
  {
   "cell_type": "code",
   "execution_count": 24,
   "id": "0f809a37-eeb6-4a4d-b2a5-58f4cdf3c544",
   "metadata": {},
   "outputs": [
    {
     "name": "stdout",
     "output_type": "stream",
     "text": [
      "Color: Red\n",
      "Speed: 120 km/h\n",
      "Brand: Toyota\n"
     ]
    }
   ],
   "source": [
    "class Vehicle:\n",
    "    def __init__(self, color, speed):\n",
    "        self.color = color\n",
    "        self.speed = speed\n",
    "\n",
    "class Car(Vehicle):\n",
    "    def __init__(self, color, speed, brand):\n",
    "        super().__init__(color, speed)\n",
    "        self.brand = brand\n",
    "\n",
    "# Example usage:\n",
    "car = Car(\"Red\", 120, \"Toyota\")\n",
    "\n",
    "# Accessing attributes of the Car object\n",
    "print(f\"Color: {car.color}\")\n",
    "print(f\"Speed: {car.speed} km/h\")\n",
    "print(f\"Brand: {car.brand}\")\n"
   ]
  },
  {
   "cell_type": "markdown",
   "id": "7ec26542-1c82-4d59-9468-37bcdd6d0742",
   "metadata": {},
   "source": [
    "## 4. Explain the concept of method overriding in inheritance. Provide a practical example."
   ]
  },
  {
   "cell_type": "code",
   "execution_count": 25,
   "id": "44370184-60ee-46b4-b6ce-940d861fb339",
   "metadata": {},
   "outputs": [
    {
     "name": "stdout",
     "output_type": "stream",
     "text": [
      "Woof!\n",
      "Meow!\n"
     ]
    }
   ],
   "source": [
    "class Animal:\n",
    "    def speak(self):\n",
    "        return \"Some generic sound\"\n",
    "\n",
    "class Dog(Animal):\n",
    "    def speak(self):\n",
    "        return \"Woof!\"\n",
    "\n",
    "class Cat(Animal):\n",
    "    def speak(self):\n",
    "        return \"Meow!\"\n",
    "\n",
    "# Example usage:\n",
    "dog = Dog()\n",
    "cat = Cat()\n",
    "\n",
    "print(dog.speak())  # Output: \"Woof!\"\n",
    "print(cat.speak())  # Output: \"Meow!\"\n"
   ]
  },
  {
   "cell_type": "markdown",
   "id": "2b5a8be2-dc95-45b3-84ee-b1c048f67a80",
   "metadata": {},
   "source": [
    "## 5. How can you access the methods and attributes of a parent class from a child class in Python? Give an example"
   ]
  },
  {
   "cell_type": "code",
   "execution_count": 33,
   "id": "4fe2b55d-eabc-4a89-8ece-94e0099019aa",
   "metadata": {},
   "outputs": [
    {
     "name": "stdout",
     "output_type": "stream",
     "text": [
      "Hello, my name is John Doe.\n",
      "I am 30 years old.\n"
     ]
    }
   ],
   "source": [
    "class Parent:\n",
    "    def __init__(self, name):\n",
    "        self.name = name\n",
    "\n",
    "    def greet(self):\n",
    "        print(f\"Hello, my name is {self.name}.\")\n",
    "\n",
    "class Child(Parent):\n",
    "    def __init__(self, name, age):\n",
    "        super().__init__(name)\n",
    "        self.age = age\n",
    "\n",
    "    def greet(self):\n",
    "        super().greet()\n",
    "        print(f\"I am {self.age} years old.\")\n",
    "\n",
    "# Create a new Child object.\n",
    "child = Child(\"John Doe\", 30)\n",
    "\n",
    "# Call the greet() method.\n",
    "child.greet()\n"
   ]
  },
  {
   "cell_type": "code",
   "execution_count": 35,
   "id": "af2737e7-7cbe-4899-a2c6-42249209424b",
   "metadata": {},
   "outputs": [
    {
     "name": "stdout",
     "output_type": "stream",
     "text": [
      "Method from Child class, child name: Child Name\n",
      "Method from Parent class, name: Parent Name\n",
      "Parent name attribute: Parent Name\n"
     ]
    }
   ],
   "source": [
    "class Parent:\n",
    "    def __init__(self, name):\n",
    "        self.name = name\n",
    "\n",
    "    def parent_method(self):\n",
    "        return f\"Method from Parent class, name: {self.name}\"\n",
    "\n",
    "class Child(Parent):\n",
    "    def __init__(self, name, child_name):\n",
    "        # Initialize the parent class attributes directly\n",
    "        Parent.__init__(self, name)\n",
    "        self.child_name = child_name\n",
    "\n",
    "    def child_method(self):\n",
    "        parent_result = super().parent_method()  # Accessing the parent class method\n",
    "        return f\"Method from Child class, child name: {self.child_name}\\n{parent_result}\"\n",
    "\n",
    "# Example usage:\n",
    "child_instance = Child(\"Parent Name\", \"Child Name\")\n",
    "\n",
    "# Access parent class method from child class\n",
    "print(child_instance.child_method())\n",
    "\n",
    "# Access parent class attribute from child class\n",
    "print(f\"Parent name attribute: {child_instance.name}\")\n"
   ]
  },
  {
   "cell_type": "markdown",
   "id": "b365bc51-45a8-4eea-a8c9-2ad6c5a60b6f",
   "metadata": {},
   "source": [
    "## 6. Discuss the use of the `super()` function in Python inheritance. When and why is it used? Provide an example."
   ]
  },
  {
   "cell_type": "code",
   "execution_count": 1,
   "id": "1668691d-774e-4ef0-b8cc-4be3dd0dc4aa",
   "metadata": {},
   "outputs": [
    {
     "name": "stdout",
     "output_type": "stream",
     "text": [
      "Hello from Parent\n",
      "Hi from Child. Hello from Parent\n"
     ]
    }
   ],
   "source": [
    "'''The super() function is used in Python inheritance to call methods and access attributes from the parent\n",
    "   class (superclass) within a child class (subclass). It is particularly useful when you want to extend or\n",
    "   override the behavior of a method from the parent class while still making use of that method's functionality.\n",
    "   \n",
    "   Here's a summary of how and why super() is used in Python inheritance:\n",
    "\n",
    "Accessing Parent Class Methods:\n",
    "\n",
    "Method Overriding:\n",
    "\n",
    "Constructor Chaining: In cases where the child class has its own constructor, you can use super() to call the constructor\n",
    "    of the parent class, ensuring that the initialization of attributes and other setup code in the parent class\n",
    "    is executed.'''\n",
    "\n",
    "class Parent:\n",
    "    def __init__(self, name):\n",
    "        self.name = name\n",
    "\n",
    "    def greet(self):\n",
    "        return f\"Hello from {self.name}\"\n",
    "\n",
    "class Child(Parent):\n",
    "    def __init__(self, name, child_name):\n",
    "        super().__init__(name)  # Call the parent class's constructor\n",
    "        self.child_name = child_name\n",
    "\n",
    "    def greet(self):\n",
    "        parent_greeting = super().greet()  # Call the parent class's greet method\n",
    "        return f\"Hi from {self.child_name}. {parent_greeting}\"\n",
    "\n",
    "# Example usage:\n",
    "parent_instance = Parent(\"Parent\")\n",
    "child_instance = Child(\"Parent\", \"Child\")\n",
    "\n",
    "print(parent_instance.greet())  # Output: \"Hello from Parent\"\n",
    "print(child_instance.greet())   # Output: \"Hi from Child. Hello from Parent\"\n"
   ]
  },
  {
   "cell_type": "markdown",
   "id": "9091eebf-544c-4982-b83f-e66e7902a820",
   "metadata": {},
   "source": [
    "## 7. Create a Python class called `Animal` with a method `speak()`. Then, create child classes `Dog` and `Cat` that inherit from `Animal` and override the `speak()` method. Provide an example of using these classes."
   ]
  },
  {
   "cell_type": "code",
   "execution_count": 2,
   "id": "041da692-dcdf-4a63-9c5a-389125a0fd11",
   "metadata": {},
   "outputs": [
    {
     "name": "stdout",
     "output_type": "stream",
     "text": [
      "Some generic sound\n",
      "Woof!\n",
      "Meow!\n"
     ]
    }
   ],
   "source": [
    "class Animal:\n",
    "    def speak(self):\n",
    "        return \"Some generic sound\"\n",
    "\n",
    "class Dog(Animal):\n",
    "    def speak(self):\n",
    "        return \"Woof!\"\n",
    "\n",
    "class Cat(Animal):\n",
    "    def speak(self):\n",
    "        return \"Meow!\"\n",
    "\n",
    "# Example usage:\n",
    "animal = Animal()\n",
    "dog = Dog()\n",
    "cat = Cat()\n",
    "\n",
    "print(animal.speak())  # Output: \"Some generic sound\"\n",
    "print(dog.speak())     # Output: \"Woof!\"\n",
    "print(cat.speak())     # Output: \"Meow!\"\n"
   ]
  },
  {
   "cell_type": "markdown",
   "id": "eb10f116-c55c-4132-93c8-78f48432540b",
   "metadata": {},
   "source": [
    "## 8. Explain the role of the `isinstance()` function in Python and how it relates to inheritance."
   ]
  },
  {
   "cell_type": "code",
   "execution_count": 4,
   "id": "f8422393-3306-4fd3-b5b5-17195543354c",
   "metadata": {},
   "outputs": [
    {
     "name": "stdout",
     "output_type": "stream",
     "text": [
      "True\n",
      "True\n",
      "True\n",
      "True\n",
      "True\n",
      "False\n"
     ]
    }
   ],
   "source": [
    "'''used for\n",
    "   Checking Object Type: isinstance() is used to verify whether an object is an instance of a specified class or \n",
    "   one of its subclasses. This ensures that objects are of the expected type before performing operations on them.\n",
    "\n",
    "   Polymorphism: isinstance() is instrumental in implementing polymorphism, which allows objects of different classes\n",
    "   to be treated as objects of a common base class. This promotes flexibility and code reuse.\n",
    "\n",
    "   Inheritance and Subclassing: isinstance() helps confirm the hierarchy and relationships between classes in an\n",
    "   inheritance structure. It ensures that objects can be used at different levels of the class hierarchy, providing\n",
    "   a foundation for creating versatile and extensible code.'''\n",
    "\n",
    "\n",
    "class Animal:\n",
    "    def speak(self):\n",
    "        return \"Some generic sound\"\n",
    "\n",
    "class Dog(Animal):\n",
    "    def speak(self):\n",
    "        return \"Woof!\"\n",
    "\n",
    "class Cat(Animal):\n",
    "    def speak(self):\n",
    "        return \"Meow!\"\n",
    "\n",
    "# Example usage:\n",
    "animal = Animal()\n",
    "dog = Dog()\n",
    "cat = Cat()\n",
    "\n",
    "# Checking the type of objects\n",
    "print(isinstance(animal, Animal))  # True\n",
    "print(isinstance(dog, Dog))        # True\n",
    "print(isinstance(cat, Cat))        # True\n",
    "\n",
    "# Checking the type and inheritance\n",
    "print(isinstance(dog, Animal))    # True (Dog is an Animal)\n",
    "print(isinstance(cat, Animal))    # True (Cat is an Animal)\n",
    "print(isinstance(animal, Dog))    # False (Animal is not a Dog)\n"
   ]
  },
  {
   "cell_type": "code",
   "execution_count": 1,
   "id": "c90ec69d-ac91-465e-abc5-2ebec9a1a223",
   "metadata": {},
   "outputs": [
    {
     "name": "stdout",
     "output_type": "stream",
     "text": [
      "Woof!\n",
      "Meow!\n",
      "Moo!\n",
      "Tweet!\n"
     ]
    }
   ],
   "source": [
    "class Animal:\n",
    "    def speak(self):\n",
    "        pass\n",
    "\n",
    "class Dog(Animal):\n",
    "    def speak(self):\n",
    "        return \"Woof!\"\n",
    "\n",
    "class Cat(Animal):\n",
    "    def speak(self):\n",
    "        return \"Meow!\"\n",
    "\n",
    "class Cow(Animal):\n",
    "    def speak(self):\n",
    "        return \"Moo!\"\n",
    "\n",
    "# Function that works with any animal\n",
    "def animal_sound(animal):\n",
    "    if isinstance(animal, Animal):\n",
    "        return animal.speak()\n",
    "    else:\n",
    "        return \"Unknown animal\"\n",
    "\n",
    "# Example usage:\n",
    "dog = Dog()\n",
    "cat = Cat()\n",
    "cow = Cow()\n",
    "\n",
    "# Using polymorphism with the animal_sound function\n",
    "print(animal_sound(dog))  # Output: \"Woof!\"\n",
    "print(animal_sound(cat))  # Output: \"Meow!\"\n",
    "print(animal_sound(cow))  # Output: \"Moo!\"\n",
    "\n",
    "# Additional example:\n",
    "class Bird(Animal):\n",
    "    def speak(self):\n",
    "        return \"Tweet!\"\n",
    "\n",
    "bird = Bird()\n",
    "\n",
    "print(animal_sound(bird))  # Output: \"Tweet!\"\n"
   ]
  },
  {
   "cell_type": "code",
   "execution_count": 3,
   "id": "c31d81e6-9562-4071-959a-bdf0731984f5",
   "metadata": {},
   "outputs": [
    {
     "name": "stdout",
     "output_type": "stream",
     "text": [
      "78.5\n",
      "24\n",
      "6.0\n"
     ]
    }
   ],
   "source": [
    "'''The use of isinstance() confirms the class hierarchy and enables the code to work with objects at different levels\n",
    "   of the class hierarchy, demonstrating the extensibility and versatility provided by inheritance.'''\n",
    "class Shape:\n",
    "    def area(self):\n",
    "        pass\n",
    "\n",
    "class Circle(Shape):\n",
    "    def __init__(self, radius):\n",
    "        self.radius = radius\n",
    "\n",
    "    def area(self):\n",
    "        return 3.14 * self.radius * self.radius\n",
    "\n",
    "class Rectangle(Shape):\n",
    "    def __init__(self, width, height):\n",
    "        self.width = width\n",
    "        self.height = height\n",
    "\n",
    "    def area(self):\n",
    "        return self.width * self.height\n",
    "\n",
    "# Function that calculates the area of a shape\n",
    "def calculate_area(shape):\n",
    "    if isinstance(shape, Shape):\n",
    "        return shape.area()\n",
    "    else:\n",
    "        return \"Unknown shape\"\n",
    "\n",
    "# Example usage:\n",
    "circle = Circle(5)\n",
    "rectangle = Rectangle(4, 6)\n",
    "\n",
    "# Using polymorphism to calculate the area of different shapes\n",
    "print(calculate_area(circle))      # Output: 78.5 (Area of a circle)\n",
    "print(calculate_area(rectangle))   # Output: 24 (Area of a rectangle)\n",
    "\n",
    "# Additional example:\n",
    "class Triangle(Shape):\n",
    "    def __init__(self, base, height):\n",
    "        self.base = base\n",
    "        self.height = height\n",
    "\n",
    "    def area(self):\n",
    "        return 0.5 * self.base * self.height\n",
    "\n",
    "triangle = Triangle(3, 4)\n",
    "\n",
    "print(calculate_area(triangle))    # Output: 6 (Area of a triangle)\n"
   ]
  },
  {
   "cell_type": "markdown",
   "id": "9f7060f5-edbe-4397-a6ec-b1a4b4c0236c",
   "metadata": {},
   "source": [
    "## 9. What is the purpose of the `issubclass()` function in Python? Provide an example."
   ]
  },
  {
   "cell_type": "code",
   "execution_count": 4,
   "id": "e77fa1fd-9173-4df5-9c30-69ba88cba37c",
   "metadata": {},
   "outputs": [
    {
     "name": "stdout",
     "output_type": "stream",
     "text": [
      "True\n",
      "True\n",
      "True\n",
      "False\n",
      "False\n"
     ]
    }
   ],
   "source": [
    "'''The issubclass() function in Python is used to check whether a given class is a subclass of another class.\n",
    "   It helps determine the class inheritance relationship and is primarily used for class type checking within the\n",
    "   context of inheritance. The issubclass() function returns True if the class is a subclass, and False otherwise.'''\n",
    "\n",
    "class Animal:\n",
    "    pass\n",
    "\n",
    "class Mammal(Animal):\n",
    "    pass\n",
    "\n",
    "class Bird(Animal):\n",
    "    pass\n",
    "\n",
    "class Dog(Mammal):\n",
    "    pass\n",
    "\n",
    "# Using issubclass() to check class hierarchy\n",
    "print(issubclass(Mammal, Animal))  # True (Mammal is a subclass of Animal)\n",
    "print(issubclass(Bird, Animal))    # True (Bird is a subclass of Animal)\n",
    "print(issubclass(Dog, Mammal))     # True (Dog is a subclass of Mammal)\n",
    "\n",
    "# Checking with non-subclasses\n",
    "print(issubclass(Animal, Mammal))  # False (Animal is not a subclass of Mammal)\n",
    "print(issubclass(Mammal, Bird))    # False (Mammal is not a subclass of Bird)\n"
   ]
  },
  {
   "cell_type": "markdown",
   "id": "f81ebce2-c4c7-419d-93a3-2ed721a3a78c",
   "metadata": {},
   "source": [
    "## 10. Discuss the concept of constructor inheritance in Python. How are constructors inherited in child classes?"
   ]
  },
  {
   "cell_type": "code",
   "execution_count": 5,
   "id": "1319b7c5-fd28-45c2-bd07-a8bc33055d18",
   "metadata": {},
   "outputs": [
    {
     "name": "stdout",
     "output_type": "stream",
     "text": [
      "Parent\n"
     ]
    }
   ],
   "source": [
    "class Parent:\n",
    "    def __init__(self):\n",
    "        self.parent_param = \"Parent\"\n",
    "\n",
    "class Child(Parent):\n",
    "    pass\n",
    "\n",
    "child_instance = Child()\n",
    "print(child_instance.parent_param)  # Output: \"Parent\"\n"
   ]
  },
  {
   "cell_type": "code",
   "execution_count": 2,
   "id": "6513c9b6-e542-47d9-8cc2-fc00de48686d",
   "metadata": {},
   "outputs": [
    {
     "name": "stdout",
     "output_type": "stream",
     "text": [
      "Parent\n",
      "Child\n"
     ]
    }
   ],
   "source": [
    "class Parent:\n",
    "    def __init__(self):\n",
    "        self.parent_param = \"Parent\"\n",
    "\n",
    "class Child(Parent):\n",
    "    def __init__(self):\n",
    "        super().__init__()  # Call the parent class constructor\n",
    "        self.child_param = \"Child\"\n",
    "\n",
    "child_instance = Child()\n",
    "print(child_instance.parent_param)  # Output: \"Parent\"\n",
    "print(child_instance.child_param)   # Output: \"Child\"\n"
   ]
  },
  {
   "cell_type": "code",
   "execution_count": 7,
   "id": "11938cdf-fcfd-4ad9-abad-5435fe6e7083",
   "metadata": {},
   "outputs": [
    {
     "name": "stdout",
     "output_type": "stream",
     "text": [
      "Child\n"
     ]
    }
   ],
   "source": [
    "class Parent:\n",
    "    def __init__(self):\n",
    "        self.parent_param = \"Parent\"\n",
    "\n",
    "class Child(Parent):\n",
    "    def __init__(self):\n",
    "        self.child_param = \"Child\"\n",
    "\n",
    "child_instance = Child()\n",
    "# The following line would result in an error because the Parent's constructor is overridden.\n",
    "# print(child_instance.parent_param)\n",
    "print(child_instance.child_param)  # Output: \"Child\"\n"
   ]
  },
  {
   "cell_type": "markdown",
   "id": "1f4006ff-438d-44d8-9815-14959b6da367",
   "metadata": {},
   "source": [
    "## 11. Create a Python class called `Shape` with a method `area()` that calculates the area of a shape. Then, create child classes `Circle` and `Rectangle` that inherit from `Shape` and implement the `area()` method accordingly. Provide an example."
   ]
  },
  {
   "cell_type": "code",
   "execution_count": 3,
   "id": "a39da6ad-1500-40bd-98e7-f93f1074e11a",
   "metadata": {},
   "outputs": [
    {
     "name": "stdout",
     "output_type": "stream",
     "text": [
      "Area of the circle: 78.5\n",
      "Area of the rectangle: 24\n"
     ]
    }
   ],
   "source": [
    "class Shape:\n",
    "    def area(self):\n",
    "        pass\n",
    "\n",
    "class Circle(Shape):\n",
    "    def __init__(self, radius):\n",
    "        self.radius = radius\n",
    "\n",
    "    def area(self):\n",
    "        return 3.14 * self.radius**2\n",
    "\n",
    "class Rectangle(Shape):\n",
    "    def __init__(self, length, width):\n",
    "        self.length = length\n",
    "        self.width = width\n",
    "\n",
    "    def area(self):\n",
    "        return self.length * self.width\n",
    "\n",
    "# Example usage:\n",
    "circle = Circle(5)\n",
    "rectangle = Rectangle(4, 6)\n",
    "\n",
    "print(f\"Area of the circle: {circle.area()}\")      # Output: \"Area of the circle: 78.5\"\n",
    "print(f\"Area of the rectangle: {rectangle.area()}\")  # Output: \"Area of the rectangle: 24\"\n"
   ]
  },
  {
   "cell_type": "markdown",
   "id": "5add55ef-a58a-448b-aa9a-d6f5ed897b98",
   "metadata": {},
   "source": [
    "## 12. Explain the use of abstract base classes (ABCs) in Python and how they relate to inheritance. Provide an example using the `abc` module."
   ]
  },
  {
   "cell_type": "code",
   "execution_count": 5,
   "id": "82643bae-f57e-41e6-aba7-185282e6c739",
   "metadata": {},
   "outputs": [
    {
     "name": "stdout",
     "output_type": "stream",
     "text": [
      "Area of the circle: 78.5\n",
      "Area of the rectangle: 24\n"
     ]
    }
   ],
   "source": [
    "'''Abstract Base Classes (ABCs) in Python are a way to define abstract classes with abstract methods.\n",
    "   These abstract classes serve as a blueprint for other classes and ensure that specific methods are implemented\n",
    "   by their subclasses. ABCs provide a way to enforce a common interface among a group of related classes.'''\n",
    "\n",
    "from abc import ABC, abstractmethod\n",
    "\n",
    "class Shape(ABC):\n",
    "    @abstractmethod\n",
    "    def area(self):\n",
    "        pass\n",
    "\n",
    "class Circle(Shape):\n",
    "    def __init__(self, radius):\n",
    "        self.radius = radius\n",
    "\n",
    "    def area(self):\n",
    "        return 3.14 * self.radius**2\n",
    "\n",
    "class Rectangle(Shape):\n",
    "    def __init__(self, length, width):\n",
    "        self.length = length\n",
    "        self.width = width\n",
    "\n",
    "    def area(self):\n",
    "        return self.length * self.width\n",
    "\n",
    "# Example usage:\n",
    "circle = Circle(5)\n",
    "rectangle = Rectangle(4, 6)\n",
    "\n",
    "print(f\"Area of the circle: {circle.area()}\")      # Output: \"Area of the circle: 78.5\"\n",
    "print(f\"Area of the rectangle: {rectangle.area()}\")  # Output: \"Area of the rectangle: 24\"\n"
   ]
  },
  {
   "cell_type": "markdown",
   "id": "5e63e935-99da-4f0e-ad33-ebd695dec72b",
   "metadata": {},
   "source": [
    "## 13. How can you prevent a child class from modifying certain attributes or methods inherited from a parent class in Python?"
   ]
  },
  {
   "cell_type": "code",
   "execution_count": 7,
   "id": "8e5d7bf6-51a5-45ef-bc00-32436fad3a03",
   "metadata": {},
   "outputs": [
    {
     "name": "stdout",
     "output_type": "stream",
     "text": [
      "This is a private attribute\n",
      "Allowed\n",
      "Allowed\n",
      "This is a public method.\n",
      "Allowed\n"
     ]
    }
   ],
   "source": [
    "'''Two methods...\n",
    "   Private Attributes and Methods: You can make attributes and methods private in the parent class by prefixing their\n",
    "   names with an underscore (e.g., _attribute or _method()). This is a convention in Python to indicate that the\n",
    "   attribute or method should not be accessed or modified directly by child classes. While it doesn't prevent\n",
    "   access entirely, it serves as a signal to other programmers that these members should be treated as private.\n",
    "\n",
    "   Property Methods: You can define property methods in the parent class to provide controlled access to attributes.\n",
    "   By using the @property decorator and setters, you can allow controlled access and modification of attributes.\n",
    "   This allows you to validate, filter, or perform any other custom logic before permitting changes.'''\n",
    "\n",
    "class Parent:\n",
    "    def __init__(self):\n",
    "        self._private_attribute = \"This is a private attribute\"\n",
    "\n",
    "    # Method to access the private attribute\n",
    "    def get_private_attribute(self):\n",
    "        return self._private_attribute\n",
    "\n",
    "    # Method to set the private attribute (controlled access)\n",
    "    def set_private_attribute(self, value):\n",
    "        if value == \"Allowed\":\n",
    "            self._private_attribute = value\n",
    "        else:\n",
    "            print(\"Access denied.\")\n",
    "\n",
    "    # Public method\n",
    "    def public_method(self):\n",
    "        print(\"This is a public method.\")\n",
    "\n",
    "class Child(Parent):\n",
    "    def modify_private_attribute(self, new_value):\n",
    "        self._private_attribute = new_value  # This is allowed but not recommended\n",
    "\n",
    "# Example usage:\n",
    "parent = Parent()\n",
    "child = Child()\n",
    "\n",
    "# Method 1: Using private attribute and access methods\n",
    "print(parent.get_private_attribute())  # Accessing the private attribute (not recommended)\n",
    "parent.set_private_attribute(\"Allowed\")  # Modifying the private attribute (controlled access)\n",
    "print(parent.get_private_attribute())\n",
    "\n",
    "# Method 2: Accessing via property (recommended)\n",
    "print(parent._private_attribute)  # Accessing the private attribute (not recommended)\n",
    "parent.public_method()\n",
    "\n",
    "child.modify_private_attribute(\"Modified by the child\")  # Modifying the private attribute in the child class (allowed but not recommended)\n",
    "\n",
    "print(parent._private_attribute)  # Checking the modified private attribute (not recommended)\n"
   ]
  },
  {
   "cell_type": "markdown",
   "id": "226ec764-d92c-4dc4-885d-082fb7f70086",
   "metadata": {},
   "source": [
    "## 14. Create a Python class called `Employee` with attributes `name` and `salary`. Then, create a child class `Manager` that inherits from `Employee` and adds an attribute `department`. Provide an example."
   ]
  },
  {
   "cell_type": "code",
   "execution_count": 8,
   "id": "9a0d60f7-30dc-4d67-ab5e-d17204b98615",
   "metadata": {},
   "outputs": [
    {
     "name": "stdout",
     "output_type": "stream",
     "text": [
      "Employee: John Doe, Salary: $50000\n",
      "Manager: Alice Smith, Salary: $70000, Department: HR\n"
     ]
    }
   ],
   "source": [
    "class Employee:\n",
    "    def __init__(self, name, salary):\n",
    "        self.name = name\n",
    "        self.salary = salary\n",
    "\n",
    "class Manager(Employee):\n",
    "    def __init__(self, name, salary, department):\n",
    "        super().__init__(name, salary)  # Call the constructor of the parent class\n",
    "        self.department = department\n",
    "\n",
    "# Example usage:\n",
    "employee1 = Employee(\"John Doe\", 50000)\n",
    "manager1 = Manager(\"Alice Smith\", 70000, \"HR\")\n",
    "\n",
    "print(f\"Employee: {employee1.name}, Salary: ${employee1.salary}\")\n",
    "print(f\"Manager: {manager1.name}, Salary: ${manager1.salary}, Department: {manager1.department}\")\n"
   ]
  },
  {
   "cell_type": "markdown",
   "id": "ea7760f9-a772-44a5-962c-dedd39cbf18e",
   "metadata": {},
   "source": [
    "## 15. Discuss the concept of method overloading in Python inheritance. How does it differ from method overriding?"
   ]
  },
  {
   "cell_type": "code",
   "execution_count": 11,
   "id": "05d9b8f9-4350-4b14-b355-0ff594dea734",
   "metadata": {},
   "outputs": [
    {
     "name": "stdout",
     "output_type": "stream",
     "text": [
      "3\n",
      "6\n"
     ]
    }
   ],
   "source": [
    "'''Method overloading is a feature that allows a class to have more than one method having the same name if the method\n",
    "   signatures (number or types of parameters) are different. In Python, method overloading is achieved through the use\n",
    "   of default arguments, variable-length argument lists, and optional arguments. It enables you to define multiple\n",
    "   methods with the same name but with different parameter lists, and the appropriate method is called based on the\n",
    "   arguments passed at runtime.'''\n",
    "\n",
    "class Calculator:\n",
    "    def add(self, a, b, c=None):\n",
    "        if c is None:\n",
    "            return a + b\n",
    "        else:\n",
    "            return a + b + c\n",
    "\n",
    "# Example usage:\n",
    "calc = Calculator()\n",
    "result1 = calc.add(1, 2)      # Calls the add method with 2 arguments\n",
    "result2 = calc.add(1, 2, 3)   # Calls the add method with 3 arguments\n",
    "print(result1)  # Output: 3\n",
    "print(result2)  # Output: 6\n",
    "\n"
   ]
  },
  {
   "cell_type": "code",
   "execution_count": 12,
   "id": "e756c78a-7718-4631-a7b2-aeff4fd2ee2f",
   "metadata": {},
   "outputs": [
    {
     "name": "stdout",
     "output_type": "stream",
     "text": [
      "None\n",
      "Woof!\n"
     ]
    },
    {
     "data": {
      "text/plain": [
       "'In Python, method overloading is not a built-in feature like it is in some other languages, but it can be achieved\\n   using default arguments and variable-length argument lists. Method overriding, on the other hand, is a fundamental \\n   part of object-oriented programming and is commonly used to implement polymorphism.'"
      ]
     },
     "execution_count": 12,
     "metadata": {},
     "output_type": "execute_result"
    }
   ],
   "source": [
    "'''Method overriding is a feature that allows a subclass to provide a specific implementation for a method that is already\n",
    "   defined in its parent class. It is a way to replace or extend the behavior of a method inherited from the\n",
    "   parent class. Method overriding is a fundamental concept in polymorphism, and it enables you to create more\n",
    "   specialized behavior in child classes while maintaining a common interface defined in the parent class.'''\n",
    "\n",
    "class Animal:\n",
    "    def speak(self):\n",
    "        pass\n",
    "\n",
    "class Dog(Animal):\n",
    "    def speak(self):\n",
    "        return \"Woof!\"\n",
    "\n",
    "# Example usage:\n",
    "animal = Animal()\n",
    "dog = Dog()\n",
    "\n",
    "print(animal.speak())  # Output: None (from the parent class)\n",
    "print(dog.speak())     # Output: \"Woof!\" (overridden in the child class)\n",
    "\n",
    "\n",
    "'''In Python, method overloading is not a built-in feature like it is in some other languages, but it can be achieved\n",
    "   using default arguments and variable-length argument lists. Method overriding, on the other hand, is a fundamental \n",
    "   part of object-oriented programming and is commonly used to implement polymorphism.'''\n"
   ]
  },
  {
   "cell_type": "markdown",
   "id": "a9d82482-0db0-40a4-a8ef-e0a886ce34a8",
   "metadata": {},
   "source": [
    "## 16. Explain the purpose of the `__init__()` method in Python inheritance and how it is utilized in child classes."
   ]
  },
  {
   "cell_type": "code",
   "execution_count": 13,
   "id": "e8d909a7-da81-46b7-b7a4-1cd1d774b7d0",
   "metadata": {},
   "outputs": [
    {
     "name": "stdout",
     "output_type": "stream",
     "text": [
      "Person: John, Age: 30\n",
      "Student: Alice, Age: 20, Student ID: S12345\n"
     ]
    }
   ],
   "source": [
    "'''The __init__() method, also known as a constructor, plays a crucial role in Python inheritance. Its primary purpose\n",
    "   is to initialize the attributes of an object when an instance of a class is created. In the context of inheritance, \n",
    "   the __init__() method is used to initialize the attributes of both the parent and child classes, ensuring that the\n",
    "   objects of these classes are properly initialized.\n",
    "\n",
    "   Here's how the __init__() method works in Python inheritance:\n",
    "\n",
    "   Initialization of Parent Class Attributes:\n",
    "\n",
    "   Initialization of Child Class Attributes:\n",
    "\n",
    "   Order of Initialization:\n",
    "'''\n",
    "class Person:\n",
    "    def __init__(self, name, age):\n",
    "        self.name = name\n",
    "        self.age = age\n",
    "\n",
    "class Student(Person):\n",
    "    def __init__(self, name, age, student_id):\n",
    "        super().__init__(name, age)  # Call the parent class's constructor\n",
    "        self.student_id = student_id  # Add a child class attribute\n",
    "\n",
    "# Example usage:\n",
    "person = Person(\"John\", 30)\n",
    "student = Student(\"Alice\", 20, \"S12345\")\n",
    "\n",
    "print(f\"Person: {person.name}, Age: {person.age}\")\n",
    "print(f\"Student: {student.name}, Age: {student.age}, Student ID: {student.student_id}\")\n"
   ]
  },
  {
   "cell_type": "markdown",
   "id": "742cb5e7-27e8-4e49-99d8-e582b259bd9f",
   "metadata": {},
   "source": [
    "## 17. Create a Python class called `Bird` with a method `fly()`. Then, create child classes `Eagle` and `Sparrow` that inherit from `Bird` and implement the `fly()` method differently. Provide an example of using these classes."
   ]
  },
  {
   "cell_type": "code",
   "execution_count": 14,
   "id": "99032c55-d071-43be-be31-b7c30c4b5d46",
   "metadata": {},
   "outputs": [
    {
     "name": "stdout",
     "output_type": "stream",
     "text": [
      "This bird can fly.\n",
      "The eagle soars high in the sky.\n",
      "The sparrow flits from branch to branch.\n"
     ]
    }
   ],
   "source": [
    "class Bird:\n",
    "    def fly(self):\n",
    "        return \"This bird can fly.\"\n",
    "\n",
    "class Eagle(Bird):\n",
    "    def fly(self):\n",
    "        return \"The eagle soars high in the sky.\"\n",
    "\n",
    "class Sparrow(Bird):\n",
    "    def fly(self):\n",
    "        return \"The sparrow flits from branch to branch.\"\n",
    "\n",
    "# Example usage:\n",
    "bird = Bird()\n",
    "eagle = Eagle()\n",
    "sparrow = Sparrow()\n",
    "\n",
    "print(bird.fly())  # Output: \"This bird can fly.\"\n",
    "print(eagle.fly())  # Output: \"The eagle soars high in the sky.\"\n",
    "print(sparrow.fly())  # Output: \"The sparrow flits from branch to branch.\"\n"
   ]
  },
  {
   "cell_type": "markdown",
   "id": "143dea06-967c-4c65-ae12-ab2b110caf89",
   "metadata": {},
   "source": [
    "## 18. What is the \"diamond problem\" in multiple inheritance, and how does Python address it?"
   ]
  },
  {
   "cell_type": "code",
   "execution_count": 16,
   "id": "d0173af1-a379-4bf2-b684-bdc3b6f7e08f",
   "metadata": {},
   "outputs": [
    {
     "name": "stdout",
     "output_type": "stream",
     "text": [
      "B's method\n"
     ]
    },
    {
     "data": {
      "text/plain": [
       "\"In this example, class D inherits from classes B and C, which both inherit from class A. Python's MRO\\n   (method resolution order ensures that method conflicts are resolved according to the order of inheritance,\\n   with the method from class B taking precedence in this case.\""
      ]
     },
     "execution_count": 16,
     "metadata": {},
     "output_type": "execute_result"
    }
   ],
   "source": [
    "class A:\n",
    "    def method(self):\n",
    "        return \"A's method\"\n",
    "\n",
    "class B(A):\n",
    "    def method(self):\n",
    "        return \"B's method\"\n",
    "\n",
    "class C(A):\n",
    "    def method(self):\n",
    "        return \"C's method\"\n",
    "\n",
    "class D(B, C):\n",
    "    pass\n",
    "\n",
    "d = D()\n",
    "print(d.method())  # Output: \"B's method\"\n",
    "\n",
    "'''In this example, class D inherits from classes B and C, which both inherit from class A. Python's MRO\n",
    "   (method resolution order ensures that method conflicts are resolved according to the order of inheritance,\n",
    "   with the method from class B taking precedence in this case.'''"
   ]
  },
  {
   "cell_type": "markdown",
   "id": "83a5b0c4-ed97-40f3-9bf8-648876b0b84b",
   "metadata": {},
   "source": [
    "## 19. Discuss the concept of \"is-a\" and \"has-a\" relationships in inheritance, and provide examples of each."
   ]
  },
  {
   "cell_type": "code",
   "execution_count": 17,
   "id": "923227c1-82f5-4706-9498-0a8976907235",
   "metadata": {},
   "outputs": [],
   "source": [
    "'''\"Is-a\" Relationship (Inheritance): In an \"is-a\" relationship, one class is a subclass of another class.\n",
    "    This relationship implies that an object of the subclass is also an object of the superclass, and the\n",
    "    subclass inherits the attributes and behaviors of the superclass. This relationship signifies a type or\n",
    "    category relationship.'''\n",
    "\n",
    "class Animal:\n",
    "    def speak(self):\n",
    "        pass\n",
    "\n",
    "class Dog(Animal):\n",
    "    def speak(self):\n",
    "        return \"Woof!\"\n",
    "\n",
    "# Here, Dog is a type of Animal, so it inherits from the Animal class.\n"
   ]
  },
  {
   "cell_type": "code",
   "execution_count": 18,
   "id": "7318466a-7035-4432-9dd6-0195e564692c",
   "metadata": {},
   "outputs": [],
   "source": [
    "'''\"Has-a\" Relationship (Composition): In a \"has-a\" relationship, one class contains an instance of another class\n",
    "    as one of its attributes. This relationship signifies that one class has or uses another class but is not \n",
    "    a subtype of it. It represents a containment or association relationship.'''\n",
    "\n",
    "class Engine:\n",
    "    def start(self):\n",
    "        return \"Engine started.\"\n",
    "\n",
    "class Car:\n",
    "    def __init__(self):\n",
    "        self.engine = Engine()\n",
    "\n",
    "# Here, a Car has an Engine as one of its components.\n"
   ]
  },
  {
   "cell_type": "markdown",
   "id": "bc92dd42-d2ba-413c-9d6e-7539758a16db",
   "metadata": {},
   "source": [
    "## 20. Create a Python class hierarchy for a university system. Start with a base class `Person` and create child classes `Student` and `Professor`, each with their own attributes and methods. Provide an example of using these classes in a university context."
   ]
  },
  {
   "cell_type": "code",
   "execution_count": 19,
   "id": "d60c513f-0489-4d4d-947b-63673512154c",
   "metadata": {},
   "outputs": [
    {
     "name": "stdout",
     "output_type": "stream",
     "text": [
      "Hi, I am Alice and I am 20 years old.\n",
      "Alice with ID S12345 is studying Mathematics.\n",
      "Hi, I am Dr. Smith and I am 45 years old.\n",
      "Professor Dr. Smith with ID P9876 is teaching Computer Science.\n"
     ]
    }
   ],
   "source": [
    "class Person:\n",
    "    def __init__(self, name, age):\n",
    "        self.name = name\n",
    "        self.age = age\n",
    "\n",
    "    def introduce(self):\n",
    "        return f\"Hi, I am {self.name} and I am {self.age} years old.\"\n",
    "\n",
    "class Student(Person):\n",
    "    def __init__(self, name, age, student_id):\n",
    "        super().__init__(name, age)\n",
    "        self.student_id = student_id\n",
    "\n",
    "    def study(self, subject):\n",
    "        return f\"{self.name} with ID {self.student_id} is studying {subject}.\"\n",
    "\n",
    "class Professor(Person):\n",
    "    def __init__(self, name, age, employee_id):\n",
    "        super().__init__(name, age)\n",
    "        self.employee_id = employee_id\n",
    "\n",
    "    def teach(self, subject):\n",
    "        return f\"Professor {self.name} with ID {self.employee_id} is teaching {subject}.\"\n",
    "\n",
    "# Example usage in a university context:\n",
    "student1 = Student(\"Alice\", 20, \"S12345\")\n",
    "professor1 = Professor(\"Dr. Smith\", 45, \"P9876\")\n",
    "\n",
    "print(student1.introduce())  # Output: \"Hi, I am Alice and I am 20 years old.\"\n",
    "print(student1.study(\"Mathematics\"))  # Output: \"Alice with ID S12345 is studying Mathematics.\"\n",
    "\n",
    "print(professor1.introduce())  # Output: \"Hi, I am Dr. Smith and I am 45 years old.\"\n",
    "print(professor1.teach(\"Computer Science\"))  # Output: \"Professor Dr. Smith with ID P9876 is teaching Computer Science.\"\n"
   ]
  },
  {
   "cell_type": "markdown",
   "id": "a85f9b53-64d1-4f59-9a98-be1e9a4de4b9",
   "metadata": {},
   "source": [
    "# encapsulation"
   ]
  },
  {
   "cell_type": "markdown",
   "id": "b712e768-2dc0-450f-acf3-0bd199fdf892",
   "metadata": {},
   "source": [
    "## 1. Explain the concept of encapsulation in Python. What is its role in object-oriented programming?"
   ]
  },
  {
   "cell_type": "code",
   "execution_count": 2,
   "id": "c5fafdc7-fe43-4e99-99f6-4fe143c4b423",
   "metadata": {},
   "outputs": [
    {
     "name": "stdout",
     "output_type": "stream",
     "text": [
      "Account balance: 1200\n"
     ]
    }
   ],
   "source": [
    "'''Encapsulation is one of the four fundamental principles of object-oriented programming (OOP), alongside inheritance,\n",
    "   polymorphism, and abstraction. It is a key concept in Python and other OOP languages. Encapsulation involves\n",
    "   bundling an object's data (attributes or properties) and methods (functions or procedures) into a single unit\n",
    "   called a class. The primary purpose of encapsulation is to restrict access to certain parts of an object,\n",
    "   providing data hiding and protecting the integrity of an object's state.\n",
    "   \n",
    "   It provides :>\n",
    "   Data Hiding:\n",
    "   Abstraction:\n",
    "   Acess control:(public,private,protected)\n",
    "   Inheritance and Polymorphism:'''\n",
    "\n",
    "class BankAccount:\n",
    "    def __init__(self, account_number, balance):\n",
    "        self._account_number = account_number  # Protected attribute\n",
    "        self.__balance = balance  # Private attribute\n",
    "\n",
    "    def deposit(self, amount):\n",
    "        self.__balance += amount\n",
    "\n",
    "    def withdraw(self, amount):\n",
    "        if amount <= self.__balance:\n",
    "            self.__balance -= amount\n",
    "        else:\n",
    "            print(\"Insufficient funds.\")\n",
    "\n",
    "    def get_balance(self):\n",
    "        return self.__balance\n",
    "\n",
    "# Example usage:\n",
    "account = BankAccount(\"123456\", 1000)\n",
    "account.deposit(500)\n",
    "account.withdraw(300)\n",
    "print(f\"Account balance: {account.get_balance()}\")\n"
   ]
  },
  {
   "cell_type": "markdown",
   "id": "f128a08c-e303-4aca-8f34-534add3a8cb9",
   "metadata": {},
   "source": [
    "## 2. Describe the key principles of encapsulation, including access control and data hiding."
   ]
  },
  {
   "cell_type": "code",
   "execution_count": 3,
   "id": "71053476-f217-4792-b70d-bb838842edaa",
   "metadata": {},
   "outputs": [
    {
     "name": "stdout",
     "output_type": "stream",
     "text": [
      "John Doe\n"
     ]
    }
   ],
   "source": [
    "'''Data Hiding:\n",
    "\n",
    "Definition: Data hiding is the practice of restricting direct access to an object's internal data (attributes) from\n",
    "  outside the object.\n",
    "Purpose: It prevents unauthorized or unintended modifications of an object's state, ensuring that the data\n",
    "  remains consistent and valid.\n",
    "Implementation: In OOP, data hiding is achieved by designating attributes as private, protected, or public.\n",
    "Private attributes (e.g., __private_attribute) are intended for use within the class, and their names are subject\n",
    "  to name mangling in some languages.\n",
    "Protected attributes (e.g., _protected_attribute) are meant for use within the class and its subclasses. They are\n",
    "  typically indicated by a single leading underscore.\n",
    "Public attributes (e.g., public_attribute) are accessible from outside the class without restrictions.\n",
    "\n",
    "   Access Control:\n",
    "\n",
    "Definition: Access control is the practice of defining and controlling the visibility and accessibility of attributes\n",
    "  and methods within a class.\n",
    "Purpose: It specifies which parts of the class are available for external code to access and modify.\n",
    "Implementation: Access control is typically implemented by designating attributes and methods with access modifiers.\n",
    "Public access modifier: Provides unrestricted access to the attribute or method from external code.\n",
    "Protected access modifier: Limits access to the attribute or method to the class and its subclasses.\n",
    "Private access modifier: Restricts access to the attribute or method to the class in which it is defined.'''\n",
    "\n",
    "class Person:\n",
    "    def __init__(self, name, age):\n",
    "        self.__name = name\n",
    "        self.__age = age\n",
    "\n",
    "    def get_name(self):\n",
    "        return self.__name\n",
    "\n",
    "    def get_age(self):\n",
    "        return self.__age\n",
    "\n",
    "# Create a new Person object.\n",
    "person = Person(\"John Doe\", 30)\n",
    "\n",
    "# Print the name of the person object.\n",
    "print(person.get_name())\n",
    "\n",
    "# Try to access the private __name attribute directly.\n",
    "# This will raise an AttributeError.\n",
    "# print(person.__name)\n"
   ]
  },
  {
   "cell_type": "code",
   "execution_count": 4,
   "id": "ce0fa236-487e-4dfc-96da-9c772207baf5",
   "metadata": {},
   "outputs": [
    {
     "name": "stdout",
     "output_type": "stream",
     "text": [
      "Account number: 123456\n",
      "Deposited $500. New balance: $1500\n",
      "Withdrew $200. New balance: $1300\n",
      "Account balance: $1300\n"
     ]
    }
   ],
   "source": [
    "class BankAccount:\n",
    "    def __init__(self, account_number, initial_balance):\n",
    "        self._account_number = account_number  # Protected attribute\n",
    "        self.__balance = initial_balance  # Private attribute\n",
    "\n",
    "    def deposit(self, amount):\n",
    "        if amount > 0:\n",
    "            self.__balance += amount\n",
    "            print(f\"Deposited ${amount}. New balance: ${self.__balance}\")\n",
    "        else:\n",
    "            print(\"Invalid deposit amount.\")\n",
    "\n",
    "    def withdraw(self, amount):\n",
    "        if amount > 0 and amount <= self.__balance:\n",
    "            self.__balance -= amount\n",
    "            print(f\"Withdrew ${amount}. New balance: ${self.__balance}\")\n",
    "        else:\n",
    "            print(\"Invalid withdrawal amount or insufficient funds.\")\n",
    "\n",
    "    def get_balance(self):\n",
    "        return self.__balance\n",
    "\n",
    "# Example usage:\n",
    "account = BankAccount(\"123456\", 1000)\n",
    "\n",
    "# Accessing a protected attribute\n",
    "print(f\"Account number: {account._account_number}\")\n",
    "\n",
    "# Attempting to access a private attribute directly (name mangling applied)\n",
    "# This will not work and will raise an error.\n",
    "# print(f\"Balance: {account.__balance}\")\n",
    "\n",
    "# Depositing and withdrawing from the account\n",
    "account.deposit(500)\n",
    "account.withdraw(200)\n",
    "\n",
    "# Attempting to access the private attribute through a method\n",
    "# This is the proper way to access it.\n",
    "print(f\"Account balance: ${account.get_balance()}\")\n"
   ]
  },
  {
   "cell_type": "markdown",
   "id": "6d547825-1ba6-4501-b00e-8790e4ac6aca",
   "metadata": {},
   "source": [
    "## 3. How can you achieve encapsulation in Python classes? Provide an example"
   ]
  },
  {
   "cell_type": "code",
   "execution_count": 4,
   "id": "7dfa8de2-1384-43fe-9b44-337d188bb2ca",
   "metadata": {},
   "outputs": [
    {
     "name": "stdout",
     "output_type": "stream",
     "text": [
      "Student name: Alice\n",
      "Student age: 20\n",
      "Student name (direct access): Bob\n",
      "Student name (direct access): Bob\n",
      "Student age (direct access with name mangling): 25\n"
     ]
    }
   ],
   "source": [
    "'''Encapsulation in Python is achieved by controlling access to attributes and methods of a class.\n",
    "   This control is typically established using access modifiers and naming conventions. Here are the steps\n",
    "   to achieve encapsulation in Python:\n",
    "   \n",
    "   Designate Access Modifiers:\n",
    "   Use Public Methods:     '''                                                              \n",
    "   \n",
    "class Student:\n",
    "    def __init__(self, name, age):\n",
    "        self._name = name  # Protected attribute\n",
    "        self.__age = age  # Private attribute\n",
    "\n",
    "    # Public methods for controlled access to attributes\n",
    "    def get_name(self):\n",
    "        return self._name\n",
    "\n",
    "    def set_name(self, name):\n",
    "        if isinstance(name, str):\n",
    "            self._name = name\n",
    "        else:\n",
    "            print(\"Invalid name format.\")\n",
    "\n",
    "    def get_age(self):\n",
    "        return self.__age\n",
    "\n",
    "    def set_age(self, age):\n",
    "        if age > 0:\n",
    "            self.__age = age\n",
    "        else:\n",
    "            print(\"Age must be a positive number.\")\n",
    "\n",
    "# Example usage:\n",
    "student = Student(\"Alice\", 20)\n",
    "\n",
    "# Accessing attributes via public methods\n",
    "print(f\"Student name: {student.get_name()}\")\n",
    "print(f\"Student age: {student.get_age()}\")\n",
    "\n",
    "# Modifying attributes via public methods\n",
    "student.set_name(\"Bob\")\n",
    "student.set_age(25)\n",
    "\n",
    "# Attempting to access attributes directly (not recommended)\n",
    "# This is not following the encapsulation principle.\n",
    "print(f\"Student name (direct access): {student._name}\")\n",
    "#print(f\"Student age (direct access): {student.__age}\")\n",
    "\n",
    "# Attempting to access private attribute using name mangling\n",
    "print(f\"Student name (direct access): {student._name}\")\n",
    "print(f\"Student age (direct access with name mangling): {student._Student__age}\")\n",
    "\n"
   ]
  },
  {
   "cell_type": "code",
   "execution_count": 5,
   "id": "ac97515d-a7c1-4525-8bf9-8830be0441eb",
   "metadata": {},
   "outputs": [
    {
     "name": "stdout",
     "output_type": "stream",
     "text": [
      "Celsius: 25\n",
      "Fahrenheit: 77.0\n",
      "Celsius: 35\n",
      "Fahrenheit: 95.0\n",
      "Celsius: 35.0\n",
      "Fahrenheit: 95.0\n"
     ]
    }
   ],
   "source": [
    "class Temperature:\n",
    "    def __init__(self, celsius):\n",
    "        self._celsius = celsius  # Protected attribute\n",
    "\n",
    "    # Getter method for accessing celsius temperature\n",
    "    def get_celsius(self):\n",
    "        return self._celsius\n",
    "\n",
    "    # Setter method for modifying celsius temperature\n",
    "    def set_celsius(self, value):\n",
    "        if value < -273.15:\n",
    "            print(\"Temperature below absolute zero is not valid.\")\n",
    "        else:\n",
    "            self._celsius = value\n",
    "\n",
    "    # Property for accessing and modifying temperature in Fahrenheit\n",
    "    @property\n",
    "    def fahrenheit(self):\n",
    "        return (self._celsius * 9/5) + 32\n",
    "\n",
    "    @fahrenheit.setter\n",
    "    def fahrenheit(self, value):\n",
    "        self._celsius = (value - 32) * 5/9\n",
    "\n",
    "# Example usage:\n",
    "temp = Temperature(25)\n",
    "print(f\"Celsius: {temp.get_celsius()}\")\n",
    "print(f\"Fahrenheit: {temp.fahrenheit}\")\n",
    "\n",
    "temp.set_celsius(35)\n",
    "print(f\"Celsius: {temp.get_celsius()}\")\n",
    "print(f\"Fahrenheit: {temp.fahrenheit}\")\n",
    "\n",
    "temp.fahrenheit = 95\n",
    "print(f\"Celsius: {temp.get_celsius()}\")\n",
    "print(f\"Fahrenheit: {temp.fahrenheit}\")\n"
   ]
  },
  {
   "cell_type": "markdown",
   "id": "6d091cdc-4e48-4e0e-a43a-abfe2b1a1924",
   "metadata": {},
   "source": [
    "## 4. Discuss the difference between public, private, and protected access modifiers in Python."
   ]
  },
  {
   "cell_type": "code",
   "execution_count": 7,
   "id": "f7a7ff45-16cc-423f-a9ba-135730f303d4",
   "metadata": {},
   "outputs": [],
   "source": [
    "'''Public (No Modifier):\n",
    "\n",
    "Attributes or methods with no access modifier are considered public.\n",
    "Public attributes and methods can be accessed from anywhere, both from within the class and from external code.\n",
    "They have no access restrictions and are accessible using the dot notation.'''\n",
    "\n",
    "class MyClass:\n",
    "    public_attribute = 10  # Public attribute\n",
    "\n",
    "    def public_method(self):\n",
    "        return \"This is a public method\"\n"
   ]
  },
  {
   "cell_type": "code",
   "execution_count": 8,
   "id": "a93464d5-0944-40dd-9394-81d94d9e9a20",
   "metadata": {},
   "outputs": [],
   "source": [
    "'''Private (Double Underscore Prefix):\n",
    "\n",
    "Attributes and methods with a double underscore prefix (e.g., __private_attribute) are considered private.\n",
    "Private attributes and methods are meant for internal use within the class, and their names are subject to name \n",
    "mangling (they get a prefix with the class name).\n",
    "They are not intended to be accessed directly from outside the class, but it is still possible to access them\n",
    "using name mangling.'''\n",
    "\n",
    "class MyClass:\n",
    "    __private_attribute = 20  # Private attribute\n",
    "\n",
    "    def __private_method(self):\n",
    "        return \"This is a private method\"\n"
   ]
  },
  {
   "cell_type": "code",
   "execution_count": 9,
   "id": "a53c7242-2057-49be-a93c-309a4361a590",
   "metadata": {},
   "outputs": [],
   "source": [
    "'''Protected (Single Underscore Prefix):\n",
    "\n",
    "Attributes and methods with a single underscore prefix (e.g., _protected_attribute) are considered protected.\n",
    "Protected attributes and methods are intended for use within the class and its subclasses (derived classes).\n",
    "They are not enforced or restricted by the Python interpreter; the single underscore is a convention to indicate\n",
    "intended usage.(Accessible to objects of the same class and subclasses of the class).\n",
    "External code can still access and modify protected attributes, but it's considered a convention to treat them as\n",
    "non-public.'''\n",
    "\n",
    "class MyBaseClass:\n",
    "    _protected_attribute = 30  # Protected attribute\n",
    "\n",
    "    def _protected_method(self):\n",
    "        return \"This is a protected method\"\n"
   ]
  },
  {
   "cell_type": "markdown",
   "id": "af146a14-d351-44a1-bc78-2c404ba08b5a",
   "metadata": {},
   "source": [
    "## 5. Create a Python class called `Person` with a private attribute `__name`. Provide methods to get and set the name attribute."
   ]
  },
  {
   "cell_type": "code",
   "execution_count": 10,
   "id": "92063f48-4577-467a-8925-3e4c8b0a4884",
   "metadata": {},
   "outputs": [
    {
     "name": "stdout",
     "output_type": "stream",
     "text": [
      "Name: Alice\n",
      "Updated name: Bob\n",
      "Invalid name format. Name must be a string.\n"
     ]
    }
   ],
   "source": [
    "class Person:\n",
    "    def __init__(self, name):\n",
    "        self.__name = name  # Private attribute\n",
    "\n",
    "    def get_name(self):\n",
    "        return self.__name\n",
    "\n",
    "    def set_name(self, name):\n",
    "        if isinstance(name, str):\n",
    "            self.__name = name\n",
    "        else:\n",
    "            print(\"Invalid name format. Name must be a string.\")\n",
    "\n",
    "# Example usage:\n",
    "person = Person(\"Alice\")\n",
    "\n",
    "# Get the name\n",
    "print(f\"Name: {person.get_name()}\")\n",
    "\n",
    "# Set a new name\n",
    "person.set_name(\"Bob\")\n",
    "print(f\"Updated name: {person.get_name()}\")\n",
    "\n",
    "# Attempting to set an invalid name\n",
    "person.set_name(42)\n"
   ]
  },
  {
   "cell_type": "code",
   "execution_count": 11,
   "id": "0cee3334-8dfd-40a4-9329-3ea8c452319a",
   "metadata": {},
   "outputs": [
    {
     "name": "stdout",
     "output_type": "stream",
     "text": [
      "John Doe\n",
      "Jane Doe\n"
     ]
    }
   ],
   "source": [
    "class Person:\n",
    "    def __init__(self, name):\n",
    "        self.__name = name\n",
    "\n",
    "    def get_name(self):\n",
    "        return self.__name\n",
    "\n",
    "    def set_name(self, name):\n",
    "        if not isinstance(name, str):\n",
    "            raise TypeError(\"Name must be a string.\")\n",
    "        self.__name = name\n",
    "\n",
    "# Create a new Person object.\n",
    "person = Person(\"John Doe\")\n",
    "\n",
    "# Print the person's name.\n",
    "print(person.get_name())\n",
    "\n",
    "# Set the person's name.\n",
    "person.set_name(\"Jane Doe\")\n",
    "\n",
    "# Print the person's name.\n",
    "print(person.get_name())\n"
   ]
  },
  {
   "cell_type": "markdown",
   "id": "872b71d1-ca3a-47a8-a3b3-218a1830f16b",
   "metadata": {},
   "source": [
    "## 6. Explain the purpose of getter and setter methods in encapsulation. Provide examples."
   ]
  },
  {
   "cell_type": "code",
   "execution_count": 12,
   "id": "450ff166-fe34-425f-b8db-fea5d27bcd98",
   "metadata": {},
   "outputs": [
    {
     "name": "stdout",
     "output_type": "stream",
     "text": [
      "John Doe\n",
      "35\n"
     ]
    }
   ],
   "source": [
    "class Person:\n",
    "    def __init__(self, name, age):\n",
    "        self.__name = name\n",
    "        self.__age = age\n",
    "\n",
    "    def get_name(self):\n",
    "        return self.__name\n",
    "\n",
    "    def set_name(self, name):\n",
    "        if not isinstance(name, str):\n",
    "            raise TypeError(\"Name must be a string.\")\n",
    "        self.__name = name\n",
    "\n",
    "    def get_age(self):\n",
    "        return self.__age\n",
    "\n",
    "    def set_age(self, age):\n",
    "        if not isinstance(age, int):\n",
    "            raise TypeError(\"Age must be an integer.\")\n",
    "        if age < 0:\n",
    "            raise ValueError(\"Age must be non-negative.\")\n",
    "        self.__age = age\n",
    "\n",
    "# Create a new Person object.\n",
    "person = Person(\"John Doe\", 30)\n",
    "\n",
    "# Print the person's name.\n",
    "print(person.get_name())\n",
    "\n",
    "# Set the person's age.\n",
    "person.set_age(35)\n",
    "\n",
    "# Print the person's age.\n",
    "print(person.get_age())\n"
   ]
  },
  {
   "cell_type": "code",
   "execution_count": 13,
   "id": "30a78c90-d8d5-483d-aa0e-668caa316a39",
   "metadata": {},
   "outputs": [
    {
     "name": "stdout",
     "output_type": "stream",
     "text": [
      "Celsius: 25\n",
      "Temperature below absolute zero is not valid.\n"
     ]
    }
   ],
   "source": [
    "class Temperature:\n",
    "    def __init__(self, celsius):\n",
    "        self._celsius = celsius  # Protected attribute\n",
    "\n",
    "    @property\n",
    "    def celsius(self):\n",
    "        return self._celsius\n",
    "\n",
    "    @celsius.setter\n",
    "    def celsius(self, value):\n",
    "        if value < -273.15:\n",
    "            print(\"Temperature below absolute zero is not valid.\")\n",
    "        else:\n",
    "            self._celsius = value\n",
    "\n",
    "# Example usage:\n",
    "temp = Temperature(25)\n",
    "\n",
    "# Accessing the celsius attribute using property\n",
    "print(f\"Celsius: {temp.celsius}\")\n",
    "\n",
    "# Modifying the celsius attribute using property\n",
    "temp.celsius = 35\n",
    "\n",
    "# Attempting to set an invalid celsius value\n",
    "temp.celsius = -300\n"
   ]
  },
  {
   "cell_type": "markdown",
   "id": "2b595166-bafd-49c3-8514-ddea5735c686",
   "metadata": {},
   "source": [
    "## 7. What is name mangling in Python, and how does it affect encapsulation?"
   ]
  },
  {
   "cell_type": "code",
   "execution_count": 21,
   "id": "c18fa97a-4df8-4bd9-bfce-586aad1899f8",
   "metadata": {},
   "outputs": [
    {
     "name": "stdout",
     "output_type": "stream",
     "text": [
      "42\n",
      "42\n"
     ]
    },
    {
     "data": {
      "text/plain": [
       "\"In this example, the private variable __private_var is subject to name mangling, making it harder to access\\n   from a subclass. However, it's important to note that access to __private_var is still possible using name \\n   mangling, but it's not a recommended practice. Instead, encapsulation principles suggest using getter and \\n   setter methods or property decorators to access or modify such attributes to maintain control and data integrity.\""
      ]
     },
     "execution_count": 21,
     "metadata": {},
     "output_type": "execute_result"
    }
   ],
   "source": [
    "'''Name mangling in Python is a mechanism that transforms the name of attributes and methods by adding a prefix\n",
    "   to their names. This is done to make it less likely that a private or protected attribute in a class will \n",
    "   accidentally collide with the same attribute in a subclass, and to discourage direct access to these \n",
    "   attributes from outside the class. Name mangling affects encapsulation by providing a way to create \n",
    "   attributes with restricted access.'''\n",
    "\n",
    "class MyClass:\n",
    "    def __init__(self):\n",
    "        self.__private_var = 42  # Private variable\n",
    "\n",
    "    def get_private_var(self):\n",
    "        return self.__private_var\n",
    "\n",
    "class MySubClass(MyClass):\n",
    "    def __init__(self):\n",
    "        super().__init__()  # Corrected call to superclass constructor\n",
    "\n",
    "# Access private attribute in the subclass\n",
    "sub_obj = MySubClass()\n",
    "print(sub_obj.get_private_var())  # This works because the method is public\n",
    "\n",
    "# Access private attribute using name mangling (not recommended)\n",
    "print(sub_obj._MyClass__private_var)\n",
    "\n",
    "\n",
    "\n",
    "'''In this example, the private variable __private_var is subject to name mangling, making it harder to access\n",
    "   from a subclass. However, it's important to note that access to __private_var is still possible using name \n",
    "   mangling, but it's not a recommended practice. Instead, encapsulation principles suggest using getter and \n",
    "   setter methods or property decorators to access or modify such attributes to maintain control and data integrity.'''"
   ]
  },
  {
   "cell_type": "markdown",
   "id": "3c1d0860-9a3b-4436-bda6-4667bcdea9d2",
   "metadata": {},
   "source": [
    "## 8. Create a Python class called `BankAccount` with private attributes for the account balance (`__balance`) and account number (`__account_number`). Provide methods for depositing and withdrawing money."
   ]
  },
  {
   "cell_type": "code",
   "execution_count": 22,
   "id": "6f51902c-d4fa-47cf-be0d-a289a02e3dcb",
   "metadata": {},
   "outputs": [
    {
     "name": "stdout",
     "output_type": "stream",
     "text": [
      "Account Number: 12345\n",
      "Initial Balance: $1000.0\n",
      "Deposited $500. New balance: $1500.0\n",
      "Withdrew $200. New balance: $1300.0\n",
      "Invalid withdrawal amount or insufficient funds.\n"
     ]
    }
   ],
   "source": [
    "class BankAccount:\n",
    "    def __init__(self, account_number, initial_balance=0.0):\n",
    "        self.__account_number = account_number  # Private attribute for account number\n",
    "        self.__balance = initial_balance  # Private attribute for account balance\n",
    "\n",
    "    def deposit(self, amount):\n",
    "        if amount > 0:\n",
    "            self.__balance += amount\n",
    "            print(f\"Deposited ${amount}. New balance: ${self.__balance}\")\n",
    "        else:\n",
    "            print(\"Invalid deposit amount. Please deposit a positive amount.\")\n",
    "\n",
    "    def withdraw(self, amount):\n",
    "        if amount > 0 and amount <= self.__balance:\n",
    "            self.__balance -= amount\n",
    "            print(f\"Withdrew ${amount}. New balance: ${self.__balance}\")\n",
    "        else:\n",
    "            print(\"Invalid withdrawal amount or insufficient funds.\")\n",
    "\n",
    "    def get_balance(self):\n",
    "        return self.__balance\n",
    "\n",
    "    def get_account_number(self):\n",
    "        return self.__account_number\n",
    "\n",
    "# Example usage:\n",
    "account = BankAccount(\"12345\", 1000.0)\n",
    "\n",
    "print(f\"Account Number: {account.get_account_number()}\")\n",
    "print(f\"Initial Balance: ${account.get_balance()}\")\n",
    "\n",
    "account.deposit(500)\n",
    "account.withdraw(200)\n",
    "account.withdraw(1500)  # Attempt to withdraw more than the balance\n"
   ]
  },
  {
   "cell_type": "markdown",
   "id": "c61c44ef-5c55-4e49-8194-463167fd86c0",
   "metadata": {},
   "source": [
    "## 9. Discuss the advantages of encapsulation in terms of code maintainability and security."
   ]
  },
  {
   "cell_type": "code",
   "execution_count": 23,
   "id": "691cbbb4-4b66-414e-9150-868b5080cd13",
   "metadata": {},
   "outputs": [
    {
     "name": "stdout",
     "output_type": "stream",
     "text": [
      "1300\n"
     ]
    }
   ],
   "source": [
    "'''Code:\n",
    "\n",
    "Improved readability and understandability: Encapsulation helps to make code more readable and understandable by\n",
    "grouping related data and functionality into a single class. This makes it easier to see how the code works and to\n",
    "identify and fix bugs.\n",
    "Reduced coupling: Encapsulation helps to reduce coupling between different parts of the code by hiding the\n",
    "implementation details of each class. This makes the code more modular and easier to maintain.\n",
    "Increased flexibility: Encapsulation makes it easier to make changes to the code without affecting other\n",
    "parts of the code. This is because the implementation details of each class are hidden from other classes.\n",
    "\n",
    "   Security:\n",
    "\n",
    "Protection from unauthorized access: Encapsulation can help to protect sensitive data from unauthorized access by\n",
    "making the data private and only accessible through public methods.\n",
    "Prevention of accidental modification: Encapsulation can help to prevent accidental modification of sensitive\n",
    "data by hiding the implementation details of the class.\n",
    "Reduction of attack surface: Encapsulation can help to reduce the attack surface of the code by making it more \n",
    "difficult for attackers to find and exploit vulnerabilities.'''\n",
    "\n",
    "class BankAccount:\n",
    "    def __init__(self, account_number, balance):\n",
    "        self.__account_number = account_number\n",
    "        self.__balance = balance\n",
    "\n",
    "    def deposit(self, amount):\n",
    "        if amount < 0:\n",
    "            raise ValueError(\"Deposit amount must be non-negative.\")\n",
    "        self.__balance += amount\n",
    "\n",
    "    def withdraw(self, amount):\n",
    "        if amount < 0:\n",
    "            raise ValueError(\"Withdraw amount must be non-negative.\")\n",
    "        if amount > self.__balance:\n",
    "            raise ValueError(\"Insufficient funds.\")\n",
    "        self.__balance -= amount\n",
    "\n",
    "    def get_balance(self):\n",
    "        return self.__balance\n",
    "\n",
    "    def get_account_number(self):\n",
    "        return self.__account_number\n",
    "\n",
    "# Example usage:\n",
    "\n",
    "account = BankAccount(1234567890, 1000)\n",
    "\n",
    "# Deposit $500\n",
    "account.deposit(500)\n",
    "\n",
    "# Withdraw $200\n",
    "account.withdraw(200)\n",
    "\n",
    "# Get the account balance\n",
    "balance = account.get_balance()\n",
    "\n",
    "# Print the account balance\n",
    "print(balance)\n"
   ]
  },
  {
   "cell_type": "markdown",
   "id": "d3644847-a7fd-4bd4-9cfc-55f416a99573",
   "metadata": {},
   "source": [
    "## 10. How can you access private attributes in Python? Provide an example demonstrating the use of name mangling."
   ]
  },
  {
   "cell_type": "code",
   "execution_count": 25,
   "id": "aa73a0fc-b86a-4f74-a09f-105c70ad5417",
   "metadata": {},
   "outputs": [
    {
     "name": "stdout",
     "output_type": "stream",
     "text": [
      "42\n"
     ]
    }
   ],
   "source": [
    "'''In Python, private attributes can be accessed using name mangling, although it's generally discouraged and\n",
    "   considered against the principles of encapsulation. Name mangling involves manipulating the attribute name\n",
    "   to access it, but it's not recommended due to its potential for breaking encapsulation and making the code more\n",
    "   brittle.'''\n",
    "\n",
    "class MyClass:\n",
    "    def __init__(self):\n",
    "        self.__private_var = 42  # Private attribute\n",
    "\n",
    "# Accessing the private attribute using name mangling (not recommended)\n",
    "obj = MyClass()\n",
    "print(obj._MyClass__private_var)\n"
   ]
  },
  {
   "cell_type": "markdown",
   "id": "9cc077ce-226d-438d-bd24-3d5c589e9004",
   "metadata": {},
   "source": [
    "## 11. Create a Python class hierarchy for a school system, including classes for students, teachers, and courses, and implement encapsulation principles to protect sensitive information."
   ]
  },
  {
   "cell_type": "code",
   "execution_count": 27,
   "id": "28f070ee-0c61-49b8-bcf1-085a7c3fdc65",
   "metadata": {},
   "outputs": [
    {
     "name": "stdout",
     "output_type": "stream",
     "text": [
      "Student Name: Alice\n",
      "Teacher Name: Mr. Smith\n",
      "Course Name: Introduction to Mathematics\n"
     ]
    }
   ],
   "source": [
    "class Person:\n",
    "    def __init__(self, name, age, id_number):\n",
    "        self.__name = name  # Private attribute for name\n",
    "        self.__age = age    # Private attribute for age\n",
    "        self.__id_number = id_number  # Private attribute for ID\n",
    "\n",
    "    def get_name(self):\n",
    "        return self.__name  # Getter method for name\n",
    "\n",
    "    def get_age(self):\n",
    "        return self.__age  # Getter method for age\n",
    "\n",
    "    def get_id_number(self):\n",
    "        return self.__id_number  # Getter method for ID\n",
    "\n",
    "\n",
    "class Student(Person):\n",
    "    def __init__(self, name, age, id_number, student_id):\n",
    "        super().__init__(name, age, id_number)\n",
    "        self.__student_id = student_id  # Private attribute for student ID\n",
    "\n",
    "    def get_student_id(self):\n",
    "        return self.__student_id  # Getter method for student ID\n",
    "\n",
    "\n",
    "class Teacher(Person):\n",
    "    def __init__(self, name, age, id_number, employee_id):\n",
    "        super().__init__(name, age, id_number)\n",
    "        self.__employee_id = employee_id  # Private attribute for employee ID\n",
    "\n",
    "    def get_employee_id(self):\n",
    "        return self.__employee_id  # Getter method for employee ID\n",
    "\n",
    "\n",
    "class Course:\n",
    "    def __init__(self, course_code, course_name):\n",
    "        self.__course_code = course_code  # Private attribute for course code\n",
    "        self.__course_name = course_name  # Private attribute for course name\n",
    "\n",
    "    def get_course_code(self):\n",
    "        return self.__course_code  # Getter method for course code\n",
    "\n",
    "    def get_course_name(self):\n",
    "        return self.__course_name  # Getter method for course name\n",
    "\n",
    "\n",
    "# Example usage:\n",
    "student = Student(\"Alice\", 18, \"S12345\", \"A9876\")\n",
    "teacher = Teacher(\"Mr. Smith\", 40, \"T67890\", \"T54321\")\n",
    "math_course = Course(\"MATH101\", \"Introduction to Mathematics\")\n",
    "\n",
    "# Accessing information using getters\n",
    "print(f\"Student Name: {student.get_name()}\")\n",
    "print(f\"Teacher Name: {teacher.get_name()}\")\n",
    "print(f\"Course Name: {math_course.get_course_name()}\")\n"
   ]
  },
  {
   "cell_type": "markdown",
   "id": "7b6708d3-f9c2-4968-85c9-04db6b9fe21f",
   "metadata": {},
   "source": [
    "## 12. Explain the concept of property decorators in Python and how they relate to encapsulation"
   ]
  },
  {
   "cell_type": "code",
   "execution_count": 33,
   "id": "ed2b88f8-5f25-4218-a2e1-49beacf6b083",
   "metadata": {},
   "outputs": [
    {
     "name": "stdout",
     "output_type": "stream",
     "text": [
      "Circle's radius: 5\n",
      "Circle's area: 78.5\n",
      "Updated radius: 7\n",
      "Radius must be non-negative.\n",
      "Deleting the radius attribute.\n"
     ]
    }
   ],
   "source": [
    "'''Property decorators help ensure that the encapsulated attribute is accessed, modified, and deleted\n",
    "   through well-defined interfaces, making the code more maintainable and secure.'''\n",
    "\n",
    "class Circle:\n",
    "    def __init__(self, radius):\n",
    "        self._radius = radius  # Encapsulated attribute\n",
    "\n",
    "    @property\n",
    "    def radius(self):\n",
    "        return self._radius\n",
    "\n",
    "    @radius.setter\n",
    "    def radius(self, value):\n",
    "        if value >= 0:\n",
    "            self._radius = value\n",
    "        else:\n",
    "            raise ValueError(\"Radius must be non-negative.\")\n",
    "\n",
    "    @radius.deleter\n",
    "    def radius(self):\n",
    "        print(\"Deleting the radius attribute.\")\n",
    "        del self._radius\n",
    "\n",
    "    @property\n",
    "    def area(self):\n",
    "        return 3.14 * self._radius * self._radius\n",
    "\n",
    "# Example usage:\n",
    "circle = Circle(5)\n",
    "print(f\"Circle's radius: {circle.radius}\")\n",
    "print(f\"Circle's area: {circle.area}\")\n",
    "\n",
    "circle.radius = 7  # Set a new radius\n",
    "print(f\"Updated radius: {circle.radius}\")\n",
    "\n",
    "try:\n",
    "    circle.radius = -2  # Attempt to set a negative radius (raises an exception)\n",
    "except ValueError as e:\n",
    "    print(e)\n",
    "\n",
    "del circle.radius  # Deleting the radius attribute\n"
   ]
  },
  {
   "cell_type": "markdown",
   "id": "20e71e39-89cb-4ff0-b404-d68214c6d52d",
   "metadata": {},
   "source": [
    "## 13. What is data hiding, and why is it important in encapsulation? Provide examples"
   ]
  },
  {
   "cell_type": "code",
   "execution_count": 34,
   "id": "07861ec7-2fd9-4b70-9ab5-7bdb9b1f1f4f",
   "metadata": {},
   "outputs": [
    {
     "name": "stdout",
     "output_type": "stream",
     "text": [
      "Account Number: 12345\n",
      "Initial Balance: $1000.0\n"
     ]
    }
   ],
   "source": [
    "'''Data hiding is a software design principle that involves concealing the implementation details of a class from\n",
    "   other classes. This is done by making the class's attributes and methods private.\n",
    "\n",
    "Data hiding is important in encapsulation because it helps to:\n",
    "\n",
    "Protect the integrity of the data: By hiding the implementation details of the class, it is more difficult for\n",
    "   other classes to accidentally modify the class's data.\n",
    "Prevent misuse of the class: By hiding the implementation details of the class, it is more difficult for other\n",
    "   classes to misuse the class.\n",
    "Promote modularity: By hiding the implementation details of the class, the class is more independent of other\n",
    "   classes. This makes the code more modular and easier to maintain.'''\n",
    "\n",
    "class BankAccount:\n",
    "    def __init__(self, account_number, initial_balance=0.0):\n",
    "        self.__account_number = account_number  # Private attribute for account number\n",
    "        self.__balance = initial_balance  # Private attribute for account balance\n",
    "\n",
    "    def deposit(self, amount):\n",
    "        if amount > 0:\n",
    "            self.__balance += amount\n",
    "            print(f\"Deposited ${amount}. New balance: ${self.__balance}\")\n",
    "        else:\n",
    "            print(\"Invalid deposit amount. Please deposit a positive amount.\")\n",
    "\n",
    "    def withdraw(self, amount):\n",
    "        if amount > 0 and amount <= self.__balance:\n",
    "            self.__balance -= amount\n",
    "            print(f\"Withdrew ${amount}. New balance: ${self.__balance}\")\n",
    "        else:\n",
    "            print(\"Invalid withdrawal amount or insufficient funds.\")\n",
    "\n",
    "    def get_balance(self):\n",
    "        return self.__balance\n",
    "\n",
    "    def get_account_number(self):\n",
    "        return self.__account_number\n",
    "\n",
    "# Example usage:\n",
    "account = BankAccount(\"12345\", 1000.0)\n",
    "\n",
    "# Attempting to access private attributes directly (data hiding prevents this)\n",
    "# Uncommenting the following lines would raise errors:\n",
    "# print(account.__balance)\n",
    "# print(account.__account_number)\n",
    "\n",
    "# Accessing information using getters (controlled access)\n",
    "print(f\"Account Number: {account.get_account_number()}\")\n",
    "print(f\"Initial Balance: ${account.get_balance()}\")\n"
   ]
  },
  {
   "cell_type": "markdown",
   "id": "b62ec5ff-500e-489c-9df3-087e24e610cf",
   "metadata": {},
   "source": [
    "## 14. Create a Python class called `Employee` with private attributes for salary (`__salary`) and employee ID (`__employee_id`). Provide a method to calculate yearly bonuses."
   ]
  },
  {
   "cell_type": "code",
   "execution_count": 35,
   "id": "2b1e333c-a0b4-48c9-9c80-70402cbb8fd6",
   "metadata": {},
   "outputs": [
    {
     "name": "stdout",
     "output_type": "stream",
     "text": [
      "Employee ID: E12345\n",
      "Salary: $60000\n",
      "Yearly Bonus: $6000.0\n"
     ]
    }
   ],
   "source": [
    "class Employee:\n",
    "    def __init__(self, employee_id, salary):\n",
    "        self.__employee_id = employee_id  # Private attribute for employee ID\n",
    "        self.__salary = salary  # Private attribute for salary\n",
    "\n",
    "    def calculate_yearly_bonus(self, bonus_percentage):\n",
    "        if bonus_percentage < 0 or bonus_percentage > 100:\n",
    "            raise ValueError(\"Bonus percentage must be between 0 and 100.\")\n",
    "        bonus_amount = (bonus_percentage / 100) * self.__salary\n",
    "        return bonus_amount\n",
    "\n",
    "    def get_employee_id(self):\n",
    "        return self.__employee_id\n",
    "\n",
    "    def get_salary(self):\n",
    "        return self.__salary\n",
    "\n",
    "# Example usage:\n",
    "employee = Employee(\"E12345\", 60000)\n",
    "\n",
    "# Accessing employee information using getters (controlled access)\n",
    "print(f\"Employee ID: {employee.get_employee_id()}\")\n",
    "print(f\"Salary: ${employee.get_salary()}\")\n",
    "\n",
    "# Calculate yearly bonus\n",
    "bonus_percentage = 10  # 10% bonus\n",
    "bonus = employee.calculate_yearly_bonus(bonus_percentage)\n",
    "print(f\"Yearly Bonus: ${bonus}\")\n"
   ]
  },
  {
   "cell_type": "markdown",
   "id": "2fc75039-74ff-4257-a0fe-34453ce106aa",
   "metadata": {},
   "source": [
    "## 15. Discuss the use of accessors and mutators in encapsulation. How do they help maintain control over attribute access?"
   ]
  },
  {
   "cell_type": "code",
   "execution_count": 40,
   "id": "1fe580ed-358b-43bc-ba75-330bc84186c4",
   "metadata": {},
   "outputs": [
    {
     "name": "stdout",
     "output_type": "stream",
     "text": [
      "Width: 5\n",
      "Height: 10\n",
      "Area: 60\n"
     ]
    }
   ],
   "source": [
    "class Rectangle:\n",
    "    def __init__(self, width, height):\n",
    "        self.__width = width  # Private attribute for width\n",
    "        self.__height = height  # Private attribute for height\n",
    "\n",
    "    # Accessor (Getter) for width\n",
    "    def get_width(self):\n",
    "        return self.__width\n",
    "\n",
    "    # Accessor (Getter) for height\n",
    "    def get_height(self):\n",
    "        return self.__height\n",
    "\n",
    "    # Mutator (Setter) for width\n",
    "    def set_width(self, width):\n",
    "        if width > 0:\n",
    "            self.__width = width\n",
    "        else:\n",
    "            print(\"Invalid width. Width must be a positive value.\")\n",
    "\n",
    "    # Mutator (Setter) for height\n",
    "    def set_height(self, height):\n",
    "        if height > 0:\n",
    "            self.__height = height\n",
    "        else:\n",
    "            print(\"Invalid height. Height must be a positive value.\")\n",
    "\n",
    "    # Method to calculate the area\n",
    "    def calculate_area(self):\n",
    "        return self.__width * self.__height\n",
    "\n",
    "# Example usage:\n",
    "rectangle = Rectangle(5, 10)\n",
    "\n",
    "# Accessors (Getters)\n",
    "print(f\"Width: {rectangle.get_width()}\")\n",
    "print(f\"Height: {rectangle.get_height()}\")\n",
    "\n",
    "# Mutators (Setters)\n",
    "rectangle.set_width=7\n",
    "rectangle.set_height(12)\n",
    "\n",
    "# Calculate and display the area\n",
    "area = rectangle.calculate_area()\n",
    "print(f\"Area: {area}\")\n"
   ]
  },
  {
   "cell_type": "markdown",
   "id": "1183b3f2-01c5-44e7-81ee-5e4b7aeabc19",
   "metadata": {},
   "source": [
    "## 16. What are the potential drawbacks or disadvantages of using encapsulation in Python?"
   ]
  },
  {
   "cell_type": "code",
   "execution_count": 41,
   "id": "760de338-d32e-4687-be6c-d449462082a0",
   "metadata": {},
   "outputs": [
    {
     "name": "stdout",
     "output_type": "stream",
     "text": [
      "Invalid age. Age must be a non-negative value.\n",
      "Invalid GPA. GPA must be between 0 and 4.0.\n",
      "Name: Alice\n",
      "Age: 20\n",
      "GPA: 3.5\n"
     ]
    }
   ],
   "source": [
    "'''Encapsulation is a powerful technique for improving the code quality, but it also has some potential\n",
    "drawbacks or disadvantages:\n",
    "\n",
    "Increased code complexity: Encapsulation can make code more complex, especially for large and complex systems. \n",
    "This is because it requires the developer to think carefully about which attributes and methods to make private\n",
    "and which to make public.\n",
    "Reduced performance: Encapsulation can lead to reduced performance, especially when there is a lot of indirect access\n",
    "to private attributes and methods. This is because the interpreter needs to perform additional steps to access these\n",
    "attributes and methods.\n",
    "Limited flexibility: Encapsulation can limit the flexibility of the code, especially when it is necessary to make\n",
    "changes to the implementation details of a class. This is because changes to private attributes and methods can have \n",
    "unintended consequences for other classes that use the class.\n",
    "\n",
    "Here are some tips for minimizing the drawbacks of encapsulation:\n",
    "\n",
    "Use encapsulation judiciously. Only encapsulate attributes and methods that need to be protected from unauthorized\n",
    "access or accidental modification.\n",
    "Provide public methods for accessing and modifying private attributes and methods. This will help to improve the\n",
    "performance and flexibility of the code.\n",
    "Use documentation to explain how to use the public methods of a class. This will help other developers to\n",
    "understand how to use the class without having to worry about the implementation details.'''\n",
    "\n",
    "class Student:\n",
    "    def __init__(self, name, age, gpa):\n",
    "        self.__name = name  # Private attribute for name\n",
    "        self.__age = age    # Private attribute for age\n",
    "        self.__gpa = gpa    # Private attribute for GPA\n",
    "\n",
    "    # Getter methods\n",
    "    def get_name(self):\n",
    "        return self.__name\n",
    "\n",
    "    def get_age(self):\n",
    "        return self.__age\n",
    "\n",
    "    def get_gpa(self):\n",
    "        return self.__gpa\n",
    "\n",
    "    # Setter methods\n",
    "    def set_name(self, name):\n",
    "        self.__name = name\n",
    "\n",
    "    def set_age(self, age):\n",
    "        if age >= 0:\n",
    "            self.__age = age\n",
    "        else:\n",
    "            print(\"Invalid age. Age must be a non-negative value.\")\n",
    "\n",
    "    def set_gpa(self, gpa):\n",
    "        if 0 <= gpa <= 4.0:\n",
    "            self.__gpa = gpa\n",
    "        else:\n",
    "            print(\"Invalid GPA. GPA must be between 0 and 4.0.\")\n",
    "\n",
    "# Example usage:\n",
    "student = Student(\"Alice\", 20, 3.5)\n",
    "\n",
    "# Accessing attributes using getters (controlled access)\n",
    "name = student.get_name()\n",
    "age = student.get_age()\n",
    "gpa = student.get_gpa()\n",
    "\n",
    "# Changing attributes using setters\n",
    "student.set_name(\"Bob\")\n",
    "student.set_age(-5)  # This demonstrates limited control over attributes\n",
    "student.set_gpa(5.5)  # This demonstrates limited control over attributes\n",
    "\n",
    "# Displaying updated information\n",
    "print(f\"Name: {name}\")\n",
    "print(f\"Age: {age}\")\n",
    "print(f\"GPA: {gpa}\")\n"
   ]
  },
  {
   "cell_type": "markdown",
   "id": "05927fd3-bb4a-456e-83d6-ff4782be3732",
   "metadata": {},
   "source": [
    "## 17. Create a Python class for a library system that encapsulates book information, including titles, authors, and availability status."
   ]
  },
  {
   "cell_type": "code",
   "execution_count": 43,
   "id": "191756e0-cf6e-41b4-8841-42a9dea78e0a",
   "metadata": {},
   "outputs": [
    {
     "name": "stdout",
     "output_type": "stream",
     "text": [
      "Book 1 Information:\n",
      "Title: The Catcher in the Rye\n",
      "Author: J.D. Salinger\n",
      "Availability: Available\n",
      "Availability: True\n",
      "Book checked out successfully.\n",
      "Book 1 Information:\n",
      "Title: The Catcher in the Rye\n",
      "Author: J.D. Salinger\n",
      "Availability: Not Available\n",
      "Availability: False\n",
      "Book returned successfully.\n",
      "Book 1 Information:\n",
      "Title: The Catcher in the Rye\n",
      "Author: J.D. Salinger\n",
      "Availability: Available\n",
      "Availability: True\n"
     ]
    }
   ],
   "source": [
    "class Book:\n",
    "    def __init__(self, title, author):\n",
    "        self.__title = title  # Private attribute for the book's title\n",
    "        self.__author = author  # Private attribute for the book's author\n",
    "        self.__available = True  # Private attribute for availability status\n",
    "\n",
    "    # Getter method for title\n",
    "    def get_title(self):\n",
    "        return self.__title\n",
    "\n",
    "    # Getter method for author\n",
    "    def get_author(self):\n",
    "        return self.__author\n",
    "\n",
    "    # Getter method for availability status\n",
    "    def is_available(self):\n",
    "        return self.__available\n",
    "\n",
    "    # Method to check out the book\n",
    "    def check_out(self):\n",
    "        if self.__available:\n",
    "            self.__available = False\n",
    "            return \"Book checked out successfully.\"\n",
    "        else:\n",
    "            return \"Book is not available.\"\n",
    "\n",
    "    # Method to return the book\n",
    "    def return_book(self):\n",
    "        if not self.__available:\n",
    "            self.__available = True\n",
    "            return \"Book returned successfully.\"\n",
    "        else:\n",
    "            return \"Book is already available.\"\n",
    "\n",
    "    def __str__(self):\n",
    "        availability = \"Available\" if self.__available else \"Not Available\"\n",
    "        return f\"Title: {self.__title}\\nAuthor: {self.__author}\\nAvailability: {availability}\"\n",
    "\n",
    "# Example usage:\n",
    "book1 = Book(\"The Catcher in the Rye\", \"J.D. Salinger\")\n",
    "book2 = Book(\"To Kill a Mockingbird\", \"Harper Lee\")\n",
    "\n",
    "# Display book information and availability\n",
    "print(\"Book 1 Information:\")\n",
    "print(book1)\n",
    "print(\"Availability:\", book1.is_available())\n",
    "\n",
    "# Check out a book\n",
    "print(book1.check_out())\n",
    "\n",
    "# Display book information and availability after checking out\n",
    "print(\"Book 1 Information:\")\n",
    "print(book1)\n",
    "print(\"Availability:\", book1.is_available())\n",
    "\n",
    "# Return the book\n",
    "print(book1.return_book())\n",
    "\n",
    "# Display book information and availability after returning\n",
    "print(\"Book 1 Information:\")\n",
    "print(book1)\n",
    "print(\"Availability:\", book1.is_available())\n"
   ]
  },
  {
   "cell_type": "markdown",
   "id": "937f56ca-e42d-436c-9256-dbea8db91f18",
   "metadata": {},
   "source": [
    "## 18. Explain how encapsulation enhances code reusability and modularity in Python programs"
   ]
  },
  {
   "cell_type": "code",
   "execution_count": 44,
   "id": "763be53d-7c28-49ec-9e59-f05c438d11a5",
   "metadata": {},
   "outputs": [
    {
     "name": "stdout",
     "output_type": "stream",
     "text": [
      "1300\n"
     ]
    }
   ],
   "source": [
    "\n",
    "'''Code reusability: Encapsulation allows us to reuse code by encapsulating related data and functionality \n",
    "   into classes.Once we have created a class, we can create multiple instances of the class and use them in our program.\n",
    "   This can save us time and effort, as we do not need to rewrite the code for each instance.\n",
    "\n",
    "   Modularity: Encapsulation helps to make code more modular by separating the code into different classes.\n",
    "   Each class can be developed and tested independently of the other classes. This makes the code easier to \n",
    "   understand and maintain.\n",
    "\n",
    "For example, we can create a class for a bank account that encapsulates the account balance and account number.\n",
    "We can then create multiple instances of the bank account class to represent different bank accounts. We can also\n",
    "create other classes, such as a deposit class and a withdrawal class, to encapsulate the functionality of depositing\n",
    "and withdrawing money from a bank account.'''\n",
    "\n",
    "class BankAccount:\n",
    "    def __init__(self, account_number, balance):\n",
    "        self.__account_number = account_number\n",
    "        self.__balance = balance\n",
    "\n",
    "    def deposit(self, amount):\n",
    "        if amount < 0:\n",
    "            raise ValueError(\"Deposit amount must be non-negative.\")\n",
    "        self.__balance += amount\n",
    "\n",
    "    def withdraw(self, amount):\n",
    "        if amount < 0:\n",
    "            raise ValueError(\"Withdraw amount must be non-negative.\")\n",
    "        if amount > self.__balance:\n",
    "            raise ValueError(\"Insufficient funds.\")\n",
    "        self.__balance -= amount\n",
    "\n",
    "    def get_balance(self):\n",
    "        return self.__balance\n",
    "\n",
    "# Create a new bank account object.\n",
    "account = BankAccount(1234567890, 1000)\n",
    "\n",
    "# Deposit $500.\n",
    "account.deposit(500)\n",
    "\n",
    "# Withdraw $200.\n",
    "account.withdraw(200)\n",
    "\n",
    "# Get the account balance.\n",
    "balance = account.get_balance()\n",
    "\n",
    "# Print the account balance.\n",
    "print(balance)\n"
   ]
  },
  {
   "cell_type": "markdown",
   "id": "b712fafe-452f-4298-a79e-584702ec9d39",
   "metadata": {},
   "source": [
    "## 19. Describe the concept of information hiding in encapsulation. Why is it essential in software development?"
   ]
  },
  {
   "cell_type": "code",
   "execution_count": 45,
   "id": "189ce1ba-1aad-498a-a434-45dc17d96dbb",
   "metadata": {},
   "outputs": [
    {
     "name": "stdout",
     "output_type": "stream",
     "text": [
      "1300\n"
     ]
    }
   ],
   "source": [
    "'''Information hiding in encapsulation is the practice of concealing the implementation details of a class from \n",
    "other classes. This is done by making the class's attributes and methods private.\n",
    "\n",
    "Information hiding is essential in software development for several reasons:\n",
    "\n",
    "Protects the integrity of the data:\n",
    "By hiding the implementation details of the class, it is more difficult for other classes to accidentally modify the\n",
    "class's data. This helps to ensure that the data is always accurate and consistent.\n",
    "\n",
    "Prevents misuse of the class:\n",
    "By hiding the implementation details of the class, it is more difficult for other classes to misuse the class.\n",
    "This helps to prevent errors and unexpected behavior.\n",
    "\n",
    "Promotes modularity:\n",
    "By hiding the implementation details of the class, the class is more independent of other classes.\n",
    "This makes the code more modular and easier to maintain.\n",
    "\n",
    "Enhances security:\n",
    "By hiding the implementation details of the class, it is more difficult for attackers to find and\n",
    "exploit vulnerabilities in the code. This helps to improve the security of the software system.\n",
    "\n",
    "For example, consider a class that represents a bank account. The class encapsulates the account balance and account\n",
    "number. By hiding the implementation details of the class, we can protect the account balance and account number from\n",
    "unauthorized access and accidental modification. We can also prevent other classes from misusing the class, such as\n",
    "by withdrawing more money than is available in the account.\n",
    "\n",
    "Overall, information hiding is an essential principle in software development. It helps to improve the quality of the\n",
    "code by making it more robust, secure, and maintainable.\n",
    "\n",
    "Here are some tips for implementing information hiding in Python:\n",
    "\n",
    "1.Use private attributes and methods to conceal the implementation details of the class.\n",
    "2.Provide public methods for accessing and modifying the private attributes and methods.\n",
    "3.Document the public methods of the class to explain how to use them without having to know the implementation details.\n",
    "  By following these tips, you can implement information hiding in your Python code to improve its quality and security.'''\n",
    "\n",
    "class BankAccount:\n",
    "    def __init__(self, account_number, balance):\n",
    "        self.__account_number = account_number\n",
    "        self.__balance = balance\n",
    "\n",
    "    def deposit(self, amount):\n",
    "        if amount < 0:\n",
    "            raise ValueError(\"Deposit amount must be non-negative.\")\n",
    "        self.__balance += amount\n",
    "\n",
    "    def withdraw(self, amount):\n",
    "        if amount < 0:\n",
    "            raise ValueError(\"Withdraw amount must be non-negative.\")\n",
    "        if amount > self.__balance:\n",
    "            raise ValueError(\"Insufficient funds.\")\n",
    "        self.__balance -= amount\n",
    "\n",
    "    def get_balance(self):\n",
    "        return self.__balance\n",
    "\n",
    "# Create a new bank account object.\n",
    "account = BankAccount(1234567890, 1000)\n",
    "\n",
    "# Deposit $500.\n",
    "account.deposit(500)\n",
    "\n",
    "# Withdraw $200.\n",
    "account.withdraw(200)\n",
    "\n",
    "# Get the account balance.\n",
    "balance = account.get_balance()\n",
    "\n",
    "# Print the account balance.\n",
    "print(balance)\n"
   ]
  },
  {
   "cell_type": "markdown",
   "id": "1173e0d8-0370-4ba0-9302-86d7b021c2ce",
   "metadata": {},
   "source": [
    "## 20. Create a Python class called `Customer` with private attributes for customer details like name, address, and contact information. Implement encapsulation to ensure data integrity and security"
   ]
  },
  {
   "cell_type": "code",
   "execution_count": 46,
   "id": "c4a6396b-53fc-4a43-bea5-09bc7026315e",
   "metadata": {},
   "outputs": [
    {
     "name": "stdout",
     "output_type": "stream",
     "text": [
      "Customer 1 Information:\n",
      "Customer ID: C001\n",
      "Name: John Doe\n",
      "Address: 123 Main St\n",
      "Contact Info: john.doe@example.com\n",
      "Customer ID: C001\n",
      "Name: John Doe\n",
      "Address: 123 Main St\n",
      "Contact Info: john.doe@example.com\n",
      "Updated Customer 1 Information:\n",
      "Customer ID: C001\n",
      "Name: Jane Doe\n",
      "Address: 456 Elm St\n",
      "Contact Info: jane.doe@example.com\n"
     ]
    }
   ],
   "source": [
    "class Customer:\n",
    "    def __init__(self, customer_id, name, address, contact_info):\n",
    "        self.__customer_id = customer_id  # Private attribute for customer ID\n",
    "        self.__name = name  # Private attribute for customer name\n",
    "        self.__address = address  # Private attribute for customer address\n",
    "        self.__contact_info = contact_info  # Private attribute for contact information\n",
    "\n",
    "    # Getter methods for customer details\n",
    "    def get_customer_id(self):\n",
    "        return self.__customer_id\n",
    "\n",
    "    def get_name(self):\n",
    "        return self.__name\n",
    "\n",
    "    def get_address(self):\n",
    "        return self.__address\n",
    "\n",
    "    def get_contact_info(self):\n",
    "        return self.__contact_info\n",
    "\n",
    "    # Setter methods for customer details (optional)\n",
    "    def set_name(self, name):\n",
    "        self.__name = name\n",
    "\n",
    "    def set_address(self, address):\n",
    "        self.__address = address\n",
    "\n",
    "    def set_contact_info(self, contact_info):\n",
    "        self.__contact_info = contact_info\n",
    "\n",
    "    def __str__(self):\n",
    "        return f\"Customer ID: {self.__customer_id}\\nName: {self.__name}\\nAddress: {self.__address}\\nContact Info: {self.__contact_info}\"\n",
    "\n",
    "# Example usage:\n",
    "customer1 = Customer(\"C001\", \"John Doe\", \"123 Main St\", \"john.doe@example.com\")\n",
    "print(\"Customer 1 Information:\")\n",
    "print(customer1)\n",
    "\n",
    "# You can access the attributes through getters\n",
    "print(\"Customer ID:\", customer1.get_customer_id())\n",
    "print(\"Name:\", customer1.get_name())\n",
    "print(\"Address:\", customer1.get_address())\n",
    "print(\"Contact Info:\", customer1.get_contact_info())\n",
    "\n",
    "# Optional: You can also use setters to update customer details\n",
    "customer1.set_name(\"Jane Doe\")\n",
    "customer1.set_address(\"456 Elm St\")\n",
    "customer1.set_contact_info(\"jane.doe@example.com\")\n",
    "\n",
    "# Display updated customer information\n",
    "print(\"Updated Customer 1 Information:\")\n",
    "print(customer1)\n"
   ]
  },
  {
   "cell_type": "markdown",
   "id": "a7bd634d-6c18-4213-ba42-ee0dc4605606",
   "metadata": {},
   "source": [
    "# Polymorphism"
   ]
  },
  {
   "cell_type": "markdown",
   "id": "706fa648-63dd-49d3-9119-3c20cd2d4839",
   "metadata": {},
   "source": [
    "## 1. What is polymorphism in Python? Explain how it is related to object-oriented programming."
   ]
  },
  {
   "cell_type": "code",
   "execution_count": 1,
   "id": "0f1c2f0b-a868-45dc-8aa4-6eef5cb78c2e",
   "metadata": {},
   "outputs": [
    {
     "name": "stdout",
     "output_type": "stream",
     "text": [
      "Woof!\n",
      "Meow!\n"
     ]
    }
   ],
   "source": [
    "'''Polymorphism is a fundamental concept in object-oriented programming (OOP) that allows objects of different classes\n",
    "to be treated as objects of a common base class. It enables you to write more generic and reusable code by providing\n",
    "a way to work with objects in a uniform and consistent manner, regardless of their specific types. Polymorphism is\n",
    "closely related to the following OOP principles:\n",
    "\n",
    "Inheritance: Polymorphism relies on class inheritance. When multiple classes share a common base class, they can exhibit\n",
    "polymorphic behavior.\n",
    "\n",
    "Abstraction: Polymorphism abstracts the specific details of objects and focuses on their common attributes and\n",
    "behaviors, promoting high-level thinking.\n",
    "\n",
    "Encapsulation: Polymorphism often involves encapsulation, as objects provide a controlled interface (methods) to\n",
    "interact with their data and behavior.\n",
    "\n",
    "Polymorphism is typically achieved in Python through method overriding and dynamic binding.\n",
    "Here's how it works:\n",
    "\n",
    "Method Overriding: Subclasses can provide their own implementation for methods that are inherited from a base class.\n",
    "This allows a method to have different behaviors in different subclasses.\n",
    "\n",
    "Dynamic Binding: When a method is called on an object, Python determines at runtime which method implementation to invoke\n",
    "based on the actual type of the object. This allows you to treat objects of different classes as if they were objects \n",
    "of a common base class.\n",
    "\n",
    "Duck typing: This is a dynamic typing system that allows us to call methods on objects without having to check their\n",
    "type explicitly. This makes the code more concise and flexible.'''\n",
    "\n",
    "#method overriding\n",
    "class Animal:\n",
    "    def speak(self):\n",
    "        pass\n",
    "\n",
    "class Dog(Animal):\n",
    "    def speak(self):\n",
    "        print(\"Woof!\")\n",
    "\n",
    "class Cat(Animal):\n",
    "    def speak(self):\n",
    "        print(\"Meow!\")\n",
    "\n",
    "# Create a dog and a cat object.\n",
    "dog = Dog()\n",
    "cat = Cat()\n",
    "\n",
    "# Call the speak() method on each object.\n",
    "dog.speak()\n",
    "cat.speak()\n",
    "\n"
   ]
  },
  {
   "cell_type": "code",
   "execution_count": 3,
   "id": "439e66cc-f14b-4f91-95e5-c7c6a87a416d",
   "metadata": {},
   "outputs": [],
   "source": [
    "#duck typing\n",
    "def make_sound(animal):\n",
    "    animal.speak()\n",
    "\n",
    "# Call the make_sound() function with a dog object.\n",
    "make_sound(dog)\n",
    "\n",
    "# Call the make_sound() function with a cat object.\n",
    "make_sound(cat)\n"
   ]
  },
  {
   "cell_type": "code",
   "execution_count": 4,
   "id": "ea67d86f-fc2f-491a-b1a9-592bc4403b27",
   "metadata": {},
   "outputs": [
    {
     "name": "stdout",
     "output_type": "stream",
     "text": [
      "Woof!\n",
      "Meow!\n"
     ]
    }
   ],
   "source": [
    "#Dynamic binding, also known as late binding or runtime polymorphism\n",
    "class Animal:\n",
    "    def speak(self):\n",
    "        pass\n",
    "\n",
    "class Dog(Animal):\n",
    "    def speak(self):\n",
    "        return \"Woof!\"\n",
    "\n",
    "class Cat(Animal):\n",
    "    def speak(self):\n",
    "        return \"Meow!\"\n",
    "\n",
    "# Create objects of different classes\n",
    "dog = Dog()\n",
    "cat = Cat()\n",
    "\n",
    "# Dynamic binding example\n",
    "animals = [dog, cat]  # A list of animal objects\n",
    "\n",
    "for animal in animals:\n",
    "    # The specific speak method is determined at runtime\n",
    "    print(animal.speak())\n",
    "\n",
    "# Output:\n",
    "# \"Woof!\" (for the dog object)\n",
    "# \"Meow!\" (for the cat object)\n"
   ]
  },
  {
   "cell_type": "code",
   "execution_count": 5,
   "id": "79268060-04b0-482a-bc7c-cf1644658aee",
   "metadata": {},
   "outputs": [
    {
     "name": "stdout",
     "output_type": "stream",
     "text": [
      "Area: 78.53975 square units\n",
      "Area: 24 square units\n"
     ]
    }
   ],
   "source": [
    "class Shape:\n",
    "    def area(self):\n",
    "        return 0  # Base class provides a default implementation\n",
    "\n",
    "class Circle(Shape):\n",
    "    def __init__(self, radius):\n",
    "        self.radius = radius\n",
    "\n",
    "    def area(self):\n",
    "        return 3.14159 * self.radius ** 2\n",
    "\n",
    "class Rectangle(Shape):\n",
    "    def __init__(self, length, width):\n",
    "        self.length = length\n",
    "        self.width = width\n",
    "\n",
    "    def area(self):\n",
    "        return self.length * self.width\n",
    "\n",
    "# Create objects of different shapes\n",
    "circle = Circle(5)\n",
    "rectangle = Rectangle(4, 6)\n",
    "\n",
    "# Call the area method without knowing the specific object types\n",
    "shapes = [circle, rectangle]\n",
    "\n",
    "for shape in shapes:\n",
    "    print(f\"Area: {shape.area()} square units\")\n"
   ]
  },
  {
   "cell_type": "markdown",
   "id": "3ce1338e-cb42-4d59-94fe-f0cd093c20ec",
   "metadata": {},
   "source": [
    "## 2. Describe the difference between compile-time polymorphism and runtime polymorphism in Python."
   ]
  },
  {
   "cell_type": "code",
   "execution_count": 7,
   "id": "177848ad-8dfa-4852-bc4a-36390d6b8cf1",
   "metadata": {},
   "outputs": [
    {
     "name": "stdout",
     "output_type": "stream",
     "text": [
      "Woof!\n",
      "Guau!\n"
     ]
    }
   ],
   "source": [
    "'''Compile-time polymorphism(static binding) in Python is achieved through method overloading. Method overloading allows us\n",
    "   to define multiple methods with the same name but different signatures. The compiler selects the correct method to call\n",
    "   based on the types and number of arguments passed to the method.\n",
    "\n",
    "Runtime polymorphism(dynamic binding) in Python is achieved through method overriding. Method overriding allows us to \n",
    "redefine methods in a child class that have the same name as methods in the parent class. The compiler cannot determine \n",
    "which method to call at compile time, so the decision is made at runtime based on the actual type of the object.\n",
    "   \n",
    "   the key difference between compile-time polymorphism and runtime polymorphism is that the compiler can determine which\n",
    "method to call at compile time for compile-time polymorphism, but it cannot for runtime polymorphism.'''\n",
    "\n",
    "class Animal:\n",
    "    def speak(self, language=\"english\"):\n",
    "        pass\n",
    "\n",
    "class Dog(Animal):\n",
    "    def speak(self, language=\"english\"):\n",
    "        if language == \"english\":\n",
    "            print(\"Woof!\")\n",
    "        elif language == \"spanish\":\n",
    "            print(\"Guau!\")\n",
    "\n",
    "# Create a dog object.\n",
    "dog = Dog()\n",
    "\n",
    "# Call the speak() method with an English language argument.\n",
    "dog.speak(\"english\")\n",
    "\n",
    "# Call the speak() method with a Spanish language argument.\n",
    "dog.speak(\"spanish\")\n"
   ]
  },
  {
   "cell_type": "code",
   "execution_count": 8,
   "id": "3226aa53-2a0a-4186-a60d-f7d27a413811",
   "metadata": {},
   "outputs": [
    {
     "name": "stdout",
     "output_type": "stream",
     "text": [
      "Woof!\n",
      "Meow!\n"
     ]
    }
   ],
   "source": [
    "class Animal:\n",
    "    def speak(self):\n",
    "        pass\n",
    "\n",
    "class Dog(Animal):\n",
    "    def speak(self):\n",
    "        print(\"Woof!\")\n",
    "\n",
    "class Cat(Animal):\n",
    "    def speak(self):\n",
    "        print(\"Meow!\")\n",
    "\n",
    "# Create a list of animal objects.\n",
    "animals = [Dog(), Cat()]\n",
    "\n",
    "# Iterate over the list of animals and call the speak() method on each object.\n",
    "for animal in animals:\n",
    "    animal.speak()\n"
   ]
  },
  {
   "cell_type": "markdown",
   "id": "6ff97ec6-2120-4846-9002-165c74987a7c",
   "metadata": {},
   "source": [
    "## 3. Create a Python class hierarchy for shapes (e.g., circle, square, triangle) and demonstrate polymorphism through a common method, such as `calculate_area()`."
   ]
  },
  {
   "cell_type": "code",
   "execution_count": 10,
   "id": "a437800e-04c9-41c2-b35b-8378a2fed447",
   "metadata": {},
   "outputs": [
    {
     "name": "stdout",
     "output_type": "stream",
     "text": [
      "Area: 78.53981633974483 square units\n",
      "Area: 16 square units\n",
      "Area: 24.0 square units\n"
     ]
    }
   ],
   "source": [
    "import math\n",
    "\n",
    "class Shape:\n",
    "    def calculate_area(self):\n",
    "        pass\n",
    "\n",
    "class Circle(Shape):\n",
    "    def __init__(self, radius):\n",
    "        self.radius = radius\n",
    "\n",
    "    def calculate_area(self):\n",
    "        return math.pi * self.radius ** 2\n",
    "\n",
    "class Square(Shape):\n",
    "    def __init__(self, side_length):\n",
    "        self.side_length = side_length\n",
    "\n",
    "    def calculate_area(self):\n",
    "        return self.side_length ** 2\n",
    "\n",
    "class Triangle(Shape):\n",
    "    def __init__(self, base, height):\n",
    "        self.base = base\n",
    "        self.height = height\n",
    "\n",
    "    def calculate_area(self):\n",
    "        return 0.5 * self.base * self.height\n",
    "\n",
    "# Create objects of different shapes\n",
    "circle = Circle(5)\n",
    "square = Square(4)\n",
    "triangle = Triangle(6, 8)\n",
    "\n",
    "# Calculate and print the areas of the shapes without knowing their specific types\n",
    "shapes = [circle, square, triangle]\n",
    "\n",
    "for shape in shapes:\n",
    "    print(f\"Area: {shape.calculate_area()} square units\")\n"
   ]
  },
  {
   "cell_type": "markdown",
   "id": "fa45419d-3ddf-4d39-84ad-6ad0f2fd647f",
   "metadata": {},
   "source": [
    "## 4. Explain the concept of method overriding in polymorphism. Provide an example."
   ]
  },
  {
   "cell_type": "code",
   "execution_count": 11,
   "id": "b84a815f-e252-45da-afb0-a73d476e8080",
   "metadata": {},
   "outputs": [
    {
     "name": "stdout",
     "output_type": "stream",
     "text": [
      "Animal speaks\n",
      "Dog barks\n",
      "Cat meows\n"
     ]
    }
   ],
   "source": [
    "class Animal:\n",
    "    def speak(self):\n",
    "        print(\"Animal speaks\")\n",
    "\n",
    "class Dog(Animal):\n",
    "    def speak(self):\n",
    "        print(\"Dog barks\")\n",
    "\n",
    "class Cat(Animal):\n",
    "    def speak(self):\n",
    "        print(\"Cat meows\")\n",
    "\n",
    "# Create objects of different classes\n",
    "animal = Animal()\n",
    "dog = Dog()\n",
    "cat = Cat()\n",
    "\n",
    "# Call the speak method on different objects\n",
    "animal.speak()  # Output: \"Animal speaks\"\n",
    "dog.speak()     # Output: \"Dog barks\"\n",
    "cat.speak()     # Output: \"Cat meows\"\n"
   ]
  },
  {
   "cell_type": "markdown",
   "id": "937a786d-c921-45b8-b8e9-a1435e596ef2",
   "metadata": {},
   "source": [
    "## 5. How is polymorphism different from method overloading in Python? Provide examples for both"
   ]
  },
  {
   "cell_type": "code",
   "execution_count": 12,
   "id": "ccbb097b-55df-4541-8ac6-0dae1f01d32e",
   "metadata": {},
   "outputs": [
    {
     "name": "stdout",
     "output_type": "stream",
     "text": [
      "Woof!\n",
      "Meow!\n"
     ]
    }
   ],
   "source": [
    "\n",
    "'''Polymorphism is the ability of an object to take many forms. It is a fundamental concept in object-oriented\n",
    "programming (OOP) that allows us to design code that is more flexible, reusable, and maintainable.\n",
    "\n",
    "Method overloading is a technique that allows us to define multiple methods with the same name but different\n",
    "signatures. It is a compile-time feature that allows the compiler to select the correct method to call based on\n",
    "the types and number of arguments passed to the method.'''\n",
    "\n",
    "class Animal:\n",
    "    def speak(self):\n",
    "        pass\n",
    "\n",
    "class Dog(Animal):\n",
    "    def speak(self):\n",
    "        print(\"Woof!\")\n",
    "\n",
    "class Cat(Animal):\n",
    "    def speak(self):\n",
    "        print(\"Meow!\")\n",
    "\n",
    "# Create a list of animal objects.\n",
    "animals = [Dog(), Cat()]\n",
    "\n",
    "# Iterate over the list of animals and call the speak() method on each object.\n",
    "for animal in animals:\n",
    "    animal.speak()\n"
   ]
  },
  {
   "cell_type": "code",
   "execution_count": 15,
   "id": "4c98369f-fa1c-4087-a406-a3923758d21f",
   "metadata": {},
   "outputs": [
    {
     "name": "stdout",
     "output_type": "stream",
     "text": [
      "3\n",
      "4.0\n"
     ]
    }
   ],
   "source": [
    "class Math:\n",
    "    def add(self, a: int, b: int) -> int:\n",
    "        return a + b\n",
    "\n",
    "    def add(self, a: float, b: float) -> float:\n",
    "        return a + b\n",
    "\n",
    "# Create a Math object.\n",
    "math = Math()\n",
    "\n",
    "# Add two integers.\n",
    "result = math.add(1, 2)\n",
    "\n",
    "print(result)\n",
    "\n",
    "# Add two floats.\n",
    "result = math.add(1.5, 2.5)\n",
    "\n",
    "# Print the results.\n",
    "print(result)\n"
   ]
  },
  {
   "cell_type": "code",
   "execution_count": 14,
   "id": "dc3690fb-4fb5-4e12-bf78-85974e467d58",
   "metadata": {},
   "outputs": [
    {
     "name": "stdout",
     "output_type": "stream",
     "text": [
      "6\n"
     ]
    }
   ],
   "source": [
    "class Calculator:\n",
    "    def add(self, a, b):\n",
    "        return a + b\n",
    "\n",
    "    def add(self, a, b, c):\n",
    "        return a + b + c\n",
    "\n",
    "calc = Calculator()\n",
    "result = calc.add(1, 2, 3)\n",
    "print(result)  # Output: 6\n"
   ]
  },
  {
   "cell_type": "markdown",
   "id": "fa1f6cb5-f7a2-4a94-ba4b-df585cbc9ae3",
   "metadata": {},
   "source": [
    "## 6. Create a Python class called `Animal` with a method `speak()`. Then, create child classes like `Dog`, `Cat`, and `Bird`, each with their own `speak()` method. Demonstrate polymorphism by calling the `speak()` method on objects of different subclasses."
   ]
  },
  {
   "cell_type": "code",
   "execution_count": 16,
   "id": "e5acfa69-12c2-4db6-b387-110ed37cfdbb",
   "metadata": {},
   "outputs": [
    {
     "name": "stdout",
     "output_type": "stream",
     "text": [
      "Dog barks\n",
      "Cat meows\n",
      "Bird sings\n"
     ]
    }
   ],
   "source": [
    "class Animal:\n",
    "    def speak(self):\n",
    "        print(\"Animal speaks\")\n",
    "\n",
    "class Dog(Animal):\n",
    "    def speak(self):\n",
    "        print(\"Dog barks\")\n",
    "\n",
    "class Cat(Animal):\n",
    "    def speak(self):\n",
    "        print(\"Cat meows\")\n",
    "\n",
    "class Bird(Animal):\n",
    "    def speak(self):\n",
    "        print(\"Bird sings\")\n",
    "\n",
    "# Create objects of different animal subclasses\n",
    "dog = Dog()\n",
    "cat = Cat()\n",
    "bird = Bird()\n",
    "\n",
    "# Call the speak method on objects of different subclasses\n",
    "animals = [dog, cat, bird]\n",
    "\n",
    "for animal in animals:\n",
    "    animal.speak()\n"
   ]
  },
  {
   "cell_type": "markdown",
   "id": "b6c4485d-c75e-49e0-b554-e391283fa3ad",
   "metadata": {},
   "source": [
    "## 7. Discuss the use of abstract methods and classes in achieving polymorphism in Python. Provide an example using the `abc` module."
   ]
  },
  {
   "cell_type": "code",
   "execution_count": 1,
   "id": "d6171022-b07e-4cb6-8301-c37e5013f721",
   "metadata": {},
   "outputs": [
    {
     "name": "stdout",
     "output_type": "stream",
     "text": [
      "Dog barks\n",
      "Cat meows\n",
      "Bird sings\n"
     ]
    }
   ],
   "source": [
    "'''Abstract methods and classes play a significant role in achieving polymorphism and ensuring that specific methods are\n",
    "   implemented by subclasses in Python. The abc module (Abstract Base Classes) provides a way to define abstract methods\n",
    "   and enforce their implementation in derived classes. This ensures that different classes can have polymorphic behavior\n",
    "   through a common interface.'''\n",
    "\n",
    "from abc import ABC, abstractmethod\n",
    "\n",
    "# Define an abstract base class (ABC)\n",
    "class Animal(ABC):\n",
    "\n",
    "    @abstractmethod\n",
    "    def speak(self):\n",
    "        pass\n",
    "\n",
    "class Dog(Animal):\n",
    "    def speak(self):\n",
    "        return \"Dog barks\"\n",
    "\n",
    "class Cat(Animal):\n",
    "    def speak(self):\n",
    "        return \"Cat meows\"\n",
    "\n",
    "class Bird(Animal):\n",
    "    def speak(self):\n",
    "        return \"Bird sings\"\n",
    "\n",
    "# Create objects of different animal subclasses\n",
    "dog = Dog()\n",
    "cat = Cat()\n",
    "bird = Bird()\n",
    "\n",
    "# Call the speak method on objects of different subclasses\n",
    "animals = [dog, cat, bird]\n",
    "\n",
    "for animal in animals:\n",
    "    print(animal.speak())\n"
   ]
  },
  {
   "cell_type": "code",
   "execution_count": 2,
   "id": "a969f693-91c9-4c03-93ff-4acab5ce1788",
   "metadata": {},
   "outputs": [
    {
     "name": "stdout",
     "output_type": "stream",
     "text": [
      "Woof!\n",
      "Meow!\n"
     ]
    }
   ],
   "source": [
    "import abc\n",
    "\n",
    "class Animal(abc.ABC):\n",
    "    @abc.abstractmethod\n",
    "    def speak(self):\n",
    "        pass\n",
    "\n",
    "class Dog(Animal):\n",
    "    def speak(self):\n",
    "        print(\"Woof!\")\n",
    "\n",
    "class Cat(Animal):\n",
    "    def speak(self):\n",
    "        print(\"Meow!\")\n",
    "\n",
    "# Create a Dog object.\n",
    "dog = Dog()\n",
    "\n",
    "# Call the speak() method on the Dog object.\n",
    "dog.speak()\n",
    "\n",
    "# Create a Cat object.\n",
    "cat = Cat()\n",
    "\n",
    "# Call the speak() method on the Cat object.\n",
    "cat.speak()\n"
   ]
  },
  {
   "cell_type": "markdown",
   "id": "89d66810-ea4f-4da2-8281-38b8015f3812",
   "metadata": {},
   "source": [
    "## 8. Create a Python class hierarchy for a vehicle system (e.g., car, bicycle, boat) and implement a polymorphic `start()` method that prints a message specific to each vehicle type."
   ]
  },
  {
   "cell_type": "code",
   "execution_count": 3,
   "id": "fb963e0d-5c20-4c75-affb-0bfa15f17e63",
   "metadata": {},
   "outputs": [
    {
     "name": "stdout",
     "output_type": "stream",
     "text": [
      "Car engine started\n",
      "Bicycle pedaling started\n",
      "Boat engine started\n"
     ]
    }
   ],
   "source": [
    "class Vehicle:\n",
    "    def start(self):\n",
    "        pass  # Abstract method, to be implemented by subclasses\n",
    "\n",
    "class Car(Vehicle):\n",
    "    def start(self):\n",
    "        return \"Car engine started\"\n",
    "\n",
    "class Bicycle(Vehicle):\n",
    "    def start(self):\n",
    "        return \"Bicycle pedaling started\"\n",
    "\n",
    "class Boat(Vehicle):\n",
    "    def start(self):\n",
    "        return \"Boat engine started\"\n",
    "\n",
    "# Create objects of different vehicle subclasses\n",
    "car = Car()\n",
    "bicycle = Bicycle()\n",
    "boat = Boat()\n",
    "\n",
    "# Call the start method on objects of different subclasses\n",
    "vehicles = [car, bicycle, boat]\n",
    "\n",
    "for vehicle in vehicles:\n",
    "    print(vehicle.start())\n"
   ]
  },
  {
   "cell_type": "markdown",
   "id": "ccb42b5b-a1cb-48a0-9c55-c22c5c2e7f52",
   "metadata": {},
   "source": [
    "## 9. Explain the significance of the `isinstance()` and `issubclass()` functions in Python polymorphism."
   ]
  },
  {
   "cell_type": "code",
   "execution_count": 4,
   "id": "bda39c95-e2ab-47ce-ab2d-16c5030b5e98",
   "metadata": {},
   "outputs": [
    {
     "name": "stdout",
     "output_type": "stream",
     "text": [
      "It's an animal or a subclass of Animal.\n"
     ]
    }
   ],
   "source": [
    "class Animal:\n",
    "    pass\n",
    "\n",
    "class Dog(Animal):\n",
    "    pass\n",
    "\n",
    "dog = Dog()\n",
    "\n",
    "if isinstance(dog, Animal):\n",
    "    print(\"It's an animal or a subclass of Animal.\")\n"
   ]
  },
  {
   "cell_type": "code",
   "execution_count": 5,
   "id": "214f3695-60fd-4152-ba1d-68748f9a1be8",
   "metadata": {},
   "outputs": [
    {
     "name": "stdout",
     "output_type": "stream",
     "text": [
      "Dog is a subclass of Animal.\n"
     ]
    }
   ],
   "source": [
    "class Animal:\n",
    "    pass\n",
    "\n",
    "class Dog(Animal):\n",
    "    pass\n",
    "\n",
    "if issubclass(Dog, Animal):\n",
    "    print(\"Dog is a subclass of Animal.\")\n"
   ]
  },
  {
   "cell_type": "markdown",
   "id": "68358425-bdf9-417b-8cf7-03d9424cd474",
   "metadata": {},
   "source": [
    "## 10. What is the role of the `@abstractmethod` decorator in achieving polymorphism in Python? Provide an example."
   ]
  },
  {
   "cell_type": "code",
   "execution_count": 7,
   "id": "5b31c511-77ba-44b6-a4d1-c800d60f67ca",
   "metadata": {},
   "outputs": [
    {
     "name": "stdout",
     "output_type": "stream",
     "text": [
      "Area: 78.5\n",
      "Area: 16\n"
     ]
    }
   ],
   "source": [
    "from abc import ABC, abstractmethod\n",
    "\n",
    "# Define an abstract base class (ABC)\n",
    "class Shape(ABC):\n",
    "\n",
    "    @abstractmethod\n",
    "    def calculate_area(self):\n",
    "        pass\n",
    "\n",
    "class Circle(Shape):\n",
    "    def __init__(self, radius):\n",
    "        self.radius = radius\n",
    "\n",
    "    def calculate_area(self):\n",
    "        return 3.14 * self.radius ** 2\n",
    "\n",
    "class Square(Shape):\n",
    "    def __init__(self, side_length):\n",
    "        self.side_length = side_length\n",
    "\n",
    "    def calculate_area(self):\n",
    "        return self.side_length ** 2\n",
    "\n",
    "# Create objects of different shape subclasses\n",
    "circle = Circle(5)\n",
    "square = Square(4)\n",
    "\n",
    "# Call the calculate_area method on objects of different subclasses\n",
    "shapes = [circle, square]\n",
    "\n",
    "for shape in shapes:\n",
    "    print(f\"Area: {shape.calculate_area()}\")\n"
   ]
  },
  {
   "cell_type": "markdown",
   "id": "a2512fd0-0de7-4806-b16a-2b3a72b13ea5",
   "metadata": {},
   "source": [
    "## 11. Create a Python class called `Shape` with a polymorphic method `area()` that calculates the area of different shapes (e.g., circle, rectangle, triangle)."
   ]
  },
  {
   "cell_type": "code",
   "execution_count": 8,
   "id": "45d2205b-6da1-425a-9f01-401d8a6be816",
   "metadata": {},
   "outputs": [
    {
     "name": "stdout",
     "output_type": "stream",
     "text": [
      "Area: 78.5\n",
      "Area: 24\n",
      "Area: 12.0\n"
     ]
    }
   ],
   "source": [
    "class Shape:\n",
    "    def area(self):\n",
    "        pass  # Abstract method to be overridden by subclasses\n",
    "\n",
    "class Circle(Shape):\n",
    "    def __init__(self, radius):\n",
    "        self.radius = radius\n",
    "\n",
    "    def area(self):\n",
    "        return 3.14 * self.radius ** 2\n",
    "\n",
    "class Rectangle(Shape):\n",
    "    def __init__(self, length, width):\n",
    "        self.length = length\n",
    "        self.width = width\n",
    "\n",
    "    def area(self):\n",
    "        return self.length * self.width\n",
    "\n",
    "class Triangle(Shape):\n",
    "    def __init__(self, base, height):\n",
    "        self.base = base\n",
    "        self.height = height\n",
    "\n",
    "    def area(self):\n",
    "        return 0.5 * self.base * self.height\n",
    "\n",
    "# Create objects of different shape subclasses\n",
    "circle = Circle(5)\n",
    "rectangle = Rectangle(4, 6)\n",
    "triangle = Triangle(3, 8)\n",
    "\n",
    "# Calculate and print the areas of different shapes\n",
    "shapes = [circle, rectangle, triangle]\n",
    "\n",
    "for shape in shapes:\n",
    "    print(f\"Area: {shape.area()}\")\n"
   ]
  },
  {
   "cell_type": "markdown",
   "id": "3680a1e0-fa35-456e-a47b-667c74ff191f",
   "metadata": {},
   "source": [
    "## 12. Discuss the benefits of polymorphism in terms of code reusability and flexibility in Python programs."
   ]
  },
  {
   "cell_type": "code",
   "execution_count": 10,
   "id": "5c0286fb-f65c-48d6-abc5-c8614637dd38",
   "metadata": {},
   "outputs": [
    {
     "name": "stdout",
     "output_type": "stream",
     "text": [
      "Woof!\n",
      "Meow!\n"
     ]
    },
    {
     "data": {
      "text/plain": [
       "'Dynamic Binding:\\n\\nPolymorphism supports dynamic binding, allowing method calls to be resolved at runtime.\\nThis enables late binding, which is essential for achieving flexibility and adaptability.'"
      ]
     },
     "execution_count": 10,
     "metadata": {},
     "output_type": "execute_result"
    }
   ],
   "source": [
    "'''1.Code reusability: Polymorphism allows us to write code that is more reusable by allowing us to define a blueprint for\n",
    "subclasses to implement. This can help us to reduce code duplication and make our code more maintainable.\n",
    "\n",
    "For example, we can create an abstract base class called Animal with an abstract method called speak(). Then, we can \n",
    "create subclasses of Animal, such as Dog and Cat, and override the speak() method to implement custom speaking behavior\n",
    "for each subclass.\n",
    "\n",
    "This allows us to reuse the code in the Animal class in all of the subclasses. We do not need to rewrite the code for\n",
    "each subclass, which can save us a lot of time and effort.\n",
    "\n",
    "2.Code flexibility: Polymorphism also makes our code more flexible by allowing us to define different implementations of the\n",
    "same behavior for different subclasses. This can make our code more adaptable to different requirements.\n",
    "\n",
    "For example, we can create a function called make_sound() that takes any object as an argument and calls the\n",
    "speak() method on it. This function can be used to make any type of animal object speak, regardless of its specific subclass.\n",
    "\n",
    "This makes our code more flexible because we can easily add new types of animals to our program without having to\n",
    "modify the make_sound() function. We simply need to create a new subclass of Animal and implement the speak() method.\n",
    "\n",
    "Overall, polymorphism is a powerful feature of Python that can help us to write more reusable and flexible code.'''\n",
    "\n",
    "class Animal:\n",
    "    def speak(self):\n",
    "        pass\n",
    "\n",
    "class Dog(Animal):\n",
    "    def speak(self):\n",
    "        print(\"Woof!\")\n",
    "\n",
    "class Cat(Animal):\n",
    "    def speak(self):\n",
    "        print(\"Meow!\")\n",
    "\n",
    "def make_sound(animal):\n",
    "    animal.speak()\n",
    "\n",
    "# Create a Dog object.\n",
    "dog = Dog()\n",
    "\n",
    "# Make the Dog object speak.\n",
    "make_sound(dog)\n",
    "\n",
    "# Create a Cat object.\n",
    "cat = Cat()\n",
    "\n",
    "# Make the Cat object speak.\n",
    "make_sound(cat)\n",
    "\n",
    "'''Dynamic Binding:\n",
    "\n",
    "Polymorphism supports dynamic binding, allowing method calls to be resolved at runtime.\n",
    "This enables late binding, which is essential for achieving flexibility and adaptability.'''\n"
   ]
  },
  {
   "cell_type": "markdown",
   "id": "1b4c24a6-29c9-44ab-897e-e82833acb362",
   "metadata": {},
   "source": [
    "## 13. Explain the use of the `super()` function in Python polymorphism. How does it help call methods of parent classes?"
   ]
  },
  {
   "cell_type": "code",
   "execution_count": 11,
   "id": "9c035070-37d8-44d8-8dad-e68be084f504",
   "metadata": {},
   "outputs": [
    {
     "name": "stdout",
     "output_type": "stream",
     "text": [
      "Hi from Child. Hello from Parent\n"
     ]
    }
   ],
   "source": [
    "'''Here's how super() works and why it's useful in the context of polymorphism:\n",
    "\n",
    "Accessing Parent Class Methods:\n",
    "Retaining Parent Class Behavior:\n",
    "Method Resolution Order (MRO):\n",
    "Python uses the C3 Linearization algorithm to determine the method resolution order (MRO) when a method is called\n",
    "using super().\n",
    "This MRO ensures that methods are executed in a predictable order, typically following the class hierarchy from\n",
    "child to parent classes.'''\n",
    "\n",
    "class Parent:\n",
    "    def greet(self):\n",
    "        return \"Hello from Parent\"\n",
    "\n",
    "class Child(Parent):\n",
    "    def greet(self):\n",
    "        # Call the parent class's greet method using super()\n",
    "        parent_result = super().greet()\n",
    "        return f\"Hi from Child. {parent_result}\"\n",
    "\n",
    "# Create instances of the child class\n",
    "child_instance = Child()\n",
    "\n",
    "# Access and print the greetings\n",
    "print(child_instance.greet())\n",
    "\n"
   ]
  },
  {
   "cell_type": "code",
   "execution_count": 12,
   "id": "d0ce1d93-442a-411a-8dd4-c46c7155b628",
   "metadata": {},
   "outputs": [
    {
     "name": "stdout",
     "output_type": "stream",
     "text": [
      "Woof!\n"
     ]
    }
   ],
   "source": [
    "class Animal:\n",
    "    def speak(self):\n",
    "        pass\n",
    "\n",
    "class Dog(Animal):\n",
    "    def speak(self):\n",
    "        super().speak()\n",
    "        print(\"Woof!\")\n",
    "\n",
    "# Create a Dog object.\n",
    "dog = Dog()\n",
    "\n",
    "# Call the speak() method on the Dog object.\n",
    "dog.speak()\n"
   ]
  },
  {
   "cell_type": "markdown",
   "id": "aed3111a-86cb-449f-bf0c-36bac2915dc6",
   "metadata": {},
   "source": [
    "## 14. Create a Python class hierarchy for a banking system with various account types (e.g., savings, checking, credit card) and demonstrate polymorphism by implementing a common `withdraw()` method."
   ]
  },
  {
   "cell_type": "code",
   "execution_count": 14,
   "id": "d77a0d7c-5d0b-4b31-b273-ad9d45e879c7",
   "metadata": {},
   "outputs": [
    {
     "name": "stdout",
     "output_type": "stream",
     "text": [
      "SAV123: Withdrawn 50 from account SAV123. New balance: 450\n",
      "CHK456: Withdrawn 50 from account CHK456. New balance: 950\n",
      "CC789: Insufficient funds.\n",
      "SAV123: Minimum balance requirement not met.\n",
      "CHK456: Withdrawn 600 from account CHK456. New balance: 350\n",
      "CC789: Exceeds credit limit.\n",
      "SAV123: Minimum balance requirement not met.\n",
      "CHK456: Exceeds overdraft limit.\n",
      "CC789: Exceeds credit limit.\n"
     ]
    }
   ],
   "source": [
    "class Account:\n",
    "    def __init__(self, account_number, balance):\n",
    "        self.account_number = account_number\n",
    "        self.balance = balance\n",
    "\n",
    "    def withdraw(self, amount):\n",
    "        if amount <= 0:\n",
    "            return \"Withdrawal amount must be positive.\"\n",
    "        if amount > self.balance:\n",
    "            return \"Insufficient funds.\"\n",
    "        self.balance -= amount\n",
    "        return f\"Withdrawn {amount} from account {self.account_number}. New balance: {self.balance}\"\n",
    "\n",
    "class SavingsAccount(Account):\n",
    "    def __init__(self, account_number, balance, min_balance=100):\n",
    "        super().__init__(account_number, balance)\n",
    "        self.min_balance = min_balance\n",
    "\n",
    "    def withdraw(self, amount):\n",
    "        if self.balance - amount < self.min_balance:\n",
    "            return \"Minimum balance requirement not met.\"\n",
    "        return super().withdraw(amount)\n",
    "\n",
    "class CheckingAccount(Account):\n",
    "    def __init__(self, account_number, balance, overdraft_limit=100):\n",
    "        super().__init__(account_number, balance)\n",
    "        self.overdraft_limit = overdraft_limit\n",
    "\n",
    "    def withdraw(self, amount):\n",
    "        if amount > self.balance + self.overdraft_limit:\n",
    "            return \"Exceeds overdraft limit.\"\n",
    "        return super().withdraw(amount)\n",
    "\n",
    "class CreditCardAccount(Account):\n",
    "    def __init__(self, account_number, balance, credit_limit=1000):\n",
    "        super().__init__(account_number, balance)\n",
    "        self.credit_limit = credit_limit\n",
    "\n",
    "    def withdraw(self, amount):\n",
    "        if amount > self.balance + self.credit_limit:\n",
    "            return \"Exceeds credit limit.\"\n",
    "        return super().withdraw(amount)\n",
    "\n",
    "# Create instances of different account types\n",
    "savings_account = SavingsAccount(\"SAV123\", 500, 100)\n",
    "checking_account = CheckingAccount(\"CHK456\", 1000, 200)\n",
    "credit_card_account = CreditCardAccount(\"CC789\", -500, 1000)\n",
    "\n",
    "# Perform withdrawals with polymorphism\n",
    "withdrawals = [50, 600, 1500]\n",
    "\n",
    "for amount in withdrawals:\n",
    "    for account in (savings_account, checking_account, credit_card_account):\n",
    "        result = account.withdraw(amount)\n",
    "        print(f\"{account.account_number}: {result}\")\n"
   ]
  },
  {
   "cell_type": "markdown",
   "id": "7c93841c-baf1-4b1c-8dd0-c771da1b229f",
   "metadata": {},
   "source": [
    "## 15. Describe the concept of operator overloading in Python and how it relates to polymorphism. Provide examples using operators like `+` and `*`."
   ]
  },
  {
   "cell_type": "code",
   "execution_count": 15,
   "id": "73607307-da80-4b20-800d-fdd6091b014f",
   "metadata": {},
   "outputs": [
    {
     "name": "stdout",
     "output_type": "stream",
     "text": [
      "Vector(4, 6)\n"
     ]
    }
   ],
   "source": [
    "class Vector:\n",
    "    def __init__(self, x, y):\n",
    "        self.x = x\n",
    "        self.y = y\n",
    "\n",
    "    def __add__(self, other):\n",
    "        if isinstance(other, Vector):\n",
    "            # Perform vector addition\n",
    "            return Vector(self.x + other.x, self.y + other.y)\n",
    "        else:\n",
    "            raise ValueError(\"Can only add two Vector objects together.\")\n",
    "\n",
    "    def __str__(self):\n",
    "        return f\"Vector({self.x}, {self.y})\"\n",
    "\n",
    "# Create two Vector objects\n",
    "v1 = Vector(1, 2)\n",
    "v2 = Vector(3, 4)\n",
    "\n",
    "# Use the + operator for vector addition\n",
    "result = v1 + v2\n",
    "print(result)  # Output: Vector(4, 6)\n"
   ]
  },
  {
   "cell_type": "code",
   "execution_count": 16,
   "id": "c8ff40dd-92ab-4eed-a429-d451f51b3521",
   "metadata": {},
   "outputs": [
    {
     "name": "stdout",
     "output_type": "stream",
     "text": [
      "-5 + 10i\n"
     ]
    }
   ],
   "source": [
    "class ComplexNumber:\n",
    "    def __init__(self, real, imag):\n",
    "        self.real = real\n",
    "        self.imag = imag\n",
    "\n",
    "    def __mul__(self, other):\n",
    "        if isinstance(other, ComplexNumber):\n",
    "            # Perform complex number multiplication\n",
    "            real_part = self.real * other.real - self.imag * other.imag\n",
    "            imag_part = self.real * other.imag + self.imag * other.real\n",
    "            return ComplexNumber(real_part, imag_part)\n",
    "        else:\n",
    "            raise ValueError(\"Can only multiply two ComplexNumber objects together.\")\n",
    "\n",
    "    def __str__(self):\n",
    "        return f\"{self.real} + {self.imag}i\"\n",
    "\n",
    "# Create two ComplexNumber objects\n",
    "c1 = ComplexNumber(1, 2)\n",
    "c2 = ComplexNumber(3, 4)\n",
    "\n",
    "# Use the * operator for complex number multiplication\n",
    "result = c1 * c2\n",
    "print(result)  # Output: -5 + 10i\n"
   ]
  },
  {
   "cell_type": "markdown",
   "id": "07ab6ff6-50d4-4d0e-809c-3bacb703d2fb",
   "metadata": {},
   "source": [
    "## 16. What is dynamic polymorphism, and how is it achieved in Python?"
   ]
  },
  {
   "cell_type": "code",
   "execution_count": 17,
   "id": "1551b91f-ad09-4039-8a3f-c5c3bbac4c8f",
   "metadata": {},
   "outputs": [
    {
     "name": "stdout",
     "output_type": "stream",
     "text": [
      "Woof!\n",
      "Meow!\n",
      "Chirp!\n"
     ]
    }
   ],
   "source": [
    "'''Dynamic polymorphism, also known as runtime polymorphism, is a concept in object-oriented programming where the\n",
    "specific method to be executed is determined at runtime based on the actual type of the object. In dynamic polymorphism,\n",
    "you can have multiple classes with methods of the same name, and the appropriate method to be called is decided at\n",
    "runtime when the program is running.\n",
    "\n",
    "In Python, dynamic polymorphism is achieved through method overriding and the use of inheritance. Key elements of\n",
    "dynamic polymorphism in Python include:\n",
    "\n",
    "1.Inheritance:\n",
    "2.Method Overriding:\n",
    "'''\n",
    "\n",
    "class Animal:\n",
    "    def speak(self):\n",
    "        pass\n",
    "\n",
    "class Dog(Animal):\n",
    "    def speak(self):\n",
    "        return \"Woof!\"\n",
    "\n",
    "class Cat(Animal):\n",
    "    def speak(self):\n",
    "        return \"Meow!\"\n",
    "\n",
    "class Bird(Animal):\n",
    "    def speak(self):\n",
    "        return \"Chirp!\"\n",
    "\n",
    "# Create instances of different animals\n",
    "dog = Dog()\n",
    "cat = Cat()\n",
    "bird = Bird()\n",
    "\n",
    "# Call the speak() method on each animal\n",
    "animals = [dog, cat, bird]\n",
    "for animal in animals:\n",
    "    print(animal.speak())\n"
   ]
  },
  {
   "cell_type": "markdown",
   "id": "aae6fce2-c52f-449c-9631-cf937ace2dba",
   "metadata": {},
   "source": [
    "## 17. Create a Python class hierarchy for employees in a company (e.g., manager, developer, designer) and implement polymorphism through a common `calculate_salary()` method."
   ]
  },
  {
   "cell_type": "code",
   "execution_count": 18,
   "id": "744cd907-b480-42f9-bcfa-f8977a08eafd",
   "metadata": {},
   "outputs": [
    {
     "name": "stdout",
     "output_type": "stream",
     "text": [
      "Alice (Manager) Salary: $55,000.00\n",
      "Bob (Developer) Salary: $66,000.00\n",
      "Carol (Designer) Salary: $70,000.00\n"
     ]
    }
   ],
   "source": [
    "class Employee:\n",
    "    def __init__(self, name, role):\n",
    "        self.name = name\n",
    "        self.role = role\n",
    "\n",
    "    def calculate_salary(self):\n",
    "        raise NotImplementedError(\"Subclasses must implement calculate_salary()\")\n",
    "\n",
    "class Manager(Employee):\n",
    "    def __init__(self, name, team_size):\n",
    "        super().__init__(name, \"Manager\")\n",
    "        self.team_size = team_size\n",
    "\n",
    "    def calculate_salary(self):\n",
    "        base_salary = 50000\n",
    "        return base_salary + (self.team_size * 1000)\n",
    "\n",
    "class Developer(Employee):\n",
    "    def __init__(self, name, experience_years):\n",
    "        super().__init__(name, \"Developer\")\n",
    "        self.experience_years = experience_years\n",
    "\n",
    "    def calculate_salary(self):\n",
    "        base_salary = 60000\n",
    "        return base_salary + (self.experience_years * 2000)\n",
    "\n",
    "class Designer(Employee):\n",
    "    def __init__(self, name, projects_completed):\n",
    "        super().__init__(name, \"Designer\")\n",
    "        self.projects_completed = projects_completed\n",
    "\n",
    "    def calculate_salary(self):\n",
    "        base_salary = 55000\n",
    "        return base_salary + (self.projects_completed * 1500)\n",
    "\n",
    "# Create instances of different employees\n",
    "manager = Manager(\"Alice\", 5)\n",
    "developer = Developer(\"Bob\", 3)\n",
    "designer = Designer(\"Carol\", 10)\n",
    "\n",
    "# Calculate and display salaries using polymorphism\n",
    "employees = [manager, developer, designer]\n",
    "for employee in employees:\n",
    "    print(f\"{employee.name} ({employee.role}) Salary: ${employee.calculate_salary():,.2f}\")\n"
   ]
  },
  {
   "cell_type": "markdown",
   "id": "1a5e3f5e-6552-474b-8e91-bed57e8dd1d5",
   "metadata": {},
   "source": [
    "## 18. Discuss the concept of function pointers and how they can be used to achieve polymorphism in Python."
   ]
  },
  {
   "cell_type": "code",
   "execution_count": 19,
   "id": "681f913b-419b-439f-ac08-f5718fef1616",
   "metadata": {},
   "outputs": [
    {
     "name": "stdout",
     "output_type": "stream",
     "text": [
      "8\n",
      "2\n"
     ]
    }
   ],
   "source": [
    "'''Function pointers are a concept commonly associated with languages like C and C++ but not directly applicable in the\n",
    "same way to Python. However, in Python, you can achieve similar behavior using functions and dictionaries to achieve\n",
    "polymorphism. Here's an explanation of how this can be done:'''\n",
    "\n",
    "#Using Functions:\n",
    "def add(a, b):\n",
    "    return a + b\n",
    "\n",
    "def subtract(a, b):\n",
    "    return a - b\n",
    "\n",
    "operation = add\n",
    "result = operation(5, 3)  # Calls the add function\n",
    "print(result)  # Output: 8\n",
    "\n",
    "operation = subtract\n",
    "result = operation(5, 3)  # Calls the subtract function\n",
    "print(result)  # Output: 2\n"
   ]
  },
  {
   "cell_type": "code",
   "execution_count": 20,
   "id": "ddb8afa7-65d9-4ffd-bcdb-92f2d89b9c52",
   "metadata": {},
   "outputs": [
    {
     "name": "stdout",
     "output_type": "stream",
     "text": [
      "8\n"
     ]
    }
   ],
   "source": [
    "# Using Dictionaries:\n",
    "def add(a, b):\n",
    "    return a + b\n",
    "\n",
    "def subtract(a, b):\n",
    "    return a - b\n",
    "\n",
    "def multiply(a, b):\n",
    "    return a * b\n",
    "\n",
    "def divide(a, b):\n",
    "    return a / b\n",
    "\n",
    "operations = {\n",
    "    \"add\": add,\n",
    "    \"subtract\": subtract,\n",
    "    \"multiply\": multiply,\n",
    "    \"divide\": divide\n",
    "}\n",
    "\n",
    "operation_name = \"add\"\n",
    "result = operations[operation_name](5, 3)\n",
    "print(result)  # Output: 8\n"
   ]
  },
  {
   "cell_type": "markdown",
   "id": "4aec3909-8728-424c-806f-b74984c6a8ef",
   "metadata": {},
   "source": [
    "## 19. Explain the role of interfaces and abstract classes in polymorphism, drawing comparisons between them"
   ]
  },
  {
   "cell_type": "code",
   "execution_count": 22,
   "id": "f5d26d10-fc57-4fff-bc74-fd63c4c313eb",
   "metadata": {},
   "outputs": [],
   "source": [
    "'''In Python, abstract classes are more commonly used, and explicit interfaces are not as common as in statically-typed\n",
    "languages. Nonetheless, you can still define and implement interfaces using abstract classes with abstract methods.\n",
    "The choice between using an abstract class or an interface depends on the specific requirements of your design.'''\n",
    "\n",
    "from abc import ABC, abstractmethod\n",
    "\n",
    "class Shape(ABC):\n",
    "    @abstractmethod\n",
    "    def area(self):\n",
    "        pass\n",
    "\n",
    "class Circle(Shape):\n",
    "    def __init__(self, radius):\n",
    "        self.radius = radius\n",
    "\n",
    "    def area(self):\n",
    "        return 3.14 * self.radius ** 2\n",
    "\n",
    "class Rectangle(Shape):\n",
    "    def __init__(self, length, width):\n",
    "        self.length = length\n",
    "        self.width = width\n",
    "\n",
    "    def area(self):\n",
    "        return self.length * self.width\n"
   ]
  },
  {
   "cell_type": "code",
   "execution_count": 23,
   "id": "80d86361-6ddb-4cdf-961d-dd51b9a848b0",
   "metadata": {},
   "outputs": [],
   "source": [
    "from abc import ABC, abstractmethod\n",
    "\n",
    "class Shape(ABC):\n",
    "    @abstractmethod\n",
    "    def area(self):\n",
    "        pass\n",
    "\n",
    "class Drawable(ABC):\n",
    "    @abstractmethod\n",
    "    def draw(self):\n",
    "        pass\n",
    "\n",
    "class Circle(Shape, Drawable):\n",
    "    def __init__(self, radius):\n",
    "        self.radius = radius\n",
    "\n",
    "    def area(self):\n",
    "        return 3.14 * self.radius ** 2\n",
    "\n",
    "    def draw(self):\n",
    "        print(\"Drawing a circle\")\n",
    "\n",
    "class Rectangle(Shape, Drawable):\n",
    "    def __init__(self, length, width):\n",
    "        self.length = length\n",
    "        self.width = width\n",
    "\n",
    "    def area(self):\n",
    "        return self.length * self.width\n",
    "\n",
    "    def draw(self):\n",
    "        print(\"Drawing a rectangle\")\n"
   ]
  },
  {
   "cell_type": "markdown",
   "id": "a0c79017-d1d3-459d-a2b5-d8b1b40c9494",
   "metadata": {},
   "source": [
    "## 20. Create a Python class for a zoo simulation, demonstrating polymorphism with different animal types (e.g., mammals, birds, reptiles) and their behavior (e.g., eating, sleeping, making sounds)."
   ]
  },
  {
   "cell_type": "code",
   "execution_count": 4,
   "id": "cf97315b-48d8-4b07-bf06-bd10321583ae",
   "metadata": {},
   "outputs": [
    {
     "name": "stdout",
     "output_type": "stream",
     "text": [
      "lion: Mammal sound\n",
      "lion: Mammal eats\n",
      "lion: Mammal sleeps\n",
      "\n",
      "Parrot: Bird sound\n",
      "Parrot: Bird eats\n",
      "Parrot: Bird sleeps\n",
      "\n",
      "Snake: Reptile sound\n",
      "Snake: Reptile eats\n",
      "Snake: Reptile sleeps\n",
      "\n"
     ]
    }
   ],
   "source": [
    "class Animal:\n",
    "    def __init__(self, name):\n",
    "        self.name = name\n",
    "\n",
    "    def speak(self):\n",
    "        pass\n",
    "\n",
    "    def eat(self):\n",
    "        pass\n",
    "\n",
    "    def sleep(self):\n",
    "        pass\n",
    "\n",
    "class Mammal(Animal):\n",
    "    def speak(self):\n",
    "        return \"Mammal sound\"\n",
    "\n",
    "    def eat(self):\n",
    "        return \"Mammal eats\"\n",
    "\n",
    "    def sleep(self):\n",
    "        return \"Mammal sleeps\"\n",
    "\n",
    "class Bird(Animal):\n",
    "    def speak(self):\n",
    "        return \"Bird sound\"\n",
    "\n",
    "    def eat(self):\n",
    "        return \"Bird eats\"\n",
    "\n",
    "    def sleep(self):\n",
    "        return \"Bird sleeps\"\n",
    "\n",
    "class Reptile(Animal):\n",
    "    def speak(self):\n",
    "        return \"Reptile sound\"\n",
    "\n",
    "    def eat(self):\n",
    "        return \"Reptile eats\"\n",
    "\n",
    "    def sleep(self):\n",
    "        return \"Reptile sleeps\"\n",
    "\n",
    "# Create instances of different animals\n",
    "lion = Mammal(\"lion\")\n",
    "parrot = Bird(\"Parrot\")\n",
    "snake = Reptile(\"Snake\")\n",
    "\n",
    "# Demonstrate polymorphism\n",
    "zoo = [lion, parrot, snake]\n",
    "\n",
    "for animal in zoo:\n",
    "    print(f\"{animal.name}: {animal.speak()}\")\n",
    "    print(f\"{animal.name}: {animal.eat()}\")\n",
    "    print(f\"{animal.name}: {animal.sleep()}\")\n",
    "    print()\n"
   ]
  },
  {
   "cell_type": "markdown",
   "id": "3fd9ac26-1f7a-4bbf-96eb-236558e7f5f0",
   "metadata": {},
   "source": [
    "# Abstraction "
   ]
  },
  {
   "cell_type": "markdown",
   "id": "f781c58b-81b9-4f31-81e4-1dc7817ef6ef",
   "metadata": {},
   "source": [
    "## 1. What is abstraction in Python, and how does it relate to object-oriented programming?"
   ]
  },
  {
   "cell_type": "code",
   "execution_count": 9,
   "id": "73820bab-444e-44b7-a0d6-80e6d9176f9e",
   "metadata": {},
   "outputs": [
    {
     "name": "stdout",
     "output_type": "stream",
     "text": [
      "Area of the circle: 78.5\n",
      "Area of the rectangle: 24\n"
     ]
    }
   ],
   "source": [
    "\n",
    "'''Abstraction in Python is the process of hiding the implementation details of an object or function and exposing its\n",
    "essential functionality. This allows us to focus on how to use the object or function without worrying about how it works.\n",
    "\n",
    "Abstraction is one of the key principles of object-oriented programming (OOP). OOP languages, such as Python, use\n",
    "abstraction to create objects that represent real-world entities, such as cars, dogs, and bank accounts. These objects\n",
    "have a set of properties and behaviors that are exposed to the outside world, but the implementation details of those\n",
    "properties and behaviors are hidden.\n",
    "\n",
    "Here's how abstraction relates to OOP:\n",
    "\n",
    "Abstract Classes and Methods:\n",
    "In Python, you can create abstract classes and methods using the abc (Abstract Base Classes) module. An abstract class\n",
    "is a class that cannot be instantiated directly and is meant to be subclassed. Abstract methods declared within an abstract\n",
    "class are methods without implementations. Subclasses are required to provide concrete implementations for these abstract\n",
    "methods. Abstraction enforces a contract, ensuring that certain methods exist in all subclasses.\n",
    "\n",
    "Hiding Implementation Details:\n",
    "Abstraction allows you to hide the internal details and complexities of a class or object. Users of the class interact\n",
    "with it through a well-defined interface (public methods and properties), without needing to understand how those methods\n",
    "are implemented.\n",
    "\n",
    "Data Encapsulation:\n",
    "Abstraction also involves encapsulating data, which means that data (attributes or properties) within\n",
    "an object should be kept private or protected from direct access. Access to these data members is provided through methods,\n",
    "such as getters and setters, which control how data is retrieved and modified.\n",
    "\n",
    "Reusability:\n",
    "Abstraction facilitates reusability. Once you've defined an abstract class and its methods, you can create multiple\n",
    "concrete subclasses that implement those methods according to their specific requirements. This promotes code reuse and\n",
    "modularity.\n",
    "\n",
    "Abstraction can be achieved in Python using a variety of techniques, including:\n",
    "\n",
    "Encapsulation:\n",
    "Encapsulation is the process of binding data and code together into a single unit, such as an object or class. This allows\n",
    "us to hide the implementation details of the data and code from the outside world.\n",
    "\n",
    "Inheritance:\n",
    "Inheritance is the process of creating a new class that inherits the properties and behaviors of an existing class.\n",
    "This allows us to reuse code and create a hierarchy of classes that represent different levels of abstraction.\n",
    "\n",
    "Polymorphism:\n",
    "Polymorphism is the ability of an object to take on many forms. This allows us to write code that is more flexible and\n",
    "reusable.'''\n",
    "\n",
    "from abc import ABC, abstractmethod\n",
    "\n",
    "# Define an abstract class called Shape\n",
    "class Shape(ABC):\n",
    "    @abstractmethod\n",
    "    def area(self):\n",
    "        pass\n",
    "\n",
    "# Concrete subclass Circle implementing the area() method\n",
    "class Circle(Shape):\n",
    "    def __init__(self, radius):\n",
    "        self.radius = radius\n",
    "\n",
    "    def area(self):\n",
    "        return 3.14 * self.radius ** 2\n",
    "\n",
    "# Concrete subclass Rectangle implementing the area() method\n",
    "class Rectangle(Shape):\n",
    "    def __init__(self, length, width):\n",
    "        self.length = length\n",
    "        self.width = width\n",
    "\n",
    "    def area(self):\n",
    "        return self.length * self.width\n",
    "\n",
    "# Create instances of Circle and Rectangle\n",
    "circle = Circle(5)\n",
    "rectangle = Rectangle(4, 6)\n",
    "\n",
    "# Calculate and display the areas\n",
    "print(f\"Area of the circle: {circle.area()}\")\n",
    "print(f\"Area of the rectangle: {rectangle.area()}\")\n",
    "\n"
   ]
  },
  {
   "cell_type": "markdown",
   "id": "eecb93a9-6a2f-4513-81af-49f36d2b2302",
   "metadata": {},
   "source": [
    "## 2. Describe the benefits of abstraction in terms of code organization and complexity reduction."
   ]
  },
  {
   "cell_type": "code",
   "execution_count": 13,
   "id": "62ad9b4f-b45d-4456-bc21-be5baede92ff",
   "metadata": {},
   "outputs": [
    {
     "name": "stdout",
     "output_type": "stream",
     "text": [
      "Starting the Toyota Camry car.\n",
      "Stopping the Toyota Camry car.\n",
      "Pedaling the Schwinn Ranger bicycle.\n",
      "Braking the Schwinn Ranger bicycle.\n"
     ]
    }
   ],
   "source": [
    "'''Abstraction in terms of code organization and complexity reduction offers several benefits:\n",
    "\n",
    "Code modularity:\n",
    "Abstraction allows us to break down complex code into smaller, more manageable modules. This makes our code easier to\n",
    "understand, maintain, and test.\n",
    "\n",
    "Code reuse:\n",
    "Abstraction allows us to reuse code by hiding the implementation details of concrete classes. This can save us time and\n",
    "effort, and it can also help us to reduce code duplication.\n",
    "\n",
    "Code maintainability:\n",
    "Abstraction makes our code more maintainable by hiding the implementation details of concrete classes. This makes it easier\n",
    "to change the implementation of a class without affecting the code that uses it.\n",
    "\n",
    "Code complexity reduction:\n",
    "Abstraction helps us to reduce code complexity by hiding the implementation details of concrete classes. This makes our\n",
    "code easier to understand and reason about.\n",
    "\n",
    "Encapsulation:\n",
    "Abstraction often goes hand in hand with encapsulation. It encourages the encapsulation of data and behavior within\n",
    "classes, which means that internal details are hidden from external code. This data hiding protects the integrity of the\n",
    "data and ensures that it is only accessed or modified through well-defined interfaces (methods).'''\n",
    "\n",
    "from abc import ABC, abstractmethod\n",
    "\n",
    "# Abstract class for vehicles(can be inherited but not instantiated)\n",
    "class Vehicle(ABC):\n",
    "    def __init__(self, make, model):\n",
    "        self.make = make\n",
    "        self.model = model\n",
    "\n",
    "    @abstractmethod\n",
    "    def start(self):\n",
    "        pass\n",
    "\n",
    "    @abstractmethod\n",
    "    def stop(self):\n",
    "        pass\n",
    "\n",
    "# Concrete subclasses\n",
    "class Car(Vehicle):\n",
    "    def start(self):\n",
    "        print(f\"Starting the {self.make} {self.model} car.\")\n",
    "\n",
    "    def stop(self):\n",
    "        print(f\"Stopping the {self.make} {self.model} car.\")\n",
    "\n",
    "class Bicycle(Vehicle):\n",
    "    def start(self):\n",
    "        print(f\"Pedaling the {self.make} {self.model} bicycle.\")\n",
    "\n",
    "    def stop(self):\n",
    "        print(f\"Braking the {self.make} {self.model} bicycle.\")\n",
    "\n",
    "# Client code\n",
    "vehicles = [Car(\"Toyota\", \"Camry\"), Bicycle(\"Schwinn\", \"Ranger\")]\n",
    "\n",
    "for vehicle in vehicles:\n",
    "    vehicle.start()\n",
    "    vehicle.stop()\n"
   ]
  },
  {
   "cell_type": "markdown",
   "id": "38b5fad6-5ed5-4674-9425-1489b9e39050",
   "metadata": {},
   "source": [
    "## 3. Create a Python class called `Shape` with an abstract method `calculate_area()`. Then, create child classes (e.g., `Circle`, `Rectangle`) that implement the `calculate_area()` method. Provide an example of using these classes."
   ]
  },
  {
   "cell_type": "code",
   "execution_count": 17,
   "id": "44988d1d-5cc2-42c7-9ca6-1b9277ea1a9f",
   "metadata": {},
   "outputs": [
    {
     "name": "stdout",
     "output_type": "stream",
     "text": [
      "Area of the Circle: 78.5\n",
      "Area of the Rectangle: 24\n"
     ]
    }
   ],
   "source": [
    "from abc import ABC, abstractmethod\n",
    "\n",
    "# Define an abstract class \"Shape\" with an abstract method \"calculate_area\"\n",
    "class Shape(ABC):\n",
    "    @abstractmethod\n",
    "    def calculate_area(self):\n",
    "        pass\n",
    "\n",
    "# Create a concrete class \"Circle\" that inherits from \"Shape\" and implements \"calculate_area\"\n",
    "class Circle(Shape):\n",
    "    def __init__(self, radius):\n",
    "        self.radius = radius\n",
    "\n",
    "    def calculate_area(self):\n",
    "        return 3.14 * self.radius * self.radius\n",
    "\n",
    "# Create a concrete class \"Rectangle\" that inherits from \"Shape\" and implements \"calculate_area\"\n",
    "class Rectangle(Shape):\n",
    "    def __init__(self, length, width):\n",
    "        self.length = length\n",
    "        self.width = width\n",
    "\n",
    "    def calculate_area(self):\n",
    "        return self.length * self.width\n",
    "\n",
    "# Create instances of the Circle and Rectangle classes\n",
    "circle = Circle(5)\n",
    "rectangle = Rectangle(4, 6)\n",
    "\n",
    "# Calculate and print the areas\n",
    "print(f\"Area of the Circle: {circle.calculate_area()}\")  # Output: 78.5\n",
    "print(f\"Area of the Rectangle: {rectangle.calculate_area()}\")  # Output: 24\n"
   ]
  },
  {
   "cell_type": "markdown",
   "id": "fba253f7-2e66-46c1-a538-08e74f56ca8e",
   "metadata": {},
   "source": [
    "## 4. Explain the concept of abstract classes in Python and how they are defined using the `abc` module. Provide an example."
   ]
  },
  {
   "cell_type": "code",
   "execution_count": 15,
   "id": "a75f55b3-540f-4256-82fa-5afbe138141a",
   "metadata": {},
   "outputs": [
    {
     "name": "stdout",
     "output_type": "stream",
     "text": [
      "Woof!\n",
      "Meow!\n"
     ]
    }
   ],
   "source": [
    "'''Abstract classes in Python are classes that cannot be instantiated themselves and are meant to be subclassed by other\n",
    "classes. They are used to define a common interface and provide a structure for derived classes while enforcing that\n",
    "certain methods be implemented in those subclasses. Abstract classes can be created using the abc (Abstract Base Classes)\n",
    "module in Python.'''\n",
    "\n",
    "from abc import ABC, abstractmethod\n",
    "\n",
    "# Define an abstract class \"Animal\" using the ABC class\n",
    "class Animal(ABC):\n",
    "\n",
    "    # Define an abstract method \"speak\"\n",
    "    @abstractmethod\n",
    "    def speak(self):\n",
    "        pass\n",
    "\n",
    "# Create a concrete class \"Dog\" that inherits from \"Animal\" and implements \"speak\"\n",
    "class Dog(Animal):\n",
    "    def speak(self):\n",
    "        return \"Woof!\"\n",
    "\n",
    "# Create a concrete class \"Cat\" that inherits from \"Animal\" and implements \"speak\"\n",
    "class Cat(Animal):\n",
    "    def speak(self):\n",
    "        return \"Meow!\"\n",
    "\n",
    "# Attempting to create an instance of the abstract class \"Animal\" will raise a TypeError\n",
    "# animal = Animal()  # This will raise a TypeError\n",
    "\n",
    "# Create instances of \"Dog\" and \"Cat\" and call their \"speak\" methods\n",
    "dog = Dog()\n",
    "cat = Cat()\n",
    "\n",
    "print(dog.speak())  # Output: \"Woof!\"\n",
    "print(cat.speak())  # Output: \"Meow!\"\n"
   ]
  },
  {
   "cell_type": "markdown",
   "id": "8dbad741-f907-467f-adc3-6d7c872a3f22",
   "metadata": {},
   "source": [
    "## 5. How do abstract classes differ from regular classes in Python? Discuss their use cases."
   ]
  },
  {
   "cell_type": "code",
   "execution_count": 18,
   "id": "b708e358-6365-40ed-b641-3479f41b0376",
   "metadata": {},
   "outputs": [
    {
     "name": "stdout",
     "output_type": "stream",
     "text": [
      "Woof!\n",
      "Meow!\n"
     ]
    }
   ],
   "source": [
    "'''Abstract classes differ from regular classes in Python in a few key ways:\n",
    "\n",
    "Abstract classes cannot be instantiated directly.\n",
    "Abstract classes are meant to be subclassed and overridden, not instantiated directly. This helps to ensure that all\n",
    "subclasses implement the required methods.\n",
    "\n",
    "Abstract classes can contain abstract methods.\n",
    "Abstract methods are methods that have a declaration but no implementation. Subclasses must override abstract methods\n",
    "in order to be instantiated.\n",
    "\n",
    "Abstract classes can provide default implementations for methods.\n",
    "This can save time and effort for subclasses, and it can also help to reduce code duplication.\n",
    "\n",
    "Use cases for abstract classes:\n",
    "\n",
    "To define a common interface for a group of related classes.\n",
    "Abstract classes can be used to define a common interface for a group of related classes, such as all types of vehicles\n",
    "or all types of animals. This can make it easier to write code that works with different types of objects in a consistent way.\n",
    "\n",
    "To provide default implementations for common functionality.\n",
    "Abstract classes can be used to provide default implementations for common functionality, such as a start() method for\n",
    "all types of vehicles. This can save time and effort for subclasses, and it can also help to reduce code duplication.\n",
    "\n",
    "To prevent instantiation of incomplete classes.\n",
    "Abstract classes can be used to prevent instantiation of incomplete classes. For example, we could create an abstract\n",
    "base class for all types of animals. This would prevent us from accidentally creating an instance of an animal class\n",
    "that does not implement the required methods.'''\n",
    "\n",
    "class Animal:\n",
    "    @abstractmethod\n",
    "    def speak(self):\n",
    "        pass\n",
    "\n",
    "class Dog(Animal):\n",
    "    def speak(self):\n",
    "        print(\"Woof!\")\n",
    "\n",
    "class Cat(Animal):\n",
    "    def speak(self):\n",
    "        print(\"Meow!\")\n",
    "\n",
    "# Create a Dog object.\n",
    "dog = Dog()\n",
    "\n",
    "# Create a Cat object.\n",
    "cat = Cat()\n",
    "\n",
    "# Call the speak() method on the Dog object.\n",
    "dog.speak()\n",
    "\n",
    "# Call the speak() method on the Cat object.\n",
    "cat.speak()\n"
   ]
  },
  {
   "cell_type": "markdown",
   "id": "cb271054-77f7-4324-ae1d-62dd63d1ce40",
   "metadata": {},
   "source": [
    "## 6. Create a Python class for a bank account and demonstrate abstraction by hiding the account balance and providing methods to deposit and withdraw funds."
   ]
  },
  {
   "cell_type": "code",
   "execution_count": 24,
   "id": "d29b029f-dfcf-43f4-a285-b0438bb922b4",
   "metadata": {},
   "outputs": [
    {
     "name": "stdout",
     "output_type": "stream",
     "text": [
      "Savings Account Balance: $824.00\n",
      "Checking Account Balance: $-300.00\n"
     ]
    }
   ],
   "source": [
    "from abc import ABC, abstractmethod\n",
    "\n",
    "class BankAccount(ABC):\n",
    "    def __init__(self, account_number, account_holder):\n",
    "        self.account_number = account_number\n",
    "        self.account_holder = account_holder\n",
    "        self.balance = 0  # Initialize balance to 0\n",
    "\n",
    "    @abstractmethod\n",
    "    def deposit(self, amount):\n",
    "        pass\n",
    "\n",
    "    @abstractmethod\n",
    "    def withdraw(self, amount):\n",
    "        pass\n",
    "\n",
    "class SavingsAccount(BankAccount):\n",
    "    def __init__(self, account_number, account_holder):\n",
    "        super().__init__(account_number, account_holder)\n",
    "        self.interest_rate = 0.03  # Example interest rate for a savings account\n",
    "\n",
    "    def deposit(self, amount):\n",
    "        if amount > 0:\n",
    "            self.balance += amount\n",
    "\n",
    "    def withdraw(self, amount):\n",
    "        if amount > 0 and amount <= self.balance:\n",
    "            self.balance -= amount\n",
    "\n",
    "    def apply_interest(self):\n",
    "        self.balance += self.balance * self.interest_rate\n",
    "\n",
    "class CheckingAccount(BankAccount):\n",
    "    def __init__(self, account_number, account_holder):\n",
    "        super().__init__(account_number, account_holder)\n",
    "        self.overdraft_limit = 1000  # Example overdraft limit for a checking account\n",
    "\n",
    "    def deposit(self, amount):\n",
    "        if amount > 0:\n",
    "            self.balance += amount\n",
    "\n",
    "    def withdraw(self, amount):\n",
    "        if amount > 0 and amount <= (self.balance + self.overdraft_limit):\n",
    "            self.balance -= amount\n",
    "\n",
    "# Usage example:\n",
    "savings_account = SavingsAccount(\"SA12345\", \"John Doe\")\n",
    "savings_account.deposit(1000)\n",
    "savings_account.withdraw(200)\n",
    "savings_account.apply_interest()\n",
    "print(f\"Savings Account Balance: ${savings_account.balance:.2f}\")\n",
    "\n",
    "checking_account = CheckingAccount(\"CA67890\", \"Jane Smith\")\n",
    "checking_account.deposit(500)\n",
    "checking_account.withdraw(800)\n",
    "print(f\"Checking Account Balance: ${checking_account.balance:.2f}\")\n"
   ]
  },
  {
   "cell_type": "code",
   "execution_count": 25,
   "id": "dfe23b95-58cf-4ae1-bacc-a7db9b293b68",
   "metadata": {},
   "outputs": [
    {
     "name": "stdout",
     "output_type": "stream",
     "text": [
      "Account Number: 123456\n",
      "Account Holder: John Doe\n",
      "Deposited: $500\n",
      "Current Balance: $500\n",
      "Withdrew: $200\n",
      "Current Balance: $300\n",
      "Insufficient funds or invalid withdrawal amount.\n",
      "Current Balance: $300\n"
     ]
    }
   ],
   "source": [
    "from abc import ABC, abstractmethod\n",
    "\n",
    "class BankAccount(ABC):\n",
    "    def __init__(self, account_number, account_holder):\n",
    "        self.account_number = account_number\n",
    "        self.account_holder = account_holder\n",
    "        self._balance = 0  # Protected attribute indicating balance\n",
    "\n",
    "    @abstractmethod\n",
    "    def deposit(self, amount):\n",
    "        pass\n",
    "\n",
    "    @abstractmethod\n",
    "    def withdraw(self, amount):\n",
    "        pass\n",
    "\n",
    "    def get_balance(self):\n",
    "        return self._balance\n",
    "\n",
    "class SavingsAccount(BankAccount):\n",
    "    def deposit(self, amount):\n",
    "        if amount > 0:\n",
    "            self._balance += amount\n",
    "            print(f\"Deposited: ${amount}\")\n",
    "        else:\n",
    "            print(\"Invalid deposit amount.\")\n",
    "\n",
    "    def withdraw(self, amount):\n",
    "        if amount > 0 and self._balance >= amount:\n",
    "            self._balance -= amount\n",
    "            print(f\"Withdrew: ${amount}\")\n",
    "        else:\n",
    "            print(\"Insufficient funds or invalid withdrawal amount.\")\n",
    "\n",
    "# Example usage:\n",
    "savings_account = SavingsAccount(account_number=\"123456\", account_holder=\"John Doe\")\n",
    "print(f\"Account Number: {savings_account.account_number}\")\n",
    "print(f\"Account Holder: {savings_account.account_holder}\")\n",
    "\n",
    "savings_account.deposit(500)\n",
    "print(f\"Current Balance: ${savings_account.get_balance()}\")\n",
    "\n",
    "savings_account.withdraw(200)\n",
    "print(f\"Current Balance: ${savings_account.get_balance()}\")\n",
    "\n",
    "savings_account.withdraw(400)  # Attempting to withdraw more than the balance\n",
    "print(f\"Current Balance: ${savings_account.get_balance()}\")\n"
   ]
  },
  {
   "cell_type": "markdown",
   "id": "edb82e56-e7ce-481c-a198-c6807758df4f",
   "metadata": {},
   "source": [
    "## 7. Discuss the concept of interface classes in Python and their role in achieving abstraction."
   ]
  },
  {
   "cell_type": "code",
   "execution_count": 27,
   "id": "008b41b2-cdc1-4980-90ff-f9a3ddebc2fa",
   "metadata": {},
   "outputs": [
    {
     "name": "stdout",
     "output_type": "stream",
     "text": [
      "Processing payment of $100 via PayPal\n",
      "Processing payment of $100 via Credit Card\n",
      "Processing payment of $100 via Bank Transfer\n"
     ]
    }
   ],
   "source": [
    "'''In Python, there is no separate \"interface\" keyword like in some other programming languages. However, you can\n",
    "achieve a form of interface-like behavior using abstract base classes from the abc module. Interface classes\n",
    "define a set of methods that must be implemented by any class that claims to conform to the interface.'''\n",
    "\n",
    "from abc import ABC, abstractmethod\n",
    "\n",
    "class PaymentGateway(ABC):\n",
    "    @abstractmethod\n",
    "    def process_payment(self, amount):\n",
    "        pass\n",
    "\n",
    "class PayPal(PaymentGateway):\n",
    "    def process_payment(self, amount):\n",
    "        print(f\"Processing payment of ${amount} via PayPal\")\n",
    "\n",
    "class CreditCard(PaymentGateway):\n",
    "    def process_payment(self, amount):\n",
    "        print(f\"Processing payment of ${amount} via Credit Card\")\n",
    "\n",
    "class BankTransfer(PaymentGateway):\n",
    "    def process_payment(self, amount):\n",
    "        print(f\"Processing payment of ${amount} via Bank Transfer\")\n",
    "\n",
    "# Usage example:\n",
    "payment_methods = [PayPal(), CreditCard(), BankTransfer()]\n",
    "\n",
    "for method in payment_methods:\n",
    "    method.process_payment(100)\n"
   ]
  },
  {
   "cell_type": "markdown",
   "id": "666c0531-3c91-4b1d-8dde-843e6c6a6f2f",
   "metadata": {},
   "source": [
    "## 8. Create a Python class hierarchy for animals and implement abstraction by defining common methods (e.g., `eat()`, `sleep()`) in an abstract base class."
   ]
  },
  {
   "cell_type": "code",
   "execution_count": 28,
   "id": "1ff40f12-05f3-4b65-a66a-705e77e833d5",
   "metadata": {},
   "outputs": [
    {
     "name": "stdout",
     "output_type": "stream",
     "text": [
      "Buddy says Woof!\n",
      "Buddy is eating dog food.\n",
      "Buddy is sleeping in a dog bed.\n",
      "Whiskers says Meow!\n",
      "Whiskers is eating cat food.\n",
      "Whiskers is napping in a cozy corner.\n"
     ]
    }
   ],
   "source": [
    "from abc import ABC, abstractmethod\n",
    "\n",
    "# Abstract base class for animals\n",
    "class Animal(ABC):\n",
    "    def __init__(self, name):\n",
    "        self.name = name\n",
    "\n",
    "    @abstractmethod\n",
    "    def speak(self):\n",
    "        pass\n",
    "\n",
    "    @abstractmethod\n",
    "    def eat(self):\n",
    "        pass\n",
    "\n",
    "    @abstractmethod\n",
    "    def sleep(self):\n",
    "        pass\n",
    "\n",
    "# Concrete classes for specific animals\n",
    "class Dog(Animal):\n",
    "    def speak(self):\n",
    "        return f\"{self.name} says Woof!\"\n",
    "\n",
    "    def eat(self):\n",
    "        return f\"{self.name} is eating dog food.\"\n",
    "\n",
    "    def sleep(self):\n",
    "        return f\"{self.name} is sleeping in a dog bed.\"\n",
    "\n",
    "class Cat(Animal):\n",
    "    def speak(self):\n",
    "        return f\"{self.name} says Meow!\"\n",
    "\n",
    "    def eat(self):\n",
    "        return f\"{self.name} is eating cat food.\"\n",
    "\n",
    "    def sleep(self):\n",
    "        return f\"{self.name} is napping in a cozy corner.\"\n",
    "\n",
    "# Usage example:\n",
    "dog = Dog(\"Buddy\")\n",
    "cat = Cat(\"Whiskers\")\n",
    "\n",
    "print(dog.speak())\n",
    "print(dog.eat())\n",
    "print(dog.sleep())\n",
    "\n",
    "print(cat.speak())\n",
    "print(cat.eat())\n",
    "print(cat.sleep())\n"
   ]
  },
  {
   "cell_type": "markdown",
   "id": "2bd97ea0-c449-4b63-b483-4462881dad63",
   "metadata": {},
   "source": [
    "## 9. Explain the significance of encapsulation in achieving abstraction. Provide examples."
   ]
  },
  {
   "cell_type": "code",
   "execution_count": 30,
   "id": "0587d9bc-bdeb-479b-bc13-a0b3669b6600",
   "metadata": {},
   "outputs": [
    {
     "name": "stdout",
     "output_type": "stream",
     "text": [
      "2023 Toyota Camry\n",
      "The Toyota Camry's engine is started.\n"
     ]
    }
   ],
   "source": [
    "'''By encapsulating the internal state of the Car class, we achieve abstraction because we can work with car objects\n",
    "at a high level without needing to know the implementation details. This separation of concerns enhances code\n",
    "maintainability, as changes to the internal representation of a car do not affect the code that uses the Car class,\n",
    "provided that the public interface remains consistent.'''\n",
    "\n",
    "class Car:\n",
    "    def __init__(self, make, model, year):\n",
    "        self.__make = make  # Encapsulated as a private attribute\n",
    "        self.__model = model  # Encapsulated as a private attribute\n",
    "        self.__year = year  # Encapsulated as a private attribute\n",
    "\n",
    "    def get_info(self):\n",
    "        return f\"{self.__year} {self.__make} {self.__model}\"\n",
    "\n",
    "    def start_engine(self):\n",
    "        return f\"The {self.__make} {self.__model}'s engine is started.\"\n",
    "\n",
    "# Usage example\n",
    "car1 = Car(\"Toyota\", \"Camry\", 2023)\n",
    "print(car1.get_info())  # Output: \"2023 Toyota Camry\"\n",
    "print(car1.start_engine())  # Output: \"The Toyota Camry's engine is started.\"\n",
    "\n",
    "# Attempting to access private attributes directly (outside the class) will result in an AttributeError\n",
    "#print(car1.__make)  # This will raise an error\n"
   ]
  },
  {
   "cell_type": "markdown",
   "id": "b44bd5e0-0696-492a-9b63-ec8d1e1b875c",
   "metadata": {},
   "source": [
    "## 10. What is the purpose of abstract methods, and how do they enforce abstraction in Python classes?"
   ]
  },
  {
   "cell_type": "code",
   "execution_count": 31,
   "id": "7abe09cc-ff40-4664-b7a0-dcef6c17fdc8",
   "metadata": {},
   "outputs": [
    {
     "name": "stdout",
     "output_type": "stream",
     "text": [
      "Woof!\n",
      "Meow!\n"
     ]
    }
   ],
   "source": [
    "\n",
    "'''Abstract methods are methods that have a declaration but no implementation. They are used to enforce abstraction\n",
    "in Python classes by requiring subclasses to provide their own implementations.\n",
    "\n",
    "Purpose of abstract methods:\n",
    "\n",
    "Abstract methods have two main purposes:\n",
    "\n",
    "To define a common interface for a group of related classes.\n",
    "Abstract methods can be used to define a common interface for a group of related classes, such as all types of animals or\n",
    "all types of vehicles. This makes it easier to write code that works with different types of objects in a consistent way.\n",
    "To prevent instantiation of incomplete classes.\n",
    "Abstract methods can be used to prevent instantiation of incompleteclasses. For example, we could create an abstract base\n",
    "class for all types of animals. This would prevent us from accidentally creating an instance of an animal class that does\n",
    "not implement the required methods.\n",
    "\n",
    "How abstract methods enforce abstraction:\n",
    "\n",
    "Abstract methods enforce abstraction by requiring subclasses to provide their own implementations. This ensures\n",
    "that all subclasses implement the required methods and that the code that uses the abstract class can rely on the\n",
    "fact that all subclasses will have the same methods.'''\n",
    "\n",
    "class Animal:\n",
    "    @abstractmethod\n",
    "    def speak(self):\n",
    "        pass\n",
    "\n",
    "class Dog(Animal):\n",
    "    def speak(self):\n",
    "        print(\"Woof!\")\n",
    "\n",
    "class Cat(Animal):\n",
    "    def speak(self):\n",
    "        print(\"Meow!\")\n",
    "\n",
    "# Usage example:\n",
    "animals = [Dog(), Cat()]\n",
    "\n",
    "for animal in animals:\n",
    "    animal.speak()\n"
   ]
  },
  {
   "cell_type": "markdown",
   "id": "5ab6f263-c6e1-4c52-8da4-d3a1ea12d08d",
   "metadata": {},
   "source": [
    "## 11. Create a Python class for a vehicle system and demonstrate abstraction by defining common methods (e.g., `start()`, `stop()`) in an abstract base class."
   ]
  },
  {
   "cell_type": "code",
   "execution_count": 32,
   "id": "abbc4301-88e8-46c4-96b1-9d9d2d1ea0bb",
   "metadata": {},
   "outputs": [
    {
     "name": "stdout",
     "output_type": "stream",
     "text": [
      "Starting the Toyota Camry car.\n",
      "Stopping the Toyota Camry car.\n",
      "Starting to pedal the Trek Mountain Bike bicycle.\n",
      "Stopping the Trek Mountain Bike bicycle.\n"
     ]
    }
   ],
   "source": [
    "from abc import ABC, abstractmethod\n",
    "\n",
    "class Vehicle(ABC):\n",
    "    def __init__(self, make, model):\n",
    "        self.make = make\n",
    "        self.model = model\n",
    "\n",
    "    @abstractmethod\n",
    "    def start(self):\n",
    "        pass\n",
    "\n",
    "    @abstractmethod\n",
    "    def stop(self):\n",
    "        pass\n",
    "\n",
    "class Car(Vehicle):\n",
    "    def start(self):\n",
    "        return f\"Starting the {self.make} {self.model} car.\"\n",
    "\n",
    "    def stop(self):\n",
    "        return f\"Stopping the {self.make} {self.model} car.\"\n",
    "\n",
    "class Bicycle(Vehicle):\n",
    "    def start(self):\n",
    "        return f\"Starting to pedal the {self.make} {self.model} bicycle.\"\n",
    "\n",
    "    def stop(self):\n",
    "        return f\"Stopping the {self.make} {self.model} bicycle.\"\n",
    "\n",
    "# Create instances of the subclasses and call the start and stop methods\n",
    "car = Car(\"Toyota\", \"Camry\")\n",
    "bicycle = Bicycle(\"Trek\", \"Mountain Bike\")\n",
    "\n",
    "print(car.start())  # Output: \"Starting the Toyota Camry car.\"\n",
    "print(car.stop())   # Output: \"Stopping the Toyota Camry car.\"\n",
    "\n",
    "print(bicycle.start())  # Output: \"Starting to pedal the Trek Mountain Bike bicycle.\"\n",
    "print(bicycle.stop())   # Output: \"Stopping the Trek Mountain Bike bicycle.\"\n"
   ]
  },
  {
   "cell_type": "markdown",
   "id": "086a1543-1393-4dd6-9b17-f52b89f8a73c",
   "metadata": {},
   "source": [
    "## 12. Describe the use of abstract properties in Python and how they can be employed in abstract classes"
   ]
  },
  {
   "cell_type": "code",
   "execution_count": 33,
   "id": "162f6317-34ba-402e-a29a-e5924e36bf92",
   "metadata": {},
   "outputs": [
    {
     "name": "stdout",
     "output_type": "stream",
     "text": [
      "Circle Area: 78.5\n",
      "Rectangle Area: 24\n"
     ]
    }
   ],
   "source": [
    "'''Abstract properties in Python are a way to define abstract attributes in abstract classes. An abstract property is\n",
    "a property that must be implemented in the concrete subclasses, ensuring that specific attributes are available and\n",
    "accessed in a consistent way throughout the class hierarchy. Abstract properties are defined using the @property\n",
    "decorator along with the @abstractmethod decorator provided by the abc (Abstract Base Classes) module.'''\n",
    "\n",
    "from abc import ABC, abstractmethod, abstractproperty\n",
    "\n",
    "class Shape(ABC):\n",
    "    @abstractproperty\n",
    "    def area(self):\n",
    "        pass\n",
    "\n",
    "class Circle(Shape):\n",
    "    def __init__(self, radius):\n",
    "        self.radius = radius\n",
    "\n",
    "    @property\n",
    "    def area(self):\n",
    "        return 3.14 * self.radius * self.radius\n",
    "\n",
    "class Rectangle(Shape):\n",
    "    def __init__(self, width, height):\n",
    "        self.width = width\n",
    "        self.height = height\n",
    "\n",
    "    @property\n",
    "    def area(self):\n",
    "        return self.width * self.height\n",
    "\n",
    "# Attempting to create an instance of the abstract class Shape will raise a TypeError.\n",
    "# shape = Shape()  # This will raise a TypeError\n",
    "\n",
    "# Create instances of concrete subclasses\n",
    "circle = Circle(5)\n",
    "rectangle = Rectangle(4, 6)\n",
    "\n",
    "# Calculate and print the areas of shapes\n",
    "print(\"Circle Area:\", circle.area)       # Output: Circle Area: 78.5\n",
    "print(\"Rectangle Area:\", rectangle.area) # Output: Rectangle Area: 24\n"
   ]
  },
  {
   "cell_type": "code",
   "execution_count": 36,
   "id": "661c75fb-786f-47f9-a469-8e858194e2a5",
   "metadata": {},
   "outputs": [
    {
     "name": "stdout",
     "output_type": "stream",
     "text": [
      "<bound method Dog.name of <__main__.Dog object at 0x7fb2de7af970>>\n",
      "Cat\n"
     ]
    }
   ],
   "source": [
    "from abc import ABC, abstractmethod, abstractproperty\n",
    "\n",
    "class Animal(ABC):\n",
    "    @abstractproperty\n",
    "    @abstractmethod\n",
    "    def name(self):\n",
    "        pass\n",
    "\n",
    "class Dog(Animal):\n",
    "    @property\n",
    "    def name(self):\n",
    "        return \"Dog\"\n",
    "\n",
    "class Cat(Animal):\n",
    "    @property\n",
    "    def name(self):\n",
    "        return \"Cat\"\n",
    "\n",
    "# Usage example:\n",
    "animals = [Dog(), Cat()]\n",
    "\n",
    "for animal in animals:\n",
    "    print(animal.name)\n"
   ]
  },
  {
   "cell_type": "markdown",
   "id": "b1e47271-c10d-45bb-9416-451bad853344",
   "metadata": {},
   "source": [
    "## 13. Create a Python class hierarchy for employees in a company (e.g., manager, developer, designer) and implement abstraction by defining a common `get_salary()` method."
   ]
  },
  {
   "cell_type": "code",
   "execution_count": 37,
   "id": "d52469a4-4112-465e-b7f0-0bfcab750af6",
   "metadata": {},
   "outputs": [
    {
     "name": "stdout",
     "output_type": "stream",
     "text": [
      "John Smith (ID: 101) - Salary: $60,000.00\n",
      "Alice Johnson (ID: 102) - Salary: $4,800.00\n",
      "Bob Brown (ID: 103) - Salary: $5,500.00\n"
     ]
    }
   ],
   "source": [
    "from abc import ABC, abstractmethod\n",
    "\n",
    "class Employee(ABC):\n",
    "    def __init__(self, name, employee_id):\n",
    "        self.name = name\n",
    "        self.employee_id = employee_id\n",
    "\n",
    "    @abstractmethod\n",
    "    def get_salary(self):\n",
    "        pass\n",
    "\n",
    "class Manager(Employee):\n",
    "    def __init__(self, name, employee_id, salary):\n",
    "        super().__init__(name, employee_id)\n",
    "        self.salary = salary\n",
    "\n",
    "    def get_salary(self):\n",
    "        return self.salary\n",
    "\n",
    "class Developer(Employee):\n",
    "    def __init__(self, name, employee_id, hourly_rate, hours_worked):\n",
    "        super().__init__(name, employee_id)\n",
    "        self.hourly_rate = hourly_rate\n",
    "        self.hours_worked = hours_worked\n",
    "\n",
    "    def get_salary(self):\n",
    "        return self.hourly_rate * self.hours_worked\n",
    "\n",
    "class Designer(Employee):\n",
    "    def __init__(self, name, employee_id, monthly_salary):\n",
    "        super().__init__(name, employee_id)\n",
    "        self.monthly_salary = monthly_salary\n",
    "\n",
    "    def get_salary(self):\n",
    "        return self.monthly_salary\n",
    "\n",
    "# Example usage:\n",
    "manager = Manager(\"John Smith\", 101, 60000)\n",
    "developer = Developer(\"Alice Johnson\", 102, 30, 160)\n",
    "designer = Designer(\"Bob Brown\", 103, 5500)\n",
    "\n",
    "employees = [manager, developer, designer]\n",
    "\n",
    "for employee in employees:\n",
    "    print(f\"{employee.name} (ID: {employee.employee_id}) - Salary: ${employee.get_salary():,.2f}\")\n"
   ]
  },
  {
   "cell_type": "markdown",
   "id": "ecf946e8-8d60-44be-b3c3-1998c250bb5e",
   "metadata": {},
   "source": [
    "## 14. Discuss the differences between abstract classes and concrete classes in Python, including their instantiation."
   ]
  },
  {
   "cell_type": "code",
   "execution_count": 40,
   "id": "dbb144ac-e2a0-45b0-9742-ca993268e194",
   "metadata": {},
   "outputs": [
    {
     "name": "stdout",
     "output_type": "stream",
     "text": [
      "Circle Area: 78.5\n",
      "Square Area: 16\n"
     ]
    }
   ],
   "source": [
    "'''Abstract Classes:\n",
    "\n",
    "1.Cannot be instantiated:\n",
    "Abstract classes cannot be directly instantiated. You cannot create objects of an abstract class. Attempting to do so will\n",
    "result in a TypeError.\n",
    "2.Defined using the abc module:\n",
    "Abstract classes are typically defined using Python's abc (Abstract Base Classes) module. This module provides the\n",
    "ABC metaclass and decorators like @abstractmethod for defining abstract methods.\n",
    "3.Contain abstract methods:\n",
    "Abstract classes define one or more abstract methods. An abstract method is a method with no implementation in the abstract\n",
    "class. Subclasses of an abstract class are required to provide concrete implementations for these abstract methods.\n",
    "\n",
    "Concrete Classes:\n",
    "\n",
    "1.Can be instantiated:\n",
    "Concrete classes are meant to be instantiated, and you can create objects of these classes.\n",
    "2.Have complete implementations: Concrete classes provide complete and concrete implementations for all their methods,\n",
    "including any inherited abstract methods.\n",
    "3.May inherit from abstract classes: Concrete classes can inherit from abstract classes. In this case, they are required\n",
    "to provide concrete implementations for the inherited abstract methods.'''\n",
    "\n",
    "from abc import ABC, abstractmethod\n",
    "\n",
    "# Abstract class\n",
    "class Shape(ABC):\n",
    "    @abstractmethod\n",
    "    def area(self):\n",
    "        pass\n",
    "\n",
    "# Concrete class\n",
    "class Circle(Shape):\n",
    "    def __init__(self, radius):\n",
    "        self.radius = radius\n",
    "\n",
    "    def area(self):\n",
    "        return 3.14 * self.radius * self.radius\n",
    "\n",
    "# Concrete class\n",
    "class Square(Shape):\n",
    "    def __init__(self, side):\n",
    "        self.side = side\n",
    "\n",
    "    def area(self):\n",
    "        return self.side * self.side\n",
    "\n",
    "# Attempting to instantiate an abstract class (results in an error)\n",
    "# shape = Shape()  # Raises TypeError\n",
    "\n",
    "# Creating objects of concrete classes\n",
    "circle = Circle(5)\n",
    "square = Square(4)\n",
    "\n",
    "# Using the area() method of concrete classes\n",
    "print(\"Circle Area:\", circle.area())  # Output: Circle Area: 78.5\n",
    "print(\"Square Area:\", square.area())  # Output: Square Area: 16\n"
   ]
  },
  {
   "cell_type": "markdown",
   "id": "aad5d7d5-6527-48d9-8b5b-d1a7cc23e65b",
   "metadata": {},
   "source": [
    "## 15. Explain the concept of abstract data types (ADTs) and their role in achieving abstraction in Python"
   ]
  },
  {
   "cell_type": "code",
   "execution_count": 42,
   "id": "cb8f6947-a1de-4c0c-ae7d-e982ce667567",
   "metadata": {},
   "outputs": [
    {
     "name": "stdout",
     "output_type": "stream",
     "text": [
      "True\n",
      "3\n"
     ]
    }
   ],
   "source": [
    "'''Abstract data types (ADTs) are a way of encapsulating data and operations on that data into a single unit. ADTs are\n",
    "designed to be independent of any specific implementation, so they can be implemented in different ways without\n",
    "affecting the code that uses them.\n",
    "\n",
    "Role of ADTs in achieving abstraction in Python:\n",
    "\n",
    "ADTs play a key role in achieving abstraction in Python by hiding the implementation details of data structures\n",
    "and algorithms. This allows us to focus on how to use the ADT without worrying about how it works.\n",
    "\n",
    "For example, the Python built-in list class is an ADT for storing and manipulating ordered sequences of data. We can\n",
    "use the list class to create and manage lists of data without having to worry about how the data is stored in memory\n",
    "or how the list operations are implemented.\n",
    "\n",
    "Another example is the Python built-in dict class. The dict class is an ADT for storing and manipulating key-value\n",
    "pairs of data. We can use the dict class to create and manage dictionaries of data without having to worry about how\n",
    "the data is stored in memory or how the dictionary operations are implemented.\n",
    "\n",
    "By using ADTs, we can write more abstract and reusable code. This makes our code easier to understand, maintain, and test.\n",
    "\n",
    "Benefits of using ADTs:\n",
    "\n",
    "1.Abstraction:\n",
    "ADTs hide the implementation details of data structures and algorithms, which makes our code more abstract and reusable.\n",
    "2.Encapsulation:\n",
    "ADTs encapsulate data and operations on that data into a single unit, which makes our code more modular and maintainable.\n",
    "3.Polymorphism:\n",
    "ADTs allow us to write code that works with different types of data structures and algorithms in a generic way.\n",
    "\n",
    "Examples of ADTs in Python:\n",
    "\n",
    "list: A list is an ordered sequence of data items.\n",
    "dict: A dict is a collection of key-value pairs.\n",
    "set: A set is a collection of unique elements.\n",
    "queue: A queue is a first-in-first-out (FIFO) data structure.\n",
    "stack: A stack is a last-in-first-out (LIFO) data structure.'''\n",
    "\n",
    "# Abstract data type for a list\n",
    "class ListADT:\n",
    "    def __init__(self):\n",
    "        self._items = []\n",
    "\n",
    "    def append(self, item):\n",
    "        self._items.append(item)\n",
    "\n",
    "    def remove(self, item):\n",
    "        self._items.remove(item)\n",
    "\n",
    "    def contains(self, item):\n",
    "        return item in self._items\n",
    "\n",
    "    def __len__(self):\n",
    "        return len(self._items)\n",
    "\n",
    "# Concrete implementation of the ListADT\n",
    "class PythonList(ListADT):\n",
    "    def __init__(self):\n",
    "        super().__init__()\n",
    "\n",
    "    def append(self, item):\n",
    "        self._items.append(item)\n",
    "\n",
    "    def remove(self, item):\n",
    "        self._items.remove(item)\n",
    "\n",
    "    def contains(self, item):\n",
    "        return item in self._items\n",
    "\n",
    "    def __len__(self):\n",
    "        return len(self._items)\n",
    "\n",
    "# Usage example:\n",
    "list_adt = PythonList()\n",
    "\n",
    "list_adt.append(1)\n",
    "list_adt.append(2)\n",
    "list_adt.append(3)\n",
    "\n",
    "print(list_adt.contains(2))  # True\n",
    "print(list_adt.__len__())  # 3\n"
   ]
  },
  {
   "cell_type": "markdown",
   "id": "c9d95d3d-407b-4f61-8b7b-2c361f6540fa",
   "metadata": {},
   "source": [
    "## 16. Create a Python class for a computer system, demonstrating abstraction by defining common methods (e.g., `power_on()`, `shutdown()`) in an abstract base class."
   ]
  },
  {
   "cell_type": "code",
   "execution_count": 43,
   "id": "4d2897e0-071a-4612-9187-1f2c2706cdab",
   "metadata": {},
   "outputs": [
    {
     "name": "stdout",
     "output_type": "stream",
     "text": [
      "Dell XPS desktop is powering on.\n",
      "HP EliteBook laptop is shutting down.\n"
     ]
    }
   ],
   "source": [
    "from abc import ABC, abstractmethod\n",
    "\n",
    "# Abstract base class for a Computer\n",
    "class Computer(ABC):\n",
    "    def __init__(self, brand, model):\n",
    "        self.brand = brand\n",
    "        self.model = model\n",
    "\n",
    "    @abstractmethod\n",
    "    def power_on(self):\n",
    "        pass\n",
    "\n",
    "    @abstractmethod\n",
    "    def shutdown(self):\n",
    "        pass\n",
    "\n",
    "# Concrete subclass for a Desktop Computer\n",
    "class DesktopComputer(Computer):\n",
    "    def power_on(self):\n",
    "        return f\"{self.brand} {self.model} desktop is powering on.\"\n",
    "\n",
    "    def shutdown(self):\n",
    "        return f\"{self.brand} {self.model} desktop is shutting down.\"\n",
    "\n",
    "# Concrete subclass for a Laptop Computer\n",
    "class LaptopComputer(Computer):\n",
    "    def power_on(self):\n",
    "        return f\"{self.brand} {self.model} laptop is starting up.\"\n",
    "\n",
    "    def shutdown(self):\n",
    "        return f\"{self.brand} {self.model} laptop is shutting down.\"\n",
    "\n",
    "# Usage example\n",
    "desktop = DesktopComputer(\"Dell\", \"XPS\")\n",
    "laptop = LaptopComputer(\"HP\", \"EliteBook\")\n",
    "\n",
    "print(desktop.power_on())  # Output: \"Dell XPS desktop is powering on.\"\n",
    "print(laptop.shutdown())   # Output: \"HP EliteBook laptop is shutting down.\"\n"
   ]
  },
  {
   "cell_type": "markdown",
   "id": "136f9aca-6227-4b24-9b1a-6c68be39c54d",
   "metadata": {},
   "source": [
    "## 17. Discuss the benefits of using abstraction in large-scale software development projects."
   ]
  },
  {
   "cell_type": "code",
   "execution_count": null,
   "id": "3f66263a-9908-44e2-8d36-c469d4512134",
   "metadata": {},
   "outputs": [],
   "source": [
    "'''Abstraction offers several benefits in large-scale software development projects:\n",
    "\n",
    "1.Improved code organization:\n",
    "Abstraction allows us to break down complex code into smaller, more manageable modules. This makes our code easier to\n",
    "understand, maintain, and test.\n",
    "2.Reduced code duplication:\n",
    "Abstraction allows us to reuse code by hiding the implementation details of concrete classes. This can save us time\n",
    "and effort, and it can also help us to reduce code duplication.\n",
    "3.Increased code maintainability:\n",
    "Abstraction makes our code more maintainable by hiding the implementation details of concrete classes. This makes it\n",
    "easier to change the implementation of a class without affecting the code that uses it.\n",
    "4.Reduced code complexity:\n",
    "Abstraction helps us to reduce code complexity by hiding the implementation details of concrete classes. This makes our \n",
    "code easier to understand and reason about.\n",
    "5.Improved communication and collaboration:\n",
    "Abstraction can help to improve communication and collaboration between developers by providing a common language for\n",
    "discussing the design of the system.\n",
    "6.Reduced risk and improved quality:\n",
    "Abstraction can help to reduce risk and improve the quality of software by making it easier to identify and fix errors,\n",
    "and by making the system more resilient to change.\n",
    "7.Encapsulation:\n",
    "Abstraction enforces encapsulation by hiding the implementation details. This makes the code more robust and less\n",
    "prone to bugs caused by unintentional interference with internal components.'''"
   ]
  },
  {
   "cell_type": "markdown",
   "id": "cf0a47c7-b76e-49e2-8b53-d596ec2f3a49",
   "metadata": {},
   "source": [
    "## 18. Explain how abstraction enhances code reusability and modularity in Python programs."
   ]
  },
  {
   "cell_type": "code",
   "execution_count": null,
   "id": "e2e280b4-4393-4b56-b5bc-306819e1dc8e",
   "metadata": {},
   "outputs": [],
   "source": [
    "\n",
    "'''Abstraction enhances code reusability and modularity in Python programs by promoting the creation of well-structured,\n",
    "independent components with clear interfaces and functionality. Here's how it achieves these benefits:\n",
    "\n",
    "Modularity:\n",
    "Abstraction encourages breaking down a large program into smaller, self-contained modules or classes. Each module focuses\n",
    "on a specific task or aspect of the program's functionality. This modular design simplifies the development process,\n",
    "as developers can work on individual components independently, without needing to understand the entire codebase.\n",
    "Modules can also be reused in other parts of the program or in different projects, enhancing modularity.\n",
    "\n",
    "Code Reusability:\n",
    "Abstraction involves creating abstract classes, interfaces, or base classes that define a common set of methods\n",
    "and properties. These abstract constructs serve as blueprints for concrete implementations. By adhering to these\n",
    "interfaces and extending or implementing them in various concrete classes, you ensure that similar functionality is \n",
    "reused throughout your program. This code reusability reduces redundant coding efforts and minimizes the chance of errors.'''"
   ]
  },
  {
   "cell_type": "markdown",
   "id": "3c9f79c9-6313-4962-8ba5-7c4be88e7fdd",
   "metadata": {},
   "source": [
    "## 19. Create a Python class for a library system, implementing abstraction by defining common methods (e.g., `add_book()`, `borrow_book()`) in an abstract base class."
   ]
  },
  {
   "cell_type": "code",
   "execution_count": 44,
   "id": "d975ac45-2c8c-4bd1-9f9c-04c014556842",
   "metadata": {},
   "outputs": [
    {
     "name": "stdout",
     "output_type": "stream",
     "text": [
      "Successfully borrowed: The Great Gatsby by F. Scott Fitzgerald\n",
      "Successfully borrowed: National Geographic by National Geographic Society\n",
      "Thank you for returning: The Great Gatsby by F. Scott Fitzgerald\n",
      "Thank you for returning: National Geographic by National Geographic Society\n"
     ]
    }
   ],
   "source": [
    "from abc import ABC, abstractmethod\n",
    "\n",
    "class LibraryItem(ABC):\n",
    "    def __init__(self, title, author):\n",
    "        self.title = title\n",
    "        self.author = author\n",
    "        self.is_borrowed = False\n",
    "\n",
    "    @abstractmethod\n",
    "    def get_details(self):\n",
    "        pass\n",
    "\n",
    "    def check_availability(self):\n",
    "        return not self.is_borrowed\n",
    "\n",
    "    def borrow(self):\n",
    "        if self.check_availability():\n",
    "            self.is_borrowed = True\n",
    "            return f\"Successfully borrowed: {self.title} by {self.author}\"\n",
    "        else:\n",
    "            return f\"Sorry, {self.title} by {self.author} is already borrowed.\"\n",
    "\n",
    "    def return_item(self):\n",
    "        if self.is_borrowed:\n",
    "            self.is_borrowed = False\n",
    "            return f\"Thank you for returning: {self.title} by {self.author}\"\n",
    "        else:\n",
    "            return f\"This item, {self.title} by {self.author}, is not currently borrowed.\"\n",
    "\n",
    "class Book(LibraryItem):\n",
    "    def __init__(self, title, author, genre):\n",
    "        super().__init__(title, author)\n",
    "        self.genre = genre\n",
    "\n",
    "    def get_details(self):\n",
    "        return f\"Title: {self.title}\\nAuthor: {self.author}\\nGenre: {self.genre}\"\n",
    "\n",
    "class Magazine(LibraryItem):\n",
    "    def __init__(self, title, publisher):\n",
    "        super().__init__(title, publisher)\n",
    "\n",
    "    def get_details(self):\n",
    "        return f\"Title: {self.title}\\nPublisher: {self.author}\"\n",
    "\n",
    "# Example usage:\n",
    "book = Book(\"The Great Gatsby\", \"F. Scott Fitzgerald\", \"Classic\")\n",
    "magazine = Magazine(\"National Geographic\", \"National Geographic Society\")\n",
    "\n",
    "print(book.borrow())  # Successfully borrowed: The Great Gatsby by F. Scott Fitzgerald\n",
    "print(magazine.borrow())  # Successfully borrowed: National Geographic by National Geographic Society\n",
    "\n",
    "print(book.return_item())  # Thank you for returning: The Great Gatsby by F. Scott Fitzgerald\n",
    "print(magazine.return_item())  # Thank you for returning: National Geographic by National Geographic Society\n"
   ]
  },
  {
   "cell_type": "markdown",
   "id": "5ced46a5-3cbe-44e2-aafb-77c426290981",
   "metadata": {},
   "source": [
    "## 20. Describe the concept of method abstraction in Python and how it relates to polymorphism.\n"
   ]
  },
  {
   "cell_type": "code",
   "execution_count": 45,
   "id": "d726b96e-24b2-4f84-ae73-505aa9e3cc86",
   "metadata": {},
   "outputs": [
    {
     "name": "stdout",
     "output_type": "stream",
     "text": [
      "Woof!\n",
      "Meow!\n"
     ]
    }
   ],
   "source": [
    "'''Method abstraction and polymorphism\n",
    "\n",
    "Method abstraction and polymorphism are two related concepts in Python. Polymorphism is the ability of objects to take\n",
    "on different forms. Method abstraction is used to achieve polymorphism by allowing us to write code that works with\n",
    "different types of objects in a generic way.\n",
    "\n",
    "For example, we can create an abstract method for speak() that all animals must implement. This allows us to write \n",
    "code that can call the speak() method on any animal object, regardless of the specific type of animal.'''\n",
    "\n",
    "# Abstract class for an animal\n",
    "class Animal:\n",
    "    @abstractmethod\n",
    "    def speak(self):\n",
    "        pass\n",
    "\n",
    "# Concrete class for a dog\n",
    "class Dog(Animal):\n",
    "    def speak(self):\n",
    "        print(\"Woof!\")\n",
    "\n",
    "# Concrete class for a cat\n",
    "class Cat(Animal):\n",
    "    def speak(self):\n",
    "        print(\"Meow!\")\n",
    "\n",
    "# Usage example\n",
    "def make_animal_speak(animal):\n",
    "    animal.speak()\n",
    "\n",
    "# Create a dog and a cat object\n",
    "dog = Dog()\n",
    "cat = Cat()\n",
    "\n",
    "# Call the make_animal_speak() function on the dog and cat objects\n",
    "make_animal_speak(dog)  # Woof!\n",
    "make_animal_speak(cat)  # Meow!\n"
   ]
  },
  {
   "cell_type": "markdown",
   "id": "bd9d8d6e-7559-4109-b236-1746586adc5a",
   "metadata": {},
   "source": [
    "# Composition:"
   ]
  },
  {
   "cell_type": "markdown",
   "id": "2a6888b0-a5d1-432b-9e6e-cade3bd7b7bf",
   "metadata": {},
   "source": [
    "## 1. Explain the concept of composition in Python and how it is used to build complex objects from simpler ones."
   ]
  },
  {
   "cell_type": "code",
   "execution_count": 2,
   "id": "71e7fc08-210b-48c0-b527-fc99ee358acf",
   "metadata": {},
   "outputs": [
    {
     "name": "stdout",
     "output_type": "stream",
     "text": [
      "Engine started\n",
      "Wheels rotating\n",
      "Car is moving\n"
     ]
    }
   ],
   "source": [
    "'''Composition in Python is a fundamental concept in object-oriented programming that allows you to build complex objects\n",
    "by combining or \"composing\" simpler objects. It involves creating new classes by incorporating instances of other classes\n",
    "as attributes, forming a \"has-a\" relationship between the classes. Composition is an alternative to inheritance for \n",
    "creating complex class hierarchies and is especially useful when you want to emphasize the structure and behavior \n",
    "of an object.'''\n",
    "\n",
    "class Engine:\n",
    "    def start(self):\n",
    "        print(\"Engine started\")\n",
    "\n",
    "class Wheels:\n",
    "    def rotate(self):\n",
    "        print(\"Wheels rotating\")\n",
    "\n",
    "class Car:\n",
    "    def __init__(self):\n",
    "        self.engine = Engine()\n",
    "        self.wheels = Wheels()\n",
    "\n",
    "    def drive(self):\n",
    "        self.engine.start()\n",
    "        self.wheels.rotate()\n",
    "        print(\"Car is moving\")\n",
    "\n",
    "# Create a car using composition\n",
    "my_car = Car()\n",
    "\n",
    "# Drive the car\n",
    "my_car.drive()\n"
   ]
  },
  {
   "cell_type": "code",
   "execution_count": 3,
   "id": "098a9986-8f4d-4aac-a6b5-198682a0bf5b",
   "metadata": {},
   "outputs": [
    {
     "name": "stdout",
     "output_type": "stream",
     "text": [
      "The engine is starting.\n",
      "The transmission is shifting into drive.\n",
      "The wheel is rotating.\n",
      "The wheel is rotating.\n",
      "The wheel is rotating.\n",
      "The wheel is rotating.\n"
     ]
    }
   ],
   "source": [
    "class Car:\n",
    "    def __init__(self, engine, transmission, wheels):\n",
    "        self.engine = engine\n",
    "        self.transmission = transmission\n",
    "        self.wheels = wheels\n",
    "\n",
    "    def drive(self):\n",
    "        self.engine.start()\n",
    "        self.transmission.shift_into_drive()\n",
    "        for wheel in self.wheels:\n",
    "            wheel.rotate()\n",
    "\n",
    "class Wheel:\n",
    "    def rotate(self):\n",
    "        print(\"The wheel is rotating.\")\n",
    "\n",
    "class Engine:\n",
    "    def start(self):\n",
    "        print(\"The engine is starting.\")\n",
    "\n",
    "class Transmission:\n",
    "    def shift_into_drive(self):\n",
    "        print(\"The transmission is shifting into drive.\")\n",
    "\n",
    "# Usage example:\n",
    "engine = Engine()\n",
    "transmission = Transmission()\n",
    "wheels = [Wheel() for i in range(4)]\n",
    "\n",
    "car = Car(engine, transmission, wheels)\n",
    "\n",
    "car.drive()\n"
   ]
  },
  {
   "cell_type": "markdown",
   "id": "f74e2b73-3002-4c76-a87a-6029b6da4de1",
   "metadata": {},
   "source": [
    "## 2. Describe the difference between composition and inheritance in object-oriented programming"
   ]
  },
  {
   "cell_type": "code",
   "execution_count": 4,
   "id": "cbee0136-7fd2-440a-8616-9e5737ccf285",
   "metadata": {},
   "outputs": [
    {
     "name": "stdout",
     "output_type": "stream",
     "text": [
      "Car started\n",
      "Engine started\n"
     ]
    }
   ],
   "source": [
    "'''Composition involves creating complex objects by combining simpler, reusable components. It establishes\n",
    "   a \"has-a\" relationship between classes and promotes modularity, flexibility, and reduced coupling.\n",
    "\n",
    "Inheritance establishes a \"is-a\" relationship between classes, where derived classes inherit attributes and behaviors\n",
    "from base classes. It supports polymorphism and code reuse. It forms a hierarchical structure and can lead to \n",
    "tight coupling between classes. The choice between composition and inheritance depends on your specific design \n",
    "goals and relationships between classes.'''\n",
    "\n",
    "class Engine:\n",
    "    def start(self):\n",
    "        print(\"Engine started\")\n",
    "\n",
    "class Car:\n",
    "    def __init__(self):\n",
    "        self.engine = Engine()\n",
    "\n",
    "    def start(self):\n",
    "        print(\"Car started\")\n",
    "        self.engine.start()\n",
    "\n",
    "my_car = Car()\n",
    "my_car.start()\n"
   ]
  },
  {
   "cell_type": "markdown",
   "id": "f4b9a2c9-879b-4504-9d7f-89e8fe17fe8f",
   "metadata": {},
   "source": [
    "## 3. Create a Python class called `Author` with attributes for name and birthdate. Then, create a `Book` class that contains an instance of `Author` as a composition. Provide an example of creating a `Book` object."
   ]
  },
  {
   "cell_type": "code",
   "execution_count": 5,
   "id": "ba2d7936-7fd6-4a5e-a8ba-160dd6a43684",
   "metadata": {},
   "outputs": [
    {
     "name": "stdout",
     "output_type": "stream",
     "text": [
      "Title: Harry Potter and the Sorcerer's Stone\n",
      "Author: J.K. Rowling\n",
      "Birthdate: July 31, 1965\n"
     ]
    }
   ],
   "source": [
    "class Author:\n",
    "    def __init__(self, name, birthdate):\n",
    "        self.name = name\n",
    "        self.birthdate = birthdate\n",
    "\n",
    "class Book:\n",
    "    def __init__(self, title, author):\n",
    "        self.title = title\n",
    "        self.author = author\n",
    "\n",
    "    def get_info(self):\n",
    "        return f\"Title: {self.title}\\nAuthor: {self.author.name}\\nBirthdate: {self.author.birthdate}\"\n",
    "\n",
    "# Create an Author instance\n",
    "author = Author(\"J.K. Rowling\", \"July 31, 1965\")\n",
    "\n",
    "# Create a Book instance using composition\n",
    "book = Book(\"Harry Potter and the Sorcerer's Stone\", author)\n",
    "\n",
    "# Get and display book information\n",
    "print(book.get_info())\n"
   ]
  },
  {
   "cell_type": "markdown",
   "id": "04f86e15-a302-4af0-95bd-cdb1f4db5074",
   "metadata": {},
   "source": [
    "## 4. Discuss the benefits of using composition over inheritance in Python, especially in terms of code flexibility and reusability."
   ]
  },
  {
   "cell_type": "code",
   "execution_count": 6,
   "id": "3122c056-be1a-4cdd-9c53-19de6651a208",
   "metadata": {},
   "outputs": [],
   "source": [
    "'''Code flexibility\n",
    "\n",
    "Composition is more flexible than inheritance because it allows us to easily swap out component objects with different\n",
    "implementations. This can be useful for testing and refactoring code.\n",
    "\n",
    "For example, if we have a Car class that contains an Engine object as a composition, we can easily swap out the\n",
    "Engine object with a different implementation, such as a MockEngine object for testing or a DieselEngine object for\n",
    "a different type of car.\n",
    "With inheritance, it would be more difficult to swap out the Engine object because the Car class would be tightly\n",
    "coupled to the Engine class.\n",
    "\n",
    "Code reusability\n",
    "\n",
    "Composition also promotes code reusability by allowing us to encapsulate the functionality of component objects. This\n",
    "means that we can reuse the same component objects in different composite objects.\n",
    "\n",
    "For example, we can use the same Engine object in a Car class and a Truck class. This saves us from having to write the\n",
    "same code multiple times.\n",
    "With inheritance, we would need to write separate Car and Truck classes, even if they share the same functionality. This\n",
    "can lead to code duplication.\n",
    "\n",
    "Other benefits of composition\n",
    "\n",
    "In addition to code flexibility and reusability, composition also offers the following benefits:\n",
    "\n",
    "Reduced code complexity:\n",
    "Composition can help to reduce code complexity by making it easier to understand the relationships between objects.\n",
    "Improved testability:\n",
    "Composition makes it easier to test code by allowing us to isolate component objects and test them in isolation.\n",
    "Enhanced maintainability:\n",
    "Composition makes code more maintainable by making it easier to change the implementation of component objects without\n",
    "affecting the code that uses them.\n",
    "Overall, composition is a powerful tool for writing flexible, reusable, maintainable, and testable Python code.'''\n",
    "\n",
    "# Component object\n",
    "class Engine:\n",
    "    def start(self):\n",
    "        pass\n",
    "\n",
    "    def stop(self):\n",
    "        pass\n",
    "\n",
    "# Composite object\n",
    "class Car:\n",
    "    def __init__(self, engine):\n",
    "        self.engine = engine\n",
    "\n",
    "    def drive(self):\n",
    "        self.engine.start()\n",
    "\n",
    "# Usage example\n",
    "engine = Engine()\n",
    "car = Car(engine)\n",
    "\n",
    "car.drive()\n"
   ]
  },
  {
   "cell_type": "markdown",
   "id": "a41e0c13-580a-463f-b19c-e250c398ddad",
   "metadata": {},
   "source": [
    "## 5. How can you implement composition in Python classes? Provide examples of using composition to create complex objects."
   ]
  },
  {
   "cell_type": "code",
   "execution_count": 7,
   "id": "13c9a631-0f0f-4f14-be10-eb758cb09697",
   "metadata": {},
   "outputs": [
    {
     "name": "stdout",
     "output_type": "stream",
     "text": [
      "Body built\n",
      "Engine started\n",
      "Wheels rotating\n"
     ]
    }
   ],
   "source": [
    "'''To implement composition in Python classes, you simply need to create a class that contains references to other\n",
    "   classes. The containing class is called the composite class, and the referenced classes are called the\n",
    "   component classes.'''\n",
    "\n",
    "# Component classes\n",
    "class Engine:\n",
    "    def start(self):\n",
    "        print(\"Engine started\")\n",
    "\n",
    "class Wheels:\n",
    "    def rotate(self):\n",
    "        print(\"Wheels rotating\")\n",
    "\n",
    "class Body:\n",
    "    def build(self):\n",
    "        print(\"Body built\")\n",
    "\n",
    "# Composite class\n",
    "class Car:\n",
    "    def __init__(self):\n",
    "        self.engine = Engine()\n",
    "        self.wheels = Wheels()\n",
    "        self.body = Body()\n",
    "\n",
    "    def assemble(self):\n",
    "        self.body.build()\n",
    "        self.engine.start()\n",
    "        self.wheels.rotate()\n",
    "\n",
    "# Usage\n",
    "my_car = Car()\n",
    "my_car.assemble()\n"
   ]
  },
  {
   "cell_type": "code",
   "execution_count": 8,
   "id": "80d31bbf-d60e-4339-886b-bb8bf480ed47",
   "metadata": {},
   "outputs": [
    {
     "name": "stdout",
     "output_type": "stream",
     "text": [
      "Engine starting...\n",
      "Engine stopping...\n"
     ]
    }
   ],
   "source": [
    "class Engine:\n",
    "    def start(self):\n",
    "        print(\"Engine starting...\")\n",
    "\n",
    "    def stop(self):\n",
    "        print(\"Engine stopping...\")\n",
    "\n",
    "class Car:\n",
    "    def __init__(self, engine):\n",
    "        self.engine = engine\n",
    "\n",
    "    def start(self):\n",
    "        self.engine.start()\n",
    "\n",
    "    def stop(self):\n",
    "        self.engine.stop()\n",
    "\n",
    "# Usage example\n",
    "engine = Engine()\n",
    "car = Car(engine)\n",
    "\n",
    "car.start()\n",
    "car.stop()\n"
   ]
  },
  {
   "cell_type": "markdown",
   "id": "d87a9ce3-46b7-4a2e-bc42-8d91562085ad",
   "metadata": {},
   "source": [
    "## 6. Create a Python class hierarchy for a music player system, using composition to represent playlists and songs."
   ]
  },
  {
   "cell_type": "code",
   "execution_count": 9,
   "id": "6fb2974b-2df2-4cb8-bb31-94023ba9c248",
   "metadata": {},
   "outputs": [
    {
     "name": "stdout",
     "output_type": "stream",
     "text": [
      "Playlist: My Favorite Songs\n",
      "Playing: Song 1 by Artist 1\n",
      "Playing: Song 2 by Artist 2\n"
     ]
    }
   ],
   "source": [
    "class Song:\n",
    "    def __init__(self, title, artist, duration):\n",
    "        self.title = title\n",
    "        self.artist = artist\n",
    "        self.duration = duration\n",
    "\n",
    "    def play(self):\n",
    "        print(f\"Playing: {self.title} by {self.artist}\")\n",
    "\n",
    "class Playlist:\n",
    "    def __init__(self, name):\n",
    "        self.name = name\n",
    "        self.songs = []\n",
    "\n",
    "    def add_song(self, song):\n",
    "        if isinstance(song, Song):\n",
    "            self.songs.append(song)\n",
    "        else:\n",
    "            print(\"Invalid song. Please provide a Song object.\")\n",
    "\n",
    "    def play(self):\n",
    "        print(f\"Playlist: {self.name}\")\n",
    "        for song in self.songs:\n",
    "            song.play()\n",
    "\n",
    "            \n",
    "# Create songs\n",
    "song1 = Song(\"Song 1\", \"Artist 1\", \"3:30\")\n",
    "song2 = Song(\"Song 2\", \"Artist 2\", \"4:15\")\n",
    "\n",
    "# Create a playlist\n",
    "my_playlist = Playlist(\"My Favorite Songs\")\n",
    "\n",
    "# Add songs to the playlist\n",
    "my_playlist.add_song(song1)\n",
    "my_playlist.add_song(song2)\n",
    "\n",
    "# Play the playlist\n",
    "my_playlist.play()\n"
   ]
  },
  {
   "cell_type": "markdown",
   "id": "065b4cbd-b4f8-49e9-8f5a-0db9cfd4f198",
   "metadata": {},
   "source": [
    "## 7. Explain the concept of \"has-a\" relationships in composition and how it helps design software systems"
   ]
  },
  {
   "cell_type": "code",
   "execution_count": 10,
   "id": "93f142be-b875-4e43-a6d5-1afb18a5fa91",
   "metadata": {},
   "outputs": [
    {
     "name": "stdout",
     "output_type": "stream",
     "text": [
      "Title: Introduction to Python, Author: John Smith\n",
      "Title: Data Science Handbook, Author: Alice Johnson\n",
      "Title: The Great Gatsby, Author: F. Scott Fitzgerald\n"
     ]
    }
   ],
   "source": [
    "'''A \"has-a\" relationship in composition is a type of relationship between two objects where one object contains\n",
    "a reference to the other object. The containing object is called the composite object, and the referenced object\n",
    "is called the component object.\n",
    "\n",
    "Composition helps design software systems by allowing us to create complex objects from simpler objects. This makes our\n",
    "code more modular, reusable, and maintainable.\n",
    "\n",
    "Here are some of the benefits of using composition to design software systems:\n",
    "\n",
    "Reduced code duplication:\n",
    "Composition allows us to reuse the same component objects in different composite objects.This reduces code duplication\n",
    "and makes our code more maintainable.\n",
    "\n",
    "Improved code flexibility:\n",
    "Composition makes our code more flexible by allowing us to easily swap out component objects with different \n",
    "implementations. This can be useful for testing and refactoring code.\n",
    "\n",
    "Enhanced code modularity:\n",
    "Composition allows us to break down complex objects into smaller, more manageable pieces. This makes our code easier\n",
    "to understand and maintain.\n",
    "\n",
    "Improved code testability:\n",
    "Composition makes our code easier to test by allowing us to isolate component objects and test them in isolation.'''\n",
    "\n",
    "class Book:\n",
    "    def __init__(self, title, author):\n",
    "        self.title = title\n",
    "        self.author = author\n",
    "\n",
    "    def display_info(self):\n",
    "        print(f\"Title: {self.title}, Author: {self.author}\")\n",
    "\n",
    "class Library:\n",
    "    def __init__(self):\n",
    "        self.books = []\n",
    "\n",
    "    def add_book(self, book):\n",
    "        self.books.append(book)\n",
    "\n",
    "    def list_books(self):\n",
    "        for book in self.books:\n",
    "            book.display_info()\n",
    "\n",
    "# Create some books\n",
    "book1 = Book(\"Introduction to Python\", \"John Smith\")\n",
    "book2 = Book(\"Data Science Handbook\", \"Alice Johnson\")\n",
    "book3 = Book(\"The Great Gatsby\", \"F. Scott Fitzgerald\")\n",
    "\n",
    "# Create a library and add books\n",
    "library = Library()\n",
    "library.add_book(book1)\n",
    "library.add_book(book2)\n",
    "library.add_book(book3)\n",
    "\n",
    "# List all books in the library\n",
    "library.list_books()\n"
   ]
  },
  {
   "cell_type": "markdown",
   "id": "f76846f1-17b4-4b98-9c1f-0ad9a03db5cd",
   "metadata": {},
   "source": [
    "## 8. Create a Python class for a computer system, using composition to represent components like CPU, RAM, and storage devices."
   ]
  },
  {
   "cell_type": "code",
   "execution_count": 11,
   "id": "8eb8ca08-d0ab-438f-bad5-c25021dac047",
   "metadata": {},
   "outputs": [
    {
     "name": "stdout",
     "output_type": "stream",
     "text": [
      "CPU Model: Intel i7\n",
      "RAM Capacity: 16 GB\n",
      "Storage Device: SSD, Capacity: 512 GB\n"
     ]
    }
   ],
   "source": [
    "class CPU:\n",
    "    def __init__(self, model):\n",
    "        self.model = model\n",
    "\n",
    "    def get_info(self):\n",
    "        return f\"CPU Model: {self.model}\"\n",
    "\n",
    "class RAM:\n",
    "    def __init__(self, capacity_gb):\n",
    "        self.capacity_gb = capacity_gb\n",
    "\n",
    "    def get_info(self):\n",
    "        return f\"RAM Capacity: {self.capacity_gb} GB\"\n",
    "\n",
    "class StorageDevice:\n",
    "    def __init__(self, storage_type, capacity_gb):\n",
    "        self.storage_type = storage_type\n",
    "        self.capacity_gb = capacity_gb\n",
    "\n",
    "    def get_info(self):\n",
    "        return f\"Storage Device: {self.storage_type}, Capacity: {self.capacity_gb} GB\"\n",
    "\n",
    "class Computer:\n",
    "    def __init__(self, cpu, ram, storage):\n",
    "        self.cpu = cpu\n",
    "        self.ram = ram\n",
    "        self.storage = storage\n",
    "\n",
    "    def get_info(self):\n",
    "        return f\"{self.cpu.get_info()}\\n{self.ram.get_info()}\\n{self.storage.get_info()}\"\n",
    "\n",
    "# Create components\n",
    "cpu = CPU(\"Intel i7\")\n",
    "ram = RAM(16)\n",
    "storage = StorageDevice(\"SSD\", 512)\n",
    "\n",
    "# Create a computer with these components\n",
    "my_computer = Computer(cpu, ram, storage)\n",
    "\n",
    "# Get computer information\n",
    "print(my_computer.get_info())\n"
   ]
  },
  {
   "cell_type": "markdown",
   "id": "c772d2e6-14d8-4767-a499-fa2314711ba4",
   "metadata": {},
   "source": [
    "## 9. Describe the concept of \"delegation\" in composition and how it simplifies the design of complex systems."
   ]
  },
  {
   "cell_type": "code",
   "execution_count": 13,
   "id": "60eb1290-1790-4280-bd44-f03c42786fbd",
   "metadata": {},
   "outputs": [
    {
     "name": "stdout",
     "output_type": "stream",
     "text": [
      "Engine started\n",
      "Car is accelerating\n",
      "Car is steering\n",
      "Car is braking\n",
      "Engine stopped\n"
     ]
    }
   ],
   "source": [
    "'''\n",
    "In this example, the Car class delegates its responsibilities for starting, accelerating, braking, and steering to\n",
    "the Engine and Wheels objects. This approach simplifies the design, as each object has a specific role, making the \n",
    "code more modular and easier to maintain.'''\n",
    "\n",
    "'''\n",
    "Delegation is a concept in composition where an object passes on a specific task to another object rather than\n",
    "performing the task itself. It simplifies the design of complex systems by allowing objects to work together to\n",
    "achieve a common goal while maintaining a clear separation of responsibilities. Delegation promotes modularity and\n",
    "code reusability, as each object focuses on its specialized tasks.'''\n",
    "\n",
    "class Engine:\n",
    "    def start(self):\n",
    "        print(\"Engine started\")\n",
    "\n",
    "    def stop(self):\n",
    "        print(\"Engine stopped\")\n",
    "\n",
    "class Wheels:\n",
    "    def accelerate(self):\n",
    "        print(\"Car is accelerating\")\n",
    "\n",
    "    def brake(self):\n",
    "        print(\"Car is braking\")\n",
    "\n",
    "    def steer(self):\n",
    "        print(\"Car is steering\")\n",
    "\n",
    "class Car:\n",
    "    def __init__(self):\n",
    "        self.engine = Engine()\n",
    "        self.wheels = Wheels()\n",
    "\n",
    "    def start(self):\n",
    "        self.engine.start()\n",
    "\n",
    "    def stop(self):\n",
    "        self.engine.stop()\n",
    "\n",
    "    def accelerate(self):\n",
    "        self.wheels.accelerate()\n",
    "\n",
    "    def brake(self):\n",
    "        self.wheels.brake()\n",
    "\n",
    "    def steer(self):\n",
    "        self.wheels.steer()\n",
    "\n",
    "# Create a car and perform actions using delegation\n",
    "my_car = Car()\n",
    "my_car.start()\n",
    "my_car.accelerate()\n",
    "my_car.steer()\n",
    "my_car.brake()\n",
    "my_car.stop()\n"
   ]
  },
  {
   "cell_type": "markdown",
   "id": "eb07e795-b702-4de9-8a41-e01d153aba10",
   "metadata": {},
   "source": [
    "## 10. Create a Python class for a car, using composition to represent components like the engine, wheels, and transmission."
   ]
  },
  {
   "cell_type": "code",
   "execution_count": 14,
   "id": "ee5b5cd2-c4cd-4131-ad07-1f9f7add0b44",
   "metadata": {},
   "outputs": [
    {
     "name": "stdout",
     "output_type": "stream",
     "text": [
      "Engine starting...\n",
      "Transmission shifting into drive...\n",
      "Transmission shifting into park...\n",
      "Engine stopping...\n"
     ]
    }
   ],
   "source": [
    "class Engine:\n",
    "    def start(self):\n",
    "        print(\"Engine starting...\")\n",
    "\n",
    "    def stop(self):\n",
    "        print(\"Engine stopping...\")\n",
    "\n",
    "class Transmission:\n",
    "    def shift_into_drive(self):\n",
    "        print(\"Transmission shifting into drive...\")\n",
    "\n",
    "    def shift_into_park(self):\n",
    "        print(\"Transmission shifting into park...\")\n",
    "\n",
    "class Wheel:\n",
    "    def rotate(self):\n",
    "        print(\"Wheel rotating...\")\n",
    "\n",
    "class Car:\n",
    "    def __init__(self, engine, transmission, wheels):\n",
    "        self.engine = engine\n",
    "        self.transmission = transmission\n",
    "        self.wheels = wheels\n",
    "\n",
    "    def start(self):\n",
    "        self.engine.start()\n",
    "        self.transmission.shift_into_drive()\n",
    "\n",
    "    def stop(self):\n",
    "        self.transmission.shift_into_park()\n",
    "        self.engine.stop()\n",
    "\n",
    "# Usage example\n",
    "engine = Engine()\n",
    "transmission = Transmission()\n",
    "wheels = [Wheel() for i in range(4)]\n",
    "\n",
    "car = Car(engine, transmission, wheels)\n",
    "\n",
    "car.start()\n",
    "car.stop()\n"
   ]
  },
  {
   "cell_type": "code",
   "execution_count": 15,
   "id": "0f2228df-9359-4085-a406-f342b843b415",
   "metadata": {},
   "outputs": [
    {
     "name": "stdout",
     "output_type": "stream",
     "text": [
      "Engine started\n",
      "Car is accelerating\n",
      "Car is steering\n",
      "Car is braking\n",
      "Engine stopped\n"
     ]
    }
   ],
   "source": [
    "class Engine:\n",
    "    def start(self):\n",
    "        print(\"Engine started\")\n",
    "\n",
    "    def stop(self):\n",
    "        print(\"Engine stopped\")\n",
    "\n",
    "class Wheels:\n",
    "    def accelerate(self):\n",
    "        print(\"Car is accelerating\")\n",
    "\n",
    "    def brake(self):\n",
    "        print(\"Car is braking\")\n",
    "\n",
    "    def steer(self):\n",
    "        print(\"Car is steering\")\n",
    "\n",
    "class Car:\n",
    "    def __init__(self):\n",
    "        self.engine = Engine()\n",
    "        self.wheels = Wheels()\n",
    "\n",
    "    def start(self):\n",
    "        self.engine.start()\n",
    "\n",
    "    def stop(self):\n",
    "        self.engine.stop()\n",
    "\n",
    "    def accelerate(self):\n",
    "        self.wheels.accelerate()\n",
    "\n",
    "    def brake(self):\n",
    "        self.wheels.brake()\n",
    "\n",
    "    def steer(self):\n",
    "        self.wheels.steer()\n",
    "\n",
    "# Create a car and perform actions using delegation\n",
    "my_car = Car()\n",
    "my_car.start()\n",
    "my_car.accelerate()\n",
    "my_car.steer()\n",
    "my_car.brake()\n",
    "my_car.stop()\n"
   ]
  },
  {
   "cell_type": "markdown",
   "id": "e02e18bf-c7cb-4239-9e38-23f641920939",
   "metadata": {},
   "source": [
    "## 11. How can you encapsulate and hide the details of composed objects in Python classes to maintain abstraction?"
   ]
  },
  {
   "cell_type": "code",
   "execution_count": 16,
   "id": "d3ad10d4-98c3-4db5-aefe-c35e6c5e62c9",
   "metadata": {},
   "outputs": [
    {
     "name": "stdout",
     "output_type": "stream",
     "text": [
      "Engine started\n",
      "Car is accelerating\n",
      "Shifted to Drive gear\n",
      "Car is braking\n",
      "Engine stopped\n"
     ]
    }
   ],
   "source": [
    "'''In Python, you can encapsulate and hide the details of composed objects within a class by making the composed\n",
    "objects private attributes and providing public methods for interacting with them. Here's an example\n",
    "that demonstrates this:'''\n",
    "\n",
    "class Engine:\n",
    "    def __init__(self, horsepower):\n",
    "        self._horsepower = horsepower\n",
    "\n",
    "    def start(self):\n",
    "        print(\"Engine started\")\n",
    "\n",
    "    def stop(self):\n",
    "        print(\"Engine stopped\")\n",
    "\n",
    "class Wheels:\n",
    "    def __init__(self, size):\n",
    "        self._size = size\n",
    "\n",
    "    def accelerate(self):\n",
    "        print(\"Car is accelerating\")\n",
    "\n",
    "    def brake(self):\n",
    "        print(\"Car is braking\")\n",
    "\n",
    "class Transmission:\n",
    "    def __init__(self, transmission_type):\n",
    "        self._transmission_type = transmission_type\n",
    "\n",
    "    def shift_gear(self, gear):\n",
    "        print(f\"Shifted to {gear} gear\")\n",
    "\n",
    "class Car:\n",
    "    def __init__(self, engine_horsepower, wheel_size, transmission_type):\n",
    "        self._engine = Engine(engine_horsepower)\n",
    "        self._wheels = Wheels(wheel_size)\n",
    "        self._transmission = Transmission(transmission_type)\n",
    "\n",
    "    def start(self):\n",
    "        self._engine.start()\n",
    "\n",
    "    def stop(self):\n",
    "        self._engine.stop()\n",
    "\n",
    "    def accelerate(self):\n",
    "        self._wheels.accelerate()\n",
    "\n",
    "    def brake(self):\n",
    "        self._wheels.brake()\n",
    "\n",
    "    def shift_gear(self, gear):\n",
    "        self._transmission.shift_gear(gear)\n",
    "\n",
    "# Create a car and perform actions using composition\n",
    "my_car = Car(engine_horsepower=200, wheel_size=17, transmission_type=\"Automatic\")\n",
    "my_car.start()\n",
    "my_car.accelerate()\n",
    "my_car.shift_gear(\"Drive\")\n",
    "my_car.brake()\n",
    "my_car.stop()\n"
   ]
  },
  {
   "cell_type": "code",
   "execution_count": 2,
   "id": "4bc67fe1-125d-4ffb-8ab5-07f9c0164f89",
   "metadata": {},
   "outputs": [
    {
     "name": "stdout",
     "output_type": "stream",
     "text": [
      "Engine starting...\n",
      "Transmission shifting into drive...\n",
      "Transmission shifting into park...\n",
      "Engine stopping...\n"
     ]
    }
   ],
   "source": [
    "class Engine:\n",
    "    def __init__(self):\n",
    "        self._cylinders = 4\n",
    "        self._valves = 16\n",
    "\n",
    "    def start(self):\n",
    "        print(\"Engine starting...\")\n",
    "\n",
    "    def stop(self):\n",
    "        print(\"Engine stopping...\")\n",
    "\n",
    "    def set_cylinders(self, cylinders):\n",
    "        self._cylinders = cylinders\n",
    "\n",
    "class Transmission:\n",
    "    def __init__(self):\n",
    "        self._gears = 6\n",
    "\n",
    "    def shift_into_drive(self):\n",
    "        print(\"Transmission shifting into drive...\")\n",
    "\n",
    "    def shift_into_park(self):\n",
    "        print(\"Transmission shifting into park...\")\n",
    "\n",
    "class Wheel:\n",
    "    def __init__(self):\n",
    "        self._diameter = 18\n",
    "\n",
    "    def rotate(self):\n",
    "        print(\"Wheel rotating...\")\n",
    "\n",
    "class Car:\n",
    "    def __init__(self, engine, transmission, wheels):\n",
    "        self._engine = engine\n",
    "        self._transmission = transmission\n",
    "        self._wheels = wheels\n",
    "\n",
    "    def start(self):\n",
    "        self._engine.start()\n",
    "        self._transmission.shift_into_drive()\n",
    "\n",
    "    def stop(self):\n",
    "        self._transmission.shift_into_park()\n",
    "        self._engine.stop()\n",
    "\n",
    "    # Public interface for accessing the engine object\n",
    "    def get_engine(self):\n",
    "        return self._engine\n",
    "\n",
    "    # Public interface for modifying the engine object\n",
    "    def set_engine(self, engine):\n",
    "        self._engine = engine\n",
    "\n",
    "    # Public interface for accessing the transmission object\n",
    "    def get_transmission(self):\n",
    "        return self._transmission\n",
    "\n",
    "    # Public interface for modifying the transmission object\n",
    "    def set_transmission(self, transmission):\n",
    "        self._transmission = transmission\n",
    "\n",
    "    # Public interface for accessing the list of wheel objects\n",
    "    def get_wheels(self):\n",
    "        return self._wheels\n",
    "\n",
    "    # Public interface for modifying the list of wheel objects\n",
    "    def set_wheels(self, wheels):\n",
    "        self._wheels = wheels\n",
    "\n",
    "# Usage example\n",
    "car = Car(Engine(), Transmission(), [Wheel() for i in range(4)])\n",
    "\n",
    "# Access the engine object\n",
    "engine = car.get_engine()\n",
    "\n",
    "# Modify the engine object\n",
    "engine.set_cylinders(8)\n",
    "\n",
    "# Start the car\n",
    "car.start()\n",
    "\n",
    "# Stop the car\n",
    "car.stop()\n"
   ]
  },
  {
   "cell_type": "markdown",
   "id": "f37e8792-b0a2-431e-b7be-1e1e0b83b9e9",
   "metadata": {},
   "source": [
    "## 12. Create a Python class for a university course, using composition to represent students, instructors, and course materials."
   ]
  },
  {
   "cell_type": "code",
   "execution_count": 3,
   "id": "b20ae083-196c-4ec3-bb1b-3d2105a01402",
   "metadata": {},
   "outputs": [
    {
     "name": "stdout",
     "output_type": "stream",
     "text": [
      "Course: Introduction to Python\n",
      "Instructor: Instructor: Dr. Smith (Employee ID: E9876)\n",
      "Students:\n",
      "Student: Alice (ID: S12345), Student: Bob (ID: S67890)\n"
     ]
    }
   ],
   "source": [
    "class Student:\n",
    "    def __init__(self, name, student_id):\n",
    "        self.name = name\n",
    "        self.student_id = student_id\n",
    "\n",
    "    def enroll(self, course):\n",
    "        course.add_student(self)\n",
    "\n",
    "    def __str__(self):\n",
    "        return f\"Student: {self.name} (ID: {self.student_id})\"\n",
    "\n",
    "class Instructor:\n",
    "    def __init__(self, name, employee_id):\n",
    "        self.name = name\n",
    "        self.employee_id = employee_id\n",
    "\n",
    "    def assign_course(self, course):\n",
    "        course.set_instructor(self)\n",
    "\n",
    "    def __str__(self):\n",
    "        return f\"Instructor: {self.name} (Employee ID: {self.employee_id})\"\n",
    "\n",
    "class Course:\n",
    "    def __init__(self, name):\n",
    "        self.name = name\n",
    "        self.students = []\n",
    "        self.instructor = None\n",
    "\n",
    "    def add_student(self, student):\n",
    "        self.students.append(student)\n",
    "\n",
    "    def set_instructor(self, instructor):\n",
    "        self.instructor = instructor\n",
    "\n",
    "    def list_students(self):\n",
    "        return [str(student) for student in self.students]\n",
    "\n",
    "    def __str__(self):\n",
    "        return f\"Course: {self.name}\\nInstructor: {self.instructor}\\nStudents:\\n{', '.join(self.list_students())}\"\n",
    "\n",
    "# Create students and instructors\n",
    "student1 = Student(\"Alice\", \"S12345\")\n",
    "student2 = Student(\"Bob\", \"S67890\")\n",
    "\n",
    "instructor = Instructor(\"Dr. Smith\", \"E9876\")\n",
    "\n",
    "# Create a course and assign students and instructor\n",
    "course = Course(\"Introduction to Python\")\n",
    "student1.enroll(course)\n",
    "student2.enroll(course)\n",
    "instructor.assign_course(course)\n",
    "\n",
    "# Print course information\n",
    "print(course)\n"
   ]
  },
  {
   "cell_type": "markdown",
   "id": "c293db20-14ae-48ea-ac3e-616b48a6b756",
   "metadata": {},
   "source": [
    "## 13. Discuss the challenges and drawbacks of composition, such as increased complexity and potential for tight coupling between objects."
   ]
  },
  {
   "cell_type": "code",
   "execution_count": 1,
   "id": "c7e9a338-cc91-4494-bcab-ad1eb8e79bb5",
   "metadata": {},
   "outputs": [
    {
     "data": {
      "text/plain": [
       "'\\nIncreased Complexity:\\nComposition can lead to increased complexity in your code, especially when dealing with large, interconnected object\\ngraphs. As you compose objects to build more complex systems, the number of relationships and interactions between\\nobjects can grow significantly. This complexity can make code harder to understand, debug, and maintain.\\n\\nTight Coupling:\\nOne of the potential drawbacks of composition is the risk of tight coupling between objects. Tight coupling occurs\\nwhen the components that make up an object are highly interdependent and interconnected. This can make it difficult \\nto make changes to one component without affecting others, reducing the modularity and reusability of the code.\\nIn some cases, this can lead to fragile systems that break easily when changes are made.\\n\\nIncreased Dependencies:\\nComposition often involves creating dependencies between objects. While some level of dependency is necessary\\nin any object-oriented system, excessive dependencies can make the system less flexible and harder to test.\\nWhen one object relies heavily on others, it can become challenging to isolate and test individual components\\nin isolation.\\n\\nMaintenance Challenges:\\nAs a codebase grows, maintaining a system built using composition can become increasingly difficult. With many\\ninterconnected objects, you may need to modify multiple parts of the codebase when making changes or adding new\\nfeatures. This can lead to longer development and testing cycles, as well as an increased risk of introducing bugs.\\n'"
      ]
     },
     "execution_count": 1,
     "metadata": {},
     "output_type": "execute_result"
    }
   ],
   "source": [
    "'''\n",
    "Increased Complexity:\n",
    "Composition can lead to increased complexity in your code, especially when dealing with large, interconnected object\n",
    "graphs. As you compose objects to build more complex systems, the number of relationships and interactions between\n",
    "objects can grow significantly. This complexity can make code harder to understand, debug, and maintain.\n",
    "\n",
    "Tight Coupling:\n",
    "One of the potential drawbacks of composition is the risk of tight coupling between objects. Tight coupling occurs\n",
    "when the components that make up an object are highly interdependent and interconnected. This can make it difficult \n",
    "to make changes to one component without affecting others, reducing the modularity and reusability of the code.\n",
    "In some cases, this can lead to fragile systems that break easily when changes are made.\n",
    "\n",
    "Increased Dependencies:\n",
    "Composition often involves creating dependencies between objects. While some level of dependency is necessary\n",
    "in any object-oriented system, excessive dependencies can make the system less flexible and harder to test.\n",
    "When one object relies heavily on others, it can become challenging to isolate and test individual components\n",
    "in isolation.\n",
    "\n",
    "Maintenance Challenges:\n",
    "As a codebase grows, maintaining a system built using composition can become increasingly difficult. With many\n",
    "interconnected objects, you may need to modify multiple parts of the codebase when making changes or adding new\n",
    "features. This can lead to longer development and testing cycles, as well as an increased risk of introducing bugs.\n",
    "'''"
   ]
  },
  {
   "cell_type": "markdown",
   "id": "c441fd2b-edc7-417d-8d9f-7847d0d140fc",
   "metadata": {},
   "source": [
    "## 14. Create a Python class hierarchy for a restaurant system, using composition to represent menus, dishes, and ingredients."
   ]
  },
  {
   "cell_type": "code",
   "execution_count": 2,
   "id": "3c31ba3e-cb45-449b-89d1-2117aea961c7",
   "metadata": {},
   "outputs": [
    {
     "name": "stdout",
     "output_type": "stream",
     "text": [
      "Welcome to Delicious Pizzeria!\n",
      "Menus:\n",
      "Menu: Pizza Menu\n",
      "Margherita Pizza: 2 pieces of Tomato, 100 grams of Cheese, 200 grams of Dough\n",
      "Menu: Pasta Menu\n",
      "Spaghetti Bolognese: 2 pieces of Tomato, 100 grams of Cheese\n"
     ]
    }
   ],
   "source": [
    "class Ingredient:\n",
    "    def __init__(self, name, quantity, unit):\n",
    "        self.name = name\n",
    "        self.quantity = quantity\n",
    "        self.unit = unit\n",
    "\n",
    "    def __str__(self):\n",
    "        return f\"{self.quantity} {self.unit} of {self.name}\"\n",
    "\n",
    "\n",
    "class Dish:\n",
    "    def __init__(self, name, ingredients):\n",
    "        self.name = name\n",
    "        self.ingredients = ingredients  # List of Ingredient objects\n",
    "\n",
    "    def __str__(self):\n",
    "        ingredients_str = \", \".join([str(ingredient) for ingredient in self.ingredients])\n",
    "        return f\"{self.name}: {ingredients_str}\"\n",
    "\n",
    "\n",
    "class Menu:\n",
    "    def __init__(self, name, dishes):\n",
    "        self.name = name\n",
    "        self.dishes = dishes  # List of Dish objects\n",
    "\n",
    "    def __str__(self):\n",
    "        dishes_str = \"\\n\".join([str(dish) for dish in self.dishes])\n",
    "        return f\"Menu: {self.name}\\n{dishes_str}\"\n",
    "\n",
    "\n",
    "class Restaurant:\n",
    "    def __init__(self, name, menus):\n",
    "        self.name = name\n",
    "        self.menus = menus  # List of Menu objects\n",
    "\n",
    "    def __str__(self):\n",
    "        menus_str = \"\\n\".join([str(menu) for menu in self.menus])\n",
    "        return f\"Welcome to {self.name}!\\nMenus:\\n{menus_str}\"\n",
    "\n",
    "\n",
    "# Example usage:\n",
    "\n",
    "# Ingredients\n",
    "ingredient1 = Ingredient(\"Tomato\", 2, \"pieces\")\n",
    "ingredient2 = Ingredient(\"Cheese\", 100, \"grams\")\n",
    "ingredient3 = Ingredient(\"Dough\", 200, \"grams\")\n",
    "\n",
    "# Dishes\n",
    "dish1 = Dish(\"Margherita Pizza\", [ingredient1, ingredient2, ingredient3])\n",
    "dish2 = Dish(\"Spaghetti Bolognese\", [ingredient1, ingredient2])\n",
    "\n",
    "# Menus\n",
    "menu1 = Menu(\"Pizza Menu\", [dish1])\n",
    "menu2 = Menu(\"Pasta Menu\", [dish2])\n",
    "\n",
    "# Restaurant\n",
    "restaurant = Restaurant(\"Delicious Pizzeria\", [menu1, menu2])\n",
    "\n",
    "# Printing the restaurant details\n",
    "print(restaurant)\n"
   ]
  },
  {
   "cell_type": "markdown",
   "id": "f6d85650-0a60-4f13-a4c8-77b7abf83d55",
   "metadata": {},
   "source": [
    "## 15. Explain how composition enhances code maintainability and modularity in Python programs."
   ]
  },
  {
   "cell_type": "code",
   "execution_count": 1,
   "id": "3c31290d-7f9f-4a25-8044-70156ba5c406",
   "metadata": {},
   "outputs": [
    {
     "data": {
      "text/plain": [
       "'\\nReduces code duplication:\\nThe Car class does not need to define the Engine, Transmission, or Wheels classes. These classes are already defined\\nand can be reused.\\n\\nEncapsulates complexity:\\nThe complexity of the Car class is encapsulated within the Engine, Transmission, and Wheels classes. This makes the\\nCar class easier to understand.\\n\\nPromotes loose coupling:\\nThe Car class is not tightly dependent on the Engine, Transmission, or Wheels classes. This makes the Car class more\\nflexible and easier to change.'"
      ]
     },
     "execution_count": 1,
     "metadata": {},
     "output_type": "execute_result"
    }
   ],
   "source": [
    "'''\n",
    "Composition enhances code maintainability and modularity in Python programs by:\n",
    "\n",
    "Reducing code duplication:\n",
    "Composition allows you to reuse existing objects to create new objects. This reduces code duplication and makes\n",
    "your code more maintainable.\n",
    "\n",
    "Encapsulating complexity:\n",
    "Composition allows you to encapsulate the complexity of your code within objects. This makes your code more modular\n",
    "and easier to understand.\n",
    "\n",
    "Promoting loose coupling:\n",
    "Composition promotes loose coupling between objects. This means that the objects in your code are not tightly\n",
    "dependent on each other. This makes your code more flexible and easier to change.'''\n",
    "\n",
    "# Without composition\n",
    "class Car:\n",
    "    def __init__(self, engine, transmission, wheels):\n",
    "        self.engine = engine\n",
    "        self.transmission = transmission\n",
    "        self.wheels = wheels\n",
    "\n",
    "# With composition\n",
    "class Engine:\n",
    "    def __init__(self, horsepower, torque):\n",
    "        self.horsepower = horsepower\n",
    "        self.torque = torque\n",
    "\n",
    "class Transmission:\n",
    "    def __init__(self, gears):\n",
    "        self.gears = gears\n",
    "\n",
    "class Wheels:\n",
    "    def __init__(self, size):\n",
    "        self.size = size\n",
    "\n",
    "class Car:\n",
    "    def __init__(self, engine, transmission, wheels):\n",
    "        self.engine = engine\n",
    "        self.transmission = transmission\n",
    "        self.wheels = wheels\n",
    "'''\n",
    "Reduces code duplication:\n",
    "The Car class does not need to define the Engine, Transmission, or Wheels classes. These classes are already defined\n",
    "and can be reused.\n",
    "\n",
    "Encapsulates complexity:\n",
    "The complexity of the Car class is encapsulated within the Engine, Transmission, and Wheels classes. This makes the\n",
    "Car class easier to understand.\n",
    "\n",
    "Promotes loose coupling:\n",
    "The Car class is not tightly dependent on the Engine, Transmission, or Wheels classes. This makes the Car class more\n",
    "flexible and easier to change.'''"
   ]
  },
  {
   "cell_type": "markdown",
   "id": "498a22e8-4b36-41ee-84cb-6b329448c20d",
   "metadata": {},
   "source": [
    "## 16. Create a Python class for a computer game character, using composition to represent attributes like weapons, armor, and inventory."
   ]
  },
  {
   "cell_type": "code",
   "execution_count": 2,
   "id": "da10a2a6-c9b0-4f75-b229-0a988ab44e80",
   "metadata": {},
   "outputs": [
    {
     "name": "stdout",
     "output_type": "stream",
     "text": [
      "Hero\n",
      "Weapon: Sword (Damage: 10)\n",
      "Armor: Shield (Defense: 5)\n",
      "Inventory: Health Potion (Damage: 0)\n"
     ]
    }
   ],
   "source": [
    "class Weapon:\n",
    "    def __init__(self, name, damage):\n",
    "        self.name = name\n",
    "        self.damage = damage\n",
    "\n",
    "    def __str__(self):\n",
    "        return f\"{self.name} (Damage: {self.damage})\"\n",
    "\n",
    "\n",
    "class Armor:\n",
    "    def __init__(self, name, defense):\n",
    "        self.name = name\n",
    "        self.defense = defense\n",
    "\n",
    "    def __str__(self):\n",
    "        return f\"{self.name} (Defense: {self.defense})\"\n",
    "\n",
    "\n",
    "class Inventory:\n",
    "    def __init__(self, items=None):\n",
    "        self.items = items or []\n",
    "\n",
    "    def add_item(self, item):\n",
    "        self.items.append(item)\n",
    "\n",
    "    def remove_item(self, item):\n",
    "        self.items.remove(item)\n",
    "\n",
    "    def __str__(self):\n",
    "        item_list = \", \".join([str(item) for item in self.items])\n",
    "        return f\"Inventory: {item_list}\"\n",
    "\n",
    "\n",
    "class GameCharacter:\n",
    "    def __init__(self, name, weapon, armor, inventory=None):\n",
    "        self.name = name\n",
    "        self.weapon = weapon\n",
    "        self.armor = armor\n",
    "        self.inventory = inventory or Inventory()\n",
    "\n",
    "    def __str__(self):\n",
    "        return f\"{self.name}\\n\" \\\n",
    "               f\"Weapon: {self.weapon}\\n\" \\\n",
    "               f\"Armor: {self.armor}\\n\" \\\n",
    "               f\"{self.inventory}\"\n",
    "\n",
    "\n",
    "# Example usage:\n",
    "\n",
    "# Create weapons and armor\n",
    "sword = Weapon(\"Sword\", 10)\n",
    "shield = Armor(\"Shield\", 5)\n",
    "\n",
    "# Create a character with a weapon and armor\n",
    "character = GameCharacter(\"Hero\", sword, shield)\n",
    "\n",
    "# Create an inventory and add items\n",
    "health_potion = Weapon(\"Health Potion\", 0)\n",
    "character.inventory.add_item(health_potion)\n",
    "\n",
    "# Display character and inventory\n",
    "print(character)\n"
   ]
  },
  {
   "cell_type": "markdown",
   "id": "640bc190-fd18-4008-820d-a504ed2252f6",
   "metadata": {},
   "source": [
    "## 17. Describe the concept of \"aggregation\" in composition and how it differs from simple composition."
   ]
  },
  {
   "cell_type": "code",
   "execution_count": 3,
   "id": "1871ad05-525b-4008-9078-942fd69e7837",
   "metadata": {},
   "outputs": [
    {
     "name": "stdout",
     "output_type": "stream",
     "text": [
      "200\n"
     ]
    }
   ],
   "source": [
    "'''\n",
    "Aggregation, also known as association, is a type of composition where the contained object has an independent\n",
    "existence. This means that the contained object can exist without the containing object.\n",
    "\n",
    "In simple composition, the contained object is tightly coupled to the containing object. This means that the contained\n",
    "object cannot exist without the containing object.\n",
    "\n",
    "For example, a car is made up of various parts, such as an engine, transmission, and wheels. These parts are tightly\n",
    "coupled to the car, meaning that they cannot exist without the car. This is an example of simple composition.\n",
    "\n",
    "On the other hand, a student may be enrolled in a course. The student and the course are aggregated together,\n",
    "meaning that the student can exist without the course and the course can exist without the student. This is\n",
    "an example of aggregation.\n",
    "\n",
    "Here is a diagram that illustrates the difference between aggregation and composition:\n",
    "\n",
    "Aggregation:\n",
    "\n",
    "Student --o Course\n",
    "\n",
    "Composition:\n",
    "\n",
    "Car --o Engine\n",
    "Car --o Transmission\n",
    "Car --o Wheels\n",
    "Benefits of using aggregation:\n",
    "\n",
    "Increased flexibility:\n",
    "Aggregation allows for more flexibility in the design of your code. For example, you caneasily add or remove\n",
    "contained objects without affecting the containing object.\n",
    "\n",
    "Reduced coupling:\n",
    "Aggregation reduces coupling between objects, making your code more maintainable and reusable\n",
    "\n",
    "Improved performance:\n",
    "Aggregation can improve performance by avoiding the need to create and destroy objects unnecessarily.\n",
    "\n",
    "When to use aggregation:\n",
    "\n",
    "When the contained object has an independent existence.\n",
    "When you need to add or remove contained objects dynamically.\n",
    "When you need to reduce coupling between objects.\n",
    "When you need to improve performance.\n",
    "When to use composition:\n",
    "\n",
    "When the contained object is tightly coupled to the containing object.\n",
    "When the contained object is essential to the existence of the containing object.\n",
    "When you need to encapsulate the complexity of the contained object.\n",
    "Overall, aggregation and composition are both powerful tools for designing object-oriented code. By understanding\n",
    "the difference between the two concepts, you can choose the right one for your specific needs.'''\n",
    "\n",
    "# Aggregation\n",
    "class Student:\n",
    "    def __init__(self, name):\n",
    "        self.name = name\n",
    "        self.course = None\n",
    "\n",
    "    def enroll_in_course(self, course):\n",
    "        self.course = course\n",
    "\n",
    "class Course:\n",
    "    def __init__(self, name):\n",
    "        self.name = name\n",
    "        self.students = []\n",
    "\n",
    "    def add_student(self, student):\n",
    "        self.students.append(student)\n",
    "\n",
    "# Composition\n",
    "class Car:\n",
    "    def __init__(self, engine, transmission, wheels):\n",
    "        self.engine = engine\n",
    "        self.transmission = transmission\n",
    "        self.wheels = wheels\n",
    "\n",
    "class Engine:\n",
    "    def __init__(self, horsepower, torque):\n",
    "        self.horsepower = horsepower\n",
    "        self.torque = torque\n",
    "\n",
    "class Transmission:\n",
    "    def __init__(self, gears):\n",
    "        self.gears = gears\n",
    "\n",
    "class Wheels:\n",
    "    def __init__(self, size):\n",
    "        self.size = size\n",
    "\n",
    "# Aggregation example\n",
    "student1 = Student(\"Alice\")\n",
    "student2 = Student(\"Bob\")\n",
    "\n",
    "course = Course(\"Python Programming\")\n",
    "\n",
    "student1.enroll_in_course(course)\n",
    "student2.enroll_in_course(course)\n",
    "\n",
    "# Print the names of the students enrolled in the course\n",
    "for student in course.students:\n",
    "    print(student.name)\n",
    "\n",
    "# Output:\n",
    "# Alice\n",
    "# Bob\n",
    "\n",
    "# Composition example\n",
    "engine = Engine(200, 300)\n",
    "transmission = Transmission(5)\n",
    "wheels = Wheels(17)\n",
    "\n",
    "car = Car(engine, transmission, wheels)\n",
    "\n",
    "# Print the horsepower of the car\n",
    "print(car.engine.horsepower)\n",
    "\n",
    "# Output:\n",
    "# 200\n"
   ]
  },
  {
   "cell_type": "code",
   "execution_count": 4,
   "id": "41ec2dda-e31c-4ceb-ad8c-a35b71066449",
   "metadata": {},
   "outputs": [
    {
     "name": "stdout",
     "output_type": "stream",
     "text": [
      "Fido\n",
      "tile\n"
     ]
    }
   ],
   "source": [
    "# Aggregation\n",
    "class Person:\n",
    "    def __init__(self, name):\n",
    "        self.name = name\n",
    "        self.pet = None\n",
    "\n",
    "class Pet:\n",
    "    def __init__(self, name, species):\n",
    "        self.name = name\n",
    "        self.species = species\n",
    "\n",
    "# Composition\n",
    "class House:\n",
    "    def __init__(self, address, roof):\n",
    "        self.address = address\n",
    "        self.roof = roof\n",
    "\n",
    "class Roof:\n",
    "    def __init__(self, material, color):\n",
    "        self.material = material\n",
    "        self.color = color\n",
    "\n",
    "# Aggregation example\n",
    "person = Person(\"Alice\")\n",
    "pet = Pet(\"Fido\", \"dog\")\n",
    "\n",
    "person.pet = pet\n",
    "\n",
    "# Print the name of the person's pet\n",
    "print(person.pet.name)\n",
    "\n",
    "# Output:\n",
    "# Fido\n",
    "\n",
    "# Composition example\n",
    "house = House(\"123 Main Street\", Roof(\"tile\", \"red\"))\n",
    "\n",
    "# Print the material of the house's roof\n",
    "print(house.roof.material)\n",
    "\n",
    "# Output:\n",
    "# tile\n"
   ]
  },
  {
   "cell_type": "markdown",
   "id": "8d5a2f04-da5d-454d-926d-898c6360932f",
   "metadata": {},
   "source": [
    "## 18. Create a Python class for a house, using composition to represent rooms, furniture, and appliances."
   ]
  },
  {
   "cell_type": "code",
   "execution_count": 5,
   "id": "98be8e89-1d42-4a7f-a9bb-079823012768",
   "metadata": {},
   "outputs": [
    {
     "name": "stdout",
     "output_type": "stream",
     "text": [
      "My House:\n",
      "Living Room:\n",
      "Furniture: Sofa (Comfortable leather sofa)\n",
      "Appliances: \n",
      "Dining Room:\n",
      "Furniture: Dining Table (Wooden dining table)\n",
      "Appliances: \n",
      "Kitchen:\n",
      "Furniture: \n",
      "Appliances: Refrigerator (Kitchen appliance)\n",
      "Laundry Room:\n",
      "Furniture: \n",
      "Appliances: Washing Machine (Laundry appliance)\n"
     ]
    }
   ],
   "source": [
    "class Furniture:\n",
    "    def __init__(self, name, description):\n",
    "        self.name = name\n",
    "        self.description = description\n",
    "\n",
    "    def __str__(self):\n",
    "        return f\"{self.name} ({self.description})\"\n",
    "\n",
    "\n",
    "class Appliance:\n",
    "    def __init__(self, name, type):\n",
    "        self.name = name\n",
    "        self.type = type\n",
    "\n",
    "    def __str__(self):\n",
    "        return f\"{self.name} ({self.type})\"\n",
    "\n",
    "\n",
    "class Room:\n",
    "    def __init__(self, name):\n",
    "        self.name = name\n",
    "        self.furniture = []  # List of Furniture objects\n",
    "        self.appliances = []  # List of Appliance objects\n",
    "\n",
    "    def add_furniture(self, furniture):\n",
    "        self.furniture.append(furniture)\n",
    "\n",
    "    def add_appliance(self, appliance):\n",
    "        self.appliances.append(appliance)\n",
    "\n",
    "    def __str__(self):\n",
    "        furniture_str = \", \".join([str(item) for item in self.furniture])\n",
    "        appliance_str = \", \".join([str(item) for item in self.appliances])\n",
    "        return f\"{self.name}:\\nFurniture: {furniture_str}\\nAppliances: {appliance_str}\"\n",
    "\n",
    "\n",
    "class House:\n",
    "    def __init__(self, name, rooms):\n",
    "        self.name = name\n",
    "        self.rooms = rooms  # List of Room objects\n",
    "\n",
    "    def __str__(self):\n",
    "        rooms_str = \"\\n\".join([str(room) for room in self.rooms])\n",
    "        return f\"{self.name}:\\n{rooms_str}\"\n",
    "\n",
    "\n",
    "# Example usage:\n",
    "\n",
    "# Create furniture and appliances\n",
    "sofa = Furniture(\"Sofa\", \"Comfortable leather sofa\")\n",
    "dining_table = Furniture(\"Dining Table\", \"Wooden dining table\")\n",
    "refrigerator = Appliance(\"Refrigerator\", \"Kitchen appliance\")\n",
    "washing_machine = Appliance(\"Washing Machine\", \"Laundry appliance\")\n",
    "\n",
    "# Create rooms with furniture and appliances\n",
    "living_room = Room(\"Living Room\")\n",
    "living_room.add_furniture(sofa)\n",
    "dining_room = Room(\"Dining Room\")\n",
    "dining_room.add_furniture(dining_table)\n",
    "kitchen = Room(\"Kitchen\")\n",
    "kitchen.add_appliance(refrigerator)\n",
    "laundry = Room(\"Laundry Room\")\n",
    "laundry.add_appliance(washing_machine)\n",
    "\n",
    "# Create a house with rooms\n",
    "my_house = House(\"My House\", [living_room, dining_room, kitchen, laundry])\n",
    "\n",
    "# Display house details\n",
    "print(my_house)\n"
   ]
  },
  {
   "cell_type": "markdown",
   "id": "fe136f18-8d13-44e5-9096-e489f8e83616",
   "metadata": {},
   "source": [
    "## 19. How can you achieve flexibility in composed objects by allowing them to be replaced or modified dynamically at runtime?"
   ]
  },
  {
   "cell_type": "code",
   "execution_count": 9,
   "id": "6f430cf9-6c3e-4e87-9dad-0613bd4f8862",
   "metadata": {},
   "outputs": [],
   "source": [
    "'''\n",
    "Use dependency injection:\n",
    "Dependency injection is a design pattern that allows you to inject dependencies into objects at runtime. This\n",
    "allows you to easily replace or modify dependencies without having to modify the object itself.\n",
    "\n",
    "Use interfaces:\n",
    "Interfaces allow you to define the behavior of an object without specifying its implementation. This allows you\n",
    "to easily replace or modify the implementation of an object without having to modify the code that uses it.\n",
    "\n",
    "Use reflection:\n",
    "Reflection is a Python feature that allows you to inspect and modify objects at runtime. This allows you to dynamically\n",
    "replace or modify the properties and methods of objects.'''\n",
    "\n",
    "# using dependency injection\n",
    "class House:\n",
    "    def __init__(self, address, roof_dependency):\n",
    "        self.address = address\n",
    "        self.roof = roof_dependency\n",
    "\n",
    "class Roof:\n",
    "    def __init__(self, material, color):\n",
    "        self.material = material\n",
    "        self.color = color\n",
    "\n",
    "# Example usage:\n",
    "\n",
    "# Create a house object with a tile roof\n",
    "house = House(\"123 Main Street\", Roof(\"tile\", \"red\"))\n",
    "\n",
    "# Replace the roof of the house with a metal roof\n",
    "house.roof = Roof(\"metal\", \"blue\")\n",
    "\n",
    "# The house now has a metal roof\n"
   ]
  },
  {
   "cell_type": "code",
   "execution_count": 10,
   "id": "501ca577-f20b-409b-99f6-5bc4ad33e9dc",
   "metadata": {},
   "outputs": [],
   "source": [
    "# using interfaces\n",
    "class Roof:\n",
    "    def __init__(self, material, color):\n",
    "        self.material = material\n",
    "        self.color = color\n",
    "\n",
    "    def get_material(self):\n",
    "        return self.material\n",
    "\n",
    "    def get_color(self):\n",
    "        return self.color\n",
    "\n",
    "class House:\n",
    "    def __init__(self, address, roof_dependency):\n",
    "        self.address = address\n",
    "        self.roof = roof_dependency\n",
    "\n",
    "# Example usage:\n",
    "\n",
    "# Create a house object with a tile roof\n",
    "house = House(\"123 Main Street\", Roof(\"tile\", \"red\"))\n",
    "\n",
    "# Create a new type of roof\n",
    "class MetalRoof(Roof):\n",
    "    def __init__(self):\n",
    "        super().__init__(material=\"metal\", color=\"blue\")\n",
    "\n",
    "# Replace the roof of the house with a metal roof\n",
    "house.roof = MetalRoof()\n",
    "\n",
    "# The house now has a metal roof\n"
   ]
  },
  {
   "cell_type": "code",
   "execution_count": 11,
   "id": "38fa95de-a974-4360-ba7a-1c583adfeacf",
   "metadata": {},
   "outputs": [],
   "source": [
    "# using reflection\n",
    "import inspect\n",
    "\n",
    "class House:\n",
    "    def __init__(self, address, roof_dependency):\n",
    "        self.address = address\n",
    "        self.roof = roof_dependency\n",
    "\n",
    "class Roof:\n",
    "    def __init__(self, material, color):\n",
    "        self.material = material\n",
    "        self.color = color\n",
    "\n",
    "# Example usage:\n",
    "\n",
    "# Create a house object\n",
    "house = House(\"123 Main Street\", Roof(\"tile\", \"red\"))\n",
    "\n",
    "# Get the roof object\n",
    "roof = house.roof\n",
    "\n",
    "# Change the color of the roof using reflection\n",
    "roof.color = \"blue\"\n",
    "\n",
    "# The house now has a blue roof\n"
   ]
  },
  {
   "cell_type": "markdown",
   "id": "dea4f615-6484-4830-b136-285337263a9e",
   "metadata": {},
   "source": [
    "## 20. Create a Python class for a social media application, using composition to represent users, posts, and comments."
   ]
  },
  {
   "cell_type": "code",
   "execution_count": 12,
   "id": "b7be27d0-f9e1-4e64-84dc-f58d48fc6108",
   "metadata": {},
   "outputs": [
    {
     "name": "stdout",
     "output_type": "stream",
     "text": [
      "Welcome to MySocialApp!\n",
      "Users:\n",
      "Alice (alice123)\n",
      "Posts:\n",
      "alice123 said: Hello, everyone!\n",
      "Comments:\n",
      "Eve: I agree with you, Alice.\n",
      "Bob (bob456)\n",
      "Posts:\n",
      "bob456 said: Python is amazing!\n",
      "Comments:\n",
      "\n"
     ]
    }
   ],
   "source": [
    "class Comment:\n",
    "    def __init__(self, author, text):\n",
    "        self.author = author\n",
    "        self.text = text\n",
    "\n",
    "    def __str__(self):\n",
    "        return f\"{self.author}: {self.text}\"\n",
    "\n",
    "\n",
    "class Post:\n",
    "    def __init__(self, author, text):\n",
    "        self.author = author\n",
    "        self.text = text\n",
    "        self.comments = []  # List of Comment objects\n",
    "\n",
    "    def add_comment(self, comment):\n",
    "        self.comments.append(comment)\n",
    "\n",
    "    def __str__(self):\n",
    "        comments_str = \"\\n\".join([str(comment) for comment in self.comments])\n",
    "        return f\"{self.author} said: {self.text}\\nComments:\\n{comments_str}\"\n",
    "\n",
    "\n",
    "class User:\n",
    "    def __init__(self, username, name):\n",
    "        self.username = username\n",
    "        self.name = name\n",
    "        self.posts = []  # List of Post objects\n",
    "\n",
    "    def create_post(self, text):\n",
    "        post = Post(self.username, text)\n",
    "        self.posts.append(post)\n",
    "        return post\n",
    "\n",
    "    def __str__(self):\n",
    "        posts_str = \"\\n\".join([str(post) for post in self.posts])\n",
    "        return f\"{self.name} ({self.username})\\nPosts:\\n{posts_str}\"\n",
    "\n",
    "\n",
    "class SocialMediaApp:\n",
    "    def __init__(self, name):\n",
    "        self.name = name\n",
    "        self.users = []  # List of User objects\n",
    "\n",
    "    def add_user(self, user):\n",
    "        self.users.append(user)\n",
    "\n",
    "    def __str__(self):\n",
    "        users_str = \"\\n\".join([str(user) for user in self.users])\n",
    "        return f\"Welcome to {self.name}!\\nUsers:\\n{users_str}\"\n",
    "\n",
    "\n",
    "# Example usage:\n",
    "\n",
    "# Create users, posts, and comments\n",
    "alice = User(\"alice123\", \"Alice\")\n",
    "bob = User(\"bob456\", \"Bob\")\n",
    "\n",
    "post1 = alice.create_post(\"Hello, everyone!\")\n",
    "post2 = bob.create_post(\"Python is amazing!\")\n",
    "\n",
    "comment1 = Comment(\"Eve\", \"I agree with you, Alice.\")\n",
    "post1.add_comment(comment1)\n",
    "\n",
    "# Create the social media app and add users\n",
    "app = SocialMediaApp(\"MySocialApp\")\n",
    "app.add_user(alice)\n",
    "app.add_user(bob)\n",
    "\n",
    "# Display the social media app\n",
    "print(app)\n"
   ]
  },
  {
   "cell_type": "code",
   "execution_count": null,
   "id": "95768516-6037-40f4-b1f0-e21f253cb26d",
   "metadata": {},
   "outputs": [],
   "source": []
  }
 ],
 "metadata": {
  "kernelspec": {
   "display_name": "Python 3 (ipykernel)",
   "language": "python",
   "name": "python3"
  },
  "language_info": {
   "codemirror_mode": {
    "name": "ipython",
    "version": 3
   },
   "file_extension": ".py",
   "mimetype": "text/x-python",
   "name": "python",
   "nbconvert_exporter": "python",
   "pygments_lexer": "ipython3",
   "version": "3.10.8"
  }
 },
 "nbformat": 4,
 "nbformat_minor": 5
}
