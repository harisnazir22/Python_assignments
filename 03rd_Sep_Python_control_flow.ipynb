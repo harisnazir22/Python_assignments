{
 "cells": [
  {
   "cell_type": "markdown",
   "id": "f674bc8a-bf9c-421c-adba-9e2ebd09235d",
   "metadata": {},
   "source": [
    "# Control Flow Assignment Questions"
   ]
  },
  {
   "cell_type": "markdown",
   "id": "4b420ede-bedd-4968-a765-7f7d47eca61c",
   "metadata": {},
   "source": [
    "## Question NO.1"
   ]
  },
  {
   "cell_type": "code",
   "execution_count": 1,
   "id": "2ae72dc2-7339-435c-90dd-e226b98e380d",
   "metadata": {},
   "outputs": [],
   "source": [
    "def fun1(n):\n",
    "    if n>=0:\n",
    "        print('positive')\n",
    "    else:\n",
    "        print('negative')"
   ]
  },
  {
   "cell_type": "code",
   "execution_count": 47,
   "id": "d00a2362-c094-4fbf-90ba-3a957aea0f8e",
   "metadata": {},
   "outputs": [
    {
     "name": "stdout",
     "output_type": "stream",
     "text": [
      "positive\n"
     ]
    }
   ],
   "source": [
    "fun1(7)"
   ]
  },
  {
   "cell_type": "markdown",
   "id": "7dc395a8-c258-42d0-bab8-44ff1a24b6a3",
   "metadata": {},
   "source": [
    "## Question NO.2"
   ]
  },
  {
   "cell_type": "code",
   "execution_count": 2,
   "id": "58fcc892-b7ae-4803-ab3c-1a56c0c8566b",
   "metadata": {},
   "outputs": [],
   "source": [
    "def vote_eligibility():\n",
    "    age = int(input(\"enter the age\"))\n",
    "    if age>17:\n",
    "        print(\"eligible to vote\")\n",
    "    else:\n",
    "        print('not eligible')"
   ]
  },
  {
   "cell_type": "code",
   "execution_count": 3,
   "id": "0dce88e1-1893-4fe1-8abd-d6344a5f3e16",
   "metadata": {},
   "outputs": [
    {
     "name": "stdin",
     "output_type": "stream",
     "text": [
      "enter the age 56\n"
     ]
    },
    {
     "name": "stdout",
     "output_type": "stream",
     "text": [
      "eligible to vote\n"
     ]
    }
   ],
   "source": [
    "vote_eligibility()"
   ]
  },
  {
   "cell_type": "markdown",
   "id": "b4bb72d9-6748-428c-8d05-8cebae6be09f",
   "metadata": {},
   "source": [
    "## Question NO.3"
   ]
  },
  {
   "cell_type": "code",
   "execution_count": 4,
   "id": "02233e62-39a2-40b5-b7c6-4ea915a35082",
   "metadata": {},
   "outputs": [],
   "source": [
    "def fun2():\n",
    "    num1 = int(input(\"enter the first number\"))\n",
    "    num2 = int(input(\"enter the second number\"))\n",
    "    if num1>num2:\n",
    "        print(num1,\"is greater\")\n",
    "    else:\n",
    "        print(num2,\" is greater\")"
   ]
  },
  {
   "cell_type": "code",
   "execution_count": 5,
   "id": "2360d18c-1c94-462b-a936-1231609f0de5",
   "metadata": {},
   "outputs": [
    {
     "name": "stdin",
     "output_type": "stream",
     "text": [
      "enter the first number 5\n",
      "enter the second number 8\n"
     ]
    },
    {
     "name": "stdout",
     "output_type": "stream",
     "text": [
      "8  is greater\n"
     ]
    }
   ],
   "source": [
    "fun2()"
   ]
  },
  {
   "cell_type": "markdown",
   "id": "e8465878-1ae6-495d-bff3-91b46a01f388",
   "metadata": {},
   "source": [
    "## Question NO.4"
   ]
  },
  {
   "cell_type": "code",
   "execution_count": 6,
   "id": "8ce39f41-3fb6-4e25-9789-96c2c3ea3409",
   "metadata": {},
   "outputs": [],
   "source": [
    "def isleap(n):\n",
    "    if (n%4==0 and n%100==0) or (n%400==0):\n",
    "        print(\"leap year\")\n",
    "    else:\n",
    "        print(\"not a leap year\")"
   ]
  },
  {
   "cell_type": "code",
   "execution_count": 7,
   "id": "2583f357-8364-4bc3-be82-714ecaf3aa5e",
   "metadata": {},
   "outputs": [
    {
     "name": "stdout",
     "output_type": "stream",
     "text": [
      "leap year\n"
     ]
    }
   ],
   "source": [
    "isleap(2000)"
   ]
  },
  {
   "cell_type": "markdown",
   "id": "747640ea-cd0d-46b3-994c-e9436da6c1f6",
   "metadata": {},
   "source": [
    "## Question NO.5"
   ]
  },
  {
   "cell_type": "code",
   "execution_count": 11,
   "id": "6830de11-81b8-4672-b836-e8a32db80a0d",
   "metadata": {},
   "outputs": [],
   "source": [
    "vowels = \"aeiouAEIOU\"\n",
    "def isvowel():\n",
    "    char = input(\"enter the character\")\n",
    "    for i in vowels:\n",
    "        if i == char:\n",
    "            print('vowel')\n",
    "            break\n",
    "    else:\n",
    "        print('consonant')"
   ]
  },
  {
   "cell_type": "code",
   "execution_count": 12,
   "id": "4ac80040-8cca-4ccc-bea7-739d8f0a4c15",
   "metadata": {},
   "outputs": [
    {
     "name": "stdin",
     "output_type": "stream",
     "text": [
      "enter the character h\n"
     ]
    },
    {
     "name": "stdout",
     "output_type": "stream",
     "text": [
      "consonant\n"
     ]
    }
   ],
   "source": [
    "isvowel()"
   ]
  },
  {
   "cell_type": "code",
   "execution_count": 13,
   "id": "af594a60-2732-4260-a4e5-b5141d4440e2",
   "metadata": {},
   "outputs": [
    {
     "name": "stdin",
     "output_type": "stream",
     "text": [
      "Enter the character:  e\n"
     ]
    },
    {
     "name": "stdout",
     "output_type": "stream",
     "text": [
      "vowel\n"
     ]
    }
   ],
   "source": [
    "def is_vowel(char):\n",
    "    vowels = \"aeiouAEIOU\"\n",
    "    if char in vowels:\n",
    "        print('vowel')\n",
    "    else:\n",
    "        print('consonant')\n",
    "\n",
    "char = input(\"Enter the character: \")\n",
    "is_vowel(char)\n"
   ]
  },
  {
   "cell_type": "markdown",
   "id": "aef0abfc-5101-4abf-9a39-f138eb889d3a",
   "metadata": {},
   "source": [
    "## Question NO.6"
   ]
  },
  {
   "cell_type": "code",
   "execution_count": 14,
   "id": "49b1ab55-8fcd-4798-959a-9d89376b9e96",
   "metadata": {},
   "outputs": [],
   "source": [
    "def fun1(n):\n",
    "    if n%2==0:\n",
    "        print('even no')\n",
    "    else:\n",
    "        print('odd no')"
   ]
  },
  {
   "cell_type": "code",
   "execution_count": 15,
   "id": "25fa657e-f3d9-40d4-9456-fddc24312b28",
   "metadata": {},
   "outputs": [
    {
     "name": "stdout",
     "output_type": "stream",
     "text": [
      "even no\n"
     ]
    }
   ],
   "source": [
    "fun1(6)"
   ]
  },
  {
   "cell_type": "markdown",
   "id": "cd5dd19f-694c-48a0-9e82-a726c18520ce",
   "metadata": {},
   "source": [
    "## Question NO.7"
   ]
  },
  {
   "cell_type": "code",
   "execution_count": 16,
   "id": "994a2af6-1193-4f7e-9bff-0148d80ec6f3",
   "metadata": {},
   "outputs": [],
   "source": [
    "def abs(n):\n",
    "    if n>=0:\n",
    "        print(n)\n",
    "    else:\n",
    "        print(-n)"
   ]
  },
  {
   "cell_type": "code",
   "execution_count": 17,
   "id": "596f3b08-9675-4203-b2f2-c3065f5a36f5",
   "metadata": {},
   "outputs": [
    {
     "name": "stdout",
     "output_type": "stream",
     "text": [
      "3\n"
     ]
    }
   ],
   "source": [
    "abs(-3)"
   ]
  },
  {
   "cell_type": "markdown",
   "id": "6cd3b215-82ed-408f-9f3f-6e7d52c7fc71",
   "metadata": {},
   "source": [
    "## Question NO.8"
   ]
  },
  {
   "cell_type": "code",
   "execution_count": 18,
   "id": "be0e81a1-3baf-42a8-97dc-6f3a6a408b5d",
   "metadata": {},
   "outputs": [
    {
     "name": "stdin",
     "output_type": "stream",
     "text": [
      "Enter the first number:  5\n",
      "Enter the second number:  7\n",
      "Enter the third number:  9\n"
     ]
    },
    {
     "name": "stdout",
     "output_type": "stream",
     "text": [
      "The largest number is: 9.0\n"
     ]
    }
   ],
   "source": [
    "num1 = float(input(\"Enter the first number: \"))\n",
    "num2 = float(input(\"Enter the second number: \"))\n",
    "num3 = float(input(\"Enter the third number: \"))\n",
    "\n",
    "if num1 >= num2 and num1 >= num3:\n",
    "    largest = num1\n",
    "elif num2 >= num1 and num2 >= num3:\n",
    "    largest = num2\n",
    "else:\n",
    "    largest = num3\n",
    "\n",
    "print(f\"The largest number is: {largest}\")\n"
   ]
  },
  {
   "cell_type": "markdown",
   "id": "be73c27e-bd95-4f7e-818d-500e34929325",
   "metadata": {},
   "source": [
    "## Question NO.9"
   ]
  },
  {
   "cell_type": "code",
   "execution_count": 19,
   "id": "e8841140-b42c-4683-9c1a-2333a7ab66ef",
   "metadata": {},
   "outputs": [
    {
     "name": "stdin",
     "output_type": "stream",
     "text": [
      "Enter a string:  harisirah\n"
     ]
    },
    {
     "name": "stdout",
     "output_type": "stream",
     "text": [
      "'harisirah' is a palindrome.\n"
     ]
    }
   ],
   "source": [
    "def is_palindrome(s):\n",
    "    s = s.replace(\" \", \"\").lower()\n",
    "    \n",
    "    return s == s[::-1]\n",
    "\n",
    "input_string = input(\"Enter a string: \")\n",
    "\n",
    "if is_palindrome(input_string):\n",
    "    print(f\"'{input_string}' is a palindrome.\")\n",
    "else:\n",
    "    print(f\"'{input_string}' is not a palindrome.\")\n"
   ]
  },
  {
   "cell_type": "markdown",
   "id": "34a4f181-f999-49e3-ba38-f02bca36a208",
   "metadata": {},
   "source": [
    "## Question NO.10"
   ]
  },
  {
   "cell_type": "code",
   "execution_count": 20,
   "id": "c3d85f13-db2f-47f1-88d0-7512de01a8e1",
   "metadata": {},
   "outputs": [
    {
     "name": "stdin",
     "output_type": "stream",
     "text": [
      "Enter the student's score:  56\n"
     ]
    },
    {
     "name": "stdout",
     "output_type": "stream",
     "text": [
      "The student's grade is: F\n"
     ]
    }
   ],
   "source": [
    "score = float(input(\"Enter the student's score: \"))\n",
    "\n",
    "if score >= 90:\n",
    "    grade = 'A'\n",
    "elif score >= 80:\n",
    "    grade = 'B'\n",
    "elif score >= 70:\n",
    "    grade = 'C'\n",
    "elif score >= 60:\n",
    "    grade = 'D'\n",
    "else:\n",
    "    grade = 'F'\n",
    "\n",
    "print(f\"The student's grade is: {grade}\")\n"
   ]
  },
  {
   "cell_type": "markdown",
   "id": "dd97ac58-9d91-4e12-b620-bc5fca63788f",
   "metadata": {},
   "source": [
    "## Question NO.11"
   ]
  },
  {
   "cell_type": "code",
   "execution_count": 21,
   "id": "bf001d88-132a-4ebd-8522-5ad215a872dd",
   "metadata": {},
   "outputs": [
    {
     "name": "stdin",
     "output_type": "stream",
     "text": [
      "Enter the first number:  56\n",
      "Enter the second number:  78\n",
      "Enter the third number:  34\n"
     ]
    },
    {
     "name": "stdout",
     "output_type": "stream",
     "text": [
      "The largest number is: 78.0\n"
     ]
    }
   ],
   "source": [
    "num1 = float(input(\"Enter the first number: \"))\n",
    "num2 = float(input(\"Enter the second number: \"))\n",
    "num3 = float(input(\"Enter the third number: \"))\n",
    "\n",
    "if num1 >= num2:\n",
    "    if num1 >= num3:\n",
    "        largest = num1\n",
    "    else:\n",
    "        largest = num3\n",
    "else:\n",
    "    if num2 >= num3:\n",
    "        largest = num2\n",
    "    else:\n",
    "        largest = num3\n",
    "\n",
    "print(f\"The largest number is: {largest}\")\n"
   ]
  },
  {
   "cell_type": "markdown",
   "id": "673ebf69-edab-4d53-b9ee-4da8ec1f9749",
   "metadata": {},
   "source": [
    "## Question NO.12"
   ]
  },
  {
   "cell_type": "code",
   "execution_count": 22,
   "id": "efc74dbc-fa92-4a25-97f9-bc857e016725",
   "metadata": {},
   "outputs": [
    {
     "name": "stdin",
     "output_type": "stream",
     "text": [
      "Enter the length of the first side:  6\n",
      "Enter the length of the second side:  7\n",
      "Enter the length of the third side:  8\n"
     ]
    },
    {
     "name": "stdout",
     "output_type": "stream",
     "text": [
      "The triangle is scalene.\n"
     ]
    }
   ],
   "source": [
    "side1 = float(input(\"Enter the length of the first side: \"))\n",
    "side2 = float(input(\"Enter the length of the second side: \"))\n",
    "side3 = float(input(\"Enter the length of the third side: \"))\n",
    "\n",
    "if (side1 + side2 > side3) and (side1 + side3 > side2) and (side2 + side3 > side1):\n",
    "    if side1 == side2 == side3:\n",
    "        triangle_type = \"equilateral\"\n",
    "    else:\n",
    "        if side1 == side2 or side1 == side3 or side2 == side3:\n",
    "            triangle_type = \"isosceles\"\n",
    "        else:\n",
    "            triangle_type = \"scalene\"\n",
    "\n",
    "    print(f\"The triangle is {triangle_type}.\")\n",
    "else:\n",
    "    print(\"Invalid triangle: The sum of the lengths of any two sides must be greater than the length of the third side.\")\n"
   ]
  },
  {
   "cell_type": "markdown",
   "id": "dee9371f-a59b-499f-99c6-08acfc3ad65b",
   "metadata": {},
   "source": [
    "## Question NO.13"
   ]
  },
  {
   "cell_type": "code",
   "execution_count": 24,
   "id": "1809c61f-20c4-449c-9e93-4a429c4d9429",
   "metadata": {},
   "outputs": [
    {
     "name": "stdin",
     "output_type": "stream",
     "text": [
      "Enter a year:  400\n"
     ]
    },
    {
     "name": "stdout",
     "output_type": "stream",
     "text": [
      "400 is a leap year.\n",
      "400 is a century year.\n"
     ]
    }
   ],
   "source": [
    "year = int(input(\"Enter a year: \"))\n",
    "\n",
    "if year % 4 == 0:\n",
    "    if year % 100 == 0:\n",
    "        is_leap_year = True\n",
    "        if year % 400 == 0:\n",
    "            is_leap_year = True\n",
    "        else:\n",
    "            is_leap_year = False\n",
    "    else:\n",
    "        is_leap_year = False\n",
    "else:\n",
    "    is_leap_year = False\n",
    "\n",
    "if year % 100 == 0:\n",
    "    is_century_year = True\n",
    "else:\n",
    "    is_century_year = False\n",
    "\n",
    "if is_leap_year:\n",
    "    print(f\"{year} is a leap year.\")\n",
    "else:\n",
    "    print(f\"{year} is not a leap year.\")\n",
    "\n",
    "if is_century_year:\n",
    "    print(f\"{year} is a century year.\")\n",
    "else:\n",
    "    print(f\"{year} is not a century year.\")\n"
   ]
  },
  {
   "cell_type": "markdown",
   "id": "68ef89f3-fd9e-4dee-827f-409ca703bf28",
   "metadata": {},
   "source": [
    "## Question NO.14"
   ]
  },
  {
   "cell_type": "code",
   "execution_count": 25,
   "id": "053ea75e-4dd8-4d04-b518-45d00bf061d7",
   "metadata": {},
   "outputs": [
    {
     "name": "stdin",
     "output_type": "stream",
     "text": [
      "Enter a number:  78\n"
     ]
    },
    {
     "name": "stdout",
     "output_type": "stream",
     "text": [
      "The number is positive.\n"
     ]
    }
   ],
   "source": [
    "number = float(input(\"Enter a number: \"))\n",
    "\n",
    "if number > 0:\n",
    "    print(\"The number is positive.\")\n",
    "else:\n",
    "    if number < 0:\n",
    "        print(\"The number is negative.\")\n",
    "    else:\n",
    "        print(\"The number is zero.\")\n"
   ]
  },
  {
   "cell_type": "markdown",
   "id": "0d501340-6263-4d32-8bb1-782a71d0452c",
   "metadata": {},
   "source": [
    "## Question NO.15"
   ]
  },
  {
   "cell_type": "code",
   "execution_count": 26,
   "id": "6a684bf4-5390-49a3-97a7-fbf5d231db08",
   "metadata": {},
   "outputs": [
    {
     "name": "stdin",
     "output_type": "stream",
     "text": [
      "Enter the age:  67\n"
     ]
    },
    {
     "name": "stdout",
     "output_type": "stream",
     "text": [
      "The person is not a teenager.\n"
     ]
    }
   ],
   "source": [
    "age = int(input(\"Enter the age: \"))\n",
    "\n",
    "if age >= 13:\n",
    "    if age <= 19:\n",
    "        print(\"The person is a teenager.\")\n",
    "    else:\n",
    "        print(\"The person is not a teenager.\")\n",
    "else:\n",
    "    print(\"The person is not a teenager.\")\n"
   ]
  },
  {
   "cell_type": "markdown",
   "id": "03833883-e767-480a-b7f8-5aa0e6e2408a",
   "metadata": {},
   "source": [
    "## Question NO.16"
   ]
  },
  {
   "cell_type": "code",
   "execution_count": 27,
   "id": "0ebca8dd-587b-46f1-8bc6-d2ea9a1b0745",
   "metadata": {},
   "outputs": [
    {
     "name": "stdin",
     "output_type": "stream",
     "text": [
      "Enter the angle measure in degrees:  56\n"
     ]
    },
    {
     "name": "stdout",
     "output_type": "stream",
     "text": [
      "The angle is acute.\n"
     ]
    }
   ],
   "source": [
    "angle = float(input(\"Enter the angle measure in degrees: \"))\n",
    "\n",
    "if angle > 0:\n",
    "    if angle < 90:\n",
    "        angle_type = \"acute\"\n",
    "    elif angle == 90:\n",
    "        angle_type = \"right\"\n",
    "    else:\n",
    "        angle_type = \"obtuse\"\n",
    "else:\n",
    "    angle_type = \"invalid (negative angle)\"\n",
    "\n",
    "print(f\"The angle is {angle_type}.\")\n"
   ]
  },
  {
   "cell_type": "markdown",
   "id": "890376fc-3c4d-45dc-8727-90e8d47dec89",
   "metadata": {},
   "source": [
    "## Question NO.17"
   ]
  },
  {
   "cell_type": "code",
   "execution_count": 28,
   "id": "bb813d5b-1864-499d-a40c-9d28aadcf8a0",
   "metadata": {},
   "outputs": [
    {
     "name": "stdin",
     "output_type": "stream",
     "text": [
      "Enter coefficient a:  5\n",
      "Enter coefficient b:  6\n",
      "Enter coefficient c:  8\n"
     ]
    },
    {
     "name": "stdout",
     "output_type": "stream",
     "text": [
      "Root 1: -0.6 + 1.1135528725660042i\n",
      "Root 2: -0.6 - 1.1135528725660042i\n"
     ]
    }
   ],
   "source": [
    "a = float(input(\"Enter coefficient a: \"))\n",
    "b = float(input(\"Enter coefficient b: \"))\n",
    "c = float(input(\"Enter coefficient c: \"))\n",
    "\n",
    "discriminant = b**2 - 4*a*c\n",
    "\n",
    "if discriminant > 0:\n",
    "    root1 = (-b + discriminant**0.5) / (2*a)\n",
    "    root2 = (-b - discriminant**0.5) / (2*a)\n",
    "    print(f\"Root 1: {root1}\")\n",
    "    print(f\"Root 2: {root2}\")\n",
    "elif discriminant == 0:\n",
    "    root = -b / (2*a)\n",
    "    print(f\"Root: {root}\")\n",
    "else:\n",
    "    real_part = -b / (2*a)\n",
    "    imaginary_part = (-discriminant)**0.5 / (2*a)\n",
    "    print(f\"Root 1: {real_part} + {imaginary_part}i\")\n",
    "    print(f\"Root 2: {real_part} - {imaginary_part}i\")\n"
   ]
  },
  {
   "cell_type": "markdown",
   "id": "1c16271a-9f61-4808-ab43-39537bb8a0e7",
   "metadata": {},
   "source": [
    "## Question NO.18"
   ]
  },
  {
   "cell_type": "code",
   "execution_count": 29,
   "id": "d66896c2-589c-4dcf-aeae-2fa69018d4b9",
   "metadata": {},
   "outputs": [
    {
     "name": "stdin",
     "output_type": "stream",
     "text": [
      "Enter a number (1-7) representing the day of the week:  6\n"
     ]
    },
    {
     "name": "stdout",
     "output_type": "stream",
     "text": [
      "The day of the week is Saturday.\n"
     ]
    }
   ],
   "source": [
    "day_number = int(input(\"Enter a number (1-7) representing the day of the week: \"))\n",
    "\n",
    "if day_number == 1:\n",
    "    day_name = \"Monday\"\n",
    "else:\n",
    "    if day_number == 2:\n",
    "        day_name = \"Tuesday\"\n",
    "    else:\n",
    "        if day_number == 3:\n",
    "            day_name = \"Wednesday\"\n",
    "        else:\n",
    "            if day_number == 4:\n",
    "                day_name = \"Thursday\"\n",
    "            else:\n",
    "                if day_number == 5:\n",
    "                    day_name = \"Friday\"\n",
    "                else:\n",
    "                    if day_number == 6:\n",
    "                        day_name = \"Saturday\"\n",
    "                    else:\n",
    "                        if day_number == 7:\n",
    "                            day_name = \"Sunday\"\n",
    "                        else:\n",
    "                            day_name = \"Invalid input (not in the range 1-7)\"\n",
    "\n",
    "# Display the result\n",
    "print(f\"The day of the week is {day_name}.\")\n"
   ]
  },
  {
   "cell_type": "markdown",
   "id": "acf26cca-506c-4b6e-aee3-4f78cc7ac5a7",
   "metadata": {},
   "source": [
    "## Question NO.19"
   ]
  },
  {
   "cell_type": "code",
   "execution_count": 30,
   "id": "d61b3560-07bf-4e13-b820-2f97a59d3879",
   "metadata": {},
   "outputs": [
    {
     "name": "stdin",
     "output_type": "stream",
     "text": [
      "Enter a year:  400\n"
     ]
    },
    {
     "name": "stdout",
     "output_type": "stream",
     "text": [
      "year is divisible by 400\n",
      "400 is a leap year.\n"
     ]
    }
   ],
   "source": [
    "year = int(input(\"Enter a year: \"))\n",
    "\n",
    "if year % 4 == 0:\n",
    "    if year % 100 == 0:\n",
    "        is_leap_year = True\n",
    "        if year % 400 == 0:\n",
    "            print('year is divisible by 400')\n",
    "            is_leap_year = True\n",
    "        else:\n",
    "            is_leap_year = False\n",
    "    else:\n",
    "        is_leap_year = False\n",
    "else:\n",
    "    is_leap_year = False\n",
    "\n",
    "if is_leap_year:\n",
    "    print(f\"{year} is a leap year.\")\n",
    "else:\n",
    "    print(f\"{year} is not a leap year.\")\n"
   ]
  },
  {
   "cell_type": "markdown",
   "id": "63192840-194a-4a6f-bfdd-8305918b6d60",
   "metadata": {},
   "source": [
    "## Question NO.20"
   ]
  },
  {
   "cell_type": "code",
   "execution_count": 31,
   "id": "25d1a537-5033-4c5c-8bab-1e793dc82005",
   "metadata": {},
   "outputs": [
    {
     "name": "stdin",
     "output_type": "stream",
     "text": [
      "Enter a number:  567\n"
     ]
    },
    {
     "name": "stdout",
     "output_type": "stream",
     "text": [
      "567 is not a prime number.\n"
     ]
    }
   ],
   "source": [
    "num = int(input(\"Enter a number: \"))\n",
    "\n",
    "if num > 1:\n",
    "    is_prime = True  \n",
    "    for i in range(2, num):\n",
    "        if (num % i) == 0:\n",
    "            is_prime = False \n",
    "            break\n",
    "else:\n",
    "    is_prime = False  \n",
    "\n",
    "if is_prime:\n",
    "    print(f\"{num} is a prime number.\")\n",
    "else:\n",
    "    print(f\"{num} is not a prime number.\")\n"
   ]
  },
  {
   "cell_type": "markdown",
   "id": "bea42760-d2af-4181-9752-2fe54f19bbeb",
   "metadata": {},
   "source": [
    "## Question NO.21"
   ]
  },
  {
   "cell_type": "code",
   "execution_count": 32,
   "id": "977a640d-3228-45a7-8575-c509768ed4f4",
   "metadata": {},
   "outputs": [
    {
     "name": "stdin",
     "output_type": "stream",
     "text": [
      "Enter the student's score:  78\n"
     ]
    },
    {
     "name": "stdout",
     "output_type": "stream",
     "text": [
      "The student's grade is C.\n"
     ]
    }
   ],
   "source": [
    "score = float(input(\"Enter the student's score: \"))\n",
    "\n",
    "if score >= 90:\n",
    "    grade = \"A\"\n",
    "elif score >= 80:\n",
    "    grade = \"B\"\n",
    "elif score >= 70:\n",
    "    grade = \"C\"\n",
    "elif score >= 60:\n",
    "    grade = \"D\"\n",
    "else:\n",
    "    grade = \"F\"\n",
    "\n",
    "print(f\"The student's grade is {grade}.\")\n"
   ]
  },
  {
   "cell_type": "markdown",
   "id": "8ba23ea9-e0cd-4303-9328-543edcd72fa9",
   "metadata": {},
   "source": [
    "## Question NO.22"
   ]
  },
  {
   "cell_type": "code",
   "execution_count": 33,
   "id": "6b0472dc-2fe3-404f-8ddd-1f1045adbbf9",
   "metadata": {},
   "outputs": [
    {
     "name": "stdin",
     "output_type": "stream",
     "text": [
      "Enter the first angle of the triangle:  45\n",
      "Enter the second angle of the triangle:  45\n",
      "Enter the third angle of the triangle:  90\n"
     ]
    },
    {
     "name": "stdout",
     "output_type": "stream",
     "text": [
      "This is an isosceles triangle.\n"
     ]
    }
   ],
   "source": [
    "angle1 = float(input(\"Enter the first angle of the triangle: \"))\n",
    "angle2 = float(input(\"Enter the second angle of the triangle: \"))\n",
    "angle3 = float(input(\"Enter the third angle of the triangle: \"))\n",
    "\n",
    "if angle1 + angle2 + angle3 == 180:\n",
    "    if angle1 == angle2 == angle3:\n",
    "        print(\"This is an equilateral triangle.\")\n",
    "    elif angle1 == angle2 or angle2 == angle3 or angle1 == angle3:\n",
    "        print(\"This is an isosceles triangle.\")\n",
    "    else:\n",
    "        print(\"This is a scalene triangle.\")\n",
    "else:\n",
    "    print(\"These angles do not form a valid triangle.\")\n"
   ]
  },
  {
   "cell_type": "markdown",
   "id": "6719eeee-7749-4af7-9357-6f68f7dda939",
   "metadata": {},
   "source": [
    "## Question NO.23"
   ]
  },
  {
   "cell_type": "code",
   "execution_count": 34,
   "id": "6a824ba6-8455-4f5b-a587-b589428cd48a",
   "metadata": {},
   "outputs": [
    {
     "name": "stdin",
     "output_type": "stream",
     "text": [
      "Enter your height in meters (e.g., 1.75):  2\n",
      "Enter your weight in kilograms (e.g., 70):  65\n"
     ]
    },
    {
     "name": "stdout",
     "output_type": "stream",
     "text": [
      "Your BMI is 16.25, which is categorized as Underweight.\n"
     ]
    }
   ],
   "source": [
    "def calculate_bmi(weight_kg, height_m):\n",
    "    return weight_kg / (height_m ** 2)\n",
    "\n",
    "def categorize_bmi(bmi):\n",
    "    if bmi < 18.5:\n",
    "        return \"Underweight\"\n",
    "    elif 18.5 <= bmi < 24.9:\n",
    "        return \"Normal Weight\"\n",
    "    elif 24.9 <= bmi < 29.9:\n",
    "        return \"Overweight\"\n",
    "    else:\n",
    "        return \"Obese\"\n",
    "\n",
    "height = float(input(\"Enter your height in meters (e.g., 1.75): \"))\n",
    "weight = float(input(\"Enter your weight in kilograms (e.g., 70): \"))\n",
    "\n",
    "bmi = calculate_bmi(weight, height)\n",
    "\n",
    "category = categorize_bmi(bmi)\n",
    "print(f\"Your BMI is {bmi:.2f}, which is categorized as {category}.\")\n"
   ]
  },
  {
   "cell_type": "markdown",
   "id": "5d39ba62-087f-46c3-a6a9-96d972e451ce",
   "metadata": {},
   "source": [
    "## Question NO.24"
   ]
  },
  {
   "cell_type": "code",
   "execution_count": 35,
   "id": "c04795ba-4b65-4349-bf35-de251a54bd83",
   "metadata": {},
   "outputs": [
    {
     "name": "stdin",
     "output_type": "stream",
     "text": [
      "Enter a number:  67\n"
     ]
    },
    {
     "name": "stdout",
     "output_type": "stream",
     "text": [
      "The number is positive.\n"
     ]
    }
   ],
   "source": [
    "number = float(input(\"Enter a number: \"))\n",
    "\n",
    "if number > 0:\n",
    "    print(\"The number is positive.\")\n",
    "elif number < 0:\n",
    "    print(\"The number is negative.\")\n",
    "else:\n",
    "    print(\"The number is zero.\")\n"
   ]
  },
  {
   "cell_type": "markdown",
   "id": "a46c16c5-59c0-4c68-b1fb-654b8151066a",
   "metadata": {},
   "source": [
    "## Question NO.25"
   ]
  },
  {
   "cell_type": "code",
   "execution_count": 36,
   "id": "3475aa8c-c3ed-4268-9f1c-850650a2d2f8",
   "metadata": {},
   "outputs": [
    {
     "name": "stdin",
     "output_type": "stream",
     "text": [
      "Enter a character:  t\n"
     ]
    },
    {
     "name": "stdout",
     "output_type": "stream",
     "text": [
      "t is a lowercase letter.\n"
     ]
    }
   ],
   "source": [
    "char = input(\"Enter a character: \")\n",
    "\n",
    "if char.isupper():\n",
    "    print(f\"{char} is an uppercase letter.\")\n",
    "elif char.islower():\n",
    "    print(f\"{char} is a lowercase letter.\")\n",
    "else:\n",
    "    print(f\"{char} is a special character.\")\n"
   ]
  },
  {
   "cell_type": "markdown",
   "id": "0922c9d6-3200-4ccd-a8fa-edf5f2ffb958",
   "metadata": {},
   "source": [
    "## Question NO.26"
   ]
  },
  {
   "cell_type": "code",
   "execution_count": 37,
   "id": "f4ab9f30-7d42-4a0c-8a30-ecb932fb6e94",
   "metadata": {},
   "outputs": [
    {
     "name": "stdin",
     "output_type": "stream",
     "text": [
      "Enter the purchase amount: $ 1200\n"
     ]
    },
    {
     "name": "stdout",
     "output_type": "stream",
     "text": [
      "Purchase Amount: $1200.00\n",
      "Discount Rate: 10.0%\n",
      "Discounted Price: $1080.00\n"
     ]
    }
   ],
   "source": [
    "purchase_amount = float(input(\"Enter the purchase amount: $\"))\n",
    "discount_rate = 0\n",
    "\n",
    "if purchase_amount >= 1000:\n",
    "    discount_rate = 0.1  # 10%\n",
    "elif purchase_amount >= 500:\n",
    "    discount_rate = 0.05  # 5%\n",
    "elif purchase_amount >= 100:\n",
    "    discount_rate = 0.02  # 2%\n",
    "\n",
    "discounted_price = purchase_amount - (purchase_amount * discount_rate)\n",
    "\n",
    "print(f\"Purchase Amount: ${purchase_amount:.2f}\")\n",
    "print(f\"Discount Rate: {discount_rate * 100}%\")\n",
    "print(f\"Discounted Price: ${discounted_price:.2f}\")\n"
   ]
  },
  {
   "cell_type": "markdown",
   "id": "02d923c3-507d-42c8-ac01-7b644c1ce2f7",
   "metadata": {},
   "source": [
    "## Question NO.27"
   ]
  },
  {
   "cell_type": "code",
   "execution_count": 38,
   "id": "0647d001-620e-48a0-9330-b4aeb0b7b8d4",
   "metadata": {},
   "outputs": [
    {
     "name": "stdin",
     "output_type": "stream",
     "text": [
      "Enter the electricity consumption in units:  456\n"
     ]
    },
    {
     "name": "stdout",
     "output_type": "stream",
     "text": [
      "Total electricity bill: $71.20\n"
     ]
    }
   ],
   "source": [
    "consumption = float(input(\"Enter the electricity consumption in units: \"))\n",
    "\n",
    "total_bill = 0\n",
    "\n",
    "if consumption <= 100:\n",
    "    total_bill = consumption * 0.10\n",
    "elif consumption <= 300:\n",
    "    total_bill = 100 * 0.10 + (consumption - 100) * 0.15\n",
    "else:\n",
    "    total_bill = 100 * 0.10 + 200 * 0.15 + (consumption - 300) * 0.20\n",
    "\n",
    "print(f\"Total electricity bill: ${total_bill:.2f}\")\n"
   ]
  },
  {
   "cell_type": "markdown",
   "id": "688a9b64-fa21-4b23-a9b2-336126675295",
   "metadata": {},
   "source": [
    "## Question NO.28"
   ]
  },
  {
   "cell_type": "code",
   "execution_count": 4,
   "id": "c4d38687-0e4f-44e4-be3b-99acb77d1261",
   "metadata": {},
   "outputs": [
    {
     "name": "stdin",
     "output_type": "stream",
     "text": [
      "Enter the first angle in degrees:  100\n",
      "Enter the second angle in degrees:  80\n",
      "Enter the third angle in degrees:  100\n",
      "Enter the fourth angle in degrees:  80\n",
      "Enter the length of the first side:  5\n",
      "Enter the length of the second side:  10\n",
      "Enter the length of the third side:  5\n",
      "Enter the length of the fourth side:  10\n"
     ]
    },
    {
     "name": "stdout",
     "output_type": "stream",
     "text": [
      "It's a parallelogram.\n"
     ]
    }
   ],
   "source": [
    "angle1 = float(input(\"Enter the first angle in degrees: \"))\n",
    "angle2 = float(input(\"Enter the second angle in degrees: \"))\n",
    "angle3 = float(input(\"Enter the third angle in degrees: \"))\n",
    "angle4 = float(input(\"Enter the fourth angle in degrees: \"))\n",
    "side1 = float(input(\"Enter the length of the first side: \"))\n",
    "side2 = float(input(\"Enter the length of the second side: \"))\n",
    "side3 = float(input(\"Enter the length of the third side: \"))\n",
    "side4 = float(input(\"Enter the length of the fourth side: \"))\n",
    "\n",
    "if angle1 + angle2 + angle3 + angle4 != 360:\n",
    "    print(\"Invalid quadrilateral: The sum of angles is not 360 degrees.\")\n",
    "else:\n",
    "\n",
    "    if (side1 == side3 and side2 == side4) and (angle1 == angle2 == angle3 == angle4 == 90):\n",
    "         print(\"It's a rectangle.\")\n",
    "    elif (angle1 == angle2 == angle3 == angle4 == 90) and (side1 == side3 and side2 == side4):\n",
    "        print(\"It's a square.\")\n",
    "    elif (angle1 == angle3 and angle2 == angle4) and (side1 == side2 == side3 == side4):\n",
    "        print(\"It's a rhombus.\")\n",
    "    elif (angle1 == angle3 and angle2 == angle4) and (side1 == side3 and side2 == side4):\n",
    "        print(\"It's a parallelogram.\")\n",
    "    else:\n",
    "        print(\"It's a general quadrilateral.\")\n"
   ]
  },
  {
   "cell_type": "markdown",
   "id": "4c2d1321-d445-4857-a021-f118023f5a5e",
   "metadata": {},
   "source": [
    "## Question NO.29"
   ]
  },
  {
   "cell_type": "code",
   "execution_count": 5,
   "id": "5e64ffd5-a1e3-4b83-965a-207cda1827c7",
   "metadata": {},
   "outputs": [
    {
     "name": "stdin",
     "output_type": "stream",
     "text": [
      "Enter a month (1-12):  6\n"
     ]
    },
    {
     "name": "stdout",
     "output_type": "stream",
     "text": [
      "The season for month 6 is Summer.\n"
     ]
    }
   ],
   "source": [
    "month = int(input(\"Enter a month (1-12): \"))\n",
    "\n",
    "if month < 1 or month > 12:\n",
    "    print(\"Invalid input. Please enter a month between 1 and 12.\")\n",
    "else:\n",
    "    if month in (12, 1, 2):\n",
    "        season = \"Winter\"\n",
    "    elif month in (3, 4, 5):\n",
    "        season = \"Spring\"\n",
    "    elif month in (6, 7, 8):\n",
    "        season = \"Summer\"\n",
    "    else:\n",
    "        season = \"Fall (Autumn)\"\n",
    "\n",
    "    print(f\"The season for month {month} is {season}.\")\n"
   ]
  },
  {
   "cell_type": "markdown",
   "id": "b738066a-711a-4cbb-b140-747856d19520",
   "metadata": {},
   "source": [
    "## Question NO.30"
   ]
  },
  {
   "cell_type": "code",
   "execution_count": 6,
   "id": "9e9482dd-942c-469f-8f0b-9a1454278fe1",
   "metadata": {},
   "outputs": [
    {
     "name": "stdin",
     "output_type": "stream",
     "text": [
      "Enter a year:  400\n",
      "Enter a month (1-12):  2\n"
     ]
    },
    {
     "name": "stdout",
     "output_type": "stream",
     "text": [
      "400 is a Leap Year, and the month 2 has 29 days.\n"
     ]
    }
   ],
   "source": [
    "year = int(input(\"Enter a year: \"))\n",
    "\n",
    "month = int(input(\"Enter a month (1-12): \"))\n",
    "\n",
    "if month < 1 or month > 12:\n",
    "    print(\"Invalid input. Please enter a month between 1 and 12.\")\n",
    "else:\n",
    "    if (year % 4 == 0 and year % 100 != 0) or (year % 400 == 0):\n",
    "        year_type = \"Leap Year\"\n",
    "    else:\n",
    "        year_type = \"Common Year\"\n",
    "    if month in (1, 3, 5, 7, 8, 10, 12):\n",
    "        month_days = 31\n",
    "    elif month in (4, 6, 9, 11):\n",
    "        month_days = 30\n",
    "    else:\n",
    "        if year_type == \"Leap Year\":\n",
    "            month_days = 29\n",
    "        else:\n",
    "            month_days = 28\n",
    "            \n",
    "    print(f\"{year} is a {year_type}, and the month {month} has {month_days} days.\")\n"
   ]
  },
  {
   "cell_type": "markdown",
   "id": "fce4bb79-c7fb-4015-b771-b428f51e9f63",
   "metadata": {},
   "source": [
    "# Control Flow Assignment Questions"
   ]
  },
  {
   "cell_type": "markdown",
   "id": "a4d7ba12-bb2c-4c7d-9354-e5797bc8f558",
   "metadata": {},
   "source": [
    "## Question NO.1"
   ]
  },
  {
   "cell_type": "code",
   "execution_count": 7,
   "id": "e2cb18c2-53ee-4d66-a7dc-72b4705214c8",
   "metadata": {},
   "outputs": [
    {
     "name": "stdin",
     "output_type": "stream",
     "text": [
      "enter the number 6\n"
     ]
    },
    {
     "name": "stdout",
     "output_type": "stream",
     "text": [
      "positive\n"
     ]
    }
   ],
   "source": [
    "num = int(input(\"enter the number\"))\n",
    "if num>0:\n",
    "    print(\"positive\")\n",
    "elif num==0:\n",
    "    print(\"zero\")\n",
    "else:\n",
    "    print(\"negative\")"
   ]
  },
  {
   "cell_type": "markdown",
   "id": "236a86bb-46a2-4077-9b16-e5d8fe71f6da",
   "metadata": {},
   "source": [
    "## Question NO.2"
   ]
  },
  {
   "cell_type": "code",
   "execution_count": 8,
   "id": "1e8a9909-aea5-48cb-8bdc-677c619da55b",
   "metadata": {},
   "outputs": [
    {
     "name": "stdin",
     "output_type": "stream",
     "text": [
      "enter age 78\n"
     ]
    },
    {
     "name": "stdout",
     "output_type": "stream",
     "text": [
      "eligible\n"
     ]
    }
   ],
   "source": [
    "age = int(input('enter age'))\n",
    "if age>=18:\n",
    "    print('eligible')\n",
    "else:\n",
    "    print('not eligible')"
   ]
  },
  {
   "cell_type": "markdown",
   "id": "1db07e21-91e7-4100-b2f9-3672c5cbad36",
   "metadata": {},
   "source": [
    "## Question NO.3"
   ]
  },
  {
   "cell_type": "code",
   "execution_count": 9,
   "id": "87ae91e1-7bba-4e53-aa0a-49ae11d5ef22",
   "metadata": {},
   "outputs": [
    {
     "name": "stdin",
     "output_type": "stream",
     "text": [
      "enter the first number 6\n",
      "enter the second number 9\n"
     ]
    },
    {
     "name": "stdout",
     "output_type": "stream",
     "text": [
      "9 is greater\n"
     ]
    }
   ],
   "source": [
    "def maximum(num1,num2):\n",
    "    if num1>num2:\n",
    "        print(num1,'is greater')\n",
    "    else:\n",
    "        print(num2,'is greater')\n",
    "num1=int(input('enter the first number'))\n",
    "num2=int(input('enter the second number'))\n",
    "maximum(num1,num2)"
   ]
  },
  {
   "cell_type": "markdown",
   "id": "61da2e7a-edbb-4736-b36e-03060a3dcae5",
   "metadata": {},
   "source": [
    "## Question NO.4"
   ]
  },
  {
   "cell_type": "code",
   "execution_count": 10,
   "id": "e60878fd-23c5-4ce8-9050-e7c1bf514b71",
   "metadata": {},
   "outputs": [
    {
     "name": "stdin",
     "output_type": "stream",
     "text": [
      "enter the marks out of 100 78\n"
     ]
    },
    {
     "name": "stdout",
     "output_type": "stream",
     "text": [
      "C Grade\n"
     ]
    }
   ],
   "source": [
    "marks = int(input('enter the marks out of 100'))\n",
    "if marks>90:\n",
    "    print('A Grade')\n",
    "elif marks>80:\n",
    "    print('B Grade')\n",
    "elif marks>70:\n",
    "    print('C Grade')\n",
    "elif marks>60:\n",
    "    print('D Grade')\n",
    "elif marks>50:\n",
    "    print('E Grade')\n",
    "else:\n",
    "    print('F Grade')"
   ]
  },
  {
   "cell_type": "markdown",
   "id": "b1736e95-efba-4c24-b475-0f658afcb73b",
   "metadata": {},
   "source": [
    "## Question NO.5"
   ]
  },
  {
   "cell_type": "code",
   "execution_count": 11,
   "id": "be8b4df2-2c05-4bad-9427-8f1b0c894e96",
   "metadata": {},
   "outputs": [
    {
     "name": "stdin",
     "output_type": "stream",
     "text": [
      "enter the year 678\n"
     ]
    },
    {
     "name": "stdout",
     "output_type": "stream",
     "text": [
      "not a leap year\n"
     ]
    }
   ],
   "source": [
    "year = int(input('enter the year'))\n",
    "if (year%4==0 and year%100 != 0) or (year%400==0):\n",
    "    print('it is a leap year')\n",
    "else:\n",
    "    print('not a leap year')"
   ]
  },
  {
   "cell_type": "markdown",
   "id": "7fb0a45c-bb6d-4473-bee2-667400723e5f",
   "metadata": {},
   "source": [
    "## Question NO.6"
   ]
  },
  {
   "cell_type": "code",
   "execution_count": 12,
   "id": "33ecd125-9c5b-4a4c-9feb-aae0b3203c98",
   "metadata": {},
   "outputs": [
    {
     "name": "stdin",
     "output_type": "stream",
     "text": [
      "enter the length of first side 5\n",
      "enter the length of second side 5\n",
      "enter the length of third side 7\n"
     ]
    },
    {
     "name": "stdout",
     "output_type": "stream",
     "text": [
      "isosceles\n"
     ]
    }
   ],
   "source": [
    "def triangle(a,b,c):\n",
    "    if a+b>c and b+c>a and a+c>b:\n",
    "        if a==b==c:\n",
    "            print('equilateral')\n",
    "        elif a==b or b==c or c==a:\n",
    "            print('isosceles')\n",
    "        else:\n",
    "            print('scalene')\n",
    "    else:\n",
    "        print('invalid sides')\n",
    "        \n",
    "s1 = int(input('enter the length of first side'))\n",
    "s2 = int(input('enter the length of second side'))\n",
    "s3 = int(input('enter the length of third side'))\n",
    "\n",
    "triangle(s1,s2,s3)"
   ]
  },
  {
   "cell_type": "markdown",
   "id": "29075914-f6af-4f2b-82bf-8a816800e25d",
   "metadata": {},
   "source": [
    "## Question NO.7"
   ]
  },
  {
   "cell_type": "code",
   "execution_count": 13,
   "id": "212de288-3151-4fcf-af05-e8f02d09eb51",
   "metadata": {},
   "outputs": [
    {
     "name": "stdin",
     "output_type": "stream",
     "text": [
      "enter the first number 4\n",
      "enter the second number 5\n",
      "enter the third number 6\n"
     ]
    },
    {
     "name": "stdout",
     "output_type": "stream",
     "text": [
      "6 is greatest\n"
     ]
    }
   ],
   "source": [
    "def maximum(num1,num2,num3):\n",
    "    if num1>num2 and num1>num3:\n",
    "        print(num1,'is greater')\n",
    "    elif num2>num1 and num2>num3:\n",
    "        print(num2,'is greater')\n",
    "    else:\n",
    "        print(num3,'is greatest')\n",
    "num1=int(input('enter the first number'))\n",
    "num2=int(input('enter the second number'))\n",
    "num3=int(input('enter the third number'))\n",
    "maximum(num1,num2,num3)"
   ]
  },
  {
   "cell_type": "markdown",
   "id": "05864e13-4eb8-4cb7-9d18-0c623dd36b17",
   "metadata": {},
   "source": [
    "## Question NO.8"
   ]
  },
  {
   "cell_type": "code",
   "execution_count": 14,
   "id": "5aed2ba9-7a8f-4ccd-8af3-774867c93148",
   "metadata": {},
   "outputs": [
    {
     "name": "stdin",
     "output_type": "stream",
     "text": [
      "enter the character y\n"
     ]
    },
    {
     "name": "stdout",
     "output_type": "stream",
     "text": [
      "vowel is not present\n"
     ]
    }
   ],
   "source": [
    "char = input('enter the character')\n",
    "vowels = \"aeiouAEIOU\"\n",
    "if char in vowels:\n",
    "    print(\"vowel present\")\n",
    "else:\n",
    "    print(\"vowel is not present\")"
   ]
  },
  {
   "cell_type": "markdown",
   "id": "e66201b3-fd22-40e4-b8f7-3311890725f0",
   "metadata": {},
   "source": [
    "## Question NO.9"
   ]
  },
  {
   "cell_type": "code",
   "execution_count": 15,
   "id": "0a3112a3-9d2f-4cb2-882b-2acf48e8743a",
   "metadata": {},
   "outputs": [
    {
     "name": "stdin",
     "output_type": "stream",
     "text": [
      "Enter the item name (or 'done' to finish):  item3\n",
      "Enter the quantity of item3:  5\n",
      "Enter the item name (or 'done' to finish):  item2\n",
      "Enter the quantity of item2:  8\n",
      "Enter the item name (or 'done' to finish):  done\n"
     ]
    },
    {
     "name": "stdout",
     "output_type": "stream",
     "text": [
      "Total cost of your shopping cart: $211.00\n"
     ]
    }
   ],
   "source": [
    "items = {\n",
    "    \"item1\": 10.0,\n",
    "    \"item2\": 20.0,\n",
    "    \"item3\": 15.0,\n",
    "}\n",
    "\n",
    "discounts = {\n",
    "    \"item1\": 0.1,  # 10% discount on item1\n",
    "    \"item2\": 0.15,  # 15% discount on item2\n",
    "}\n",
    "\n",
    "total_cost = 0.0\n",
    "\n",
    "while True:\n",
    "    item_name = input(\"Enter the item name (or 'done' to finish): \")\n",
    "    \n",
    "    if item_name == \"done\":\n",
    "        break\n",
    "    \n",
    "    if item_name in items:\n",
    "        quantity = int(input(f\"Enter the quantity of {item_name}: \"))\n",
    "        if item_name in discounts:\n",
    "            total_cost += items[item_name] * quantity * (1 - discounts[item_name])\n",
    "        else:\n",
    "            total_cost += items[item_name] * quantity\n",
    "    else:\n",
    "        print(\"Item not found in the catalog. Please enter a valid item.\")\n",
    "\n",
    "print(f\"Total cost of your shopping cart: ${total_cost:.2f}\")\n"
   ]
  },
  {
   "cell_type": "markdown",
   "id": "999cf42a-57df-4a59-9c84-8d041e234c75",
   "metadata": {},
   "source": [
    "## Question NO.10"
   ]
  },
  {
   "cell_type": "code",
   "execution_count": 17,
   "id": "9045f3bc-31cb-42bb-a865-6fcc5517323d",
   "metadata": {},
   "outputs": [
    {
     "name": "stdin",
     "output_type": "stream",
     "text": [
      "enter the number 5\n"
     ]
    },
    {
     "name": "stdout",
     "output_type": "stream",
     "text": [
      "odd\n"
     ]
    }
   ],
   "source": [
    "def even_odd(n):\n",
    "    if n%2==0:\n",
    "        print('even')\n",
    "    else:\n",
    "        print('odd')\n",
    "num = int(input('enter the number'))\n",
    "even_odd(num)"
   ]
  },
  {
   "cell_type": "markdown",
   "id": "3a764233-3ee6-4178-a204-bff62d4d70d9",
   "metadata": {},
   "source": [
    "## Question NO.11"
   ]
  },
  {
   "cell_type": "code",
   "execution_count": 19,
   "id": "720a7cd9-fe23-43d2-993f-3e6eddc8bcf0",
   "metadata": {},
   "outputs": [
    {
     "name": "stdin",
     "output_type": "stream",
     "text": [
      "Enter the coefficients of the quadratic equation (a, b, c):  3 4 5 \n"
     ]
    },
    {
     "name": "stdout",
     "output_type": "stream",
     "text": [
      "(-3.9999999999999996+9.9498743710662j) (-4.000000000000001-9.9498743710662j)\n"
     ]
    }
   ],
   "source": [
    "#a,b,c = map(int(input(\"enter the cooficients of quadratic equation\")))\n",
    "a, b, c = map(int, input(\"Enter the coefficients of the quadratic equation (a, b, c): \").split())\n",
    "root1 = -b+(b**2-4*a*c)**0.5/2*a\n",
    "root2 = -b-(b**2-4*a*c)**0.5/2*a\n",
    "print(root1,root2)\n",
    "\n"
   ]
  },
  {
   "cell_type": "markdown",
   "id": "a98dac65-74e3-4f40-8b32-968968cc58b4",
   "metadata": {},
   "source": [
    "## Question NO.12"
   ]
  },
  {
   "cell_type": "code",
   "execution_count": 21,
   "id": "feee80b3-6d59-450f-bfad-c32d01d4963b",
   "metadata": {},
   "outputs": [
    {
     "name": "stdin",
     "output_type": "stream",
     "text": [
      "Enter a day number (1-7):  6\n"
     ]
    },
    {
     "name": "stdout",
     "output_type": "stream",
     "text": [
      "Day 6 is Saturday.\n"
     ]
    }
   ],
   "source": [
    "day_number_to_day = {\n",
    "    1: \"Monday\",\n",
    "    2: \"Tuesday\",\n",
    "    3: \"Wednesday\",\n",
    "    4: \"Thursday\",\n",
    "    5: \"Friday\",\n",
    "    6: \"Saturday\",\n",
    "    7: \"Sunday\"\n",
    "}\n",
    "day_number = int(input(\"Enter a day number (1-7): \"))\n",
    "\n",
    "if 1 <= day_number <= 7:\n",
    "    day_name = day_number_to_day[day_number]\n",
    "    \n",
    "    print(f\"Day {day_number} is {day_name}.\")\n",
    "else:\n",
    "    print(\"Invalid day number. Please enter a number between 1 and 7.\")\n"
   ]
  },
  {
   "cell_type": "markdown",
   "id": "0c2d7a85-0a68-4500-8a47-f60f7c7bcc4d",
   "metadata": {},
   "source": [
    "## Question NO.13"
   ]
  },
  {
   "cell_type": "code",
   "execution_count": 22,
   "id": "75a8dde5-8474-4ab8-b011-d6f614bcc909",
   "metadata": {},
   "outputs": [
    {
     "name": "stdin",
     "output_type": "stream",
     "text": [
      "Enter a number:  7\n"
     ]
    },
    {
     "name": "stdout",
     "output_type": "stream",
     "text": [
      "The factorial of 7 is 5040\n"
     ]
    }
   ],
   "source": [
    "\n",
    "def fact(n):\n",
    "    if n == 0:\n",
    "        return 1 \n",
    "    else:\n",
    "        return n * fact(n - 1)\n",
    "\n",
    "num = int(input('Enter a number: '))\n",
    "\n",
    "result = fact(num)\n",
    "print(f'The factorial of {num} is {result}')\n"
   ]
  },
  {
   "cell_type": "markdown",
   "id": "56602e26-3b01-4f5c-87ed-ee4a1fb5b71a",
   "metadata": {},
   "source": [
    "## Question NO.14"
   ]
  },
  {
   "cell_type": "code",
   "execution_count": 23,
   "id": "3647d8e9-e0b8-4050-8894-3d963e58fd71",
   "metadata": {},
   "outputs": [
    {
     "name": "stdin",
     "output_type": "stream",
     "text": [
      "enter the first number 6\n",
      "enter the second number 7\n",
      "enter the third number 9\n"
     ]
    },
    {
     "name": "stdout",
     "output_type": "stream",
     "text": [
      "9 is greatest\n"
     ]
    }
   ],
   "source": [
    "def maximum(num1,num2,num3):\n",
    "    if num1>num2 and num1>num3:\n",
    "        print(num1,'is greater')\n",
    "    elif num2>num1 and num2>num3:\n",
    "        print(num2,'is greater')\n",
    "    else:\n",
    "        print(num3,'is greatest')\n",
    "num1=int(input('enter the first number'))\n",
    "num2=int(input('enter the second number'))\n",
    "num3=int(input('enter the third number'))\n",
    "maximum(num1,num2,num3)"
   ]
  },
  {
   "cell_type": "markdown",
   "id": "d274c7a9-459e-4481-85a1-4fd0a3e00752",
   "metadata": {},
   "source": [
    "## Question NO.15"
   ]
  },
  {
   "cell_type": "code",
   "execution_count": 24,
   "id": "a265f237-cf0d-45e4-b786-733ea8be1b2f",
   "metadata": {},
   "outputs": [
    {
     "name": "stdout",
     "output_type": "stream",
     "text": [
      "\n",
      "ATM Menu:\n",
      "1. Check Balance\n",
      "2. Deposit\n",
      "3. Withdraw\n",
      "4. Exit\n"
     ]
    },
    {
     "name": "stdin",
     "output_type": "stream",
     "text": [
      "Enter your choice (1/2/3/4):  1\n"
     ]
    },
    {
     "name": "stdout",
     "output_type": "stream",
     "text": [
      "Your account balance is $1000.00\n",
      "\n",
      "ATM Menu:\n",
      "1. Check Balance\n",
      "2. Deposit\n",
      "3. Withdraw\n",
      "4. Exit\n"
     ]
    },
    {
     "name": "stdin",
     "output_type": "stream",
     "text": [
      "Enter your choice (1/2/3/4):  4\n"
     ]
    },
    {
     "name": "stdout",
     "output_type": "stream",
     "text": [
      "Thank you for using the ATM. Goodbye!\n"
     ]
    }
   ],
   "source": [
    "balance = 1000 \n",
    "\n",
    "def display_menu():\n",
    "    print(\"\\nATM Menu:\")\n",
    "    print(\"1. Check Balance\")\n",
    "    print(\"2. Deposit\")\n",
    "    print(\"3. Withdraw\")\n",
    "    print(\"4. Exit\")\n",
    "\n",
    "def check_balance():\n",
    "    print(f\"Your account balance is ${balance:.2f}\")\n",
    "\n",
    "def deposit():\n",
    "    global balance\n",
    "    amount = float(input(\"Enter the amount to deposit: $\"))\n",
    "    if amount > 0:\n",
    "        balance += amount\n",
    "        print(f\"${amount:.2f} has been deposited successfully.\")\n",
    "    else:\n",
    "        print(\"Invalid deposit amount.\")\n",
    "\n",
    "def withdraw():\n",
    "    global balance\n",
    "    amount = float(input(\"Enter the amount to withdraw: $\"))\n",
    "    if amount > 0 and amount <= balance:\n",
    "        balance -= amount\n",
    "        print(f\"${amount:.2f} has been withdrawn successfully.\")\n",
    "    else:\n",
    "        print(\"Invalid withdrawal amount or insufficient balance.\")\n",
    "\n",
    "# Main program loop\n",
    "while True:\n",
    "    display_menu()\n",
    "    choice = input(\"Enter your choice (1/2/3/4): \")\n",
    "\n",
    "    if choice == \"1\":\n",
    "        check_balance()\n",
    "    elif choice == \"2\":\n",
    "        deposit()\n",
    "    elif choice == \"3\":\n",
    "        withdraw()\n",
    "    elif choice == \"4\":\n",
    "        print(\"Thank you for using the ATM. Goodbye!\")\n",
    "        break\n",
    "    else:\n",
    "        print(\"Invalid choice. Please select a valid option.\")\n"
   ]
  },
  {
   "cell_type": "markdown",
   "id": "c172e2aa-33f8-434d-b32c-52f419ec3547",
   "metadata": {},
   "source": [
    "# Question NO.16"
   ]
  },
  {
   "cell_type": "code",
   "execution_count": 25,
   "id": "ee6adec9-b953-4030-adda-92a715edd7b9",
   "metadata": {},
   "outputs": [
    {
     "name": "stdin",
     "output_type": "stream",
     "text": [
      "Enter a string:  locwcol\n"
     ]
    },
    {
     "name": "stdout",
     "output_type": "stream",
     "text": [
      "It's a palindrome!\n"
     ]
    }
   ],
   "source": [
    "def is_palindrome(s):\n",
    "    s = s.lower().replace(\" \", \"\").replace(\",\", \"\").replace(\".\", \"\").replace(\"!\", \"\").replace(\"?\", \"\")\n",
    "    return s == s[::-1]\n",
    "\n",
    "input_string = input(\"Enter a string: \")\n",
    "\n",
    "if is_palindrome(input_string):\n",
    "    print(\"It's a palindrome!\")\n",
    "else:\n",
    "    print(\"It's not a palindrome.\")\n"
   ]
  },
  {
   "cell_type": "markdown",
   "id": "7308a69b-a03b-4065-9580-4dad6e7c6bc7",
   "metadata": {},
   "source": [
    "## Question NO.17"
   ]
  },
  {
   "cell_type": "code",
   "execution_count": 26,
   "id": "74ad8867-c0e3-4fc7-b3d9-a8ecddd16885",
   "metadata": {},
   "outputs": [
    {
     "name": "stdin",
     "output_type": "stream",
     "text": [
      "enter the no.s separated by space:  1 2 4 6 \n"
     ]
    },
    {
     "name": "stdout",
     "output_type": "stream",
     "text": [
      "average is equal to: 3.0\n"
     ]
    }
   ],
   "source": [
    "list1 = [int(i) for i in input('enter the no.s separated by space: ').split()]\n",
    "sum1 = 0\n",
    "count = 0\n",
    "for i in list1:\n",
    "    if i == max(list1) or i == min(list1):\n",
    "        continue\n",
    "    else:\n",
    "        sum1 += i\n",
    "        count += 1\n",
    "print('average is equal to:',sum1/count)"
   ]
  },
  {
   "cell_type": "markdown",
   "id": "775f9c6f-2fa7-47f3-a5c2-feec6cca8020",
   "metadata": {},
   "source": [
    "## Question NO.18"
   ]
  },
  {
   "cell_type": "code",
   "execution_count": 27,
   "id": "ff327698-05c2-4cf4-98e1-8f3fec2f15c2",
   "metadata": {},
   "outputs": [
    {
     "name": "stdin",
     "output_type": "stream",
     "text": [
      "enter the temp in celcius 37\n"
     ]
    },
    {
     "name": "stdout",
     "output_type": "stream",
     "text": [
      "98.6\n"
     ]
    }
   ],
   "source": [
    "temp = int(input('enter the temp in celcius'))\n",
    "temp_frh = (temp*9/5) +32\n",
    "print(temp_frh)"
   ]
  },
  {
   "cell_type": "markdown",
   "id": "c5210b09-fbc1-4803-9ed0-b78c473423ce",
   "metadata": {},
   "source": [
    "# Question NO.19"
   ]
  },
  {
   "cell_type": "code",
   "execution_count": 28,
   "id": "f595c324-f423-4309-9b10-a37ead7fc9d7",
   "metadata": {},
   "outputs": [
    {
     "name": "stdout",
     "output_type": "stream",
     "text": [
      "\n",
      "Welcome To My Calculator\n"
     ]
    },
    {
     "name": "stdin",
     "output_type": "stream",
     "text": [
      "enter the first number 2\n",
      "enter the second number 5\n",
      "enter the operator:\n",
      "1. +\n",
      "2. -\n",
      "3. *\n",
      "4. /\n",
      " +\n"
     ]
    },
    {
     "name": "stdout",
     "output_type": "stream",
     "text": [
      "Sum is : 7\n"
     ]
    }
   ],
   "source": [
    "print('\\nWelcome To My Calculator')\n",
    "a = int(input('enter the first number'))\n",
    "b = int(input('enter the second number'))\n",
    "while True:\n",
    "    operator = input('enter the operator:\\n1. +\\n2. -\\n3. *\\n4. /\\n')\n",
    "    if operator == '+':\n",
    "        print('Sum is :',a+b)\n",
    "        break\n",
    "    elif operator == '-':\n",
    "        print('Subtraction is :',a-b)\n",
    "        break\n",
    "    elif operator == '*':\n",
    "        print('Multiplication is :',a*b)\n",
    "        break\n",
    "    elif operator == '/':\n",
    "        if b == 0:\n",
    "            print('Division by zero is not allowed.')\n",
    "        else:\n",
    "            print('division is :',a/b)\n",
    "        break\n",
    "    else:\n",
    "        print('invalid operator')"
   ]
  },
  {
   "cell_type": "markdown",
   "id": "33376f78-1992-4e98-963e-f4f71ca8b850",
   "metadata": {},
   "source": [
    "## Question NO.20"
   ]
  },
  {
   "cell_type": "code",
   "execution_count": 29,
   "id": "189d3ad6-f26e-4037-a856-1fa65dba58fb",
   "metadata": {},
   "outputs": [
    {
     "name": "stdin",
     "output_type": "stream",
     "text": [
      "Enter the coefficient a:  3\n",
      "Enter the coefficient b:  4\n",
      "Enter the coefficient c:  5\n",
      "Enter the coefficient d:  6\n"
     ]
    },
    {
     "name": "stdout",
     "output_type": "stream",
     "text": [
      "Real Root: (0.4387261901664199+0.9838361967690031j)\n",
      "Complex Root 1: (-1.7380569013144989-0.272930107064931j)\n",
      "Complex Root 2: (-0.034002622185254294-0.7109060897040722j)\n"
     ]
    }
   ],
   "source": [
    "import math\n",
    "\n",
    "def solve_cubic(a, b, c, d):\n",
    "    if a == 0:\n",
    "        print(\"This is not a cubic equation.\")\n",
    "        return\n",
    "\n",
    "    # Calculate discriminant and its components\n",
    "    p = c / a - (b ** 2) / (3 * (a ** 2))\n",
    "    q = (2 * (b ** 3)) / (27 * (a ** 3)) - (b * c) / (3 * (a ** 2)) + d / a\n",
    "    discriminant = (q ** 2) / 4 + (p ** 3) / 27\n",
    "\n",
    "    if discriminant > 0:\n",
    "        # One real root, two complex roots\n",
    "        u = (-q / 2 + math.sqrt(discriminant)) ** (1 / 3)\n",
    "        v = (-q / 2 - math.sqrt(discriminant)) ** (1 / 3)\n",
    "        real_root = u + v - b / (3 * a)\n",
    "        complex_root1 = -(u + v) / 2 - b / (3 * a) + (u - v) * math.sqrt(3) / 2j\n",
    "        complex_root2 = -(u + v) / 2 - b / (3 * a) - (u - v) * math.sqrt(3) / 2j\n",
    "        print(f\"Real Root: {real_root}\")\n",
    "        print(f\"Complex Root 1: {complex_root1}\")\n",
    "        print(f\"Complex Root 2: {complex_root2}\")\n",
    "    elif discriminant == 0:\n",
    "        # Three real roots (one real root with multiplicity 3)\n",
    "        if q >= 0:\n",
    "            real_root = -((q / 2) ** (1 / 3)) - b / (3 * a) - ((q / 2) ** (1 / 3))\n",
    "        else:\n",
    "            real_root = (abs(q) ** (1 / 3)) - b / (3 * a) + (abs(q) ** (1 / 3))\n",
    "        print(f\"Real Root (with multiplicity 3): {real_root}\")\n",
    "    else:\n",
    "        # Three distinct real roots\n",
    "        r = math.sqrt(-((p ** 3) / 27))\n",
    "        theta = math.acos(-q / (2 * r))\n",
    "        root1 = 2 * r ** (1 / 3) * math.cos(theta / 3) - b / (3 * a)\n",
    "        root2 = 2 * r ** (1 / 3) * math.cos((theta + 2 * math.pi) / 3) - b / (3 * a)\n",
    "        root3 = 2 * r ** (1 / 3) * math.cos((theta + 4 * math.pi) / 3) - b / (3 * a)\n",
    "        print(f\"Real Root 1: {root1}\")\n",
    "        print(f\"Real Root 2: {root2}\")\n",
    "        print(f\"Real Root 3: {root3}\")\n",
    "\n",
    "# Input coefficients for the cubic equation\n",
    "a = float(input(\"Enter the coefficient a: \"))\n",
    "b = float(input(\"Enter the coefficient b: \"))\n",
    "c = float(input(\"Enter the coefficient c: \"))\n",
    "d = float(input(\"Enter the coefficient d: \"))\n",
    "\n",
    "# Call the solve_cubic function to calculate and display the roots\n",
    "solve_cubic(a, b, c, d)\n"
   ]
  },
  {
   "cell_type": "markdown",
   "id": "5bcbf166-fe5b-4e3b-ba85-3408e9916866",
   "metadata": {},
   "source": [
    "## Question NO.21"
   ]
  },
  {
   "cell_type": "code",
   "execution_count": 30,
   "id": "8205bd38-dca4-43e3-a5cb-143be1b423eb",
   "metadata": {},
   "outputs": [
    {
     "name": "stdin",
     "output_type": "stream",
     "text": [
      "Enter your annual income: $ 4000\n"
     ]
    },
    {
     "name": "stdout",
     "output_type": "stream",
     "text": [
      "Your income tax is: $400.10\n"
     ]
    }
   ],
   "source": [
    "tax_brackets = [\n",
    "    (0, 9875, 0.10),\n",
    "    (9876, 40125, 0.12),\n",
    "    (40126, 85525, 0.22),\n",
    "    (85526, 163300, 0.24),\n",
    "    (163301, 207350, 0.32),\n",
    "    (207351, 518400, 0.35),\n",
    "    (518401, float('inf'), 0.37)\n",
    "]\n",
    "\n",
    "try:\n",
    "    income = float(input(\"Enter your annual income: $\"))\n",
    "\n",
    "    tax = 0\n",
    "    for bracket in tax_brackets:\n",
    "        min_income, max_income, rate = bracket\n",
    "        if income <= min_income:\n",
    "            continue\n",
    "        elif income <= max_income:\n",
    "            tax += (income - min_income + 1) * rate\n",
    "            break\n",
    "        else:\n",
    "            tax += (max_income - min_income + 1) * rate\n",
    "\n",
    "    print(f\"Your income tax is: ${tax:.2f}\")\n",
    "\n",
    "except ValueError:\n",
    "    print(\"Invalid input. Please enter a valid income.\")\n"
   ]
  },
  {
   "cell_type": "markdown",
   "id": "388d608f-e122-4f1d-ab95-94385011c044",
   "metadata": {},
   "source": [
    "## Question NO.22"
   ]
  },
  {
   "cell_type": "code",
   "execution_count": 1,
   "id": "a6bf2424-50e6-4696-b090-cc9ed20adc26",
   "metadata": {},
   "outputs": [
    {
     "name": "stdin",
     "output_type": "stream",
     "text": [
      "Choose rock, paper, or scissors:  rock\n"
     ]
    },
    {
     "name": "stdout",
     "output_type": "stream",
     "text": [
      "Computer chose paper. Computer wins!\n"
     ]
    }
   ],
   "source": [
    "import random\n",
    "\n",
    "def get_computer_choice():\n",
    "    choices = ['rock', 'paper', 'scissors']\n",
    "    return random.choice(choices)\n",
    "\n",
    "def determine_winner(player_choice, computer_choice):\n",
    "    if player_choice == computer_choice:\n",
    "        return \"It's a tie!\"\n",
    "    elif (\n",
    "        (player_choice == 'rock' and computer_choice == 'scissors') or\n",
    "        (player_choice == 'paper' and computer_choice == 'rock') or\n",
    "        (player_choice == 'scissors' and computer_choice == 'paper')\n",
    "    ):\n",
    "        return \"You win!\"\n",
    "    else:\n",
    "        return \"Computer wins!\"\n",
    "\n",
    "# Input: Ask the user for their choice\n",
    "player_choice = input(\"Choose rock, paper, or scissors: \").lower()\n",
    "\n",
    "# Validate the user's input\n",
    "if player_choice not in ['rock', 'paper', 'scissors']:\n",
    "    print(\"Invalid choice. Please choose rock, paper, or scissors.\")\n",
    "else:\n",
    "    # Get the computer's choice\n",
    "    computer_choice = get_computer_choice()\n",
    "\n",
    "    # Determine the winner\n",
    "    result = determine_winner(player_choice, computer_choice)\n",
    "\n",
    "    # Output: Display the results\n",
    "    print(f\"Computer chose {computer_choice}. {result}\")\n"
   ]
  },
  {
   "cell_type": "markdown",
   "id": "63b2d4be-75b8-41e3-ac47-360e8b802548",
   "metadata": {},
   "source": [
    "## Question NO.23"
   ]
  },
  {
   "cell_type": "code",
   "execution_count": 2,
   "id": "eb169ab7-b9db-4a75-82f2-74b7d3012890",
   "metadata": {},
   "outputs": [
    {
     "name": "stdin",
     "output_type": "stream",
     "text": [
      "Enter the desired password length:  6\n",
      "Include lowercase letters (yes/no):  yes\n",
      "Include uppercase letters (yes/no):  yes\n",
      "Include digits (yes/no):  yes\n",
      "Include special characters (yes/no):  yes\n"
     ]
    },
    {
     "name": "stdout",
     "output_type": "stream",
     "text": [
      "Generated Password: MBMxc<\n"
     ]
    }
   ],
   "source": [
    "import random\n",
    "import string\n",
    "\n",
    "def generate_password(length, use_lowercase, use_uppercase, use_digits, use_special_chars):\n",
    "    # Define character sets based on complexity preferences\n",
    "    chars = \"\"\n",
    "    if use_lowercase:\n",
    "        chars += string.ascii_lowercase\n",
    "    if use_uppercase:\n",
    "        chars += string.ascii_uppercase\n",
    "    if use_digits:\n",
    "        chars += string.digits\n",
    "    if use_special_chars:\n",
    "        chars += string.punctuation\n",
    "\n",
    "    # Check if at least one character set is selected\n",
    "    if not chars:\n",
    "        return \"Complexity preference requires at least one character set.\"\n",
    "\n",
    "    # Generate the password\n",
    "    password = ''.join(random.choice(chars) for _ in range(length))\n",
    "    return password\n",
    "\n",
    "# Input: Ask the user for password preferences\n",
    "length = int(input(\"Enter the desired password length: \"))\n",
    "use_lowercase = input(\"Include lowercase letters (yes/no): \").lower() == \"yes\"\n",
    "use_uppercase = input(\"Include uppercase letters (yes/no): \").lower() == \"yes\"\n",
    "use_digits = input(\"Include digits (yes/no): \").lower() == \"yes\"\n",
    "use_special_chars = input(\"Include special characters (yes/no): \").lower() == \"yes\"\n",
    "\n",
    "# Generate the password based on preferences\n",
    "password = generate_password(length, use_lowercase, use_uppercase, use_digits, use_special_chars)\n",
    "\n",
    "# Output: Display the generated password\n",
    "print(f\"Generated Password: {password}\")\n"
   ]
  },
  {
   "cell_type": "markdown",
   "id": "a777b74e-801d-40e3-8e28-47f862c2b203",
   "metadata": {},
   "source": [
    "## Question NO.24"
   ]
  },
  {
   "cell_type": "code",
   "execution_count": 3,
   "id": "08861931-6bdf-4918-9515-bafa26d761f8",
   "metadata": {},
   "outputs": [
    {
     "name": "stdout",
     "output_type": "stream",
     "text": [
      "Welcome to the Text Adventure Game!\n",
      "\n",
      "You find yourself standing at a crossroad.\n"
     ]
    },
    {
     "name": "stdin",
     "output_type": "stream",
     "text": [
      "Do you want to go left or right? (left/right):  right\n"
     ]
    },
    {
     "name": "stdout",
     "output_type": "stream",
     "text": [
      "\n",
      "You follow the path to a beautiful meadow.\n",
      "You see a shimmering lake and a boat nearby.\n"
     ]
    },
    {
     "name": "stdin",
     "output_type": "stream",
     "text": [
      "Do you want to swim in the lake or take the boat across? (swim/boat):  swim\n"
     ]
    },
    {
     "name": "stdout",
     "output_type": "stream",
     "text": [
      "\n",
      "You jump into the lake and enjoy a refreshing swim.\n",
      "Afterwards, you continue your journey, feeling rejuvenated.\n",
      "\n",
      "Thanks for playing!\n"
     ]
    }
   ],
   "source": [
    "import time\n",
    "\n",
    "def main():\n",
    "    print(\"Welcome to the Text Adventure Game!\")\n",
    "    time.sleep(1)\n",
    "    \n",
    "    print(\"\\nYou find yourself standing at a crossroad.\")\n",
    "    time.sleep(1)\n",
    "    \n",
    "    choice1 = input(\"Do you want to go left or right? (left/right): \").lower()\n",
    "    \n",
    "    if choice1 == \"left\":\n",
    "        print(\"\\nYou venture into a dark forest.\")\n",
    "        time.sleep(1)\n",
    "        print(\"You encounter a mysterious old man.\")\n",
    "        time.sleep(1)\n",
    "        choice2 = input(\"He offers you a choice: a magic potion or a map. Which do you choose? (potion/map): \").lower()\n",
    "        \n",
    "        if choice2 == \"potion\":\n",
    "            print(\"\\nThe old man gives you a magic potion and disappears.\")\n",
    "            time.sleep(1)\n",
    "            print(\"You drink the potion and feel invigorated.\")\n",
    "            time.sleep(1)\n",
    "            print(\"You continue your journey through the forest.\")\n",
    "        elif choice2 == \"map\":\n",
    "            print(\"\\nThe old man gives you a map and points you in the right direction.\")\n",
    "            time.sleep(1)\n",
    "            print(\"You follow the map and find a hidden treasure!\")\n",
    "        else:\n",
    "            print(\"\\nInvalid choice. The old man disappears, leaving you confused.\")\n",
    "    \n",
    "    elif choice1 == \"right\":\n",
    "        print(\"\\nYou follow the path to a beautiful meadow.\")\n",
    "        time.sleep(1)\n",
    "        print(\"You see a shimmering lake and a boat nearby.\")\n",
    "        time.sleep(1)\n",
    "        choice3 = input(\"Do you want to swim in the lake or take the boat across? (swim/boat): \").lower()\n",
    "        \n",
    "        if choice3 == \"swim\":\n",
    "            print(\"\\nYou jump into the lake and enjoy a refreshing swim.\")\n",
    "            time.sleep(1)\n",
    "            print(\"Afterwards, you continue your journey, feeling rejuvenated.\")\n",
    "        elif choice3 == \"boat\":\n",
    "            print(\"\\nYou row the boat across the lake, enjoying the tranquil scenery.\")\n",
    "            time.sleep(1)\n",
    "            print(\"You reach the other side and continue your adventure.\")\n",
    "        else:\n",
    "            print(\"\\nInvalid choice. You stand there, unsure of your next move.\")\n",
    "    \n",
    "    else:\n",
    "        print(\"\\nInvalid choice. You hesitate, not knowing where to go.\")\n",
    "    \n",
    "    print(\"\\nThanks for playing!\")\n",
    "\n",
    "if __name__ == \"__main__\":\n",
    "    main()\n"
   ]
  },
  {
   "cell_type": "code",
   "execution_count": 7,
   "id": "c2f71b0a-9fa9-4744-bd38-8ba24f8cdd25",
   "metadata": {},
   "outputs": [
    {
     "name": "stdout",
     "output_type": "stream",
     "text": [
      "Welcome to the Text Adventure Game!\n",
      "\n",
      "You find yourself at a crossroad.\n"
     ]
    },
    {
     "name": "stdin",
     "output_type": "stream",
     "text": [
      "Do you want to go left or right? (left/right):  right\n"
     ]
    },
    {
     "name": "stdout",
     "output_type": "stream",
     "text": [
      "\n",
      "You follow the path to a beautiful meadow.\n",
      "You see a shimmering lake and a boat nearby.\n"
     ]
    },
    {
     "name": "stdin",
     "output_type": "stream",
     "text": [
      "Do you want to swim in the lake or take the boat across? (swim/boat):  boat\n"
     ]
    },
    {
     "name": "stdout",
     "output_type": "stream",
     "text": [
      "\n",
      "You row the boat across the lake, enjoying the tranquil scenery.\n",
      "You reach the other side and continue your adventure.\n",
      "\n",
      "Thanks for playing!\n"
     ]
    }
   ],
   "source": [
    "import time\n",
    "\n",
    "def story(text, delay=1):\n",
    "    print(text)\n",
    "    time.sleep(delay)\n",
    "\n",
    "def main():\n",
    "    story(\"Welcome to the Text Adventure Game!\")\n",
    "\n",
    "    story(\"\\nYou find yourself at a crossroad.\")\n",
    "    choice1 = input(\"Do you want to go left or right? (left/right): \").lower()\n",
    "\n",
    "    if choice1 == \"left\":\n",
    "        story(\"\\nYou venture into a dark forest.\")\n",
    "        story(\"You encounter a mysterious old man.\")\n",
    "        choice2 = input(\"He offers you a choice: a magic potion or a map. Which do you choose? (potion/map): \").lower()\n",
    "\n",
    "        if choice2 == \"potion\":\n",
    "            story(\"\\nThe old man gives you a magic potion and disappears.\")\n",
    "            story(\"You drink the potion and feel invigorated.\")\n",
    "        elif choice2 == \"map\":\n",
    "            story(\"\\nThe old man gives you a map and points you in the right direction.\")\n",
    "            story(\"You follow the map and find a hidden treasure!\")\n",
    "        else:\n",
    "            story(\"\\nInvalid choice. The old man disappears, leaving you confused.\")\n",
    "\n",
    "    elif choice1 == \"right\":\n",
    "        story(\"\\nYou follow the path to a beautiful meadow.\")\n",
    "        story(\"You see a shimmering lake and a boat nearby.\")\n",
    "        choice3 = input(\"Do you want to swim in the lake or take the boat across? (swim/boat): \").lower()\n",
    "\n",
    "        if choice3 == \"swim\":\n",
    "            story(\"\\nYou jump into the lake and enjoy a refreshing swim.\")\n",
    "            story(\"Afterwards, you continue your journey, feeling rejuvenated.\")\n",
    "        elif choice3 == \"boat\":\n",
    "            story(\"\\nYou row the boat across the lake, enjoying the tranquil scenery.\")\n",
    "            story(\"You reach the other side and continue your adventure.\")\n",
    "        else:\n",
    "            story(\"\\nInvalid choice. You stand there, unsure of your next move.\")\n",
    "\n",
    "    else:\n",
    "        story(\"\\nInvalid choice. You hesitate, not knowing where to go.\")\n",
    "\n",
    "    story(\"\\nThanks for playing!\")\n",
    "\n",
    "if __name__ == \"__main__\":\n",
    "    main()\n"
   ]
  },
  {
   "cell_type": "markdown",
   "id": "1d8b045f-05b7-43b2-ad88-20923a3565e7",
   "metadata": {},
   "source": [
    "## Question NO.25"
   ]
  },
  {
   "cell_type": "code",
   "execution_count": 4,
   "id": "7342913f-fd60-4ce0-a32b-931ecf969c06",
   "metadata": {},
   "outputs": [
    {
     "name": "stdin",
     "output_type": "stream",
     "text": [
      "Enter the coefficient 'a':  3\n",
      "Enter the coefficient 'b':  5\n"
     ]
    },
    {
     "name": "stdout",
     "output_type": "stream",
     "text": [
      "The solution for x is: -1.6666666666666667\n"
     ]
    }
   ],
   "source": [
    "def solve_linear_equation(a, b):\n",
    "    if a == 0:\n",
    "        if b == 0:\n",
    "            return \"Infinite solutions (any value of x)\"\n",
    "        else:\n",
    "            return \"No solution (contradiction)\"\n",
    "    else:\n",
    "        x = -b / a\n",
    "        return f\"The solution for x is: {x}\"\n",
    "\n",
    "try:\n",
    "    a = float(input(\"Enter the coefficient 'a': \"))\n",
    "    b = float(input(\"Enter the coefficient 'b': \"))\n",
    "\n",
    "    result = solve_linear_equation(a, b)\n",
    "\n",
    "    print(result)\n",
    "\n",
    "except ValueError:\n",
    "    print(\"Invalid input. Please enter valid coefficients.\")\n"
   ]
  },
  {
   "cell_type": "markdown",
   "id": "0fdaf22b-e3ec-4a5e-865b-c6d640f64fe8",
   "metadata": {},
   "source": [
    "## Question NO.26"
   ]
  },
  {
   "cell_type": "code",
   "execution_count": 5,
   "id": "3fcb8a74-261d-4750-8b75-27d9986d5dd2",
   "metadata": {},
   "outputs": [
    {
     "name": "stdout",
     "output_type": "stream",
     "text": [
      "Welcome to the Quiz Game!\n",
      "What is the capital of France?\n"
     ]
    },
    {
     "name": "stdin",
     "output_type": "stream",
     "text": [
      "Your answer:  uyg\n"
     ]
    },
    {
     "name": "stdout",
     "output_type": "stream",
     "text": [
      "Wrong. The correct answer is Paris.\n",
      "\n",
      "Which planet is known as the Red Planet?\n"
     ]
    },
    {
     "name": "stdin",
     "output_type": "stream",
     "text": [
      "Your answer:  gj\n"
     ]
    },
    {
     "name": "stdout",
     "output_type": "stream",
     "text": [
      "Wrong. The correct answer is Mars.\n",
      "\n",
      "What is the largest mammal in the world?\n"
     ]
    },
    {
     "name": "stdin",
     "output_type": "stream",
     "text": [
      "Your answer:  ffgh\n"
     ]
    },
    {
     "name": "stdout",
     "output_type": "stream",
     "text": [
      "Wrong. The correct answer is Blue whale.\n",
      "\n",
      "Which gas do plants absorb from the atmosphere?\n"
     ]
    },
    {
     "name": "stdin",
     "output_type": "stream",
     "text": [
      "Your answer:  ghj\n"
     ]
    },
    {
     "name": "stdout",
     "output_type": "stream",
     "text": [
      "Wrong. The correct answer is Carbon dioxide.\n",
      "\n",
      "What is the chemical symbol for gold?\n"
     ]
    },
    {
     "name": "stdin",
     "output_type": "stream",
     "text": [
      "Your answer:  dfg\n"
     ]
    },
    {
     "name": "stdout",
     "output_type": "stream",
     "text": [
      "Wrong. The correct answer is Au.\n",
      "\n",
      "Quiz completed! Your score is 0/5.\n"
     ]
    }
   ],
   "source": [
    "import time\n",
    "\n",
    "# Define a dictionary of questions and their correct answers\n",
    "questions = {\n",
    "    \"What is the capital of France?\": \"Paris\",\n",
    "    \"Which planet is known as the Red Planet?\": \"Mars\",\n",
    "    \"What is the largest mammal in the world?\": \"Blue whale\",\n",
    "    \"Which gas do plants absorb from the atmosphere?\": \"Carbon dioxide\",\n",
    "    \"What is the chemical symbol for gold?\": \"Au\"\n",
    "}\n",
    "\n",
    "def ask_question(question, correct_answer):\n",
    "    print(question)\n",
    "    user_answer = input(\"Your answer: \").strip().capitalize()\n",
    "    \n",
    "    if user_answer == correct_answer:\n",
    "        print(\"Correct!\\n\")\n",
    "        return 1\n",
    "    else:\n",
    "        print(f\"Wrong. The correct answer is {correct_answer}.\\n\")\n",
    "        return 0\n",
    "\n",
    "def main():\n",
    "    print(\"Welcome to the Quiz Game!\")\n",
    "    time.sleep(1)\n",
    "    \n",
    "    score = 0\n",
    "    \n",
    "    for question, correct_answer in questions.items():\n",
    "        score += ask_question(question, correct_answer)\n",
    "    \n",
    "    print(f\"Quiz completed! Your score is {score}/{len(questions)}.\")\n",
    "\n",
    "if __name__ == \"__main__\":\n",
    "    main()\n"
   ]
  },
  {
   "cell_type": "markdown",
   "id": "1a6290cc-c31a-4597-a12d-476d3186c82e",
   "metadata": {},
   "source": [
    "## Question NO.27"
   ]
  },
  {
   "cell_type": "code",
   "execution_count": 6,
   "id": "07ae6324-fa81-494b-a272-4686087b3700",
   "metadata": {},
   "outputs": [
    {
     "name": "stdin",
     "output_type": "stream",
     "text": [
      "Enter a year:  2024\n"
     ]
    },
    {
     "name": "stdout",
     "output_type": "stream",
     "text": [
      "2024 is not a prime year.\n"
     ]
    }
   ],
   "source": [
    "def is_prime(year):\n",
    "    if year <= 1:\n",
    "        return False\n",
    "    if year <= 3:\n",
    "        return True\n",
    "\n",
    "    if year % 2 == 0 or year % 3 == 0:\n",
    "        return False\n",
    "\n",
    "    i = 5\n",
    "    while i * i <= year:\n",
    "        if year % i == 0 or year % (i + 2) == 0:\n",
    "            return False\n",
    "        i += 6\n",
    "\n",
    "    return True\n",
    "\n",
    "try:\n",
    "    year = int(input(\"Enter a year: \"))\n",
    "    if is_prime(year):\n",
    "        print(f\"{year} is a prime year.\")\n",
    "    else:\n",
    "        print(f\"{year} is not a prime year.\")\n",
    "except ValueError:\n",
    "    print(\"Invalid input. Please enter a valid year.\")\n"
   ]
  },
  {
   "cell_type": "markdown",
   "id": "6fc09296-51db-4fe6-9a72-f0390bbfa15a",
   "metadata": {},
   "source": [
    "## Question NO.28"
   ]
  },
  {
   "cell_type": "code",
   "execution_count": 7,
   "id": "925cdd60-20f6-4d1a-8097-44c9d83a1aca",
   "metadata": {},
   "outputs": [
    {
     "name": "stdin",
     "output_type": "stream",
     "text": [
      "Enter the first number:  34\n",
      "Enter the second number:  67\n",
      "Enter the third number:  23\n"
     ]
    },
    {
     "name": "stdout",
     "output_type": "stream",
     "text": [
      "Sorted numbers in ascending order: [23.0, 34.0, 67.0]\n"
     ]
    }
   ],
   "source": [
    "\n",
    "try:\n",
    "    num1 = float(input(\"Enter the first number: \"))\n",
    "    num2 = float(input(\"Enter the second number: \"))\n",
    "    num3 = float(input(\"Enter the third number: \"))\n",
    "\n",
    "    # Sorting using conditional statements\n",
    "    if num1 <= num2 <= num3:\n",
    "        sorted_nums = [num1, num2, num3]\n",
    "    elif num1 <= num3 <= num2:\n",
    "        sorted_nums = [num1, num3, num2]\n",
    "    elif num2 <= num1 <= num3:\n",
    "        sorted_nums = [num2, num1, num3]\n",
    "    elif num2 <= num3 <= num1:\n",
    "        sorted_nums = [num2, num3, num1]\n",
    "    elif num3 <= num1 <= num2:\n",
    "        sorted_nums = [num3, num1, num2]\n",
    "    else:\n",
    "        sorted_nums = [num3, num2, num1]\n",
    "\n",
    "    print(\"Sorted numbers in ascending order:\", sorted_nums)\n",
    "\n",
    "except ValueError:\n",
    "    print(\"Invalid input. Please enter valid numbers.\")\n"
   ]
  },
  {
   "cell_type": "markdown",
   "id": "dc7dfbd6-1c0b-491a-8eed-e2acffafb90f",
   "metadata": {},
   "source": [
    "## Question NO.29"
   ]
  },
  {
   "cell_type": "code",
   "execution_count": 8,
   "id": "28f99eda-670e-46df-ada6-3f2354e3d523",
   "metadata": {},
   "outputs": [
    {
     "name": "stdout",
     "output_type": "stream",
     "text": [
      "Roots of the quadratic equation:\n",
      "Root: 2.00000000000000\n",
      "Root: 3.00000000000000\n"
     ]
    }
   ],
   "source": [
    "import sympy as sp\n",
    "\n",
    "# Define the variable and equation\n",
    "x = sp.Symbol('x')\n",
    "equation = x**2 - 5*x + 6  # Example quadratic equation: x^2 - 5x + 6 = 0\n",
    "\n",
    "# Find the roots using the quadratic formula\n",
    "roots = sp.solve(equation, x)\n",
    "\n",
    "# Display the roots\n",
    "print(\"Roots of the quadratic equation:\")\n",
    "for root in roots:\n",
    "    print(f\"Root: {root.evalf()}\")\n",
    "\n"
   ]
  },
  {
   "cell_type": "markdown",
   "id": "39c9284b-b296-49a1-8872-269a1ceab83c",
   "metadata": {},
   "source": [
    "## Question NO.30"
   ]
  },
  {
   "cell_type": "code",
   "execution_count": 9,
   "id": "04aeb4df-7ea1-4fca-92c0-a9fc1d0f68e5",
   "metadata": {},
   "outputs": [
    {
     "name": "stdin",
     "output_type": "stream",
     "text": [
      "Enter your weight in kilograms:  67\n",
      "Enter your height in meters:  6\n"
     ]
    },
    {
     "name": "stdout",
     "output_type": "stream",
     "text": [
      "Your BMI is: 1.86\n",
      "Recommendation: You are underweight. Consider gaining some weight.\n"
     ]
    }
   ],
   "source": [
    "try:\n",
    "    weight_kg = float(input(\"Enter your weight in kilograms: \"))\n",
    "    height_m = float(input(\"Enter your height in meters: \"))\n",
    "\n",
    "    # Calculate BMI\n",
    "    bmi = weight_kg / (height_m ** 2)\n",
    "\n",
    "    print(f\"Your BMI is: {bmi:.2f}\")\n",
    "\n",
    "    if bmi < 18.5:\n",
    "        print(\"Recommendation: You are underweight. Consider gaining some weight.\")\n",
    "    elif 18.5 <= bmi < 24.9:\n",
    "        print(\"Recommendation: Your weight is in the healthy range. Keep up the good work!\")\n",
    "    elif 25.0 <= bmi < 29.9:\n",
    "        print(\"Recommendation: You are overweight. Consider losing some weight for better health.\")\n",
    "    else:\n",
    "        print(\"Recommendation: You are obese. Consult a healthcare professional for guidance.\")\n",
    "\n",
    "except ValueError:\n",
    "    print(\"Invalid input. Please enter valid weight and height values.\")\n"
   ]
  },
  {
   "cell_type": "markdown",
   "id": "9601d807-8036-4b70-8abb-7a0b70836625",
   "metadata": {},
   "source": [
    "## Question NO.31"
   ]
  },
  {
   "cell_type": "code",
   "execution_count": 11,
   "id": "f5211fde-a1ee-490b-99ba-89ab68e47cbe",
   "metadata": {},
   "outputs": [
    {
     "name": "stdin",
     "output_type": "stream",
     "text": [
      "Enter a password:  haris123#J\n"
     ]
    },
    {
     "name": "stdout",
     "output_type": "stream",
     "text": [
      "Password is valid.\n"
     ]
    }
   ],
   "source": [
    "import re\n",
    "\n",
    "def is_valid_password(password):\n",
    "    if len(password) < 8 or len(password) > 20:\n",
    "        return False\n",
    "\n",
    "    if not any(char.isupper() for char in password):      # if there is no uppercase letter in the string return False\n",
    "        return False\n",
    "\n",
    "    if not any(char.islower() for char in password):\n",
    "        return False\n",
    "\n",
    "    if not any(char.isdigit() for char in password):\n",
    "        return False\n",
    "\n",
    "    # Check if the password contains at least one special character (e.g., !, @, #, $, etc.)\n",
    "    if not re.search(r'[!@#$%^&*()_+{}\\[\\]:;<>,.?~\\\\-]', password):\n",
    "        return False\n",
    "\n",
    "    # If all checks pass, the password is valid\n",
    "    return True\n",
    "\n",
    "password = input(\"Enter a password: \")\n",
    "if is_valid_password(password):\n",
    "    print(\"Password is valid.\")\n",
    "else:\n",
    "    print(\"Password is invalid.\")\n"
   ]
  },
  {
   "cell_type": "markdown",
   "id": "426b1485-43df-445e-8a78-96cbab9b0bbc",
   "metadata": {},
   "source": [
    "## Question NO.32"
   ]
  },
  {
   "cell_type": "code",
   "execution_count": 2,
   "id": "4031bbee-cfbd-4b22-89b6-4619f7b100fa",
   "metadata": {},
   "outputs": [
    {
     "name": "stdin",
     "output_type": "stream",
     "text": [
      "Enter the number of rows:  2\n",
      "Enter the number of columns:  2\n"
     ]
    },
    {
     "name": "stdout",
     "output_type": "stream",
     "text": [
      "Enter the first matrix:\n"
     ]
    },
    {
     "name": "stdin",
     "output_type": "stream",
     "text": [
      "Enter element at position (1,1):  1\n",
      "Enter element at position (1,2):  2\n",
      "Enter element at position (2,1):  3\n",
      "Enter element at position (2,2):  4\n"
     ]
    },
    {
     "name": "stdout",
     "output_type": "stream",
     "text": [
      "Enter the second matrix:\n"
     ]
    },
    {
     "name": "stdin",
     "output_type": "stream",
     "text": [
      "Enter element at position (1,1):  2\n",
      "Enter element at position (1,2):  3\n",
      "Enter element at position (2,1):  4\n",
      "Enter element at position (2,2):  5\n"
     ]
    },
    {
     "name": "stdout",
     "output_type": "stream",
     "text": [
      "Matrix 1:\n",
      "1.0 2.0\n",
      "3.0 4.0\n",
      "Matrix 2:\n",
      "2.0 3.0\n",
      "4.0 5.0\n",
      "\n",
      "Choose an operation:\n",
      "1. Matrix Addition\n",
      "2. Matrix Subtraction\n",
      "3. Quit\n"
     ]
    },
    {
     "name": "stdin",
     "output_type": "stream",
     "text": [
      "Enter your choice (1/2/3):  1\n"
     ]
    },
    {
     "name": "stdout",
     "output_type": "stream",
     "text": [
      "Result of Matrix Addition:\n",
      "3.0 5.0\n",
      "7.0 9.0\n",
      "\n",
      "Choose an operation:\n",
      "1. Matrix Addition\n",
      "2. Matrix Subtraction\n",
      "3. Quit\n"
     ]
    },
    {
     "name": "stdin",
     "output_type": "stream",
     "text": [
      "Enter your choice (1/2/3):  2\n"
     ]
    },
    {
     "name": "stdout",
     "output_type": "stream",
     "text": [
      "Result of Matrix Subtraction:\n",
      "-1.0 -1.0\n",
      "-1.0 -1.0\n",
      "\n",
      "Choose an operation:\n",
      "1. Matrix Addition\n",
      "2. Matrix Subtraction\n",
      "3. Quit\n"
     ]
    },
    {
     "name": "stdin",
     "output_type": "stream",
     "text": [
      "Enter your choice (1/2/3):  3\n"
     ]
    }
   ],
   "source": [
    "def matrix_addition(matrix1, matrix2):\n",
    "    result = [[matrix1[i][j] + matrix2[i][j] for j in range(len(matrix1[0]))] for i in range(len(matrix1))]\n",
    "    return result\n",
    "\n",
    "def matrix_subtraction(matrix1, matrix2):\n",
    "    result = [[matrix1[i][j] - matrix2[i][j] for j in range(len(matrix1[0]))] for i in range(len(matrix1))]\n",
    "    return result\n",
    "\n",
    "def input_matrix(rows, cols):\n",
    "    matrix = []\n",
    "    for i in range(rows):\n",
    "        row = []\n",
    "        for j in range(cols):\n",
    "            element = float(input(f\"Enter element at position ({i+1},{j+1}): \"))\n",
    "            row.append(element)\n",
    "        matrix.append(row)\n",
    "    return matrix\n",
    "\n",
    "def print_matrix(matrix):\n",
    "    for row in matrix:\n",
    "        print(\" \".join(map(str, row)))\n",
    "\n",
    "rows = int(input(\"Enter the number of rows: \"))\n",
    "cols = int(input(\"Enter the number of columns: \"))\n",
    "\n",
    "print(\"Enter the first matrix:\")\n",
    "matrix1 = input_matrix(rows, cols)\n",
    "\n",
    "print(\"Enter the second matrix:\")\n",
    "matrix2 = input_matrix(rows, cols)\n",
    "\n",
    "print(\"Matrix 1:\")\n",
    "print_matrix(matrix1)\n",
    "\n",
    "print(\"Matrix 2:\")\n",
    "print_matrix(matrix2)\n",
    "\n",
    "while True:\n",
    "    print(\"\\nChoose an operation:\")\n",
    "    print(\"1. Matrix Addition\")\n",
    "    print(\"2. Matrix Subtraction\")\n",
    "    print(\"3. Quit\")\n",
    "\n",
    "    choice = int(input(\"Enter your choice (1/2/3): \"))\n",
    "\n",
    "    if choice == 1:\n",
    "        result = matrix_addition(matrix1, matrix2)\n",
    "        print(\"Result of Matrix Addition:\")\n",
    "        print_matrix(result)\n",
    "    elif choice == 2:\n",
    "        result = matrix_subtraction(matrix1, matrix2)\n",
    "        print(\"Result of Matrix Subtraction:\")\n",
    "        print_matrix(result)\n",
    "    elif choice == 3:\n",
    "        break\n",
    "    else:\n",
    "        print(\"Invalid choice. Please choose 1, 2, or 3.\")\n"
   ]
  },
  {
   "cell_type": "markdown",
   "id": "d3229eb7-2f2a-445b-9b50-ee2d25d075fe",
   "metadata": {},
   "source": [
    "## Question NO.33"
   ]
  },
  {
   "cell_type": "code",
   "execution_count": 16,
   "id": "e4c8c37f-5118-486e-a081-054c357da9d2",
   "metadata": {},
   "outputs": [
    {
     "name": "stdin",
     "output_type": "stream",
     "text": [
      "Enter the first number:  16\n",
      "Enter the second number:  8\n"
     ]
    },
    {
     "name": "stdout",
     "output_type": "stream",
     "text": [
      "The GCD of 16 and 8 is 8\n"
     ]
    }
   ],
   "source": [
    "def gcd(a, b):\n",
    "    while b:\n",
    "        a, b = b, a % b\n",
    "    return a\n",
    "\n",
    "num1 = int(input(\"Enter the first number: \"))\n",
    "num2 = int(input(\"Enter the second number: \"))\n",
    "\n",
    "result = gcd(num1, num2)\n",
    "print(f\"The GCD of {num1} and {num2} is {result}\")\n"
   ]
  },
  {
   "cell_type": "markdown",
   "id": "c9717078-e090-4ec2-82a1-b20ad0ee814e",
   "metadata": {},
   "source": [
    "## Question NO.34"
   ]
  },
  {
   "cell_type": "code",
   "execution_count": 17,
   "id": "df421f5f-2484-4b74-ad6d-d48ccd7b0f7a",
   "metadata": {},
   "outputs": [
    {
     "name": "stdin",
     "output_type": "stream",
     "text": [
      "Enter the number of rows for the first matrix:  2\n",
      "Enter the number of columns for the first matrix:  2\n",
      "Enter the number of rows for the second matrix:  2\n",
      "Enter the number of columns for the second matrix:  2\n"
     ]
    },
    {
     "name": "stdout",
     "output_type": "stream",
     "text": [
      "Enter the first matrix:\n"
     ]
    },
    {
     "name": "stdin",
     "output_type": "stream",
     "text": [
      "Enter element at position (1,1):  1\n",
      "Enter element at position (1,2):  2\n",
      "Enter element at position (2,1):  4\n",
      "Enter element at position (2,2):  5\n"
     ]
    },
    {
     "name": "stdout",
     "output_type": "stream",
     "text": [
      "Enter the second matrix:\n"
     ]
    },
    {
     "name": "stdin",
     "output_type": "stream",
     "text": [
      "Enter element at position (1,1):  2\n",
      "Enter element at position (1,2):  4\n",
      "Enter element at position (2,1):  5\n",
      "Enter element at position (2,2):  6\n"
     ]
    },
    {
     "name": "stdout",
     "output_type": "stream",
     "text": [
      "Matrix 1:\n",
      "1.0 2.0\n",
      "4.0 5.0\n",
      "Matrix 2:\n",
      "2.0 4.0\n",
      "5.0 6.0\n",
      "Result of Matrix Multiplication:\n",
      "12.0 16.0\n",
      "33.0 46.0\n"
     ]
    }
   ],
   "source": [
    "def matrix_multiply(matrix1, matrix2):\n",
    "    if len(matrix1[0]) != len(matrix2):\n",
    "        raise ValueError(\"Number of columns in the first matrix must be equal to the number of rows in the second matrix.\")\n",
    "\n",
    "    result = []\n",
    "    for i in range(len(matrix1)):\n",
    "        row = []\n",
    "        for j in range(len(matrix2[0])):\n",
    "            element = 0\n",
    "            for k in range(len(matrix2)):\n",
    "                element += matrix1[i][k] * matrix2[k][j]\n",
    "            row.append(element)\n",
    "        result.append(row)\n",
    "\n",
    "    return result\n",
    "\n",
    "def input_matrix(rows, cols):\n",
    "    matrix = []\n",
    "    for i in range(rows):\n",
    "        row = []\n",
    "        for j in range(cols):\n",
    "            element = float(input(f\"Enter element at position ({i+1},{j+1}): \"))\n",
    "            row.append(element)\n",
    "        matrix.append(row)\n",
    "    return matrix\n",
    "\n",
    "def print_matrix(matrix):\n",
    "    for row in matrix:\n",
    "        print(\" \".join(map(str, row)))\n",
    "\n",
    "rows1 = int(input(\"Enter the number of rows for the first matrix: \"))\n",
    "cols1 = int(input(\"Enter the number of columns for the first matrix: \"))\n",
    "\n",
    "rows2 = int(input(\"Enter the number of rows for the second matrix: \"))\n",
    "cols2 = int(input(\"Enter the number of columns for the second matrix: \"))\n",
    "\n",
    "if cols1 != rows2:\n",
    "    print(\"Matrix multiplication is not possible. The number of columns in the first matrix must be equal to the number of rows in the second matrix.\")\n",
    "else:\n",
    "    print(\"Enter the first matrix:\")\n",
    "    matrix1 = input_matrix(rows1, cols1)\n",
    "\n",
    "    print(\"Enter the second matrix:\")\n",
    "    matrix2 = input_matrix(rows2, cols2)\n",
    "\n",
    "    print(\"Matrix 1:\")\n",
    "    print_matrix(matrix1)\n",
    "\n",
    "    print(\"Matrix 2:\")\n",
    "    print_matrix(matrix2)\n",
    "\n",
    "    result = matrix_multiply(matrix1, matrix2)\n",
    "    print(\"Result of Matrix Multiplication:\")\n",
    "    print_matrix(result)\n"
   ]
  },
  {
   "cell_type": "markdown",
   "id": "2218e222-db5c-424b-ae1c-cb50cf43e511",
   "metadata": {},
   "source": [
    "## Question NO.35"
   ]
  },
  {
   "cell_type": "code",
   "execution_count": 18,
   "id": "4c4b9b90-276d-4f8f-ba88-10d4781fe511",
   "metadata": {},
   "outputs": [
    {
     "name": "stdout",
     "output_type": "stream",
     "text": [
      "Welcome to Tic-Tac-Toe!\n",
      "  |   |  \n",
      "---------\n",
      "  |   |  \n",
      "---------\n",
      "  |   |  \n",
      "---------\n"
     ]
    },
    {
     "name": "stdin",
     "output_type": "stream",
     "text": [
      "Enter your move (row and column):  1\n"
     ]
    },
    {
     "name": "stdout",
     "output_type": "stream",
     "text": [
      "Invalid input. Please enter row and column (0-2).\n"
     ]
    },
    {
     "name": "stdin",
     "output_type": "stream",
     "text": [
      "Enter your move (row and column):  1-1\n"
     ]
    },
    {
     "name": "stdout",
     "output_type": "stream",
     "text": [
      "Invalid input. Please enter row and column (0-2).\n"
     ]
    },
    {
     "name": "stdin",
     "output_type": "stream",
     "text": [
      "Enter your move (row and column):  1\n"
     ]
    },
    {
     "name": "stdout",
     "output_type": "stream",
     "text": [
      "Invalid input. Please enter row and column (0-2).\n"
     ]
    },
    {
     "name": "stdin",
     "output_type": "stream",
     "text": [
      "Enter your move (row and column):  1,1\n"
     ]
    },
    {
     "name": "stdout",
     "output_type": "stream",
     "text": [
      "Invalid input. Please enter row and column (0-2).\n"
     ]
    },
    {
     "name": "stdin",
     "output_type": "stream",
     "text": [
      "Enter your move (row and column):  1 1\n"
     ]
    },
    {
     "name": "stdout",
     "output_type": "stream",
     "text": [
      "  |   |  \n",
      "---------\n",
      "  | X |  \n",
      "---------\n",
      "  |   |  \n",
      "---------\n",
      "Computer's turn:\n",
      "  |   |  \n",
      "---------\n",
      "  | X | O\n",
      "---------\n",
      "  |   |  \n",
      "---------\n"
     ]
    },
    {
     "name": "stdin",
     "output_type": "stream",
     "text": [
      "Enter your move (row and column):  0 0\n"
     ]
    },
    {
     "name": "stdout",
     "output_type": "stream",
     "text": [
      "X |   |  \n",
      "---------\n",
      "  | X | O\n",
      "---------\n",
      "  |   |  \n",
      "---------\n",
      "Computer's turn:\n",
      "X |   |  \n",
      "---------\n",
      "  | X | O\n",
      "---------\n",
      "  | O |  \n",
      "---------\n"
     ]
    },
    {
     "name": "stdin",
     "output_type": "stream",
     "text": [
      "Enter your move (row and column):  1 2\n"
     ]
    },
    {
     "name": "stdout",
     "output_type": "stream",
     "text": [
      "That cell is already occupied. Try again.\n"
     ]
    },
    {
     "name": "stdin",
     "output_type": "stream",
     "text": [
      "Enter your move (row and column):  0 1\n"
     ]
    },
    {
     "name": "stdout",
     "output_type": "stream",
     "text": [
      "X | X |  \n",
      "---------\n",
      "  | X | O\n",
      "---------\n",
      "  | O |  \n",
      "---------\n",
      "Computer's turn:\n",
      "X | X | O\n",
      "---------\n",
      "  | X | O\n",
      "---------\n",
      "  | O |  \n",
      "---------\n"
     ]
    },
    {
     "name": "stdin",
     "output_type": "stream",
     "text": [
      "Enter your move (row and column):  2 2\n"
     ]
    },
    {
     "name": "stdout",
     "output_type": "stream",
     "text": [
      "X | X | O\n",
      "---------\n",
      "  | X | O\n",
      "---------\n",
      "  | O | X\n",
      "---------\n",
      "Player X wins!\n",
      "Game over. Thanks for playing!\n"
     ]
    }
   ],
   "source": [
    "import random\n",
    "\n",
    "# Function to print the Tic-Tac-Toe board\n",
    "def print_board(board):\n",
    "    for row in board:\n",
    "        print(\" | \".join(row))\n",
    "        print(\"-\" * 9)\n",
    "\n",
    "# Function to check if a player has won\n",
    "def check_win(board, player):\n",
    "    for row in board:\n",
    "        if all(cell == player for cell in row):\n",
    "            return True\n",
    "\n",
    "    for col in range(3):\n",
    "        if all(board[row][col] == player for row in range(3)):\n",
    "            return True\n",
    "\n",
    "    if all(board[i][i] == player for i in range(3)) or all(board[i][2 - i] == player for i in range(3)):\n",
    "        return True\n",
    "\n",
    "    return False\n",
    "\n",
    "# Function to check if the board is full (tie)\n",
    "def check_tie(board):\n",
    "    for row in board:\n",
    "        if \" \" in row:\n",
    "            return False\n",
    "    return True\n",
    "\n",
    "# Function for the computer's move (simple random choice)\n",
    "def computer_move(board):\n",
    "    while True:\n",
    "        row = random.randint(0, 2)\n",
    "        col = random.randint(0, 2)\n",
    "        if board[row][col] == \" \":\n",
    "            return row, col\n",
    "\n",
    "# Main game loop\n",
    "def play_game():\n",
    "    board = [[\" \" for _ in range(3)] for _ in range(3)]\n",
    "    player = \"X\"\n",
    "    computer = \"O\"\n",
    "\n",
    "    print(\"Welcome to Tic-Tac-Toe!\")\n",
    "    print_board(board)\n",
    "\n",
    "    while True:\n",
    "        if player == \"X\":\n",
    "            try:\n",
    "                row, col = map(int, input(\"Enter your move (row and column): \").split())\n",
    "                if board[row][col] != \" \":\n",
    "                    print(\"That cell is already occupied. Try again.\")\n",
    "                    continue\n",
    "            except (ValueError, IndexError):\n",
    "                print(\"Invalid input. Please enter row and column (0-2).\")\n",
    "                continue\n",
    "        else:\n",
    "            print(\"Computer's turn:\")\n",
    "            row, col = computer_move(board)\n",
    "\n",
    "        board[row][col] = player\n",
    "        print_board(board)\n",
    "\n",
    "        if check_win(board, player):\n",
    "            print(f\"Player {player} wins!\")\n",
    "            break\n",
    "        elif check_tie(board):\n",
    "            print(\"It's a tie!\")\n",
    "            break\n",
    "\n",
    "        player = \"X\" if player == \"O\" else \"O\"\n",
    "\n",
    "    print(\"Game over. Thanks for playing!\")\n",
    "\n",
    "# Start the game\n",
    "play_game()\n"
   ]
  },
  {
   "cell_type": "markdown",
   "id": "f16d97e7-d290-4139-8584-db0154c3b2e2",
   "metadata": {},
   "source": [
    "# Question NO.36"
   ]
  },
  {
   "cell_type": "code",
   "execution_count": 19,
   "id": "0175f2c0-5758-49aa-8c53-0a36ff1f8c7d",
   "metadata": {},
   "outputs": [
    {
     "name": "stdin",
     "output_type": "stream",
     "text": [
      "Enter the number of terms for the Fibonacci sequence:  8\n"
     ]
    },
    {
     "name": "stdout",
     "output_type": "stream",
     "text": [
      "Fibonacci Sequence:\n",
      "[0, 1, 1, 2, 3, 5, 8, 13]\n"
     ]
    }
   ],
   "source": [
    "def generate_fibonacci(n):\n",
    "    fibonacci_sequence = []\n",
    "\n",
    "    if n <= 0:\n",
    "        return []\n",
    "\n",
    "    a, b = 0, 1\n",
    "    fibonacci_sequence.append(a)\n",
    "    \n",
    "    while n > 1:\n",
    "        a, b = b, a + b\n",
    "        fibonacci_sequence.append(a)\n",
    "        n -= 1\n",
    "\n",
    "    return fibonacci_sequence\n",
    "\n",
    "term = int(input(\"Enter the number of terms for the Fibonacci sequence: \"))\n",
    "\n",
    "fibonacci_sequence = generate_fibonacci(term)\n",
    "print(\"Fibonacci Sequence:\")\n",
    "print(fibonacci_sequence)\n"
   ]
  },
  {
   "cell_type": "markdown",
   "id": "91a0fd01-1b75-4973-8d26-7a318efc26cb",
   "metadata": {},
   "source": [
    "## Question NO.37"
   ]
  },
  {
   "cell_type": "code",
   "execution_count": 20,
   "id": "b4e6d0dc-f796-4045-9a28-08d1cd7e35ef",
   "metadata": {},
   "outputs": [
    {
     "name": "stdin",
     "output_type": "stream",
     "text": [
      "Enter the value of n to find the nth Fibonacci term:  8\n"
     ]
    },
    {
     "name": "stdout",
     "output_type": "stream",
     "text": [
      "The 8th Fibonacci term is: 21\n"
     ]
    }
   ],
   "source": [
    "# Dictionary to store previously computed Fibonacci values\n",
    "fibonacci_cache = {}\n",
    "\n",
    "def fibonacci(n):\n",
    "    if n in fibonacci_cache:\n",
    "        return fibonacci_cache[n]\n",
    "\n",
    "    if n <= 1:\n",
    "        result = n\n",
    "    else:\n",
    "        result = fibonacci(n - 1) + fibonacci(n - 2)\n",
    "\n",
    "    # Store the result in the cache for future use\n",
    "    fibonacci_cache[n] = result\n",
    "\n",
    "    return result\n",
    "\n",
    "n = int(input(\"Enter the value of n to find the nth Fibonacci term: \"))\n",
    "\n",
    "if n < 0:\n",
    "    print(\"Please enter a non-negative integer.\")\n",
    "else:\n",
    "    nth_term = fibonacci(n)\n",
    "    print(f\"The {n}th Fibonacci term is: {nth_term}\")\n"
   ]
  },
  {
   "cell_type": "markdown",
   "id": "2df963c5-b904-4b66-81b8-3086e7d5f66b",
   "metadata": {},
   "source": [
    "## Question NO.38"
   ]
  },
  {
   "cell_type": "code",
   "execution_count": 21,
   "id": "c8c8d3ac-1162-4726-b08d-e7c4e338d973",
   "metadata": {},
   "outputs": [
    {
     "name": "stdin",
     "output_type": "stream",
     "text": [
      "Enter the year:  2024\n",
      "Enter the month (1-12):  8\n"
     ]
    },
    {
     "name": "stdout",
     "output_type": "stream",
     "text": [
      "\n",
      "Calendar:\n",
      "    August 2024\n",
      "Mo Tu We Th Fr Sa Su\n",
      "          1  2  3  4\n",
      " 5  6  7  8  9 10 11\n",
      "12 13 14 15 16 17 18\n",
      "19 20 21 22 23 24 25\n",
      "26 27 28 29 30 31\n",
      "\n"
     ]
    }
   ],
   "source": [
    "import calendar\n",
    "\n",
    "# Get user input for the month and year\n",
    "year = int(input(\"Enter the year: \"))\n",
    "month = int(input(\"Enter the month (1-12): \"))\n",
    "\n",
    "# Validate user input\n",
    "if month < 1 or month > 12:\n",
    "    print(\"Invalid month. Please enter a number between 1 and 12.\")\n",
    "else:\n",
    "    # Generate the calendar\n",
    "    cal = calendar.month(year, month)\n",
    "    print(\"\\nCalendar:\")\n",
    "    print(cal)\n"
   ]
  },
  {
   "cell_type": "markdown",
   "id": "abc42c6c-9824-4bfc-8e7b-c0496ff1ab91",
   "metadata": {},
   "source": [
    "## Question NO.39"
   ]
  },
  {
   "cell_type": "code",
   "execution_count": 1,
   "id": "6d285825-a837-4aef-b150-1ad1e31fbf53",
   "metadata": {},
   "outputs": [
    {
     "name": "stdout",
     "output_type": "stream",
     "text": [
      "\n",
      "Player's Hand: ['5 of Hearts', 'K of Clubs']\n",
      "Player's Hand Value: 15\n"
     ]
    },
    {
     "name": "stdin",
     "output_type": "stream",
     "text": [
      "\n",
      "Do you want to hit or stand? (h/s):  h\n"
     ]
    },
    {
     "name": "stdout",
     "output_type": "stream",
     "text": [
      "\n",
      "Player's Hand: ['5 of Hearts', 'K of Clubs', '5 of Spades']\n",
      "Player's Hand Value: 20\n"
     ]
    },
    {
     "name": "stdin",
     "output_type": "stream",
     "text": [
      "\n",
      "Do you want to hit or stand? (h/s):  s\n"
     ]
    },
    {
     "name": "stdout",
     "output_type": "stream",
     "text": [
      "\n",
      "Computer's Hand: ['9 of Hearts', 'J of Spades']\n",
      "Computer's Hand Value: 19\n",
      "You win!\n"
     ]
    },
    {
     "name": "stdin",
     "output_type": "stream",
     "text": [
      "\n",
      "Do you want to play again? (y/n):  y\n"
     ]
    },
    {
     "name": "stdout",
     "output_type": "stream",
     "text": [
      "\n",
      "Player's Hand: ['3 of Spades', '2 of Clubs']\n",
      "Player's Hand Value: 5\n"
     ]
    },
    {
     "name": "stdin",
     "output_type": "stream",
     "text": [
      "\n",
      "Do you want to hit or stand? (h/s):  h\n"
     ]
    },
    {
     "name": "stdout",
     "output_type": "stream",
     "text": [
      "\n",
      "Player's Hand: ['3 of Spades', '2 of Clubs', '10 of Clubs']\n",
      "Player's Hand Value: 15\n"
     ]
    },
    {
     "name": "stdin",
     "output_type": "stream",
     "text": [
      "\n",
      "Do you want to hit or stand? (h/s):  h\n"
     ]
    },
    {
     "name": "stdout",
     "output_type": "stream",
     "text": [
      "\n",
      "Player's Hand: ['3 of Spades', '2 of Clubs', '10 of Clubs', '2 of Spades']\n",
      "Player's Hand Value: 17\n"
     ]
    },
    {
     "name": "stdin",
     "output_type": "stream",
     "text": [
      "\n",
      "Do you want to hit or stand? (h/s):  s\n"
     ]
    },
    {
     "name": "stdout",
     "output_type": "stream",
     "text": [
      "\n",
      "Computer's Hand: ['6 of Spades', 'J of Spades', 'K of Clubs']\n",
      "Computer's Hand Value: 26\n",
      "Computer busts! You win.\n"
     ]
    },
    {
     "name": "stdin",
     "output_type": "stream",
     "text": [
      "\n",
      "Do you want to play again? (y/n):  y\n"
     ]
    },
    {
     "name": "stdout",
     "output_type": "stream",
     "text": [
      "\n",
      "Player's Hand: ['10 of Hearts', 'K of Clubs']\n",
      "Player's Hand Value: 20\n"
     ]
    },
    {
     "name": "stdin",
     "output_type": "stream",
     "text": [
      "\n",
      "Do you want to hit or stand? (h/s):  s\n"
     ]
    },
    {
     "name": "stdout",
     "output_type": "stream",
     "text": [
      "\n",
      "Computer's Hand: ['7 of Diamonds', '2 of Clubs', '6 of Hearts', '9 of Clubs']\n",
      "Computer's Hand Value: 24\n",
      "Computer busts! You win.\n"
     ]
    },
    {
     "name": "stdin",
     "output_type": "stream",
     "text": [
      "\n",
      "Do you want to play again? (y/n):  n\n"
     ]
    },
    {
     "name": "stdout",
     "output_type": "stream",
     "text": [
      "Thanks for playing Blackjack!\n"
     ]
    }
   ],
   "source": [
    "import random\n",
    "\n",
    "def calculate_hand_value(hand):\n",
    "    values = {'2': 2, '3': 3, '4': 4, '5': 5, '6': 6, '7': 7, '8': 8, '9': 9, '10': 10, 'J': 10, 'Q': 10, 'K': 10, 'A': 11}\n",
    "    value = 0\n",
    "    num_aces = 0\n",
    "\n",
    "    for card in hand:\n",
    "        card_rank = card.split()[0]  # Extract the card rank (e.g., '5' from '5 of Diamonds')\n",
    "        value += values.get(card_rank, 0)\n",
    "\n",
    "        if card_rank == 'A':\n",
    "            num_aces += 1\n",
    "\n",
    "    while num_aces > 0 and value > 21:\n",
    "        value -= 10\n",
    "        num_aces -= 1\n",
    "\n",
    "    return value\n",
    "\n",
    "def deal_card(deck):\n",
    "    return deck.pop()\n",
    "\n",
    "def initialize_deck():\n",
    "    suits = [\"Hearts\", \"Diamonds\", \"Clubs\", \"Spades\"]\n",
    "    ranks = [\"2\", \"3\", \"4\", \"5\", \"6\", \"7\", \"8\", \"9\", \"10\", \"J\", \"Q\", \"K\", \"A\"]\n",
    "    return [rank + \" of \" + suit for suit in suits for rank in ranks]\n",
    "\n",
    "def play_blackjack():\n",
    "    deck = initialize_deck()\n",
    "    random.shuffle(deck)\n",
    "\n",
    "    player_hand = [deal_card(deck), deal_card(deck)]\n",
    "    computer_hand = [deal_card(deck), deal_card(deck)]\n",
    "\n",
    "    while True:\n",
    "        print(\"\\nPlayer's Hand:\", player_hand)\n",
    "        print(\"Player's Hand Value:\", calculate_hand_value(player_hand))\n",
    "\n",
    "        if calculate_hand_value(player_hand) > 21:\n",
    "            print(\"Bust! You lose.\")\n",
    "            break\n",
    "\n",
    "        action = input(\"\\nDo you want to hit or stand? (h/s): \").lower()\n",
    "\n",
    "        if action == \"h\":\n",
    "            player_hand.append(deal_card(deck))\n",
    "        elif action == \"s\":\n",
    "            while calculate_hand_value(computer_hand) < 17:\n",
    "                computer_hand.append(deal_card(deck))\n",
    "            print(\"\\nComputer's Hand:\", computer_hand)\n",
    "            print(\"Computer's Hand Value:\", calculate_hand_value(computer_hand))\n",
    "\n",
    "            if calculate_hand_value(computer_hand) > 21:\n",
    "                print(\"Computer busts! You win.\")\n",
    "            elif calculate_hand_value(player_hand) > calculate_hand_value(computer_hand):\n",
    "                print(\"You win!\")\n",
    "            elif calculate_hand_value(player_hand) < calculate_hand_value(computer_hand):\n",
    "                print(\"Computer wins.\")\n",
    "            else:\n",
    "                print(\"It's a tie!\")\n",
    "\n",
    "            play_again = input(\"\\nDo you want to play again? (y/n): \").lower()\n",
    "            if play_again != \"y\":\n",
    "                print(\"Thanks for playing Blackjack!\")\n",
    "                return\n",
    "            else:\n",
    "                deck = initialize_deck()\n",
    "                random.shuffle(deck)\n",
    "                player_hand = [deal_card(deck), deal_card(deck)]\n",
    "                computer_hand = [deal_card(deck), deal_card(deck)]\n",
    "        else:\n",
    "            print(\"Invalid input. Please enter 'h' or 's'.\")\n",
    "\n",
    "play_blackjack()"
   ]
  },
  {
   "cell_type": "markdown",
   "id": "9161155e-649a-41d3-9a42-38502a1a1d68",
   "metadata": {},
   "source": [
    "## Question NO.40"
   ]
  },
  {
   "cell_type": "code",
   "execution_count": 1,
   "id": "a594e2eb-b90f-421e-8d17-d2d795bd2446",
   "metadata": {},
   "outputs": [
    {
     "name": "stdin",
     "output_type": "stream",
     "text": [
      "Enter a positive integer:  20\n"
     ]
    },
    {
     "name": "stdout",
     "output_type": "stream",
     "text": [
      "The prime factors of 20 are: 2, 2, 5\n"
     ]
    }
   ],
   "source": [
    "def prime_factors(n):\n",
    "    factors = []\n",
    "    divisor = 2\n",
    "\n",
    "    while n > 1:\n",
    "        while n % divisor == 0:\n",
    "            factors.append(divisor)\n",
    "            n //= divisor\n",
    "        divisor += 1\n",
    "\n",
    "    return factors\n",
    "\n",
    "try:\n",
    "    num = int(input(\"Enter a positive integer: \"))\n",
    "    if num <= 0:\n",
    "        print(\"Please enter a positive integer.\")\n",
    "    else:\n",
    "        factors = prime_factors(num)\n",
    "        if len(factors) == 0:\n",
    "            print(f\"{num} has no prime factors (it may be prime itself).\")\n",
    "        else:\n",
    "            print(f\"The prime factors of {num} are: {', '.join(map(str, factors))}\")\n",
    "except ValueError:\n",
    "    print(\"Invalid input. Please enter a valid positive integer.\")\n",
    "\n"
   ]
  },
  {
   "cell_type": "code",
   "execution_count": null,
   "id": "1c46b995-98df-40fb-ab0c-fbec7fa519b7",
   "metadata": {},
   "outputs": [],
   "source": []
  }
 ],
 "metadata": {
  "kernelspec": {
   "display_name": "Python 3 (ipykernel)",
   "language": "python",
   "name": "python3"
  },
  "language_info": {
   "codemirror_mode": {
    "name": "ipython",
    "version": 3
   },
   "file_extension": ".py",
   "mimetype": "text/x-python",
   "name": "python",
   "nbconvert_exporter": "python",
   "pygments_lexer": "ipython3",
   "version": "3.10.8"
  }
 },
 "nbformat": 4,
 "nbformat_minor": 5
}
