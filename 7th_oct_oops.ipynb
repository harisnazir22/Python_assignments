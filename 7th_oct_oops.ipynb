{
 "cells": [
  {
   "cell_type": "markdown",
   "id": "8636ac83-8541-46dd-b775-3d676a58bc33",
   "metadata": {},
   "source": [
    "## OOPS ASSIGNMENT"
   ]
  },
  {
   "cell_type": "markdown",
   "id": "675cb3ed-49f9-49e1-be2a-bc0e0bb87071",
   "metadata": {},
   "source": [
    "#### Problem 1: Bank Account Create a class representing a bank account with attributes like account number, account holder name, and balance. Implement methods to deposit and withdraw money from the account."
   ]
  },
  {
   "cell_type": "code",
   "execution_count": 27,
   "id": "bea447f1-5337-4c99-ab8c-2c71ac91eab5",
   "metadata": {},
   "outputs": [],
   "source": [
    "class bank_account:\n",
    "    bal = 0\n",
    "    def account_no(self,account):\n",
    "        print(\"your account number is: \",account)\n",
    "    def holder_name(self,name):\n",
    "        print(\"name of the account holder is: \",name)\n",
    "    def balance_(self):\n",
    "        print(\"your balance is:\",bank_account.bal)\n",
    "    def deposit(self,amount):\n",
    "        bank_account.bal = bank_account.bal+amount\n",
    "        print(\"your balance is:\",bank_account.bal)\n",
    "    def withdraw(self,amount):\n",
    "        bank_account.bal = bank_account.bal - amount\n",
    "        print(\"your balance is:\",bank_account.bal)"
   ]
  },
  {
   "cell_type": "code",
   "execution_count": 28,
   "id": "965d12b0-a8c4-4370-bb74-4ab15f46b95e",
   "metadata": {},
   "outputs": [],
   "source": [
    "bankaccount = bank_account()"
   ]
  },
  {
   "cell_type": "code",
   "execution_count": 29,
   "id": "19d07058-909a-440a-ba0d-0f82c252e28e",
   "metadata": {},
   "outputs": [
    {
     "name": "stdout",
     "output_type": "stream",
     "text": [
      "name of the account holder is:  haris\n"
     ]
    }
   ],
   "source": [
    "bankaccount.holder_name('haris')"
   ]
  },
  {
   "cell_type": "code",
   "execution_count": 30,
   "id": "da889c0c-f48e-48ce-a092-d6f0ce10147e",
   "metadata": {},
   "outputs": [
    {
     "name": "stdout",
     "output_type": "stream",
     "text": [
      "your balance is: 0\n"
     ]
    }
   ],
   "source": [
    "bankaccount.balance_()"
   ]
  },
  {
   "cell_type": "code",
   "execution_count": 31,
   "id": "8e7037f4-c2d1-4d63-a638-798815cf850b",
   "metadata": {},
   "outputs": [
    {
     "name": "stdout",
     "output_type": "stream",
     "text": [
      "your balance is: 6000\n"
     ]
    }
   ],
   "source": [
    "bankaccount.deposit(6000)"
   ]
  },
  {
   "cell_type": "code",
   "execution_count": 32,
   "id": "17d26357-8e65-40fd-8c7b-2f18311dc6ee",
   "metadata": {},
   "outputs": [
    {
     "name": "stdout",
     "output_type": "stream",
     "text": [
      "your balance is: 5655\n"
     ]
    }
   ],
   "source": [
    "bankaccount.withdraw(345)"
   ]
  },
  {
   "cell_type": "code",
   "execution_count": null,
   "id": "1f4b5a9c-b38a-4626-9511-107dbaf642f7",
   "metadata": {},
   "outputs": [],
   "source": [
    "class BankAccount:\n",
    "    def __init__(self, account_number, account_holder_name, balance=0.0):\n",
    "        self.account_number = account_number\n",
    "        self.account_holder_name = account_holder_name\n",
    "        self.balance = balance\n",
    "\n",
    "    def deposit(self, amount):\n",
    "        if amount > 0:\n",
    "            self.balance += amount\n",
    "            print(f\"Deposited ${amount}. New balance: ${self.balance}\")\n",
    "        else:\n",
    "            print(\"Invalid deposit amount. Amount must be greater than 0.\")\n",
    "\n",
    "    def withdraw(self, amount):\n",
    "        if 0 < amount <= self.balance:\n",
    "            self.balance -= amount\n",
    "            print(f\"Withdrew ${amount}. New balance: ${self.balance}\")\n",
    "        elif amount > self.balance:\n",
    "            print(\"Insufficient funds. Withdrawal not allowed.\")\n",
    "        else:\n",
    "            print(\"Invalid withdrawal amount. Amount must be greater than 0.\")\n",
    "\n",
    "    def display_balance(self):\n",
    "        print(f\"Account Balance for {self.account_holder_name} (Account #{self.account_number}): ${self.balance}\")\n",
    "\n",
    "# Create a bank account\n",
    "account1 = BankAccount(\"12345\", \"John Doe\", 1000.0)\n",
    "\n",
    "# Deposit and withdraw money\n",
    "account1.deposit(500)\n",
    "account1.withdraw(200)\n",
    "account1.withdraw(1500)  # This will display an \"Insufficient funds\" message\n",
    "\n",
    "# Display the account balance\n",
    "account1.display_balance()\n"
   ]
  },
  {
   "cell_type": "markdown",
   "id": "73dc2d45-cbd3-4caa-bcde-c93284df5765",
   "metadata": {},
   "source": [
    "#### Problem 2: Employee Management Create a class representing an employee with attributes like employee ID, name, and salary. Implement methods to calculate the yearly bonus and display employee details."
   ]
  },
  {
   "cell_type": "code",
   "execution_count": 39,
   "id": "f7392557-a905-4e66-ba55-4a0cc9ec9cac",
   "metadata": {},
   "outputs": [],
   "source": [
    "class employee:\n",
    "    def __init__(self,employee_id,name,salary):\n",
    "        self.employee_id = employee_id\n",
    "        self.name = name\n",
    "        self.salary = salary\n",
    "    \n",
    "    def yearly_bonus(self):\n",
    "        bonus = self.salary*0.10\n",
    "        print(\"yearly bonus is:\",bonus)\n",
    "        \n",
    "    def employee_detalils(self):\n",
    "        print(\"employee detalils are:\")\n",
    "        print(\"employee name :\",self.name)\n",
    "        print(\"employee_id :\",self.employee_id)\n",
    "        print(\"employee salary :\",self.salary)\n",
    "        "
   ]
  },
  {
   "cell_type": "code",
   "execution_count": 41,
   "id": "3ea2908a-e8fe-4b9a-afc7-b5b8c3e067db",
   "metadata": {},
   "outputs": [],
   "source": [
    "employee1 = employee(45,'haris',7800)"
   ]
  },
  {
   "cell_type": "code",
   "execution_count": 42,
   "id": "81d0828d-5689-492d-aea6-50acde2a9583",
   "metadata": {},
   "outputs": [
    {
     "name": "stdout",
     "output_type": "stream",
     "text": [
      "yearly bonus is: 780.0\n"
     ]
    }
   ],
   "source": [
    "employee1.yearly_bonus()"
   ]
  },
  {
   "cell_type": "code",
   "execution_count": 43,
   "id": "ef5dedd3-cdcd-47dd-b23e-217e24c69b06",
   "metadata": {},
   "outputs": [
    {
     "name": "stdout",
     "output_type": "stream",
     "text": [
      "employee detalils are:\n",
      "employee name : haris\n",
      "employee_id : 45\n",
      "employee salary : 7800\n"
     ]
    }
   ],
   "source": [
    "employee1.employee_detalils()"
   ]
  },
  {
   "cell_type": "markdown",
   "id": "db4eb77d-1324-41fd-830c-2c6ad69b9797",
   "metadata": {},
   "source": [
    "#### Problem 3: Vehicle Rental Create a class representing a vehicle rental system. Implement methods to rent a vehicle, return a vehicle, and display available vehicles."
   ]
  },
  {
   "cell_type": "code",
   "execution_count": 1,
   "id": "721cc964-09a7-4401-8998-0f440398f261",
   "metadata": {},
   "outputs": [
    {
     "name": "stdout",
     "output_type": "stream",
     "text": [
      "Available Vehicles:\n",
      "Vehicle ID: 1\n",
      "Make: Toyota\n",
      "Model: Camry\n",
      "Year: 2020\n",
      "Status: Available\n",
      "\n",
      "Vehicle ID: 2\n",
      "Make: Honda\n",
      "Model: Civic\n",
      "Year: 2019\n",
      "Status: Available\n",
      "\n",
      "Vehicle ID: 3\n",
      "Make: Ford\n",
      "Model: Focus\n",
      "Year: 2021\n",
      "Status: Available\n",
      "\n",
      "Renting Vehicle 1:\n",
      "Vehicle 1 (2020 Toyota Camry) has been rented.\n",
      "\n",
      "Available Vehicles after renting:\n",
      "Vehicle ID: 2\n",
      "Make: Honda\n",
      "Model: Civic\n",
      "Year: 2019\n",
      "Status: Available\n",
      "\n",
      "Vehicle ID: 3\n",
      "Make: Ford\n",
      "Model: Focus\n",
      "Year: 2021\n",
      "Status: Available\n",
      "\n",
      "Returning Vehicle 1:\n",
      "Vehicle 1 (2020 Toyota Camry) has been returned.\n",
      "\n",
      "Available Vehicles after returning:\n",
      "Vehicle ID: 1\n",
      "Make: Toyota\n",
      "Model: Camry\n",
      "Year: 2020\n",
      "Status: Available\n",
      "\n",
      "Vehicle ID: 2\n",
      "Make: Honda\n",
      "Model: Civic\n",
      "Year: 2019\n",
      "Status: Available\n",
      "\n",
      "Vehicle ID: 3\n",
      "Make: Ford\n",
      "Model: Focus\n",
      "Year: 2021\n",
      "Status: Available\n"
     ]
    }
   ],
   "source": [
    "class Vehicle:\n",
    "    def __init__(self, vehicle_id, make, model, year, is_available=True):\n",
    "        self.vehicle_id = vehicle_id\n",
    "        self.make = make\n",
    "        self.model = model\n",
    "        self.year = year\n",
    "        self.is_available = is_available\n",
    "\n",
    "    def rent(self):\n",
    "        if self.is_available:\n",
    "            self.is_available = False\n",
    "            return f\"Vehicle {self.vehicle_id} ({self.year} {self.make} {self.model}) has been rented.\"\n",
    "        else:\n",
    "            return f\"Vehicle {self.vehicle_id} is not available for rent.\"\n",
    "\n",
    "    def return_vehicle(self):\n",
    "        if not self.is_available:\n",
    "            self.is_available = True\n",
    "            return f\"Vehicle {self.vehicle_id} ({self.year} {self.make} {self.model}) has been returned.\"\n",
    "        else:\n",
    "            return f\"Vehicle {self.vehicle_id} is already available.\"\n",
    "\n",
    "    def __str__(self):\n",
    "        availability = \"Available\" if self.is_available else \"Not Available\"\n",
    "        return f\"Vehicle ID: {self.vehicle_id}\\nMake: {self.make}\\nModel: {self.model}\\nYear: {self.year}\\nStatus: {availability}\"\n",
    "\n",
    "\n",
    "class RentalSystem:\n",
    "    def __init__(self):\n",
    "        self.vehicles = []\n",
    "\n",
    "    def add_vehicle(self, vehicle):\n",
    "        self.vehicles.append(vehicle)\n",
    "\n",
    "    def display_available_vehicles(self):\n",
    "        available_vehicles = [vehicle for vehicle in self.vehicles if vehicle.is_available]\n",
    "        if not available_vehicles:\n",
    "            return \"No vehicles are currently available for rent.\"\n",
    "        else:\n",
    "            return \"\\n\\n\".join(str(vehicle) for vehicle in available_vehicles)\n",
    "\n",
    "\n",
    "# Example usage:\n",
    "vehicle1 = Vehicle(1, \"Toyota\", \"Camry\", 2020)\n",
    "vehicle2 = Vehicle(2, \"Honda\", \"Civic\", 2019)\n",
    "vehicle3 = Vehicle(3, \"Ford\", \"Focus\", 2021)\n",
    "\n",
    "rental_system = RentalSystem()\n",
    "rental_system.add_vehicle(vehicle1)\n",
    "rental_system.add_vehicle(vehicle2)\n",
    "rental_system.add_vehicle(vehicle3)\n",
    "\n",
    "print(\"Available Vehicles:\")\n",
    "print(rental_system.display_available_vehicles())\n",
    "\n",
    "# Renting a vehicle\n",
    "print(\"\\nRenting Vehicle 1:\")\n",
    "print(vehicle1.rent())\n",
    "print(\"\\nAvailable Vehicles after renting:\")\n",
    "print(rental_system.display_available_vehicles())\n",
    "\n",
    "# Returning a vehicle\n",
    "print(\"\\nReturning Vehicle 1:\")\n",
    "print(vehicle1.return_vehicle())\n",
    "print(\"\\nAvailable Vehicles after returning:\")\n",
    "print(rental_system.display_available_vehicles())\n"
   ]
  },
  {
   "cell_type": "markdown",
   "id": "94f4e22d-49b6-4323-b6c1-aa8f632e1292",
   "metadata": {},
   "source": [
    "#### Problem 4: Library Catalog Create classes representing a library and a book. Implement methods to add books to the library, borrow books, and display available books."
   ]
  },
  {
   "cell_type": "code",
   "execution_count": 45,
   "id": "0bac5dec-c9ae-47b8-b27c-839d7c9df85d",
   "metadata": {},
   "outputs": [
    {
     "name": "stdout",
     "output_type": "stream",
     "text": [
      "Library Catalog:\n",
      "The Great Gatsby by F. Scott Fitzgerald - Status: Available\n",
      "To Kill a Mockingbird by Harper Lee - Status: Available\n",
      "1984 by George Orwell - Status: Available\n",
      "Borrowed 'The Great Gatsby'.\n",
      "Library Catalog:\n",
      "The Great Gatsby by F. Scott Fitzgerald - Status: Borrowed\n",
      "To Kill a Mockingbird by Harper Lee - Status: Available\n",
      "1984 by George Orwell - Status: Available\n",
      "Returned 'The Great Gatsby'.\n",
      "Library Catalog:\n",
      "The Great Gatsby by F. Scott Fitzgerald - Status: Available\n",
      "To Kill a Mockingbird by Harper Lee - Status: Available\n",
      "1984 by George Orwell - Status: Available\n"
     ]
    }
   ],
   "source": [
    "class Book:\n",
    "    def __init__(self, title, author):\n",
    "        self.title = title\n",
    "        self.author = author\n",
    "        self.is_borrowed = False\n",
    "\n",
    "    def __str__(self):\n",
    "        return f\"{self.title} by {self.author}\"\n",
    "\n",
    "    def borrow(self):\n",
    "        if not self.is_borrowed:\n",
    "            self.is_borrowed = True\n",
    "            return True\n",
    "        else:\n",
    "            return False\n",
    "\n",
    "    def return_book(self):\n",
    "        if self.is_borrowed:\n",
    "            self.is_borrowed = False\n",
    "            return True\n",
    "        else:\n",
    "            return False\n",
    "\n",
    "\n",
    "class Library:\n",
    "    def __init__(self):\n",
    "        self.books = []\n",
    "\n",
    "    def add_book(self, book):\n",
    "        self.books.append(book)\n",
    "\n",
    "    def borrow_book(self, title):\n",
    "        for book in self.books:\n",
    "            if book.title == title and not book.is_borrowed:\n",
    "                return book.borrow()\n",
    "        return False\n",
    "\n",
    "    def return_book(self, title):\n",
    "        for book in self.books:\n",
    "            if book.title == title and book.is_borrowed:\n",
    "                return book.return_book()\n",
    "        return False\n",
    "\n",
    "    def available_books(self):\n",
    "        available = [book for book in self.books if not book.is_borrowed]\n",
    "        return available\n",
    "\n",
    "    def display_books(self):\n",
    "        print(\"Library Catalog:\")\n",
    "        if not self.books:\n",
    "            print(\"No books in the library.\")\n",
    "        else:\n",
    "            for book in self.books:\n",
    "                status = \"Available\" if not book.is_borrowed else \"Borrowed\"\n",
    "                print(f\"{book} - Status: {status}\")\n",
    "\n",
    "\n",
    "# Example usage:\n",
    "if __name__ == \"__main__\":\n",
    "    library = Library()\n",
    "\n",
    "    book1 = Book(\"The Great Gatsby\", \"F. Scott Fitzgerald\")\n",
    "    book2 = Book(\"To Kill a Mockingbird\", \"Harper Lee\")\n",
    "    book3 = Book(\"1984\", \"George Orwell\")\n",
    "\n",
    "    library.add_book(book1)\n",
    "    library.add_book(book2)\n",
    "    library.add_book(book3)\n",
    "\n",
    "    library.display_books()\n",
    "\n",
    "    book_to_borrow = \"The Great Gatsby\"\n",
    "    if library.borrow_book(book_to_borrow):\n",
    "        print(f\"Borrowed '{book_to_borrow}'.\")\n",
    "    else:\n",
    "        print(f\"'{book_to_borrow}' is already borrowed or not in the library.\")\n",
    "\n",
    "    library.display_books()\n",
    "\n",
    "    book_to_return = \"The Great Gatsby\"\n",
    "    if library.return_book(book_to_return):\n",
    "        print(f\"Returned '{book_to_return}'.\")\n",
    "    else:\n",
    "        print(f\"'{book_to_return}' is not borrowed or not in the library.\")\n",
    "\n",
    "    library.display_books()\n"
   ]
  },
  {
   "cell_type": "markdown",
   "id": "66010e4f-3788-4bbc-988b-4c7e2309c1e2",
   "metadata": {},
   "source": [
    "#### Problem 5: Product Inventory Create classes representing a product and an inventory system. Implement methods to add products to the inventory, update product quantity, and display available products."
   ]
  },
  {
   "cell_type": "code",
   "execution_count": 46,
   "id": "eff9d116-2818-453b-9da3-9447d13b03c7",
   "metadata": {},
   "outputs": [
    {
     "name": "stdout",
     "output_type": "stream",
     "text": [
      "Product Inventory:\n",
      "Product ID: 1, Name: Laptop, Price: $999.99, Quantity: 10\n",
      "Product ID: 2, Name: Phone, Price: $499.99, Quantity: 20\n",
      "Product ID: 3, Name: Tablet, Price: $299.99, Quantity: 15\n",
      "Updated quantity for product ID 2 to 25.\n",
      "Product Inventory:\n",
      "Product ID: 1, Name: Laptop, Price: $999.99, Quantity: 10\n",
      "Product ID: 2, Name: Phone, Price: $499.99, Quantity: 25\n",
      "Product ID: 3, Name: Tablet, Price: $299.99, Quantity: 15\n"
     ]
    }
   ],
   "source": [
    "class Product:\n",
    "    def __init__(self, product_id, name, price, quantity):\n",
    "        self.product_id = product_id\n",
    "        self.name = name\n",
    "        self.price = price\n",
    "        self.quantity = quantity\n",
    "\n",
    "    def __str__(self):\n",
    "        return f\"Product ID: {self.product_id}, Name: {self.name}, Price: ${self.price}, Quantity: {self.quantity}\"\n",
    "\n",
    "\n",
    "class Inventory:\n",
    "    def __init__(self):\n",
    "        self.products = []\n",
    "\n",
    "    def add_product(self, product):\n",
    "        self.products.append(product)\n",
    "\n",
    "    def update_quantity(self, product_id, new_quantity):\n",
    "        for product in self.products:\n",
    "            if product.product_id == product_id:\n",
    "                product.quantity = new_quantity\n",
    "                return True\n",
    "        return False\n",
    "\n",
    "    def display_products(self):\n",
    "        if not self.products:\n",
    "            print(\"Inventory is empty.\")\n",
    "        else:\n",
    "            print(\"Product Inventory:\")\n",
    "            for product in self.products:\n",
    "                print(product)\n",
    "\n",
    "# Example usage:\n",
    "if __name__ == \"__main__\":\n",
    "    inventory = Inventory()\n",
    "\n",
    "    product1 = Product(1, \"Laptop\", 999.99, 10)\n",
    "    product2 = Product(2, \"Phone\", 499.99, 20)\n",
    "    product3 = Product(3, \"Tablet\", 299.99, 15)\n",
    "\n",
    "    inventory.add_product(product1)\n",
    "    inventory.add_product(product2)\n",
    "    inventory.add_product(product3)\n",
    "\n",
    "    inventory.display_products()\n",
    "\n",
    "    # Update the quantity of a product\n",
    "    updated_product_id = 2\n",
    "    new_quantity = 25\n",
    "    if inventory.update_quantity(updated_product_id, new_quantity):\n",
    "        print(f\"Updated quantity for product ID {updated_product_id} to {new_quantity}.\")\n",
    "\n",
    "    inventory.display_products()\n"
   ]
  },
  {
   "cell_type": "markdown",
   "id": "8dad9a3b-4307-422c-930f-e5741ed9fdab",
   "metadata": {},
   "source": [
    "#### Problem 6: Shape Calculation Create a class representing a shape with attributes like length, width, and height. Implement methods to calculate the area and perimeter of the shape."
   ]
  },
  {
   "cell_type": "code",
   "execution_count": 4,
   "id": "540d35cc-e118-47bf-8a12-09520f9c6cad",
   "metadata": {},
   "outputs": [
    {
     "name": "stdout",
     "output_type": "stream",
     "text": [
      "Rectangle Area: 15\n",
      "Rectangle Perimeter: 16\n",
      "cubiod surface Area: 94\n",
      "cubiod volume: 60\n"
     ]
    }
   ],
   "source": [
    "class Shape:\n",
    "    def __init__(self, length, width, height):\n",
    "        self.length = length\n",
    "        self.width = width\n",
    "        self.height = height\n",
    "\n",
    "    def area(self):\n",
    "        pass  # This will be implemented in the specific shape classes\n",
    "\n",
    "    def perimeter(self):\n",
    "        pass  # This will be implemented in the specific shape classes\n",
    "\n",
    "class Rectangle(Shape):\n",
    "    def area(self):\n",
    "        return self.length * self.width\n",
    "    \n",
    "    def perimeter(self):\n",
    "        return 2 * (self.length + self.width)\n",
    "\n",
    "class Cubiod(Shape):\n",
    "    def area(self):\n",
    "        return 2*((self.length * self.width) + (self.height * self.width) + (self.length * self.height))\n",
    "        \n",
    "    def volume(self):\n",
    "        return self.length * self.width * self.height\n",
    "\n",
    "# Example usage:\n",
    "rectangle = Rectangle(5, 3, 0)\n",
    "print(\"Rectangle Area:\", rectangle.area())\n",
    "print(\"Rectangle Perimeter:\", rectangle.perimeter())\n",
    "\n",
    "cubiod = Cubiod(3, 4, 5)\n",
    "print(\"cubiod surface Area:\", cubiod.area())\n",
    "print(\"cubiod volume:\", cubiod.volume())\n"
   ]
  },
  {
   "cell_type": "markdown",
   "id": "f3ae1f3d-d2b0-424f-84a4-9564d63077c3",
   "metadata": {},
   "source": [
    "#### Problem 7: Student Management Create a class representing a student with attributes like student ID, name, and grades. Implement methods to calculate the average grade and display student details."
   ]
  },
  {
   "cell_type": "code",
   "execution_count": 8,
   "id": "c3fe0858-75d2-47df-8f8a-c28bd29d889f",
   "metadata": {},
   "outputs": [
    {
     "name": "stdout",
     "output_type": "stream",
     "text": [
      "Student ID: S12345\n",
      "Name: John Doe\n",
      "Grades: 95, 87, 91\n",
      "Average Grade: 91.0\n",
      "Student ID: S67890\n",
      "Name: Jane Smith\n",
      "Grades: 78, 85, 92\n",
      "Average Grade: 85.0\n"
     ]
    },
    {
     "data": {
      "text/plain": [
       "85.0"
      ]
     },
     "execution_count": 8,
     "metadata": {},
     "output_type": "execute_result"
    }
   ],
   "source": [
    "class Student:\n",
    "    def __init__(self, student_id, name):\n",
    "        self.student_id = student_id\n",
    "        self.name = name\n",
    "        self.grades = []\n",
    "\n",
    "    def add_grade(self, grade):\n",
    "        self.grades.append(grade)\n",
    "\n",
    "    def calculate_average_grade(self):\n",
    "        if not self.grades:\n",
    "            return 0  # Avoid division by zero\n",
    "        return sum(self.grades) / len(self.grades)\n",
    "\n",
    "    def display_student_details(self):\n",
    "        print(f\"Student ID: {self.student_id}\")\n",
    "        print(f\"Name: {self.name}\")\n",
    "        print(f\"Grades: {', '.join(map(str, self.grades))}\")\n",
    "        print(f\"Average Grade: {self.calculate_average_grade()}\")\n",
    "\n",
    "# Example usage:\n",
    "student1 = Student(\"S12345\", \"John Doe\")\n",
    "student1.add_grade(95)\n",
    "student1.add_grade(87)\n",
    "student1.add_grade(91)\n",
    "\n",
    "student2 = Student(\"S67890\", \"Jane Smith\")\n",
    "student2.add_grade(78)\n",
    "student2.add_grade(85)\n",
    "student2.add_grade(92)\n",
    "\n",
    "student1.display_student_details()\n",
    "student2.display_student_details()\n",
    "\n",
    "student1.calculate_average_grade()\n",
    "student2.calculate_average_grade()"
   ]
  },
  {
   "cell_type": "markdown",
   "id": "2bff2db8-3b80-4b62-a0e6-45f1384d6e65",
   "metadata": {},
   "source": [
    "#### Problem 8: Email Management Create a class representing an email with attributes like sender, recipient, and subject. Implement methods to send an email and display email details."
   ]
  },
  {
   "cell_type": "code",
   "execution_count": 9,
   "id": "d9cfc22f-4ee8-4af0-870a-79f92ff4a7ff",
   "metadata": {},
   "outputs": [
    {
     "name": "stdout",
     "output_type": "stream",
     "text": [
      "Email sent!\n",
      "Sender: john@example.com\n",
      "Recipient: jane@example.com\n",
      "Subject: Hello Jane\n",
      "Message:\n",
      "Hi Jane, how are you doing?\n",
      "Status: Sent\n",
      "Sender: alice@example.com\n",
      "Recipient: bob@example.com\n",
      "Subject: Meeting Agenda\n",
      "Message:\n",
      "Agenda for our meeting:\n",
      "1. Project updates\n",
      "2. Budget discussion\n",
      "Status: Draft\n"
     ]
    }
   ],
   "source": [
    "class Email:\n",
    "    def __init__(self, sender, recipient, subject, message):\n",
    "        self.sender = sender\n",
    "        self.recipient = recipient\n",
    "        self.subject = subject\n",
    "        self.message = message\n",
    "        self.sent = False\n",
    "\n",
    "    def send_email(self):\n",
    "        \n",
    "        self.sent = True\n",
    "        print(\"Email sent!\")\n",
    "\n",
    "    def display_email_details(self):\n",
    "        print(\"Sender:\", self.sender)\n",
    "        print(\"Recipient:\", self.recipient)\n",
    "        print(\"Subject:\", self.subject)\n",
    "        print(\"Message:\")\n",
    "        print(self.message)\n",
    "        if self.sent:\n",
    "            print(\"Status: Sent\")\n",
    "        else:\n",
    "            print(\"Status: Draft\")\n",
    "\n",
    "# Example usage:\n",
    "email1 = Email(\"john@example.com\", \"jane@example.com\", \"Hello Jane\", \"Hi Jane, how are you doing?\")\n",
    "email1.send_email()\n",
    "email1.display_email_details()\n",
    "\n",
    "email2 = Email(\"alice@example.com\", \"bob@example.com\", \"Meeting Agenda\", \"Agenda for our meeting:\\n1. Project updates\\n2. Budget discussion\")\n",
    "email2.display_email_details()\n"
   ]
  },
  {
   "cell_type": "markdown",
   "id": "077f3e0d-be64-4c12-8c88-644eb369a12b",
   "metadata": {},
   "source": [
    "#### Problem 9: Social Media Profile Create a class representing a social media profile with attributes like username and posts. Implement methods to add posts, display posts, and search for posts by keyword."
   ]
  },
  {
   "cell_type": "code",
   "execution_count": 10,
   "id": "e7a5525d-64f3-43be-8f1c-fb0e785fcf9b",
   "metadata": {},
   "outputs": [
    {
     "name": "stdout",
     "output_type": "stream",
     "text": [
      "Posts by john_doe:\n",
      "1. Just had a great weekend getaway!\n",
      "2. I love hiking in the mountains. The view is breathtaking.\n",
      "3. Enjoying some quality time with my family.\n",
      "Posts by john_doe containing 'mountains':\n",
      "1. I love hiking in the mountains. The view is breathtaking.\n"
     ]
    }
   ],
   "source": [
    "class SocialMediaProfile:\n",
    "    def __init__(self, username):\n",
    "        self.username = username\n",
    "        self.posts = []\n",
    "\n",
    "    def add_post(self, content):\n",
    "        self.posts.append(content)\n",
    "\n",
    "    def display_posts(self):\n",
    "        print(f\"Posts by {self.username}:\")\n",
    "        for index, post in enumerate(self.posts, start=1):\n",
    "            print(f\"{index}. {post}\")\n",
    "            \n",
    "    def search_posts(self, keyword):\n",
    "        matching_posts = [post for post in self.posts if keyword in post]\n",
    "        if matching_posts:\n",
    "            print(f\"Posts by {self.username} containing '{keyword}':\")\n",
    "            for index, post in enumerate(matching_posts, start=1):\n",
    "                print(f\"{index}. {post}\")\n",
    "        else:\n",
    "            print(f\"No posts by {self.username} contain the keyword '{keyword}'.\")\n",
    "\n",
    "# Example usage:\n",
    "profile = SocialMediaProfile(\"john_doe\")\n",
    "\n",
    "profile.add_post(\"Just had a great weekend getaway!\")\n",
    "profile.add_post(\"I love hiking in the mountains. The view is breathtaking.\")\n",
    "profile.add_post(\"Enjoying some quality time with my family.\")\n",
    "\n",
    "profile.display_posts()\n",
    "\n",
    "search_keyword = \"mountains\"\n",
    "profile.search_posts(search_keyword)\n"
   ]
  },
  {
   "cell_type": "markdown",
   "id": "941125e2-e173-4bd4-acda-88c6dd5bb26d",
   "metadata": {},
   "source": [
    "#### Problem 10: ToDo List Create a class representing a ToDo list with attributes like tasks and due dates. Implement methods to add tasks, mark tasks as completed, and display pending tasks."
   ]
  },
  {
   "cell_type": "code",
   "execution_count": null,
   "id": "dfd951a4-0412-4fb1-82d8-2b191e393c20",
   "metadata": {},
   "outputs": [],
   "source": [
    "class ToDoList:\n",
    "    def __init__(self):\n",
    "        self.tasks = {}  # Using a dictionary to store tasks and their due dates\n",
    "\n",
    "    def add_task(self, task, due_date):\n",
    "        self.tasks[task] = due_date\n",
    "\n",
    "    def mark_task_completed(self, task):\n",
    "        if task in self.tasks:\n",
    "            del self.tasks[task]\n",
    "        else:\n",
    "            print(f\"Task '{task}' not found in the ToDo list.\")\n",
    "\n",
    "    def display_pending_tasks(self):\n",
    "        if not self.tasks:\n",
    "            print(\"No pending tasks.\")\n",
    "        else:\n",
    "            print(\"Pending Tasks:\")\n",
    "            for task, due_date in self.tasks.items():\n",
    "                print(f\"Task: {task}, Due Date: {due_date}\")\n",
    "\n",
    "# Example usage:\n",
    "todo_list = ToDoList()\n",
    "\n",
    "todo_list.add_task(\"Finish project\", \"2023-10-20\")\n",
    "todo_list.add_task(\"Buy groceries\", \"2023-10-15\")\n",
    "todo_list.add_task(\"Call mom\", \"2023-10-18\")\n",
    "\n",
    "todo_list.display_pending_tasks()\n",
    "\n",
    "# Mark a task as completed\n",
    "todo_list.mark_task_completed(\"Buy groceries\")\n",
    "\n",
    "todo_list.display_pending_tasks()\n"
   ]
  }
 ],
 "metadata": {
  "kernelspec": {
   "display_name": "Python 3 (ipykernel)",
   "language": "python",
   "name": "python3"
  },
  "language_info": {
   "codemirror_mode": {
    "name": "ipython",
    "version": 3
   },
   "file_extension": ".py",
   "mimetype": "text/x-python",
   "name": "python",
   "nbconvert_exporter": "python",
   "pygments_lexer": "ipython3",
   "version": "3.10.8"
  }
 },
 "nbformat": 4,
 "nbformat_minor": 5
}
